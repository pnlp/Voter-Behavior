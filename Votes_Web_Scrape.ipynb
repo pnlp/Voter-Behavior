{
 "cells": [
  {
   "cell_type": "markdown",
   "metadata": {},
   "source": [
    "# Web Scraping Data for Raw Votes by County"
   ]
  },
  {
   "cell_type": "markdown",
   "metadata": {},
   "source": [
    "Votes for elections by county are now easy to come by in a comprehensive format. This notebook scrapes that data from the site townhall.com for the past four presidential elections and puts them into separates dataframes.\n",
    "Votes for Alaska aren't included because they don't vote by county and their voting districts are not labeled well for comparing to economic estimators. "
   ]
  },
  {
   "cell_type": "markdown",
   "metadata": {},
   "source": [
    "### Next Notebook [Web Scrape for Speeches by Nominees](Speeches_Scrape.ipynb)"
   ]
  },
  {
   "cell_type": "code",
   "execution_count": 1,
   "metadata": {
    "collapsed": true
   },
   "outputs": [],
   "source": [
    "import pandas as pd\n",
    "import numpy as np\n",
    "from bs4 import BeautifulSoup\n",
    "import requests\n",
    "import time"
   ]
  },
  {
   "cell_type": "code",
   "execution_count": 2,
   "metadata": {
    "collapsed": true
   },
   "outputs": [],
   "source": [
    "pd.set_option(\"display.max_rows\", 4000)"
   ]
  },
  {
   "cell_type": "code",
   "execution_count": 3,
   "metadata": {
    "collapsed": true
   },
   "outputs": [],
   "source": [
    "url = 'https://townhall.com/election/{}/president/{}/county'"
   ]
  },
  {
   "cell_type": "code",
   "execution_count": 4,
   "metadata": {
    "collapsed": true
   },
   "outputs": [],
   "source": [
    "# set list of states to interate over all counties in all states, missing alaska\n",
    "states = ['al','az','ar','ca','co','ct','de','fl','ga','hi','id','il','in','ia','ks',\n",
    "          'ky','la','me','md','ma','mi','mn','ms','mo','mt','ne','nv','nh','nj','nm','ny',\n",
    "          'nc','nd','oh','ok','or','pa','ri','sc','sd','tn','tx','ut','vt','va','wa','wv',\n",
    "          'wi','wy']\n",
    "\n",
    "# set url of site to scrap from\n",
    "url = 'https://townhall.com/election/{}/president/{}/county'\n",
    "\n",
    "# lists of candidates for each year, to match election year entered into function\n",
    "candidates_2004 = ['George Bush', 'John Kerry', 'Ralph Nader']\n",
    "candidates_2008 = ['Barack Obama', 'John McCain']\n",
    "candidates_2012 = ['Barack Obama', 'Mitt Romney', 'Gary Johnson', 'Other']\n",
    "candidates_2016 = ['Hillary Clinton', 'Donald Trump', 'Gary Johnson', 'Jill Stein']\n",
    "\n",
    "\n",
    "def data(year, candidates):\n",
    "    '''Function that scrapes the site townhall.com for election data by county. Loops over \n",
    "    each state's page and outputs data for election year entered.'''\n",
    "    \n",
    "    # initialize empty lists\n",
    "    rep_vote = []\n",
    "    dem_vote = []\n",
    "    counties = []\n",
    "    \n",
    "    # scrapes each state's page using list of states from above\n",
    "    for state in states:\n",
    "        res = requests.get(url .format(year, state))\n",
    "        soup = BeautifulSoup(res.content, 'lxml')\n",
    "        \n",
    "        \n",
    "        rows = soup.find_all('tbody')\n",
    "        \n",
    "        if len(rows) == 2:\n",
    "            rows = soup.find_all('tbody')[1]\n",
    "        else:\n",
    "            rows = soup.find_all('tbody')\n",
    "\n",
    "        # loops over rows to pull out county names\n",
    "        for row in rows:\n",
    "            count = []\n",
    "            x = row.find('div')\n",
    "            # filters returns from div returns three types of values (the county name, -1 and None) \n",
    "            # then appends to empty list to create list of lists, which will later be flattend\n",
    "            if type(x) != int and x != None:\n",
    "                county = x.text\n",
    "                count.append(county)\n",
    "                count = list(set(count))\n",
    "                count.sort()\n",
    "                count = [str(x + ', ' + state.upper()) for x in count]\n",
    "                counties.append(count)\n",
    "\n",
    "        # Republican Results - finds data from text with 'republican' class\n",
    "        # finds class of REP and GOP, different for different years\n",
    "        \n",
    "        \n",
    "        row = rows.find_all('td', {'class':  ['REP', 'GOP']})\n",
    "\n",
    "        for x in row:\n",
    "            if '.' not in x.text and x.text not in candidates:\n",
    "                rep_vote.append(x.text.replace(',', ''))\n",
    "                \n",
    "       # Democratic Results - finds data from text with 'democratic' class\n",
    "\n",
    "        row = rows.find_all('td', {'class': 'DEM'})\n",
    "        \n",
    "\n",
    "        for x in row:\n",
    "            if '.' not in x.text and x.text not in candidates:\n",
    "                dem_vote.append(x.text.replace(',', ''))\n",
    "                \n",
    "            \n",
    "    return counties, dem_vote, rep_vote"
   ]
  },
  {
   "cell_type": "markdown",
   "metadata": {},
   "source": [
    "## 2004 Election"
   ]
  },
  {
   "cell_type": "code",
   "execution_count": 5,
   "metadata": {},
   "outputs": [
    {
     "name": "stdout",
     "output_type": "stream",
     "text": [
      "3110 3110 3110\n"
     ]
    },
    {
     "data": {
      "text/html": [
       "<div>\n",
       "<style>\n",
       "    .dataframe thead tr:only-child th {\n",
       "        text-align: right;\n",
       "    }\n",
       "\n",
       "    .dataframe thead th {\n",
       "        text-align: left;\n",
       "    }\n",
       "\n",
       "    .dataframe tbody tr th {\n",
       "        vertical-align: top;\n",
       "    }\n",
       "</style>\n",
       "<table border=\"1\" class=\"dataframe\">\n",
       "  <thead>\n",
       "    <tr style=\"text-align: right;\">\n",
       "      <th></th>\n",
       "      <th>county</th>\n",
       "      <th>dem_vote</th>\n",
       "      <th>rep_vote</th>\n",
       "      <th>year</th>\n",
       "    </tr>\n",
       "  </thead>\n",
       "  <tbody>\n",
       "    <tr>\n",
       "      <th>0</th>\n",
       "      <td>Autauga, AL</td>\n",
       "      <td>4774</td>\n",
       "      <td>15212</td>\n",
       "      <td>2004</td>\n",
       "    </tr>\n",
       "    <tr>\n",
       "      <th>1</th>\n",
       "      <td>Baldwin, AL</td>\n",
       "      <td>15579</td>\n",
       "      <td>52910</td>\n",
       "      <td>2004</td>\n",
       "    </tr>\n",
       "    <tr>\n",
       "      <th>2</th>\n",
       "      <td>Barbour, AL</td>\n",
       "      <td>4826</td>\n",
       "      <td>5893</td>\n",
       "      <td>2004</td>\n",
       "    </tr>\n",
       "    <tr>\n",
       "      <th>3</th>\n",
       "      <td>Bibb, AL</td>\n",
       "      <td>2089</td>\n",
       "      <td>5471</td>\n",
       "      <td>2004</td>\n",
       "    </tr>\n",
       "    <tr>\n",
       "      <th>4</th>\n",
       "      <td>Blount, AL</td>\n",
       "      <td>3932</td>\n",
       "      <td>17364</td>\n",
       "      <td>2004</td>\n",
       "    </tr>\n",
       "  </tbody>\n",
       "</table>\n",
       "</div>"
      ],
      "text/plain": [
       "        county dem_vote rep_vote  year\n",
       "0  Autauga, AL     4774    15212  2004\n",
       "1  Baldwin, AL    15579    52910  2004\n",
       "2  Barbour, AL     4826     5893  2004\n",
       "3     Bibb, AL     2089     5471  2004\n",
       "4   Blount, AL     3932    17364  2004"
      ]
     },
     "execution_count": 5,
     "metadata": {},
     "output_type": "execute_result"
    }
   ],
   "source": [
    "count, dem_vote, rep_vote = data(2004, candidates_2004)\n",
    "\n",
    "# check to make sure lists are the same length\n",
    "print(len(count), len(dem_vote), len(rep_vote))\n",
    "\n",
    "# loop over counties list to convert from list of lists or strings, to list of strings\n",
    "counties = [item for sublist in count for item in sublist]\n",
    "\n",
    "# empty DataFrame\n",
    "results_2004 = pd.DataFrame()\n",
    "        \n",
    "# add lists to empty Data Frame\n",
    "results_2004['county'] = counties\n",
    "results_2004['dem_vote'] = dem_vote\n",
    "results_2004['rep_vote'] = rep_vote\n",
    "results_2004['year'] = 2004\n",
    "\n",
    "results_2004.head()"
   ]
  },
  {
   "cell_type": "markdown",
   "metadata": {},
   "source": [
    "## 2008 Election"
   ]
  },
  {
   "cell_type": "code",
   "execution_count": 6,
   "metadata": {},
   "outputs": [
    {
     "name": "stdout",
     "output_type": "stream",
     "text": [
      "3112 3112 3112\n"
     ]
    },
    {
     "data": {
      "text/html": [
       "<div>\n",
       "<style>\n",
       "    .dataframe thead tr:only-child th {\n",
       "        text-align: right;\n",
       "    }\n",
       "\n",
       "    .dataframe thead th {\n",
       "        text-align: left;\n",
       "    }\n",
       "\n",
       "    .dataframe tbody tr th {\n",
       "        vertical-align: top;\n",
       "    }\n",
       "</style>\n",
       "<table border=\"1\" class=\"dataframe\">\n",
       "  <thead>\n",
       "    <tr style=\"text-align: right;\">\n",
       "      <th></th>\n",
       "      <th>county</th>\n",
       "      <th>dem_vote</th>\n",
       "      <th>rep_vote</th>\n",
       "      <th>year</th>\n",
       "    </tr>\n",
       "  </thead>\n",
       "  <tbody>\n",
       "    <tr>\n",
       "      <th>0</th>\n",
       "      <td>Autauga, AL</td>\n",
       "      <td>6091</td>\n",
       "      <td>17398</td>\n",
       "      <td>2008</td>\n",
       "    </tr>\n",
       "    <tr>\n",
       "      <th>1</th>\n",
       "      <td>Baldwin, AL</td>\n",
       "      <td>19362</td>\n",
       "      <td>61192</td>\n",
       "      <td>2008</td>\n",
       "    </tr>\n",
       "    <tr>\n",
       "      <th>2</th>\n",
       "      <td>Barbour, AL</td>\n",
       "      <td>5685</td>\n",
       "      <td>5862</td>\n",
       "      <td>2008</td>\n",
       "    </tr>\n",
       "    <tr>\n",
       "      <th>3</th>\n",
       "      <td>Bibb, AL</td>\n",
       "      <td>2289</td>\n",
       "      <td>6247</td>\n",
       "      <td>2008</td>\n",
       "    </tr>\n",
       "    <tr>\n",
       "      <th>4</th>\n",
       "      <td>Blount, AL</td>\n",
       "      <td>3518</td>\n",
       "      <td>20362</td>\n",
       "      <td>2008</td>\n",
       "    </tr>\n",
       "  </tbody>\n",
       "</table>\n",
       "</div>"
      ],
      "text/plain": [
       "        county dem_vote rep_vote  year\n",
       "0  Autauga, AL     6091    17398  2008\n",
       "1  Baldwin, AL    19362    61192  2008\n",
       "2  Barbour, AL     5685     5862  2008\n",
       "3     Bibb, AL     2289     6247  2008\n",
       "4   Blount, AL     3518    20362  2008"
      ]
     },
     "execution_count": 6,
     "metadata": {},
     "output_type": "execute_result"
    }
   ],
   "source": [
    "count, dem_vote, rep_vote = data(2008, candidates_2008)\n",
    "\n",
    "# check to make sure lists are the same length\n",
    "print(len(count), len(dem_vote), len(rep_vote))\n",
    "\n",
    "# loop over counties list to convert from list of lists or strings, to list of strings\n",
    "counties = [item for sublist in count for item in sublist]\n",
    "\n",
    "# empty DataFrame\n",
    "results_2008 = pd.DataFrame()\n",
    "\n",
    "# add lists to empty Data Frame\n",
    "results_2008['county'] = counties\n",
    "results_2008['dem_vote'] = dem_vote\n",
    "results_2008['rep_vote'] = rep_vote\n",
    "results_2008['year'] = 2008\n",
    "\n",
    "results_2008.head()"
   ]
  },
  {
   "cell_type": "markdown",
   "metadata": {},
   "source": [
    "## 2012 Election"
   ]
  },
  {
   "cell_type": "code",
   "execution_count": 7,
   "metadata": {
    "scrolled": true
   },
   "outputs": [
    {
     "name": "stdout",
     "output_type": "stream",
     "text": [
      "3113 3114 3114\n"
     ]
    },
    {
     "data": {
      "text/html": [
       "<div>\n",
       "<style>\n",
       "    .dataframe thead tr:only-child th {\n",
       "        text-align: right;\n",
       "    }\n",
       "\n",
       "    .dataframe thead th {\n",
       "        text-align: left;\n",
       "    }\n",
       "\n",
       "    .dataframe tbody tr th {\n",
       "        vertical-align: top;\n",
       "    }\n",
       "</style>\n",
       "<table border=\"1\" class=\"dataframe\">\n",
       "  <thead>\n",
       "    <tr style=\"text-align: right;\">\n",
       "      <th></th>\n",
       "      <th>county</th>\n",
       "      <th>dem_vote</th>\n",
       "      <th>rep_vote</th>\n",
       "      <th>year</th>\n",
       "    </tr>\n",
       "  </thead>\n",
       "  <tbody>\n",
       "    <tr>\n",
       "      <th>0</th>\n",
       "      <td>Autauga, AL</td>\n",
       "      <td>6354</td>\n",
       "      <td>17366</td>\n",
       "      <td>2012</td>\n",
       "    </tr>\n",
       "    <tr>\n",
       "      <th>1</th>\n",
       "      <td>Baldwin, AL</td>\n",
       "      <td>18329</td>\n",
       "      <td>65772</td>\n",
       "      <td>2012</td>\n",
       "    </tr>\n",
       "    <tr>\n",
       "      <th>2</th>\n",
       "      <td>Barbour, AL</td>\n",
       "      <td>5873</td>\n",
       "      <td>5539</td>\n",
       "      <td>2012</td>\n",
       "    </tr>\n",
       "    <tr>\n",
       "      <th>3</th>\n",
       "      <td>Bibb, AL</td>\n",
       "      <td>2200</td>\n",
       "      <td>6131</td>\n",
       "      <td>2012</td>\n",
       "    </tr>\n",
       "    <tr>\n",
       "      <th>4</th>\n",
       "      <td>Blount, AL</td>\n",
       "      <td>2961</td>\n",
       "      <td>20741</td>\n",
       "      <td>2012</td>\n",
       "    </tr>\n",
       "  </tbody>\n",
       "</table>\n",
       "</div>"
      ],
      "text/plain": [
       "        county dem_vote rep_vote  year\n",
       "0  Autauga, AL     6354    17366  2012\n",
       "1  Baldwin, AL    18329    65772  2012\n",
       "2  Barbour, AL     5873     5539  2012\n",
       "3     Bibb, AL     2200     6131  2012\n",
       "4   Blount, AL     2961    20741  2012"
      ]
     },
     "execution_count": 7,
     "metadata": {},
     "output_type": "execute_result"
    }
   ],
   "source": [
    "count, dem_vote, rep_vote = data(2012, candidates_2012)\n",
    "\n",
    "# check to make sure lists are the same length\n",
    "print(len(count), len(dem_vote), len(rep_vote))\n",
    "\n",
    "# loop over counties list to convert from list of lists or strings, to list of strings\n",
    "counties = [item for sublist in count for item in sublist]\n",
    "\n",
    "# due to faulty data entry in townhall.com Hawaii's county Kalawao needs to be removed\n",
    "# as well as the entries corresponding to Kauai, entered as '-', which offset data\n",
    "del counties[518] \n",
    "del rep_vote[518]\n",
    "del dem_vote[518]\n",
    "\n",
    "rep_vote.remove('-') \n",
    "dem_vote.remove('-')\n",
    "\n",
    "# empty DataFrame\n",
    "results_2012 = pd.DataFrame()\n",
    "\n",
    "# add lists to empty Data Frame\n",
    "results_2012['county'] = counties\n",
    "results_2012['dem_vote'] = dem_vote\n",
    "results_2012['rep_vote'] = rep_vote\n",
    "results_2012['year'] = 2012\n",
    "\n",
    "results_2012.head()"
   ]
  },
  {
   "cell_type": "markdown",
   "metadata": {},
   "source": [
    "## 2016 Election"
   ]
  },
  {
   "cell_type": "code",
   "execution_count": 8,
   "metadata": {},
   "outputs": [
    {
     "name": "stdout",
     "output_type": "stream",
     "text": [
      "3111 3111 3111\n"
     ]
    },
    {
     "data": {
      "text/html": [
       "<div>\n",
       "<style>\n",
       "    .dataframe thead tr:only-child th {\n",
       "        text-align: right;\n",
       "    }\n",
       "\n",
       "    .dataframe thead th {\n",
       "        text-align: left;\n",
       "    }\n",
       "\n",
       "    .dataframe tbody tr th {\n",
       "        vertical-align: top;\n",
       "    }\n",
       "</style>\n",
       "<table border=\"1\" class=\"dataframe\">\n",
       "  <thead>\n",
       "    <tr style=\"text-align: right;\">\n",
       "      <th></th>\n",
       "      <th>county</th>\n",
       "      <th>dem_vote</th>\n",
       "      <th>rep_vote</th>\n",
       "      <th>year</th>\n",
       "    </tr>\n",
       "  </thead>\n",
       "  <tbody>\n",
       "    <tr>\n",
       "      <th>0</th>\n",
       "      <td>Autauga, AL</td>\n",
       "      <td>5908</td>\n",
       "      <td>18110</td>\n",
       "      <td>2016</td>\n",
       "    </tr>\n",
       "    <tr>\n",
       "      <th>1</th>\n",
       "      <td>Baldwin, AL</td>\n",
       "      <td>18409</td>\n",
       "      <td>72780</td>\n",
       "      <td>2016</td>\n",
       "    </tr>\n",
       "    <tr>\n",
       "      <th>2</th>\n",
       "      <td>Barbour, AL</td>\n",
       "      <td>4848</td>\n",
       "      <td>5431</td>\n",
       "      <td>2016</td>\n",
       "    </tr>\n",
       "    <tr>\n",
       "      <th>3</th>\n",
       "      <td>Bibb, AL</td>\n",
       "      <td>1874</td>\n",
       "      <td>6733</td>\n",
       "      <td>2016</td>\n",
       "    </tr>\n",
       "    <tr>\n",
       "      <th>4</th>\n",
       "      <td>Blount, AL</td>\n",
       "      <td>2150</td>\n",
       "      <td>22808</td>\n",
       "      <td>2016</td>\n",
       "    </tr>\n",
       "  </tbody>\n",
       "</table>\n",
       "</div>"
      ],
      "text/plain": [
       "        county dem_vote rep_vote  year\n",
       "0  Autauga, AL     5908    18110  2016\n",
       "1  Baldwin, AL    18409    72780  2016\n",
       "2  Barbour, AL     4848     5431  2016\n",
       "3     Bibb, AL     1874     6733  2016\n",
       "4   Blount, AL     2150    22808  2016"
      ]
     },
     "execution_count": 8,
     "metadata": {},
     "output_type": "execute_result"
    }
   ],
   "source": [
    "count, dem_vote, rep_vote = data(2016, candidates_2016)\n",
    "\n",
    "# check to make sure lists are the same length\n",
    "print(len(count), len(dem_vote), len(rep_vote))\n",
    "\n",
    "# loop over counties list to convert from list of lists or strings, to list of strings\n",
    "counties = [item for sublist in count for item in sublist]\n",
    "\n",
    "# empty DataFrame\n",
    "results_2016 = pd.DataFrame()\n",
    "\n",
    "# add lists to empty Data Frame\n",
    "results_2016['county'] = counties\n",
    "results_2016['dem_vote'] = dem_vote\n",
    "results_2016['rep_vote'] = rep_vote\n",
    "results_2016['year'] = 2016\n",
    "\n",
    "results_2016.head()"
   ]
  },
  {
   "cell_type": "code",
   "execution_count": 9,
   "metadata": {
    "scrolled": false
   },
   "outputs": [
    {
     "data": {
      "text/plain": [
       "((3110, 4), (3112, 4), (3112, 4), (3111, 4))"
      ]
     },
     "execution_count": 9,
     "metadata": {},
     "output_type": "execute_result"
    }
   ],
   "source": [
    "results_2004.shape, results_2008.shape, results_2012.shape, results_2016.shape"
   ]
  },
  {
   "cell_type": "code",
   "execution_count": 10,
   "metadata": {},
   "outputs": [
    {
     "name": "stdout",
     "output_type": "stream",
     "text": [
      "St. Louis Co., MO\n",
      "Bedford Co., VA\n",
      "Fairfax Co., VA\n",
      "Franklin Co., VA\n",
      "Richmond Co., VA\n",
      "Roanoke Co., VA\n"
     ]
    }
   ],
   "source": [
    "for x in results_2004.county:\n",
    "    if 'Co.' in x:\n",
    "        print(x)"
   ]
  },
  {
   "cell_type": "code",
   "execution_count": 11,
   "metadata": {
    "scrolled": false
   },
   "outputs": [
    {
     "data": {
      "text/html": [
       "<div>\n",
       "<style>\n",
       "    .dataframe thead tr:only-child th {\n",
       "        text-align: right;\n",
       "    }\n",
       "\n",
       "    .dataframe thead th {\n",
       "        text-align: left;\n",
       "    }\n",
       "\n",
       "    .dataframe tbody tr th {\n",
       "        vertical-align: top;\n",
       "    }\n",
       "</style>\n",
       "<table border=\"1\" class=\"dataframe\">\n",
       "  <thead>\n",
       "    <tr style=\"text-align: right;\">\n",
       "      <th></th>\n",
       "      <th>county</th>\n",
       "      <th>dem_vote</th>\n",
       "      <th>rep_vote</th>\n",
       "      <th>year</th>\n",
       "    </tr>\n",
       "  </thead>\n",
       "  <tbody>\n",
       "    <tr>\n",
       "      <th>2893</th>\n",
       "      <td>Richmond Co., VA</td>\n",
       "      <td>1243</td>\n",
       "      <td>2082</td>\n",
       "      <td>2004</td>\n",
       "    </tr>\n",
       "  </tbody>\n",
       "</table>\n",
       "</div>"
      ],
      "text/plain": [
       "                county dem_vote rep_vote  year\n",
       "2893  Richmond Co., VA     1243     2082  2004"
      ]
     },
     "execution_count": 11,
     "metadata": {},
     "output_type": "execute_result"
    }
   ],
   "source": [
    "results_2004[results_2004.county == 'Richmond Co., VA']"
   ]
  },
  {
   "cell_type": "markdown",
   "metadata": {},
   "source": [
    "The TownHall website that this scrape is on has inconsistant naming of counties and cities with the same name. The code below switches the namng based on the index of the observations."
   ]
  },
  {
   "cell_type": "code",
   "execution_count": 12,
   "metadata": {
    "collapsed": true
   },
   "outputs": [],
   "source": [
    "results_2004.loc[2892, 'county'] = 'Richmond Co., VA'\n",
    "results_2004.loc[2893, 'county'] = 'Richmond, VA'\n",
    "results_2008.loc[2894, 'county'] = 'Richmond Co., VA'\n",
    "results_2008.loc[2895, 'county'] = 'Richmond, VA'\n",
    "results_2012.loc[2894, 'county'] = 'Richmond Co., VA'\n",
    "results_2012.loc[2895, 'county'] = 'Richmond, VA'\n",
    "results_2016.loc[2893, 'county'] = 'Richmond Co., VA'\n",
    "results_2016.loc[2894, 'county'] = 'Richmond, VA'\n",
    "\n",
    "\n",
    "results_2004.loc[1553, 'county'] = 'St. Louis Co., MO'\n",
    "results_2004.loc[1554, 'county'] = 'St. Louis, MO'\n",
    "results_2008.loc[1553, 'county'] = 'St. Louis Co., MO'\n",
    "results_2008.loc[1554, 'county'] = 'St. Louis, MO'\n",
    "results_2012.loc[1553, 'county'] = 'St. Louis Co., MO'\n",
    "results_2012.loc[1554, 'county'] = 'St. Louis, MO'\n",
    "results_2016.loc[1553, 'county'] = 'St. Louis Co., MO'\n",
    "results_2016.loc[1554, 'county'] = 'St. Louis, MO'\n",
    "\n",
    "\n",
    "results_2004.loc[2797, 'county'] = 'Bedford Co., VA'\n",
    "results_2004.loc[2798, 'county'] = 'Bedford, VA'\n",
    "results_2008.loc[2799, 'county'] = 'Bedford Co., VA'\n",
    "results_2008.loc[2800, 'county'] = 'Bedford, VA'\n",
    "results_2012.loc[2799, 'county'] = 'Bedford Co., VA'\n",
    "results_2012.loc[2800, 'county'] = 'Bedford, VA'\n",
    "results_2016.loc[2799, 'county'] = 'Bedford, VA'\n",
    "\n",
    "\n",
    "results_2004.loc[2825, 'county'] = 'Fairfax Co., VA'\n",
    "results_2004.loc[2826, 'county'] = 'Fairfax, VA'\n",
    "results_2008.loc[2827, 'county'] = 'Fairfax Co., VA'\n",
    "results_2008.loc[2828, 'county'] = 'Fairfax, VA'\n",
    "results_2012.loc[2827, 'county'] = 'Fairfax Co., VA'\n",
    "results_2012.loc[2828, 'county'] = 'Fairfax, VA'\n",
    "results_2016.loc[2826, 'county'] = 'Fairfax Co., VA'\n",
    "results_2016.loc[2827, 'county'] = 'Fairfax, VA'\n",
    "\n",
    "\n",
    "results_2004.loc[2894, 'county'] = 'Roanoke Co., VA'\n",
    "results_2004.loc[2895, 'county'] = 'Roanoke, VA'\n",
    "results_2008.loc[2896, 'county'] = 'Roanoke Co., VA'\n",
    "results_2008.loc[2896, 'county'] = 'Roanoke, VA'\n",
    "results_2012.loc[2896, 'county'] = 'Roanoke Co., VA'\n",
    "results_2012.loc[2897, 'county'] = 'Roanoke, VA'\n",
    "results_2016.loc[2895, 'county'] = 'Roanoke Co., VA'\n",
    "results_2016.loc[2896, 'county'] = 'Roanoke, VA'\n",
    "\n",
    "\n",
    "results_2004.loc[2831, 'county'] = 'Franklin Co., VA'\n",
    "results_2004.loc[2832, 'county'] = 'Franklin, VA'\n",
    "results_2008.loc[2833, 'county'] = 'Franklin Co., VA'\n",
    "results_2008.loc[2834, 'county'] = 'Franklin, VA'\n",
    "results_2012.loc[2833, 'county'] = 'Franklin Co., VA'\n",
    "results_2012.loc[2834, 'county'] = 'Franklin, VA'\n",
    "results_2016.loc[2832, 'county'] = 'Franklin Co., VA'\n",
    "results_2016.loc[2833, 'county'] = 'Franklin, VA'"
   ]
  },
  {
   "cell_type": "code",
   "execution_count": 13,
   "metadata": {},
   "outputs": [
    {
     "data": {
      "text/plain": [
       "(3110, (3110, 4))"
      ]
     },
     "execution_count": 13,
     "metadata": {},
     "output_type": "execute_result"
    }
   ],
   "source": [
    "len(results_2004.county.unique()), results_2004.shape"
   ]
  },
  {
   "cell_type": "code",
   "execution_count": 14,
   "metadata": {},
   "outputs": [
    {
     "data": {
      "text/plain": [
       "(3112, (3112, 4))"
      ]
     },
     "execution_count": 14,
     "metadata": {},
     "output_type": "execute_result"
    }
   ],
   "source": [
    "len(results_2008.county.unique()), results_2008.shape"
   ]
  },
  {
   "cell_type": "code",
   "execution_count": 15,
   "metadata": {},
   "outputs": [
    {
     "data": {
      "text/plain": [
       "(3112, (3112, 4))"
      ]
     },
     "execution_count": 15,
     "metadata": {},
     "output_type": "execute_result"
    }
   ],
   "source": [
    "len(results_2012.county.unique()), results_2012.shape"
   ]
  },
  {
   "cell_type": "code",
   "execution_count": 16,
   "metadata": {},
   "outputs": [
    {
     "data": {
      "text/plain": [
       "(3111, (3111, 4))"
      ]
     },
     "execution_count": 16,
     "metadata": {},
     "output_type": "execute_result"
    }
   ],
   "source": [
    "len(results_2016.county.unique()), results_2016.shape"
   ]
  },
  {
   "cell_type": "code",
   "execution_count": 17,
   "metadata": {
    "collapsed": true
   },
   "outputs": [],
   "source": [
    "# puts dataframe in to .csv files in same folder as notebook\n",
    "\n",
    "results_2004.to_csv('./csv_files/results_2004', index=False)\n",
    "\n",
    "results_2008.to_csv('./csv_files/results_2008', index=False)\n",
    "\n",
    "results_2012.to_csv('./csv_files/results_2012', index=False)\n",
    "\n",
    "results_2016.to_csv('./csv_files/results_2016', index=False)"
   ]
  },
  {
   "cell_type": "markdown",
   "metadata": {},
   "source": [
    "Note: inspiration for this webscrape came from existing code by tonmcg repository County_Level_Election_Results_12-16. This code only worked for the 2012 and 2016 elections. It also returned a dataframe that wasn't useful to me. So I wrote my own code, as shwon above.\n",
    "https://github.com/tonmcg/County_Level_Election_Results_12-16"
   ]
  },
  {
   "cell_type": "markdown",
   "metadata": {},
   "source": [
    "### Next Notebook [Web Scrape for Speeches by Nominees](Speeches_Scrape.ipynb)"
   ]
  }
 ],
 "metadata": {
  "kernelspec": {
   "display_name": "Python 3",
   "language": "python",
   "name": "python3"
  },
  "language_info": {
   "codemirror_mode": {
    "name": "ipython",
    "version": 3
   },
   "file_extension": ".py",
   "mimetype": "text/x-python",
   "name": "python",
   "nbconvert_exporter": "python",
   "pygments_lexer": "ipython3",
   "version": "3.6.1"
  }
 },
 "nbformat": 4,
 "nbformat_minor": 2
}
