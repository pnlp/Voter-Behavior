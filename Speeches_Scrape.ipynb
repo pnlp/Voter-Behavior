{
 "cells": [
  {
   "cell_type": "markdown",
   "metadata": {},
   "source": [
    "# Web Scrape for Election Speeches"
   ]
  },
  {
   "cell_type": "code",
   "execution_count": 553,
   "metadata": {
    "collapsed": true
   },
   "outputs": [],
   "source": [
    "import pandas as pd\n",
    "import numpy as np\n",
    "from bs4 import BeautifulSoup\n",
    "import requests\n",
    "import time"
   ]
  },
  {
   "cell_type": "code",
   "execution_count": 554,
   "metadata": {
    "collapsed": true
   },
   "outputs": [],
   "source": [
    "url_2004_kerry = 'http://www.presidency.ucsb.edu/2004_election_speeches.php?candidate=67&campaign=2004KERRY'\n",
    "\n",
    "url_2008_obama = 'http://www.presidency.ucsb.edu/2008_election_speeches.php?candidate=44&campaign=2008OBAMA&doctype=5000'\n",
    "url_2008_mccain = 'http://www.presidency.ucsb.edu/2008_election_speeches.php?candidate=68&campaign=2008MCCAIN&doctype=5000'\n",
    "\n",
    "url_2012_obama = 'http://www.presidency.ucsb.edu/2012_election_speeches.php?candidate=44&doctype=1157'\n",
    "url_2012_romney = 'http://www.presidency.ucsb.edu/2012_election_speeches.php?candidate=79&campaign=2012ROMNEY&doctype=5000'\n",
    "\n",
    "url_2016_clinton = 'http://www.presidency.ucsb.edu/2016_election_speeches.php?candidate=70&campaign=2016CLINTON&doctype=5000'\n",
    "url_2016_trump = 'http://www.presidency.ucsb.edu/2016_election_speeches.php?candidate=45&campaign=2016TRUMP&doctype=5000'"
   ]
  },
  {
   "cell_type": "code",
   "execution_count": 555,
   "metadata": {
    "collapsed": true
   },
   "outputs": [],
   "source": [
    "res = requests.get(url_2004_kerry)\n",
    "soup = BeautifulSoup(res.content, 'lxml')"
   ]
  },
  {
   "cell_type": "code",
   "execution_count": 550,
   "metadata": {
    "collapsed": true
   },
   "outputs": [],
   "source": [
    "pids_kerry = []\n",
    "rows = soup.find_all('tr')\n",
    "for i in range(49, 138):\n",
    "    row = rows[i].find('a')\n",
    "    row = str(row)\n",
    "    pid = int(row[29:34])\n",
    "    pids_kerry.append(pid)"
   ]
  },
  {
   "cell_type": "code",
   "execution_count": 92,
   "metadata": {
    "collapsed": true
   },
   "outputs": [],
   "source": [
    "res = requests.get(url_2008_obama)\n",
    "soup = BeautifulSoup(res.content, 'lxml')\n",
    "\n",
    "pids_obama = []\n",
    "rows = soup.find_all('tr')\n",
    "for i in range(49, 276):\n",
    "    row = rows[i].find('a')\n",
    "    row = str(row)\n",
    "    pid = int(row[29:34])\n",
    "    pids_obama.append(pid)"
   ]
  },
  {
   "cell_type": "code",
   "execution_count": 132,
   "metadata": {
    "collapsed": true
   },
   "outputs": [],
   "source": [
    "res = requests.get(url_2008_mccain)\n",
    "soup = BeautifulSoup(res.content, 'lxml')\n",
    "\n",
    "pids_mccain = []\n",
    "rows = soup.find_all('tr')\n",
    "for i in range(49, 224):\n",
    "    row = rows[i].find('a')\n",
    "    row = str(row)\n",
    "    pid = int(row[29:34])\n",
    "    pids_mccain.append(pid)"
   ]
  },
  {
   "cell_type": "code",
   "execution_count": 253,
   "metadata": {
    "collapsed": true,
    "scrolled": true
   },
   "outputs": [],
   "source": [
    "res = requests.get(url_2012_obama)\n",
    "soup = BeautifulSoup(res.content, 'lxml')\n",
    "\n",
    "pids_obama_2 = []\n",
    "rows = soup.find_all('tr')\n",
    "for i in range(49, 89):\n",
    "    row = rows[i].find('a')\n",
    "    row = str(row)\n",
    "    pid = int(row[29:34])\n",
    "    pids_obama_2.append(pid)\n",
    "for i in range(89, 153):\n",
    "    row = rows[i].find('a')\n",
    "    row = str(row)\n",
    "    pid = int(row[29:35])\n",
    "    pids_obama_2.append(pid)"
   ]
  },
  {
   "cell_type": "code",
   "execution_count": 284,
   "metadata": {
    "collapsed": true
   },
   "outputs": [],
   "source": [
    "res = requests.get(url_2012_romney)\n",
    "soup = BeautifulSoup(res.content, 'lxml')\n",
    "\n",
    "pids_romney = []\n",
    "rows = soup.find_all('tr')\n",
    "for i in range(49, 67):\n",
    "    row = rows[i].find('a')\n",
    "    row = str(row)\n",
    "    pid = int(row[29:34])\n",
    "    pids_romney.append(pid)\n",
    "\n",
    "for i in range(67, 150):\n",
    "    row = rows[i].find('a')\n",
    "    row = str(row)\n",
    "    pid = int(row[29:35])\n",
    "    pids_romney.append(pid)"
   ]
  },
  {
   "cell_type": "code",
   "execution_count": 344,
   "metadata": {
    "collapsed": true
   },
   "outputs": [],
   "source": [
    "res = requests.get(url_2016_clinton)\n",
    "soup = BeautifulSoup(res.content, 'lxml')\n",
    "\n",
    "pids_clinton = []\n",
    "rows = soup.find_all('tr')\n",
    "for i in range(49, 156):\n",
    "    row = rows[i].find('a')\n",
    "    row = str(row)\n",
    "    pid = int(row[29:34])\n",
    "    pids_clinton.append(pid)\n",
    "\n",
    "for i in range(156, 245):\n",
    "    row = rows[i].find('a')\n",
    "    row = str(row)\n",
    "    pid = int(row[29:35])\n",
    "    pids_clinton.append(pid)"
   ]
  },
  {
   "cell_type": "code",
   "execution_count": 364,
   "metadata": {
    "collapsed": true
   },
   "outputs": [],
   "source": [
    "res = requests.get(url_2016_trump)\n",
    "soup = BeautifulSoup(res.content, 'lxml')\n",
    "\n",
    "pids_trump = []\n",
    "rows = soup.find_all('tr')\n",
    "for i in range(49, 123):\n",
    "    row = rows[i].find('a')\n",
    "    row = str(row)\n",
    "    pid = int(row[29:35])\n",
    "    pids_trump.append(pid)"
   ]
  },
  {
   "cell_type": "markdown",
   "metadata": {},
   "source": [
    "# Scrape for acutal speeches"
   ]
  },
  {
   "cell_type": "code",
   "execution_count": 527,
   "metadata": {
    "collapsed": true
   },
   "outputs": [],
   "source": [
    "url_speech = 'http://www.presidency.ucsb.edu/ws/index.php?pid={}'"
   ]
  },
  {
   "cell_type": "code",
   "execution_count": 528,
   "metadata": {
    "collapsed": true
   },
   "outputs": [],
   "source": [
    "df_kerry = pd.DataFrame()\n",
    "\n",
    "speech = []\n",
    "for i in pids_kerry:\n",
    "    res = requests.get(url_speech .format(i))\n",
    "    soup = BeautifulSoup(res.content, 'lxml')\n",
    "    rows = soup.find('span', {\"class\" : \"displaytext\"})\n",
    "    speech.append(rows.text)\n",
    "    time.sleep(2)\n",
    "    \n",
    "df_kerry['speech'] = speech\n",
    "df_kerry['year'] = 2004 \n",
    "df_kerry['candidate'] = 'kerry'"
   ]
  },
  {
   "cell_type": "code",
   "execution_count": 559,
   "metadata": {},
   "outputs": [
    {
     "data": {
      "text/html": [
       "<div>\n",
       "<style>\n",
       "    .dataframe thead tr:only-child th {\n",
       "        text-align: right;\n",
       "    }\n",
       "\n",
       "    .dataframe thead th {\n",
       "        text-align: left;\n",
       "    }\n",
       "\n",
       "    .dataframe tbody tr th {\n",
       "        vertical-align: top;\n",
       "    }\n",
       "</style>\n",
       "<table border=\"1\" class=\"dataframe\">\n",
       "  <thead>\n",
       "    <tr style=\"text-align: right;\">\n",
       "      <th></th>\n",
       "      <th>speech</th>\n",
       "      <th>year</th>\n",
       "      <th>candidate</th>\n",
       "    </tr>\n",
       "  </thead>\n",
       "  <tbody>\n",
       "    <tr>\n",
       "      <th>0</th>\n",
       "      <td>Thank you, Max Cleland for your friendship, yo...</td>\n",
       "      <td>2004</td>\n",
       "      <td>kerry</td>\n",
       "    </tr>\n",
       "    <tr>\n",
       "      <th>1</th>\n",
       "      <td>Good morning and thank you for inviting me int...</td>\n",
       "      <td>2004</td>\n",
       "      <td>kerry</td>\n",
       "    </tr>\n",
       "    <tr>\n",
       "      <th>2</th>\n",
       "      <td>We are here tonight to honor our next generati...</td>\n",
       "      <td>2004</td>\n",
       "      <td>kerry</td>\n",
       "    </tr>\n",
       "    <tr>\n",
       "      <th>3</th>\n",
       "      <td>Today, from Florida to Mississippi, to Louisia...</td>\n",
       "      <td>2004</td>\n",
       "      <td>kerry</td>\n",
       "    </tr>\n",
       "    <tr>\n",
       "      <th>4</th>\n",
       "      <td>Thank you John, Rich, Linda, and members of th...</td>\n",
       "      <td>2004</td>\n",
       "      <td>kerry</td>\n",
       "    </tr>\n",
       "    <tr>\n",
       "      <th>5</th>\n",
       "      <td>One Wednesday afternoon in 1858, Quincy was tr...</td>\n",
       "      <td>2004</td>\n",
       "      <td>kerry</td>\n",
       "    </tr>\n",
       "    <tr>\n",
       "      <th>6</th>\n",
       "      <td>I can't begin what we need to talk about today...</td>\n",
       "      <td>2004</td>\n",
       "      <td>kerry</td>\n",
       "    </tr>\n",
       "    <tr>\n",
       "      <th>7</th>\n",
       "      <td>Tonight in West Virginia, we say thank you to ...</td>\n",
       "      <td>2004</td>\n",
       "      <td>kerry</td>\n",
       "    </tr>\n",
       "    <tr>\n",
       "      <th>8</th>\n",
       "      <td>One year ago this week, American soldiers race...</td>\n",
       "      <td>2004</td>\n",
       "      <td>kerry</td>\n",
       "    </tr>\n",
       "    <tr>\n",
       "      <th>9</th>\n",
       "      <td>Thank you for an unbelievable welcome.I want t...</td>\n",
       "      <td>2004</td>\n",
       "      <td>kerry</td>\n",
       "    </tr>\n",
       "    <tr>\n",
       "      <th>10</th>\n",
       "      <td>Before I begin, I couldn't be in this place, o...</td>\n",
       "      <td>2004</td>\n",
       "      <td>kerry</td>\n",
       "    </tr>\n",
       "    <tr>\n",
       "      <th>11</th>\n",
       "      <td>Thank you for inviting me to this house of God...</td>\n",
       "      <td>2004</td>\n",
       "      <td>kerry</td>\n",
       "    </tr>\n",
       "    <tr>\n",
       "      <th>12</th>\n",
       "      <td>I'm sorry I couldn't be with you all today. As...</td>\n",
       "      <td>2004</td>\n",
       "      <td>kerry</td>\n",
       "    </tr>\n",
       "    <tr>\n",
       "      <th>13</th>\n",
       "      <td>Good morning Cincinnati.I'd like to start toda...</td>\n",
       "      <td>2004</td>\n",
       "      <td>kerry</td>\n",
       "    </tr>\n",
       "    <tr>\n",
       "      <th>14</th>\n",
       "      <td>Before we begin today, I want to honor the sac...</td>\n",
       "      <td>2004</td>\n",
       "      <td>kerry</td>\n",
       "    </tr>\n",
       "    <tr>\n",
       "      <th>15</th>\n",
       "      <td>Thank you Wildcats. Now I knew that Guster was...</td>\n",
       "      <td>2004</td>\n",
       "      <td>kerry</td>\n",
       "    </tr>\n",
       "    <tr>\n",
       "      <th>16</th>\n",
       "      <td>Good morning, this is John Kerry and I would l...</td>\n",
       "      <td>2004</td>\n",
       "      <td>kerry</td>\n",
       "    </tr>\n",
       "    <tr>\n",
       "      <th>17</th>\n",
       "      <td>Thank you. I'm glad to be in Houston on Earth ...</td>\n",
       "      <td>2004</td>\n",
       "      <td>kerry</td>\n",
       "    </tr>\n",
       "    <tr>\n",
       "      <th>18</th>\n",
       "      <td>It is an honor to be with you today.Before we ...</td>\n",
       "      <td>2004</td>\n",
       "      <td>kerry</td>\n",
       "    </tr>\n",
       "    <tr>\n",
       "      <th>19</th>\n",
       "      <td>It is an honor to be with you. I wish I had be...</td>\n",
       "      <td>2004</td>\n",
       "      <td>kerry</td>\n",
       "    </tr>\n",
       "    <tr>\n",
       "      <th>20</th>\n",
       "      <td>It is an honor to be with you today, and to be...</td>\n",
       "      <td>2004</td>\n",
       "      <td>kerry</td>\n",
       "    </tr>\n",
       "    <tr>\n",
       "      <th>21</th>\n",
       "      <td>It is an honor to be here at Westminster Colle...</td>\n",
       "      <td>2004</td>\n",
       "      <td>kerry</td>\n",
       "    </tr>\n",
       "    <tr>\n",
       "      <th>22</th>\n",
       "      <td>Thank you Dick, for that generous introduction...</td>\n",
       "      <td>2004</td>\n",
       "      <td>kerry</td>\n",
       "    </tr>\n",
       "    <tr>\n",
       "      <th>23</th>\n",
       "      <td>I'm pleased to be able to share this National ...</td>\n",
       "      <td>2004</td>\n",
       "      <td>kerry</td>\n",
       "    </tr>\n",
       "    <tr>\n",
       "      <th>24</th>\n",
       "      <td>Knights, Chancellor Jackson, Congressman Jeffe...</td>\n",
       "      <td>2004</td>\n",
       "      <td>kerry</td>\n",
       "    </tr>\n",
       "    <tr>\n",
       "      <th>25</th>\n",
       "      <td>I want to start by thanking all of you who are...</td>\n",
       "      <td>2004</td>\n",
       "      <td>kerry</td>\n",
       "    </tr>\n",
       "    <tr>\n",
       "      <th>26</th>\n",
       "      <td>Thank you. I've seen proud Teamsters at every ...</td>\n",
       "      <td>2004</td>\n",
       "      <td>kerry</td>\n",
       "    </tr>\n",
       "    <tr>\n",
       "      <th>27</th>\n",
       "      <td>Thank you for that generous introduction. And ...</td>\n",
       "      <td>2004</td>\n",
       "      <td>kerry</td>\n",
       "    </tr>\n",
       "    <tr>\n",
       "      <th>28</th>\n",
       "      <td>Good morning, this is John Kerry.Many of you a...</td>\n",
       "      <td>2004</td>\n",
       "      <td>kerry</td>\n",
       "    </tr>\n",
       "    <tr>\n",
       "      <th>29</th>\n",
       "      <td>Thank you all for being here.Over the next ten...</td>\n",
       "      <td>2004</td>\n",
       "      <td>kerry</td>\n",
       "    </tr>\n",
       "    <tr>\n",
       "      <th>...</th>\n",
       "      <td>...</td>\n",
       "      <td>...</td>\n",
       "      <td>...</td>\n",
       "    </tr>\n",
       "    <tr>\n",
       "      <th>59</th>\n",
       "      <td>Good morning, this is John Kerry.Three years a...</td>\n",
       "      <td>2004</td>\n",
       "      <td>kerry</td>\n",
       "    </tr>\n",
       "    <tr>\n",
       "      <th>60</th>\n",
       "      <td>The Scriptures tell us, \"Weeping may endure fo...</td>\n",
       "      <td>2004</td>\n",
       "      <td>kerry</td>\n",
       "    </tr>\n",
       "    <tr>\n",
       "      <th>61</th>\n",
       "      <td>As we remember too painfully, it was three yea...</td>\n",
       "      <td>2004</td>\n",
       "      <td>kerry</td>\n",
       "    </tr>\n",
       "    <tr>\n",
       "      <th>62</th>\n",
       "      <td>Over the last few years, I've thought a lot ab...</td>\n",
       "      <td>2004</td>\n",
       "      <td>kerry</td>\n",
       "    </tr>\n",
       "    <tr>\n",
       "      <th>63</th>\n",
       "      <td>Thank you. It's great to be back at the Detroi...</td>\n",
       "      <td>2004</td>\n",
       "      <td>kerry</td>\n",
       "    </tr>\n",
       "    <tr>\n",
       "      <th>64</th>\n",
       "      <td>Thank you, Congressman Rodriguez for that gene...</td>\n",
       "      <td>2004</td>\n",
       "      <td>kerry</td>\n",
       "    </tr>\n",
       "    <tr>\n",
       "      <th>65</th>\n",
       "      <td>I'm honored to be here today at your 126th Con...</td>\n",
       "      <td>2004</td>\n",
       "      <td>kerry</td>\n",
       "    </tr>\n",
       "    <tr>\n",
       "      <th>66</th>\n",
       "      <td>I am honored to be here at New York University...</td>\n",
       "      <td>2004</td>\n",
       "      <td>kerry</td>\n",
       "    </tr>\n",
       "    <tr>\n",
       "      <th>67</th>\n",
       "      <td>It's an honor to be here today at Temple Unive...</td>\n",
       "      <td>2004</td>\n",
       "      <td>kerry</td>\n",
       "    </tr>\n",
       "    <tr>\n",
       "      <th>68</th>\n",
       "      <td>Good morning, I'm John Edwards.On Thursday nig...</td>\n",
       "      <td>2004</td>\n",
       "      <td>kerry</td>\n",
       "    </tr>\n",
       "    <tr>\n",
       "      <th>69</th>\n",
       "      <td>Good morning. In the debate on Thursday night,...</td>\n",
       "      <td>2004</td>\n",
       "      <td>kerry</td>\n",
       "    </tr>\n",
       "    <tr>\n",
       "      <th>70</th>\n",
       "      <td>May the words of my mouth and the meditations ...</td>\n",
       "      <td>2004</td>\n",
       "      <td>kerry</td>\n",
       "    </tr>\n",
       "    <tr>\n",
       "      <th>71</th>\n",
       "      <td>Thank you, Governor Richardson for that great ...</td>\n",
       "      <td>2004</td>\n",
       "      <td>kerry</td>\n",
       "    </tr>\n",
       "    <tr>\n",
       "      <th>72</th>\n",
       "      <td>Thank you. So did anyone catch the debate last...</td>\n",
       "      <td>2004</td>\n",
       "      <td>kerry</td>\n",
       "    </tr>\n",
       "    <tr>\n",
       "      <th>73</th>\n",
       "      <td>It's great to be here today with all of you at...</td>\n",
       "      <td>2004</td>\n",
       "      <td>kerry</td>\n",
       "    </tr>\n",
       "    <tr>\n",
       "      <th>74</th>\n",
       "      <td>Good morning, this is John Kerry.This past wee...</td>\n",
       "      <td>2004</td>\n",
       "      <td>kerry</td>\n",
       "    </tr>\n",
       "    <tr>\n",
       "      <th>75</th>\n",
       "      <td>It's great to be here with all of you at Xenia...</td>\n",
       "      <td>2004</td>\n",
       "      <td>kerry</td>\n",
       "    </tr>\n",
       "    <tr>\n",
       "      <th>76</th>\n",
       "      <td>Good afternoon and thank you. What a pleasure ...</td>\n",
       "      <td>2004</td>\n",
       "      <td>kerry</td>\n",
       "    </tr>\n",
       "    <tr>\n",
       "      <th>77</th>\n",
       "      <td>We face a fundamental choice in this election ...</td>\n",
       "      <td>2004</td>\n",
       "      <td>kerry</td>\n",
       "    </tr>\n",
       "    <tr>\n",
       "      <th>78</th>\n",
       "      <td>Thank you – it's great to be back in Wilkes-Ba...</td>\n",
       "      <td>2004</td>\n",
       "      <td>kerry</td>\n",
       "    </tr>\n",
       "    <tr>\n",
       "      <th>79</th>\n",
       "      <td>Thank you for that kind introduction. It's an ...</td>\n",
       "      <td>2004</td>\n",
       "      <td>kerry</td>\n",
       "    </tr>\n",
       "    <tr>\n",
       "      <th>80</th>\n",
       "      <td>Thank you, Dana, for an introduction that mean...</td>\n",
       "      <td>2004</td>\n",
       "      <td>kerry</td>\n",
       "    </tr>\n",
       "    <tr>\n",
       "      <th>81</th>\n",
       "      <td>I want to thank Caroline Kennedy for coming he...</td>\n",
       "      <td>2004</td>\n",
       "      <td>kerry</td>\n",
       "    </tr>\n",
       "    <tr>\n",
       "      <th>82</th>\n",
       "      <td>Good morning. This is John Kerry.Just last mon...</td>\n",
       "      <td>2004</td>\n",
       "      <td>kerry</td>\n",
       "    </tr>\n",
       "    <tr>\n",
       "      <th>83</th>\n",
       "      <td>America has always been driven by one powerful...</td>\n",
       "      <td>2004</td>\n",
       "      <td>kerry</td>\n",
       "    </tr>\n",
       "    <tr>\n",
       "      <th>84</th>\n",
       "      <td>Thank you Wisconsin. And thank you UWGB – it's...</td>\n",
       "      <td>2004</td>\n",
       "      <td>kerry</td>\n",
       "    </tr>\n",
       "    <tr>\n",
       "      <th>85</th>\n",
       "      <td>Thank you Sioux City. It's great to be here at...</td>\n",
       "      <td>2004</td>\n",
       "      <td>kerry</td>\n",
       "    </tr>\n",
       "    <tr>\n",
       "      <th>86</th>\n",
       "      <td>Thank you. It's great to be back in Orlando. F...</td>\n",
       "      <td>2004</td>\n",
       "      <td>kerry</td>\n",
       "    </tr>\n",
       "    <tr>\n",
       "      <th>87</th>\n",
       "      <td>My fellow Americas, after the many long months...</td>\n",
       "      <td>2004</td>\n",
       "      <td>kerry</td>\n",
       "    </tr>\n",
       "    <tr>\n",
       "      <th>88</th>\n",
       "      <td>Thank you. Thank you. Thank you so much. You j...</td>\n",
       "      <td>2004</td>\n",
       "      <td>kerry</td>\n",
       "    </tr>\n",
       "  </tbody>\n",
       "</table>\n",
       "<p>89 rows × 3 columns</p>\n",
       "</div>"
      ],
      "text/plain": [
       "                                               speech  year candidate\n",
       "0   Thank you, Max Cleland for your friendship, yo...  2004     kerry\n",
       "1   Good morning and thank you for inviting me int...  2004     kerry\n",
       "2   We are here tonight to honor our next generati...  2004     kerry\n",
       "3   Today, from Florida to Mississippi, to Louisia...  2004     kerry\n",
       "4   Thank you John, Rich, Linda, and members of th...  2004     kerry\n",
       "5   One Wednesday afternoon in 1858, Quincy was tr...  2004     kerry\n",
       "6   I can't begin what we need to talk about today...  2004     kerry\n",
       "7   Tonight in West Virginia, we say thank you to ...  2004     kerry\n",
       "8   One year ago this week, American soldiers race...  2004     kerry\n",
       "9   Thank you for an unbelievable welcome.I want t...  2004     kerry\n",
       "10  Before I begin, I couldn't be in this place, o...  2004     kerry\n",
       "11  Thank you for inviting me to this house of God...  2004     kerry\n",
       "12  I'm sorry I couldn't be with you all today. As...  2004     kerry\n",
       "13  Good morning Cincinnati.I'd like to start toda...  2004     kerry\n",
       "14  Before we begin today, I want to honor the sac...  2004     kerry\n",
       "15  Thank you Wildcats. Now I knew that Guster was...  2004     kerry\n",
       "16  Good morning, this is John Kerry and I would l...  2004     kerry\n",
       "17  Thank you. I'm glad to be in Houston on Earth ...  2004     kerry\n",
       "18  It is an honor to be with you today.Before we ...  2004     kerry\n",
       "19  It is an honor to be with you. I wish I had be...  2004     kerry\n",
       "20  It is an honor to be with you today, and to be...  2004     kerry\n",
       "21  It is an honor to be here at Westminster Colle...  2004     kerry\n",
       "22  Thank you Dick, for that generous introduction...  2004     kerry\n",
       "23  I'm pleased to be able to share this National ...  2004     kerry\n",
       "24  Knights, Chancellor Jackson, Congressman Jeffe...  2004     kerry\n",
       "25  I want to start by thanking all of you who are...  2004     kerry\n",
       "26  Thank you. I've seen proud Teamsters at every ...  2004     kerry\n",
       "27  Thank you for that generous introduction. And ...  2004     kerry\n",
       "28  Good morning, this is John Kerry.Many of you a...  2004     kerry\n",
       "29  Thank you all for being here.Over the next ten...  2004     kerry\n",
       "..                                                ...   ...       ...\n",
       "59  Good morning, this is John Kerry.Three years a...  2004     kerry\n",
       "60  The Scriptures tell us, \"Weeping may endure fo...  2004     kerry\n",
       "61  As we remember too painfully, it was three yea...  2004     kerry\n",
       "62  Over the last few years, I've thought a lot ab...  2004     kerry\n",
       "63  Thank you. It's great to be back at the Detroi...  2004     kerry\n",
       "64  Thank you, Congressman Rodriguez for that gene...  2004     kerry\n",
       "65  I'm honored to be here today at your 126th Con...  2004     kerry\n",
       "66  I am honored to be here at New York University...  2004     kerry\n",
       "67  It's an honor to be here today at Temple Unive...  2004     kerry\n",
       "68  Good morning, I'm John Edwards.On Thursday nig...  2004     kerry\n",
       "69  Good morning. In the debate on Thursday night,...  2004     kerry\n",
       "70  May the words of my mouth and the meditations ...  2004     kerry\n",
       "71  Thank you, Governor Richardson for that great ...  2004     kerry\n",
       "72  Thank you. So did anyone catch the debate last...  2004     kerry\n",
       "73  It's great to be here today with all of you at...  2004     kerry\n",
       "74  Good morning, this is John Kerry.This past wee...  2004     kerry\n",
       "75  It's great to be here with all of you at Xenia...  2004     kerry\n",
       "76  Good afternoon and thank you. What a pleasure ...  2004     kerry\n",
       "77  We face a fundamental choice in this election ...  2004     kerry\n",
       "78  Thank you – it's great to be back in Wilkes-Ba...  2004     kerry\n",
       "79  Thank you for that kind introduction. It's an ...  2004     kerry\n",
       "80  Thank you, Dana, for an introduction that mean...  2004     kerry\n",
       "81  I want to thank Caroline Kennedy for coming he...  2004     kerry\n",
       "82  Good morning. This is John Kerry.Just last mon...  2004     kerry\n",
       "83  America has always been driven by one powerful...  2004     kerry\n",
       "84  Thank you Wisconsin. And thank you UWGB – it's...  2004     kerry\n",
       "85  Thank you Sioux City. It's great to be here at...  2004     kerry\n",
       "86  Thank you. It's great to be back in Orlando. F...  2004     kerry\n",
       "87  My fellow Americas, after the many long months...  2004     kerry\n",
       "88  Thank you. Thank you. Thank you so much. You j...  2004     kerry\n",
       "\n",
       "[89 rows x 3 columns]"
      ]
     },
     "execution_count": 559,
     "metadata": {},
     "output_type": "execute_result"
    }
   ],
   "source": [
    "df_kerry"
   ]
  },
  {
   "cell_type": "code",
   "execution_count": 529,
   "metadata": {
    "collapsed": true,
    "scrolled": true
   },
   "outputs": [],
   "source": [
    "df_obama = pd.DataFrame()\n",
    "\n",
    "speech = []\n",
    "for i in pids_obama:\n",
    "    res = requests.get(url_speech .format(i))\n",
    "    soup = BeautifulSoup(res.content, 'lxml')\n",
    "    rows = soup.find('span', {\"class\" : \"displaytext\"})\n",
    "    speech.append(rows.text)\n",
    "    time.sleep(2)\n",
    "    \n",
    "df_obama['speech'] = speech\n",
    "df_obama['year'] = 2008 \n",
    "df_obama['candidate'] = 'obama'"
   ]
  },
  {
   "cell_type": "code",
   "execution_count": 530,
   "metadata": {},
   "outputs": [
    {
     "data": {
      "text/plain": [
       "(89, 3)"
      ]
     },
     "execution_count": 530,
     "metadata": {},
     "output_type": "execute_result"
    }
   ],
   "source": [
    "df_kerry.shape"
   ]
  },
  {
   "cell_type": "code",
   "execution_count": 531,
   "metadata": {
    "collapsed": true
   },
   "outputs": [],
   "source": [
    "df_mccain = pd.DataFrame()\n",
    "\n",
    "speech = []\n",
    "for i in pids_mccain:\n",
    "    res = requests.get(url_speech .format(i))\n",
    "    soup = BeautifulSoup(res.content, 'lxml')\n",
    "    rows = soup.find('span', {\"class\" : \"displaytext\"})\n",
    "    speech.append(rows.text)\n",
    "    time.sleep(2)\n",
    "    \n",
    "df_mccain['speech'] = speech\n",
    "df_mccain['year'] = 2008 \n",
    "df_mccain['candidate'] = 'mccain'"
   ]
  },
  {
   "cell_type": "code",
   "execution_count": 532,
   "metadata": {},
   "outputs": [
    {
     "data": {
      "text/plain": [
       "((227, 3), (175, 3))"
      ]
     },
     "execution_count": 532,
     "metadata": {},
     "output_type": "execute_result"
    }
   ],
   "source": [
    "df_obama.shape, df_mccain.shape"
   ]
  },
  {
   "cell_type": "code",
   "execution_count": 533,
   "metadata": {
    "collapsed": true
   },
   "outputs": [],
   "source": [
    "df_obama_2 = pd.DataFrame()\n",
    "\n",
    "speech = []\n",
    "for i in pids_obama_2:\n",
    "    res = requests.get(url_speech .format(i))\n",
    "    soup = BeautifulSoup(res.content, 'lxml')\n",
    "    rows = soup.find('span', {\"class\" : \"displaytext\"})\n",
    "    speech.append(rows.text)\n",
    "    time.sleep(2)\n",
    "    \n",
    "df_obama_2['speech'] = speech\n",
    "df_obama_2['year'] = 2008 \n",
    "df_obama_2['candidate'] = 'obama'"
   ]
  },
  {
   "cell_type": "code",
   "execution_count": 535,
   "metadata": {
    "collapsed": true
   },
   "outputs": [],
   "source": [
    "df_romney = pd.DataFrame()\n",
    "\n",
    "speech = []\n",
    "for i in pids_romney:\n",
    "    res = requests.get(url_speech .format(i))\n",
    "    soup = BeautifulSoup(res.content, 'lxml')\n",
    "    rows = soup.find('span', {\"class\" : \"displaytext\"})\n",
    "    speech.append(rows.text)\n",
    "    time.sleep(2)\n",
    "    \n",
    "df_romney['speech'] = speech\n",
    "df_romney['year'] = 2008 \n",
    "df_romney['candidate'] = 'romney'"
   ]
  },
  {
   "cell_type": "code",
   "execution_count": 536,
   "metadata": {},
   "outputs": [
    {
     "data": {
      "text/plain": [
       "((104, 3), (101, 3))"
      ]
     },
     "execution_count": 536,
     "metadata": {},
     "output_type": "execute_result"
    }
   ],
   "source": [
    "df_obama_2.shape, df_romney.shape"
   ]
  },
  {
   "cell_type": "code",
   "execution_count": 537,
   "metadata": {
    "collapsed": true
   },
   "outputs": [],
   "source": [
    "df_clinton = pd.DataFrame()\n",
    "\n",
    "speech = []\n",
    "for i in pids_clinton:\n",
    "    res = requests.get(url_speech .format(i))\n",
    "    soup = BeautifulSoup(res.content, 'lxml')\n",
    "    rows = soup.find('span', {\"class\" : \"displaytext\"})\n",
    "    speech.append(rows.text)\n",
    "    time.sleep(2)\n",
    "    \n",
    "df_clinton['speech'] = speech\n",
    "df_clinton['year'] = 2008 \n",
    "df_clinton['candidate'] = 'clinton'"
   ]
  },
  {
   "cell_type": "code",
   "execution_count": 538,
   "metadata": {
    "collapsed": true
   },
   "outputs": [],
   "source": [
    "df_trump = pd.DataFrame()\n",
    "\n",
    "speech = []\n",
    "for i in pids_trump:\n",
    "    res = requests.get(url_speech .format(i))\n",
    "    soup = BeautifulSoup(res.content, 'lxml')\n",
    "    rows = soup.find('span', {\"class\" : \"displaytext\"})\n",
    "    speech.append(rows.text)\n",
    "    time.sleep(2)\n",
    "    \n",
    "df_trump['speech'] = speech\n",
    "df_trump['year'] = 2008 \n",
    "df_trump['candidate'] = 'trump'"
   ]
  },
  {
   "cell_type": "code",
   "execution_count": 539,
   "metadata": {},
   "outputs": [
    {
     "data": {
      "text/plain": [
       "((196, 3), (74, 3))"
      ]
     },
     "execution_count": 539,
     "metadata": {},
     "output_type": "execute_result"
    }
   ],
   "source": [
    "df_clinton.shape, df_trump.shape"
   ]
  },
  {
   "cell_type": "code",
   "execution_count": null,
   "metadata": {
    "collapsed": true
   },
   "outputs": [],
   "source": []
  },
  {
   "cell_type": "code",
   "execution_count": 540,
   "metadata": {
    "collapsed": true
   },
   "outputs": [],
   "source": [
    "bush_dates = ['bush_nov3', 'bush_oct29', 'bush_oct27', 'bush_oct26', 'bush_oct23', \n",
    "              'bush_oct22', 'bush_oct21', 'bush_oct20', 'bush_oct19', 'bush_oct18', \n",
    "              'bush_oct15', 'bush_oct14', 'bush_oct11', 'bush_oct6', 'bush_oct2', \n",
    "              'bush_sept23', 'bush_sept21', '09.23.04', '09.21.04', 'bush_sept17', \n",
    "              'bush_sept15', 'bush_sept14', 'bush_sept13', 'bush_sept13b', 'bush_sept10', \n",
    "              'bush_sept9', 'bush_sept6', 'bush_sept2', 'bush_aug28', 'bush_aug26', \n",
    "              'bush_aug18', 'bush_aug16', 'bush_aug6', 'bush_aug4', 'bush_aug3', \n",
    "              'bush_july30', 'bush_july30.1', 'bush_july23', 'bush_july21', 'bush_july20', \n",
    "              'bush_july14', 'bush_july9']"
   ]
  },
  {
   "cell_type": "code",
   "execution_count": 541,
   "metadata": {
    "collapsed": true
   },
   "outputs": [],
   "source": [
    "url_bush = 'http://www.presidentialrhetoric.com/campaign/speeches/{}.html'"
   ]
  },
  {
   "cell_type": "code",
   "execution_count": 542,
   "metadata": {},
   "outputs": [
    {
     "name": "stdout",
     "output_type": "stream",
     "text": [
      "nothing\n",
      "nothing\n",
      "nothing\n",
      "nothing\n"
     ]
    }
   ],
   "source": [
    "df_bush = pd.DataFrame()\n",
    "\n",
    "speech = []\n",
    "\n",
    "for i in bush_dates:\n",
    "    res = requests.get(url_bush .format(i))\n",
    "    soup = BeautifulSoup(res.content, 'lxml')\n",
    "    rows = soup.find('p', {\"align\" : \"left\", \"class\":\"style2\"})\n",
    "    try:\n",
    "        speech.append(rows.text)\n",
    "        time.sleep(2)\n",
    "    except:\n",
    "        print('nothing')"
   ]
  },
  {
   "cell_type": "code",
   "execution_count": 543,
   "metadata": {
    "collapsed": true
   },
   "outputs": [],
   "source": [
    "rows = soup.find_all('p')\n"
   ]
  },
  {
   "cell_type": "code",
   "execution_count": 546,
   "metadata": {
    "collapsed": true
   },
   "outputs": [],
   "source": [
    "df_bush['candidate'] = 'bush'\n",
    "df_bush['year'] = 2008 \n",
    "df_bush['speech'] = speech"
   ]
  },
  {
   "cell_type": "code",
   "execution_count": null,
   "metadata": {
    "collapsed": true
   },
   "outputs": [],
   "source": []
  },
  {
   "cell_type": "markdown",
   "metadata": {
    "collapsed": true
   },
   "source": [
    "To csv files"
   ]
  },
  {
   "cell_type": "code",
   "execution_count": 552,
   "metadata": {
    "collapsed": true
   },
   "outputs": [],
   "source": [
    "df_kerry.to_csv('./csv_files/speech_kerry', index=False)\n",
    "df_bush.to_csv('./csv_files/speech_bush', index=False)\n",
    "\n",
    "df_obama.to_csv('./csv_files/speech_obama', index=False)\n",
    "df_mccain.to_csv('./csv_files/speech_mccain', index=False)\n",
    "\n",
    "df_obama_2.to_csv('./csv_files/speech_obama_2', index=False)\n",
    "df_romney.to_csv('./csv_files/speech_romney', index=False)\n",
    "\n",
    "df_clinton.to_csv('./csv_files/speech_clinton', index=False)\n",
    "df_trump.to_csv('./csv_files/speech_trump', index=False)"
   ]
  }
 ],
 "metadata": {
  "kernelspec": {
   "display_name": "Python 3",
   "language": "python",
   "name": "python3"
  },
  "language_info": {
   "codemirror_mode": {
    "name": "ipython",
    "version": 3
   },
   "file_extension": ".py",
   "mimetype": "text/x-python",
   "name": "python",
   "nbconvert_exporter": "python",
   "pygments_lexer": "ipython3",
   "version": "3.6.1"
  }
 },
 "nbformat": 4,
 "nbformat_minor": 2
}
