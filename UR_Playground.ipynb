{
 "cells": [
  {
   "cell_type": "markdown",
   "metadata": {},
   "source": [
    "# Unemployment Rate Data Cleaning"
   ]
  },
  {
   "cell_type": "code",
   "execution_count": 1,
   "metadata": {
    "collapsed": true
   },
   "outputs": [],
   "source": [
    "import pandas as pd"
   ]
  },
  {
   "cell_type": "code",
   "execution_count": 2,
   "metadata": {
    "collapsed": true
   },
   "outputs": [],
   "source": [
    "# Load in data from excel turned csv files\n",
    "\n",
    "ur_2004 = pd.read_csv('./raw_csv_files/ur_2004.csv')\n",
    "ur_2008 = pd.read_csv('./raw_csv_files/ur_2008.csv')\n",
    "ur_2012 = pd.read_csv('./raw_csv_files/ur_2012.csv')\n",
    "ur_2016 = pd.read_csv('./raw_csv_files/ur_2016.csv')"
   ]
  },
  {
   "cell_type": "code",
   "execution_count": 3,
   "metadata": {},
   "outputs": [
    {
     "data": {
      "text/html": [
       "<div>\n",
       "<style>\n",
       "    .dataframe thead tr:only-child th {\n",
       "        text-align: right;\n",
       "    }\n",
       "\n",
       "    .dataframe thead th {\n",
       "        text-align: left;\n",
       "    }\n",
       "\n",
       "    .dataframe tbody tr th {\n",
       "        vertical-align: top;\n",
       "    }\n",
       "</style>\n",
       "<table border=\"1\" class=\"dataframe\">\n",
       "  <thead>\n",
       "    <tr style=\"text-align: right;\">\n",
       "      <th></th>\n",
       "      <th>county</th>\n",
       "      <th>rate</th>\n",
       "      <th>state</th>\n",
       "      <th>year</th>\n",
       "    </tr>\n",
       "  </thead>\n",
       "  <tbody>\n",
       "    <tr>\n",
       "      <th>0</th>\n",
       "      <td>Autauga County</td>\n",
       "      <td>4.5</td>\n",
       "      <td>Alabama</td>\n",
       "      <td>2004</td>\n",
       "    </tr>\n",
       "    <tr>\n",
       "      <th>1</th>\n",
       "      <td>Baldwin County</td>\n",
       "      <td>5.7</td>\n",
       "      <td>Alabama</td>\n",
       "      <td>2004</td>\n",
       "    </tr>\n",
       "    <tr>\n",
       "      <th>2</th>\n",
       "      <td>Barbour County</td>\n",
       "      <td>7.3</td>\n",
       "      <td>Alabama</td>\n",
       "      <td>2004</td>\n",
       "    </tr>\n",
       "    <tr>\n",
       "      <th>3</th>\n",
       "      <td>Bibb County</td>\n",
       "      <td>4.8</td>\n",
       "      <td>Alabama</td>\n",
       "      <td>2004</td>\n",
       "    </tr>\n",
       "    <tr>\n",
       "      <th>4</th>\n",
       "      <td>Blount County</td>\n",
       "      <td>3.8</td>\n",
       "      <td>Alabama</td>\n",
       "      <td>2004</td>\n",
       "    </tr>\n",
       "  </tbody>\n",
       "</table>\n",
       "</div>"
      ],
      "text/plain": [
       "           county  rate    state  year\n",
       "0  Autauga County   4.5  Alabama  2004\n",
       "1  Baldwin County   5.7  Alabama  2004\n",
       "2  Barbour County   7.3  Alabama  2004\n",
       "3     Bibb County   4.8  Alabama  2004\n",
       "4   Blount County   3.8  Alabama  2004"
      ]
     },
     "execution_count": 3,
     "metadata": {},
     "output_type": "execute_result"
    }
   ],
   "source": [
    "ur_2004.head()"
   ]
  },
  {
   "cell_type": "code",
   "execution_count": 4,
   "metadata": {
    "collapsed": true
   },
   "outputs": [],
   "source": [
    "ur_2004.county = ur_2004.county.map(lambda x: str(x)[:-7])\n",
    "ur_2008.county = ur_2008.county.map(lambda x: str(x)[:-7])\n",
    "ur_2012.county = ur_2012.county.map(lambda x: str(x)[:-7])\n",
    "ur_2016.county = ur_2016.county.map(lambda x: str(x)[:-7])"
   ]
  },
  {
   "cell_type": "code",
   "execution_count": 5,
   "metadata": {},
   "outputs": [
    {
     "data": {
      "text/plain": [
       "((3111, 4), (3111, 4), (3111, 4), (3111, 4))"
      ]
     },
     "execution_count": 5,
     "metadata": {},
     "output_type": "execute_result"
    }
   ],
   "source": [
    "ur_2004.shape, ur_2008.shape, ur_2012.shape, ur_2016.shape"
   ]
  },
  {
   "cell_type": "code",
   "execution_count": 6,
   "metadata": {
    "collapsed": true
   },
   "outputs": [],
   "source": [
    "def replace(df):\n",
    "    '''Function to replace every state name in dataset with it's abbreviation'''\n",
    "    \n",
    "    df.state = df.state.replace('Alabama', 'AL').replace('Arizona', 'AZ').replace('Arkansas', 'AR')\n",
    "    df.state = df.state.replace('California', 'CA').replace('Colorado', 'CO').replace('Connecticut', 'CT')\n",
    "    df.state = df.state.replace('Delaware', 'DE').replace('Hawaii', 'HI').replace('Idaho', 'ID')\n",
    "    df.state = df.state.replace('Illinois', 'IL').replace('Indiana', 'IN').replace('Iowa', 'IA')\n",
    "    df.state = df.state.replace('Kansas', 'KS').replace('Kentucky', 'KY').replace('Louisiana', 'LA')\n",
    "    df.state = df.state.replace('Maine', 'ME').replace('Maryland', 'MD').replace('Massachusetts', 'MA')\n",
    "    df.state = df.state.replace('Michigan', 'MI').replace('Minnesota', 'MN').replace('Mississippi', 'MS')\n",
    "    df.state = df.state.replace('Missouri', 'MO').replace('Montana', 'MT').replace('Nebraska', 'NE')\n",
    "    df.state = df.state.replace('Nevada', 'NV').replace('New Hampshire','NH').replace('New Jersey', 'NJ')\n",
    "    df.state = df.state.replace('New Mexico', 'NM').replace('New York', 'NY').replace('North Carolina','NC')\n",
    "    df.state = df.state.replace('North Dakota', 'ND').replace('Ohio', 'OH').replace('Oklahoma', 'OK')\n",
    "    df.state = df.state.replace('Oregon', 'OR').replace('Pennsylvania', 'PA').replace('Rhode Island', 'RI')\n",
    "    df.state = df.state.replace('South Carolina', 'SC').replace('South Dakota', 'SD').replace('Tennessee', 'TN')\n",
    "    df.state = df.state.replace('Texas', 'TX').replace('Utah', 'UT').replace('Vermont', 'VT')\n",
    "    df.state = df.state.replace('Virginia', 'VA').replace('Washington', 'WA').replace('West Virginia', 'WV')\n",
    "    df.state = df.state.replace('Wisconsin', 'WI').replace('Wyoming', 'WY')\n",
    "    return df"
   ]
  },
  {
   "cell_type": "code",
   "execution_count": 7,
   "metadata": {
    "collapsed": true
   },
   "outputs": [],
   "source": [
    "ur_2004 = replace(ur_2004)\n",
    "\n",
    "ur_2004.county = ur_2004.county + ', ' + ur_2004.state\n",
    "\n",
    "ur_2004.drop('state', axis=1, inplace=True)"
   ]
  },
  {
   "cell_type": "code",
   "execution_count": 8,
   "metadata": {
    "collapsed": true
   },
   "outputs": [],
   "source": [
    "ur_2008 = replace(ur_2008)\n",
    "\n",
    "ur_2008.county = ur_2008.county + ', ' + ur_2008.state\n",
    "\n",
    "ur_2008.drop('state', axis=1, inplace=True)"
   ]
  },
  {
   "cell_type": "code",
   "execution_count": 9,
   "metadata": {
    "collapsed": true
   },
   "outputs": [],
   "source": [
    "ur_2012 = replace(ur_2012)\n",
    "\n",
    "ur_2012.county = ur_2012.county + ', ' + ur_2012.state\n",
    "\n",
    "ur_2012.drop('state', axis=1, inplace=True)"
   ]
  },
  {
   "cell_type": "code",
   "execution_count": 10,
   "metadata": {
    "collapsed": true
   },
   "outputs": [],
   "source": [
    "ur_2016 = replace(ur_2016)\n",
    "\n",
    "ur_2016.county = ur_2016.county + ', ' + ur_2016.state\n",
    "\n",
    "ur_2016.drop('state', axis=1, inplace=True)"
   ]
  },
  {
   "cell_type": "code",
   "execution_count": 11,
   "metadata": {
    "collapsed": true
   },
   "outputs": [],
   "source": [
    "ur_2004.to_csv('./csv_files/ur_2004', index=False)"
   ]
  },
  {
   "cell_type": "code",
   "execution_count": 12,
   "metadata": {
    "collapsed": true
   },
   "outputs": [],
   "source": [
    "ur_2008.to_csv('./csv_files/ur_2008', index=False)"
   ]
  },
  {
   "cell_type": "code",
   "execution_count": 13,
   "metadata": {
    "collapsed": true
   },
   "outputs": [],
   "source": [
    "ur_2012.to_csv('./csv_files/ur_2012', index=False)"
   ]
  },
  {
   "cell_type": "code",
   "execution_count": 14,
   "metadata": {
    "collapsed": true
   },
   "outputs": [],
   "source": [
    "ur_2016.to_csv('./csv_files/ur_2016', index=False)"
   ]
  }
 ],
 "metadata": {
  "kernelspec": {
   "display_name": "Python 3",
   "language": "python",
   "name": "python3"
  },
  "language_info": {
   "codemirror_mode": {
    "name": "ipython",
    "version": 3
   },
   "file_extension": ".py",
   "mimetype": "text/x-python",
   "name": "python",
   "nbconvert_exporter": "python",
   "pygments_lexer": "ipython3",
   "version": "3.6.1"
  }
 },
 "nbformat": 4,
 "nbformat_minor": 2
}
