{
 "cells": [
  {
   "cell_type": "markdown",
   "metadata": {},
   "source": [
    "# October Unemployment Rate Data Cleaning"
   ]
  },
  {
   "cell_type": "code",
   "execution_count": 1,
   "metadata": {
    "collapsed": true
   },
   "outputs": [],
   "source": [
    "import pandas as pd\n",
    "\n",
    "from collections import Counter"
   ]
  },
  {
   "cell_type": "code",
   "execution_count": 2,
   "metadata": {
    "collapsed": true
   },
   "outputs": [],
   "source": [
    "pd.set_option(\"display.max_rows\", 4000)"
   ]
  },
  {
   "cell_type": "code",
   "execution_count": 3,
   "metadata": {
    "collapsed": true
   },
   "outputs": [],
   "source": [
    "ur_2004 = pd.read_csv('./raw_csv_files/oct_ur_2004.csv')\n",
    "ur_2008 = pd.read_csv('./raw_csv_files/oct_ur_2008.csv')\n",
    "ur_2012 = pd.read_csv('./raw_csv_files/oct_ur_2012.csv')\n",
    "ur_2016 = pd.read_csv('./raw_csv_files/oct_ur_2016.csv')"
   ]
  },
  {
   "cell_type": "code",
   "execution_count": 4,
   "metadata": {
    "collapsed": true
   },
   "outputs": [],
   "source": [
    "ur_2004.county = ur_2004.county.map(lambda x: str(x)[:-7] if str(x)[-3] == 'n' or str(x)[-1] == 'h' else str(x)[:-5]+ ' Co.')\n",
    "ur_2008.county = ur_2008.county.map(lambda x: str(x)[:-7] if str(x)[-3] == 'n' or str(x)[-1] == 'h' else str(x)[:-5]+ ' Co.')\n",
    "ur_2012.county = ur_2012.county.map(lambda x: str(x)[:-7] if str(x)[-3] == 'n' or str(x)[-1] == 'h' else str(x)[:-5]+ ' Co.')\n",
    "ur_2016.county = ur_2016.county.map(lambda x: str(x)[:-7] if str(x)[-3] == 'n' or str(x)[-1] == 'h' else str(x)[:-5]+ ' Co.')"
   ]
  },
  {
   "cell_type": "code",
   "execution_count": 5,
   "metadata": {},
   "outputs": [
    {
     "data": {
      "text/plain": [
       "((3111, 4), (3111, 4), (3111, 4), (3111, 4))"
      ]
     },
     "execution_count": 5,
     "metadata": {},
     "output_type": "execute_result"
    }
   ],
   "source": [
    "ur_2004.shape, ur_2008.shape, ur_2012.shape, ur_2016.shape"
   ]
  },
  {
   "cell_type": "code",
   "execution_count": 6,
   "metadata": {
    "collapsed": true
   },
   "outputs": [],
   "source": [
    "def replace(df):\n",
    "    '''Function to replace every state name in dataset with it's abbreviation'''\n",
    "    \n",
    "    df.state = df.state.replace('Alabama', 'AL').replace('Arizona', 'AZ').replace('Arkansas', 'AR')\n",
    "    df.state = df.state.replace('California', 'CA').replace('Colorado', 'CO').replace('Connecticut', 'CT')\n",
    "    df.state = df.state.replace('Delaware', 'DE').replace('Florida', 'FL').replace('Georgia', 'GA')\n",
    "    df.state = df.state.replace('Hawaii', 'HI').replace('Idaho', 'ID').replace('Illinois', 'IL')\n",
    "    df.state = df.state.replace('Indiana', 'IN').replace('Iowa', 'IA').replace('Kansas', 'KS')\n",
    "    df.state = df.state.replace('Kentucky', 'KY').replace('Louisiana', 'LA').replace('Maine', 'ME')\n",
    "    df.state = df.state.replace('Maryland', 'MD').replace('Massachusetts', 'MA').replace('Michigan', 'MI')\n",
    "    df.state = df.state.replace('Minnesota', 'MN').replace('Mississippi', 'MS').replace('Missouri', 'MO')\n",
    "    df.state = df.state.replace('Montana', 'MT').replace('Nebraska', 'NE').replace('Nevada', 'NV')\n",
    "    df.state = df.state.replace('New Hampshire','NH').replace('New Jersey', 'NJ').replace('New Mexico', 'NM')\n",
    "    df.state = df.state.replace('New York', 'NY').replace('North Carolina','NC').replace('North Dakota', 'ND')\n",
    "    df.state = df.state.replace('Ohio', 'OH').replace('Oklahoma', 'OK').replace('Oregon', 'OR')\n",
    "    df.state = df.state.replace('Pennsylvania', 'PA').replace('Rhode Island', 'RI').replace('South Carolina', 'SC')\n",
    "    df.state = df.state.replace('South Dakota', 'SD').replace('Tennessee', 'TN').replace('Texas', 'TX')\n",
    "    df.state = df.state.replace('Utah', 'UT').replace('Vermont', 'VT').replace('Virginia', 'VA')\n",
    "    df.state = df.state.replace('Washington', 'WA').replace('West Virginia', 'WV').replace('Wisconsin', 'WI')\n",
    "    df.state = df.state.replace('Wyoming', 'WY')\n",
    "    return df"
   ]
  },
  {
   "cell_type": "code",
   "execution_count": 7,
   "metadata": {
    "collapsed": true
   },
   "outputs": [],
   "source": [
    "ur_2004 = replace(ur_2004)\n",
    "\n",
    "ur_2004.county = ur_2004.county + ', ' + ur_2004.state\n",
    "\n",
    "ur_2004.drop('state', axis=1, inplace=True)"
   ]
  },
  {
   "cell_type": "code",
   "execution_count": 8,
   "metadata": {
    "collapsed": true
   },
   "outputs": [],
   "source": [
    "ur_2008 = replace(ur_2008)\n",
    "\n",
    "ur_2008.county = ur_2008.county + ', ' + ur_2008.state\n",
    "\n",
    "ur_2008.drop('state', axis=1, inplace=True)"
   ]
  },
  {
   "cell_type": "code",
   "execution_count": 9,
   "metadata": {
    "collapsed": true
   },
   "outputs": [],
   "source": [
    "ur_2012 = replace(ur_2012)\n",
    "\n",
    "ur_2012.county = ur_2012.county + ', ' + ur_2012.state\n",
    "\n",
    "ur_2012.drop('state', axis=1, inplace=True)"
   ]
  },
  {
   "cell_type": "code",
   "execution_count": 10,
   "metadata": {
    "collapsed": true
   },
   "outputs": [],
   "source": [
    "ur_2016 = replace(ur_2016)\n",
    "\n",
    "ur_2016.county = ur_2016.county + ', ' + ur_2016.state\n",
    "\n",
    "ur_2016.drop('state', axis=1, inplace=True)"
   ]
  },
  {
   "cell_type": "code",
   "execution_count": 11,
   "metadata": {},
   "outputs": [],
   "source": [
    "# Townhall distingushes cities that share a name with counties with a 'Co.', \n",
    "# and all other cites have only the city name.\n",
    "\n",
    "# Finds the cities and counties with the same name, creates a list of these duplicates.\n",
    "uni = []\n",
    "for count in ur_2004.county:\n",
    "    if count[-5] == '.':\n",
    "        x = count[:-8]+count[-4:]\n",
    "        uni.append(x)\n",
    "    else:\n",
    "        uni.append(count)\n",
    "\n",
    "# cities in this list keep Co. all others drop it\n",
    "\n",
    "repeted_counties = list({x for x in uni if uni.count(x) > 1})\n",
    "\n",
    "# removes the 'Co.' from all cities that don't have a count of the same name.\n",
    "\n",
    "new_county = []\n",
    "for count in ur_2004.county:\n",
    "    if 'Co.' in count:\n",
    "        if count[:-8] + count[-4:] not in repeted_counties:\n",
    "            new_county.append(count[:-8] + count[-4:])\n",
    "        elif count[:-8] + count[-4:] in repeted_counties:\n",
    "            new_county.append(count)\n",
    "    else:\n",
    "        new_county.append(count)\n",
    "new_county_2 = []            \n",
    "for count in new_county:\n",
    "    if 'Saint ' in count:\n",
    "        count = count.replace('Saint', 'St.')\n",
    "        new_county_2.append(count)\n",
    "    elif 'Dekalb' in count:\n",
    "        count = count.replace('Dekalb', 'DeKalb')\n",
    "        new_county_2.append(count)\n",
    "    elif 'Desoto' in count:\n",
    "        count = count.replace('Desoto', 'DeSoto')\n",
    "        new_county_2.append(count)\n",
    "    elif 'Lamoure' in count:\n",
    "        count = count.replace('Lamoure', 'LaMoure')\n",
    "        new_county_2.append(count)\n",
    "    elif 'Mc Kean' in count:\n",
    "        count = count.replace('Mc Kean', 'McKean')\n",
    "        new_county_2.append(count) \n",
    "    elif 'Du Page' in count:\n",
    "        count = count.replace('Du Page', 'DuPage')\n",
    "        new_county_2.append(count)\n",
    "    elif 'Dewitt' in count:\n",
    "        count = count.replace('Dewitt', 'DeWitt') \n",
    "        new_county_2.append(count)\n",
    "    elif 'Debaca' in count:\n",
    "        count = count.replace('Debaca', 'De Baca')\n",
    "        new_county_2.append(count)\n",
    "    elif 'Baltimore Co.' in count:\n",
    "        count = count.replace('Baltimore Co.', 'Baltimore City')\n",
    "        new_county_2.append(count)\n",
    "    elif count == 'Baltimore, MD':\n",
    "        count = count.replace('Baltimore, MD', 'Baltimore County, MD')\n",
    "        new_county_2.append(count) \n",
    "    elif count == 'Carson, NV':\n",
    "        count = count.replace('Carson, NV', 'Carson City, NV')\n",
    "        new_county_2.append(count)  \n",
    "    elif count == 'Shannon, SD':\n",
    "        count = count.replace('Shannon, SD', 'Oglala Lakota, SD')\n",
    "        new_county_2.append(count)   \n",
    "    else:\n",
    "        new_county_2.append(count)"
   ]
  },
  {
   "cell_type": "code",
   "execution_count": 12,
   "metadata": {},
   "outputs": [
    {
     "data": {
      "text/plain": [
       "(3111, 3111)"
      ]
     },
     "execution_count": 12,
     "metadata": {},
     "output_type": "execute_result"
    }
   ],
   "source": [
    "len(new_county), len(new_county_2)"
   ]
  },
  {
   "cell_type": "code",
   "execution_count": 13,
   "metadata": {},
   "outputs": [],
   "source": [
    "# replaces county names with the new list\n",
    "\n",
    "ur_2004.county = new_county_2\n",
    "\n",
    "ur_2008.county = new_county_2\n",
    "\n",
    "ur_2012.county = new_county_2\n",
    "\n",
    "ur_2016.county = new_county_2"
   ]
  },
  {
   "cell_type": "code",
   "execution_count": 14,
   "metadata": {},
   "outputs": [
    {
     "data": {
      "text/plain": [
       "3111"
      ]
     },
     "execution_count": 14,
     "metadata": {},
     "output_type": "execute_result"
    }
   ],
   "source": [
    "len(ur_2004.county.unique())"
   ]
  },
  {
   "cell_type": "code",
   "execution_count": 15,
   "metadata": {
    "collapsed": true
   },
   "outputs": [],
   "source": [
    "ur_2004.to_csv('./csv_files/oct_ur_2004', index=False)\n",
    "\n",
    "ur_2008.to_csv('./csv_files/oct_ur_2008', index=False)\n",
    "\n",
    "ur_2012.to_csv('./csv_files/oct_ur_2012', index=False)\n",
    "\n",
    "ur_2016.to_csv('./csv_files/oct_ur_2016', index=False)"
   ]
  },
  {
   "cell_type": "code",
   "execution_count": null,
   "metadata": {
    "collapsed": true
   },
   "outputs": [],
   "source": []
  }
 ],
 "metadata": {
  "kernelspec": {
   "display_name": "Python 3",
   "language": "python",
   "name": "python3"
  },
  "language_info": {
   "codemirror_mode": {
    "name": "ipython",
    "version": 3
   },
   "file_extension": ".py",
   "mimetype": "text/x-python",
   "name": "python",
   "nbconvert_exporter": "python",
   "pygments_lexer": "ipython3",
   "version": "3.6.1"
  }
 },
 "nbformat": 4,
 "nbformat_minor": 2
}
