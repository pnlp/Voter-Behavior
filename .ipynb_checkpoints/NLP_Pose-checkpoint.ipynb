{
 "cells": [
  {
   "cell_type": "markdown",
   "metadata": {},
   "source": [
    "# Natural Language Processing for Campaign Speeches"
   ]
  },
  {
   "cell_type": "markdown",
   "metadata": {},
   "source": [
    "This section analysis the election speechs of the presidential nominees from 2004 through 2016. The first section processes the speeches into a usable foramt and removes special characters and the candidates name from the speeches.\n",
    "- [Preprocessing](#section1)\n",
    "\n",
    "The second section predicts the party of the candidate that gaves the speech based of which words and the frequency in which they they appear. As well as the sentimentand and polarity analysis of each of the speeches.\n",
    "- [Modeling - Predicting Party](#section2)\n",
    "\n",
    "The third and forth sections show the most freequent words by party, and then by election.\n",
    "- [Most Frequent Words by Party](#section3)\n",
    "- [Most Frequent Words by Election](#section4)"
   ]
  },
  {
   "cell_type": "code",
   "execution_count": 470,
   "metadata": {},
   "outputs": [],
   "source": [
    "import pandas as pd\n",
    "import numpy as np\n",
    "import matplotlib.pyplot as plt\n",
    "import timeit\n",
    "import re\n",
    "from tqdm import *\n",
    "\n",
    "%matplotlib inline\n",
    "\n",
    "import spacy\n",
    "from textblob import TextBlob, Word\n",
    "\n",
    "from sklearn.feature_extraction.text import CountVectorizer, TfidfVectorizer\n",
    "from sklearn.decomposition import TruncatedSVD, LatentDirichletAllocation\n",
    "from sklearn.model_selection import train_test_split, GridSearchCV, cross_val_score\n",
    "from sklearn.preprocessing import normalize, StandardScaler\n",
    "from sklearn.linear_model import LogisticRegression\n",
    "from sklearn.ensemble import RandomForestClassifier\n",
    "from sklearn.svm import SVC\n",
    "from sklearn import metrics as m\n",
    "\n",
    "\n",
    "import tensorflow as tf\n",
    "from keras.utils import to_categorical\n",
    "\n",
    "\n",
    "\n",
    "from keras.models import Sequential\n",
    "from keras.layers import Dense, Dropout, Conv2D, MaxPool2D, Flatten\n",
    "from keras.wrappers.scikit_learn import KerasClassifier\n",
    "from keras.utils import to_categorical"
   ]
  },
  {
   "cell_type": "code",
   "execution_count": 471,
   "metadata": {
    "collapsed": true
   },
   "outputs": [],
   "source": [
    "# read in needed files\n",
    "df_kerry = pd.read_csv('./csv_files/speech_kerry')\n",
    "df_bush = pd.read_csv('./csv_files/speech_bush')\n",
    "df_obama = pd.read_csv('./csv_files/speech_obama')\n",
    "df_mccain = pd.read_csv('./csv_files/speech_mccain')\n",
    "df_obama_2 = pd.read_csv('./csv_files/speech_obama_2')\n",
    "df_romney = pd.read_csv('./csv_files/speech_romney')\n",
    "df_clinton = pd.read_csv('./csv_files/speech_clinton')\n",
    "df_trump = pd.read_csv('./csv_files/speech_trump')"
   ]
  },
  {
   "cell_type": "markdown",
   "metadata": {},
   "source": [
    "<a id='section1'></a>\n",
    "# Preprocessing"
   ]
  },
  {
   "cell_type": "code",
   "execution_count": 472,
   "metadata": {
    "collapsed": true
   },
   "outputs": [],
   "source": [
    "# Add features to indicate election year and party of candidate\n",
    "df_kerry['party'] = 1\n",
    "df_kerry['year'] = 2004\n",
    "df_bush['party'] = 0\n",
    "df_bush['year'] = 2004\n",
    "df_obama['party'] = 1\n",
    "df_obama['year'] = 2008\n",
    "df_mccain['party'] = 0\n",
    "df_mccain['year'] = 2008\n",
    "df_obama_2['party'] = 1\n",
    "df_obama_2['year'] = 2012\n",
    "df_romney['party'] = 0\n",
    "df_romney['year'] = 2012\n",
    "df_clinton['party'] = 1\n",
    "df_clinton['year'] = 2016\n",
    "df_trump['party'] = 0\n",
    "df_trump['year'] = 2016"
   ]
  },
  {
   "cell_type": "code",
   "execution_count": 473,
   "metadata": {
    "collapsed": true
   },
   "outputs": [],
   "source": [
    "# combine the speeches of all the candidates\n",
    "\n",
    "df = pd.concat([df_kerry, df_bush, df_obama, df_mccain, df_obama_2, df_romney, \n",
    "                df_clinton, df_trump], axis=0, ignore_index=True)"
   ]
  },
  {
   "cell_type": "code",
   "execution_count": 474,
   "metadata": {
    "scrolled": true
   },
   "outputs": [
    {
     "data": {
      "text/plain": [
       "(1004, 4)"
      ]
     },
     "execution_count": 474,
     "metadata": {},
     "output_type": "execute_result"
    }
   ],
   "source": [
    "df.reindex()\n",
    "df.shape"
   ]
  },
  {
   "cell_type": "markdown",
   "metadata": {},
   "source": [
    "Remove all special characters and names of candidates so predicting party is base on only content."
   ]
  },
  {
   "cell_type": "code",
   "execution_count": 487,
   "metadata": {
    "collapsed": true
   },
   "outputs": [],
   "source": [
    "df['speech'] = df['speech'].apply(lambda x: x.lower().replace(\"\\\\'\", \"'\"))\n",
    "df['speech'] = df['speech'].apply(lambda x: x.replace(\"\"\"'\"\"\", \"\"\"\"\"\"))\n",
    "df['speech'] = df['speech'].apply(lambda x: x.replace('''\"''', ''''''))\n",
    "df['speech'] = df['speech'].apply(lambda x: x.replace(\".\", \"\"))\n",
    "df['speech'] = df['speech'].apply(lambda x: x.replace(\",\", \"\"))\n",
    "df['speech'] = df['speech'].apply(lambda x: x.replace(\"-\", \"\"))\n",
    "df['speech'] = df['speech'].apply(lambda x: x.replace(\";\", \"\"))\n",
    "df['speech'] = df['speech'].apply(lambda x: x.replace(\":\", \"\"))\n",
    "df['speech'] = df['speech'].apply(lambda x: x.replace(\"going\", \"\"))\n",
    "df['speech'] = df['speech'].apply(lambda x: x.replace(\"kerry\", \"\"))\n",
    "df['speech'] = df['speech'].apply(lambda x: x.replace(\"john\", \"\"))\n",
    "df['speech'] = df['speech'].apply(lambda x: x.replace(\"bush\", \"\"))\n",
    "df['speech'] = df['speech'].apply(lambda x: x.replace(\"george\", \"\"))\n",
    "df['speech'] = df['speech'].apply(lambda x: x.replace(\"obama\", \"\"))\n",
    "df['speech'] = df['speech'].apply(lambda x: x.replace(\"barack\", \"\"))\n",
    "df['speech'] = df['speech'].apply(lambda x: x.replace(\"mccain\", \"\"))\n",
    "df['speech'] = df['speech'].apply(lambda x: x.replace(\"romeny\", \"\"))\n",
    "df['speech'] = df['speech'].apply(lambda x: x.replace(\"mitt\", \"\"))\n",
    "df['speech'] = df['speech'].apply(lambda x: x.replace(\"clinton\", \"\"))\n",
    "df['speech'] = df['speech'].apply(lambda x: x.replace(\"hillary\", \"\"))\n",
    "df['speech'] = df['speech'].apply(lambda x: x.replace(\"trump\", \"\"))\n",
    "df['speech'] = df['speech'].apply(lambda x: x.replace(\"donald\", \"\"))"
   ]
  },
  {
   "cell_type": "markdown",
   "metadata": {},
   "source": [
    "Create columns that show the subjectivity and polarity score of each speech"
   ]
  },
  {
   "cell_type": "code",
   "execution_count": 335,
   "metadata": {},
   "outputs": [
    {
     "name": "stdout",
     "output_type": "stream",
     "text": [
      "1 loop, best of 3: 41.9 s per loop\n"
     ]
    }
   ],
   "source": [
    "%%timeit\n",
    "\n",
    "subjectivity = []\n",
    "polarity = []\n",
    "for i in range(0, len(df.speech)):\n",
    "    sub = TextBlob(df.speech[i]).sentiment.subjectivity\n",
    "    subjectivity.append(sub)\n",
    "    \n",
    "    pol = TextBlob(df.speech[i]).sentiment.polarity\n",
    "    polarity.append(pol)\n",
    "\n",
    "df['subjectivity'] = subjectivity\n",
    "df['polarity'] = polarity"
   ]
  },
  {
   "cell_type": "markdown",
   "metadata": {},
   "source": [
    "Gets the stem of each word so that words with the same root registed in the model as the same word"
   ]
  },
  {
   "cell_type": "code",
   "execution_count": 8,
   "metadata": {},
   "outputs": [
    {
     "name": "stdout",
     "output_type": "stream",
     "text": [
      "1 loop, best of 3: 1min 35s per loop\n"
     ]
    }
   ],
   "source": [
    "%%timeit\n",
    "\n",
    "sp = []\n",
    "\n",
    "for speech in df.speech:\n",
    "    stem_list = []\n",
    "    speech_new = []\n",
    "    speech = speech.split()\n",
    "    for word in speech:\n",
    "        w = Word(word)\n",
    "        stem = w.stem()\n",
    "        stem_list.append(stem)\n",
    "    speech_new = ' '.join(stem_list)\n",
    "    sp.append(speech_new)\n",
    "\n",
    "# define a new column that holds the speeches with words in stem form. So that the speech columns remains intact.\n",
    "df['stems'] = sp"
   ]
  },
  {
   "cell_type": "markdown",
   "metadata": {},
   "source": [
    "<a id='section2'></a>\n",
    "# Modeling - Predicting Party"
   ]
  },
  {
   "cell_type": "markdown",
   "metadata": {},
   "source": [
    "- [Logistic Regression](#subsection1)\n",
    "- [Random Forest Classifier](#subsection2)\n",
    "- [Neural Network](#subsection3)"
   ]
  },
  {
   "cell_type": "markdown",
   "metadata": {},
   "source": [
    "<a id='subsection1'></a>\n",
    "## Logistic Regression"
   ]
  },
  {
   "cell_type": "code",
   "execution_count": 154,
   "metadata": {},
   "outputs": [
    {
     "name": "stdout",
     "output_type": "stream",
     "text": [
      "Train Accuracy Score 0.97150997151\n",
      "Cross Validated Accuracy Train Score 0.914527162978\n",
      "Test Accuracy Score 0.966887417219\n",
      "Cross Validated Accuracy Test Score 0.877540983607\n",
      "[[105   7]\n",
      " [  3 187]]\n",
      "             precision    recall  f1-score   support\n",
      "\n",
      "          0       0.97      0.94      0.95       112\n",
      "          1       0.96      0.98      0.97       190\n",
      "\n",
      "avg / total       0.97      0.97      0.97       302\n",
      "\n"
     ]
    }
   ],
   "source": [
    "# define the predictive features and the predicted columns\n",
    "\n",
    "X = df[['stems', 'subjectivity', 'polarity']]\n",
    "y = df.party\n",
    "\n",
    "X_train, X_test, y_train, y_test = train_test_split(X, y, test_size=.3, random_state=42)\n",
    "\n",
    "# initialize vectoizer\n",
    "tfidf = TfidfVectorizer(stop_words='english')\n",
    "\n",
    "# fit and transform training data\n",
    "tfidf.fit(X_train.stems)\n",
    "X_train_tf = tfidf.transform(X_train.stems)\n",
    "\n",
    "# turn into data frame and concat\n",
    "X_train_tf = pd.DataFrame(X_train_tf.todense())\n",
    "train_sub_pol = X_train[['subjectivity', 'polarity']].reset_index().drop(['index'], axis=1)\n",
    "X_train_tf = pd.concat([X_train_tf, train_sub_pol], axis=1)\n",
    "\n",
    "\n",
    "# test data\n",
    "X_test_tf = tfidf.transform(X_test.stems)\n",
    "X_test_tf = pd.DataFrame(X_test_tf.todense())\n",
    "test_sub_pol = X_test[['subjectivity', 'polarity']].reset_index().drop(['index'], axis=1)\n",
    "X_test_tf = pd.concat([X_test_tf, test_sub_pol], axis=1)\n",
    "\n",
    "\n",
    "# initialize and fit model\n",
    "logreg = LogisticRegression()\n",
    "logreg.fit(X_train_tf, y_train)\n",
    "train_predictions = logreg.predict(X_train_tf)\n",
    "\n",
    "print('Train Accuracy Score', logreg.score(X_train_tf, y_train))\n",
    "print('Cross Validated Accuracy Train Score', cross_val_score(logreg, X_train_tf, y_train, cv=5).mean())\n",
    "\n",
    "\n",
    "test_predictions = logreg.predict(X_test_tf)\n",
    "print('Test Accuracy Score', logreg.score(X_test_tf, y_test))\n",
    "print('Cross Validated Accuracy Test Score', cross_val_score(logreg, X_test_tf, y_test, cv=5).mean())\n",
    "print(m.confusion_matrix(y_test, test_predictions))\n",
    "print(m.classification_report(y_test, test_predictions))"
   ]
  },
  {
   "cell_type": "markdown",
   "metadata": {},
   "source": [
    "The Cross Validated Accuracy Score on the test data is 0.86\n",
    "\n",
    "This model is is 86% accurate when predicting the party on new data. \n",
    "The confusion martix shows that the model predicted that 3 speeches as Democratic but were actually Republican. \n",
    "It incorrectly predicted 7 speeches were Republican, that were actually Democratic."
   ]
  },
  {
   "cell_type": "markdown",
   "metadata": {},
   "source": [
    "<a id='subsection2'></a>\n",
    "## Random Forest Classifier"
   ]
  },
  {
   "cell_type": "markdown",
   "metadata": {},
   "source": [
    "This model uses Random Forest Classifier, an ensemble method with a base of Decision Tree. This model doesn't preform as well as the Logistic Regression so it is not included in the final report. "
   ]
  },
  {
   "cell_type": "code",
   "execution_count": 270,
   "metadata": {},
   "outputs": [
    {
     "ename": "ValueError",
     "evalue": "could not convert string to float: 'thank you all (applause) thank you all veri much (applause) thank you all for come pleas be seat (applause) thank you all thank for such a great welcom i appreci it it great to be in wilkesbarr pennsylvania it such an honor to be back here glad to be in a part of the world where peopl work hard they love their famili (applause) good to be in a part of the world where peopl like to hunt and fish (applause) my regret is that laura is not with me she is audienc awww the presid i know it (laughter) that gener the reaction (laughter) kind of like whi didnt you stay home and send laura (laughter) your not to believ thi it a true stori or kind of true (laughter) i said will you marri me? she said fine just so long as i never have to give a speech (laughter) i said okay you got a deal (laughter) fortun she didnt hold me to that promis laura when laura speak peopl see a compassion decent strong first ladi (applause)i had my morn brief today with someon your familiar with that would be your former governor tom ridg (applause) so laura send her best as doe tom ridgetoday i travel with don sherwood (applause) as we say in crawford he a good one he a great member of the unit state hous of repres proud to work with h he care deepli about the peopl of thi portant part of the state of pennsylvania he is a he is a fine repres who bring integr to the offic i appreci your servic (applause)i want to thank all the state and local offici who are here i want to thank the candid who are here i want to thank the grassroot activist who are here (applause) i want to thank you for what your to do which is to put up the sign make the phone call turn out the vote with your help there no doubt in my mind well carri pennsylvania (applause)i am sure mani of you stay up to watch the vice presidenti debat last night (applause) america saw two veri differ vision of our countri and two differ hairdo (laughter) i didnt pick my vice presid for hi hairdo i pick h for hi judgment hi experi (applause) a great vice presid proud to be run with h (applause)in less than a month youll have a chanc to vote for dick cheney and me think about that less than a month look forward to come down the stretch with a posit strong messag as your presid ive work to make america a more hope and more secur place ive led our countri with principl and resolv and that how ill lead our nation for four more year (applause)when i took when i took offic in 2001 the bubbl of the 90 had burst our economi wa head into a recess and becaus of the attack of septemb the 11th nearli a million job were lost in three month it wa a danger te for our economi peopl were warn of potenti deflat and depress but i act to stulat the economi i call on congress to pass histor tax relief which it did without my oppon ye vote (applause) the tax relief wa the fuel that got our economi grow again thank to the effort of our citizen and the right polici in the right place at the right te we put the recess behind us and america is creat job onc again (applause)w have built a broad and solid record of accomplish in the past year the unit state of america ha ad about 17 million new job (applause) more than germani japan great britain canada and franc combin (applause) real tax real aftertax incom that the money in your pocket to spend on groceri or hous payment and rent is up more than 10 percent sinc i took offic (applause) home ownership is at an allt high in america (applause) farm incom is up small busi are flourish the entrepreneuri spirit is strong in the unit state of america (applause)our is a record of accomplish thank to reform in educ math and read score are increas in our public school (applause) ten million student will get record level of grant and loan to help with colleg (applause) lowincom senior lowincom senior are get $600 extra to help pay for medicin thi year in their drug discount card and soon medicar will offer prescript drug coverag to everi senior in america (applause) we have made america a stronger more hope countri and were just get start (applause)listen i i like to travel our countri becaus i have a chanc to talk to our fellow citizen i understand the challeng face our nation peopl are live and work in a te of chang worker switch job more than they use to which mean they often need new skill and benefit they can take with them from job to job were in a chang world yet the system of govern havent chang run for four more year to chang the system of govern so peopl can better realiz the great dream of america (applause)mak sure peopl realiz those dream it essenti that our educ system work were to rais the standard and expect in everi high school well invest in our nation fine commun colleg so worker can be prepar to fill the job of the 21st centuri were to expand health save account so peopl can pay health expens with taxfre money and keep the save if they chang job were to prove social secur to allow younger worker to own a piec of their own retir a nest egg that the washington politician can never take away (applause)to keep thi economi strong and competit we must make sure america is the best place in the world to start a busi and to do busi (applause) to make sure america is the best place in the world to start a busi our tax must be low congress must make the tax relief we pass perman (applause) to keep job here there need to be less regul on our small busi (applause) to keep job here we must pass an energi plan that make us less depend on foreign sourc of energi (applause) to make sure job exist here in america we got to do someth about these junk and frivol lawsuit (applause) trial lawyer shouldnt be get rich at the expens of our entrepreneur and our doctor (applause)mi oppon and i have a veri differ view on how to grow our economi let me start with tax i have a record of reduc them he ha a record of rais themaudi booo!th presid he vote in the unit state senat to increas tax 98 tesaudi booo!th presid that a lot (laughter) he vote for higher tax on social secur benefitsaudi booo!th presid in 1997 he vote for the formula that help caus the increas in medicar premiumsaudi booo!th presid my oppon wa against all of our middl class tax relief he vote instead to squeez anoth $2000 per year from the averag middl class famili now the senat is propos higher tax on more than 900000 small busi owner my oppon is one of the few candid in histori to campaign on a pledg to rais tax (laughter) and that the kind of promis a politician from massachusett usual keep (laughter and applause)h say the tax increas is onli for the rich youv heard that kind of rhetor befor the rich hire lawyer and account for a reason to stick you with the tab the senat is not to tax you becaus were to win in novemb (applause)th senat and i have differ view on anoth threat to our economi frivol lawsuit he been a part of the washington crowd that ha obstruct legal reform again and again meanwhil all across america unfair lawsuit are hurt small busi lawsuit are drive up health care cost lawsuit are threaten ob/gyn all across our countri lawsuit are drive good doctor out of practic (applause) we need a presid who will stand up to the trial lawyer in washington not put one on the ticket (applause)th senat and i have veri differ view on health care ive got a specif plan to help american find health care that avail and afford lawsuit reform associ health care plan to help our small busi health save account commun health center to help the poor expand health care for lowincom children use technolog to drive down the cost of health careh ha a differ vision under hi health plan 8 million american would lose the privat insur they get at work and most would end up on a govern program under hi plan 8 out of 10 peopl who get new insur will get it from the feder govern my oppon propos would be the largest expans of governmentrun health care ever and when govern pay the bill govern make the rule hi plan would put bureaucrat in charg of dictat coverag which could ration care and lit your choic of doctor senat s propos would put us on the path to careaudi booo!th presid ill make sure doctor and patient are in charg of the decis in america health care (applause)th senat and i have differ view on govern spend over the year he vote 274 te to break the feder budget lit and in thi campaign senat ha announc more than $2 trillion in new spend and that a lot of money even for a senat from massachusett (laughter and applause) dure hi 20 year as a senat my oppon hasnt had mani accomplish of the hundr of bill he sube onli five becam law one of them wa ceremoni but to be fair he earn a special distinct in congress the nonpartisan nation journal analyz hi record and name the most liber member of the unit state senateaudi booo!th presid and when the competit includ ted kennedi that realli say someth (laughter and applause) tell you i know that bunch (laughter) it wasnt easi for my oppon to becom the singl most liber member of the senat you might even say it wa hard work (laughter and applause) but he earn that titl by vote for higher tax more regul more junk lawsuit and more govern control over your lifeand that set up a real differ in thi campaign my oppon is a taxandspend liber a compassion conserv (applause) my oppon my oppon want to empow govern i want to use govern to empow peopl (applause) my oppon seem to think all the wisdom is found in washington dc i trust the wisdom of the american peopl (applause)our differ are also clear on issu of nation secur when i took offic in 2001 threat to america had been gather for year then on one terribl morn the terrorist took more live than america lost at pearl harbor sinc that day we have wage a global campaign to protect the american peopl and bring our enemi to account our govern ha train over a half a million first respond we tripl spend on homeland secur law enforc and intellig have better tool to stop terrorist thank to the patriot act which senat vote for but now want to weaken the taliban rege that shelter al qaeda is gone from power and the peopl of afghanistan will vote in free elect thi veri week (applause)a black market network that provid weapon materi to north korea and libya and iran is now out of busi (applause) libya itself ha given up it weapon of mass destruct program (applause) we convinc pakistan and saudi arabia to join the fight against the terrorist and more than threequart of al qaeda key member and associ have been brought to justic (applause)aft septemb the 11th america had to assess everi potenti threat in a new light our nation awaken to an even greater danger the prospect that terrorist who kill thousand with hijack airplan would kill mani more with weapon of mass murder we had to take a hard look at everyplac where terrorist might get those weapon and one rege stood out the dictatorship of saddam husseinw knew the dictat had a histori of use weapon of mass destruct a long record of aggress and hatr for america he wa list by republican and democrat administr as a state sponsor of terrorist there wa a risk a real risk that saddam hussein would pass weapon or materi or inform to terrorist network in the world after septemb the 11th that wa a risk we could not afford to take (applause)aft 12 year of unit nation secur council resolut we gave h a final chanc to come clean and listen to the demand of the free world when he chose defianc and war our coalit enforc the just demand of the world and the world is better off with saddam hussein sit in a prison cell (applause)wev had mani victori in the war on terror and that war goe on our nation is safer but not yet safe to win thi war we must fight on everi front well stay on the offens against terrorist network strike them befor they come to america to hurt us well confront govern that support terrorist and could arm them becaus theyr equal guilti of terrorist murder (applause) and our longterm victori requir confront the ideolog of hate with freedom and hope (applause)our victori requir chang the condit that produc radic and suicid bomber and find new democrat alli in a troubl part of the region america is alway more secur when freedom is on the march and freedom is on the march in afghanistan and iraq and elsewher (applause) there will be good day and there will be bad day in the war on terror but everi day we will show our resolv and we will do our duti thi nation is determin we will stay in the fight until the fight is won (applause)mi oppon agre with all thi except when he doesnt (laughter) last week in our debat he onc again came down firmli on everi side of the iraq war (laughter) he state that saddam hussein wa a threat and that america had no busi remov that threat senat said our soldier and marin are not fight for a mistak but also call the liber of iraq a coloss error he said we need to do more to train iraqi but he also said we shouldnt be spend so much money over there he said he want to hold a summit meet so he can invit other countri to join what he call the wrong war in the wrong place at the wrong te (laughter and applause)h said terrorist are pour across the iraqi border but also said that fight those terrorist is a divers from the war on terror (laughter) you hear all that and you can understand whi somebodi would make a face (laughter and applause)mi oppon endless backandforth on iraq is part of a larger misunderstand in the war on terror senat is propos polici and doctrin that would weaken america and make the world more danger hi senat approach the world with a septemb the 10th mindset he declar in hi convent speech that ani attack will be met with a swift and certain respons that wa the mindset of the 1990 while al qaeda wa plan the attack on america after septemb the 11th our object in the war on terror is not to wait for the next attack and respond but to prevent attack by take the fight to the enemi (applause)in our debat senat said that remov saddam hussein wa a mistak becaus the threat wa not minent the problem with thi approach is obviou if america wait until a threat is at our doorstep it might be too late to save live (applause) tyrant and terrorist will not give us polit notic befor they launch an attack on our countri (applause) i refus to stand by while danger gather in the world after septemb the 11th the path to safeti is the path of action and i will continu to defend the peopl of the unit state of america (applause) thank you all thank you allmi oppon ha also announc the doctrin declar that american action in the war on terror must pass a global testaudi booo!th presid under thi test america would not be abl to act quickli against threat becaus wed be sit around wait for our grade from other nation and other leader (laughter)i have a differ view america will alway work with alli for secur and peac but the presid job is not to pass a global test the presid job is to protect the american peopl (applause) thank you allwhen my oppon first ran for congress he argu that american troop should be deploy onli at the direct of the unit nationsaudi booo!th presid now he chang hi mind (laughter) no he ha in all fair but it is a window into hi think over the year senat ha look for everi excus to constrain america action in the world these day he prais america broad coalit in the persian gulf war but in 1991 he critic those coalit member as shadow battlefield alli who bare carri a burden sound familiar at that te he vote against the war if that coalit didnt pass hi global test clearli noth will (laughter and applause) thi mindset would paralyz america in a danger world ill never hand over america secur decis to foreign leader and intern bodi that do not have america interest at heart (applause)mi oppon doctrin ha other consequ especi for our men and women in uniform my oppon support the intern crinal court which would allow unaccount foreign prosecutor and judg to put american soldier on trialaudi booo!th presid that would be a legal nightmar for our troop my fellow citizen as long as your presid american in uniform will answer to the offic and law of the unit state not to the intern crinal court in the hagueaudi four more years! four more years! four more years!th presid the senat speak often about hi plan to strengthen america allianc but he got an odd way of do it in the middl of the war he chosen to insult america fight alli by call them window dress and the coalit of the coerc and the bribe the italian who die in nasiriyah were not window dress they were hero in the war on terror (applause) the british and the pole at the head of the multin divis in iraq were not coerc or bribe they have fought and some have die in the caus of freedom these good alli and dozen of other deserv the respect of all american not the scorn of a politician (applause)instead the senat would have america bend over backward to satisfi a hand of govern with agenda differ from our own thi is my oppon alliancebuild strategi brush off your best friend fawn over your critic and that is no way to gain the respect of the world (applause)mi oppon say he ha a plan for iraq part of it should sound pretti familiar it alreadi known as the plan (laughter and applause) senat suggest we train iraqi troop which weve been do for month just thi week iraqi forc back by coalit troop fought brave to take the citi of samarra from the terrorist and baathist and insurg (applause) senat senat is propos that we have that iraq have elect (laughter) those elect are alreadi schedul for januari (laughter and applause) he want the un to be involv in those elect well the un is alreadi therether wa one element of the senat there one element of senat s plan that a new element he talk about artifici tetabl to pull our troop out of iraq he sent the signal that america overrid goal in iraq would be to leav even if the job isnt done that may satisfi hi polit need but it complic the essenti work were do in iraq (applause) the iraqi peopl the iraqi peopl need to know that america will not cut and run when their freedom is at stake (applause) our soldier and marin need to know that america will honor their servic and sacrific by complet the mission (applause) and our enemi in iraq need to know that they can never outlast the will of america (applause)sen assur us that he the one to win a war he call a mistak an error and a divers but you cant win a war you dont believ in fight (applause) in iraq senat ha a strategi of retreat i have a strategi of victori (applause) weve return sovereignti to the iraqi peopl ahead of schedul weve train about 100000 iraqi soldier polic offic and other secur personnel and that total will rise to 125000 by yearend weve alreadi alloc more than $7 billion for reconstruct effort so more iraqi can see the benefit of freedom were work with a coalit of some 30 nation to provid secur other nation are help with debt relief and reconstruct aid for iraqi and although the terrorist will tri to stop them iraq will hold free elect in januari becaus the iraqi peopl want and deserv to govern themselv (applause)i understand some american have strong concern about our role in iraq i respect the fact that they take thi issu serious becaus it is a seriou matter i assur them were in iraq becaus i deepli believ it is necessari and right and critic to the outcom of the war on terror if anoth terror rege were allow to emerg in iraq the terrorist would find a home a sourc of fund vital support they would correctli conclud that free nation do not have the will to defend themselv if iraq becom a free societi at the heart of the middl east an alli in the war on terror a model of hope reform in a region that need hope reform the terrorist will suffer a crush defeat and everi free nation will be more secur (applause)thi is whi democrat senat joe lieberman call iraq a crucial battl in the global war on terror thi is whi pre minist toni blair ha call the struggl in iraq the crucibl in which the futur of global terror will be determin thi is whi the terrorist are fight with desper cruelti they know their own futur is at stake iraq is no divers it is the place where civil is take a decis stand against chao and terror and we must not waver (applause)unfortun my oppon ha been known to waver (laughter) hi wellchosen word and ration cannot explain whi he vote to author forc against saddam hussein and then vote against money for bullet and vehicl and bodi armor for the troop on the ground he tri to clear it all up by say i actual did vote for the $87 billion befor i vote against it now he say he made a mistak in how he talk about the war the mistak here is not what senat said the mistak is what he did in vote against fund for american in combat (applause) that is the kind of waver a nation at war can never afforda a candid my oppon promis to defend america the problem is as a senat for two decad he ha built a record of weak the record show he twice led effort to gut our intellig servic budget the record show he vote against mani of the weapon that won the cold war and are vital to current militari oper and the record show he ha vote more than 50 te against missil defens system that would help protect us from the threat of a danger worldi have a record in offic as well and all american have seen that record on septemb the 14th 2001 i stood in the ruin of the twin tower it a day i will never forget there were worker in hard hat yell at me whatev it take i rememb tri to consol peopl come out of that rubbl and a guy grab me by the arm and he look me in the eye and said do not let me down these men and women (applause) the men and women there took it person you took it person i took it person i have a respons that goe on i wake up everi morn think about how to make our countri more secur i have act again and again to protect our peopl i will never relent in defend america whatev it take (applause)audi four more years! four more years! four more years!th presid twentyseven 27 day from today american will make a critic choic my oppon offer an agenda that is stuck in the think and the polici of the past on nation secur he offer the defens mindset of septemb the 10th a global test to replac american leadership a strategi of retreat in iraq and a 20year histori of weak in the unit state senat here at home he offer a record and an agenda of more tax and more spend and more litig and more govern control over your lifeth race for presid is a contest for the futur and you know where i stand run for presid to keep thi nation on the offens against terrorist with the goal of total victori run (applause) run for presid to keep thi economi move so everi worker ha a good job and qualiti health care and a secur retir (applause) run for presid to make our nation a more compassion societi where no one is left out where everi life mattersi have a hope vision i believ thi young centuri will be liberti centuri well promot liberti abroad protect our countri and build a better world beyond the war on terror well encourag liberti at home to spread the prosper and opportun of america to everi corner of our countri i will carri thi messag to my fellow citizen in the close day of thi campaign and with your help we will win a great victori on novemb the 2nd god bless god bless our great countri (applause)thank you all thank for come (applause)'",
     "output_type": "error",
     "traceback": [
      "\u001b[0;31m---------------------------------------------------------------------------\u001b[0m",
      "\u001b[0;31mValueError\u001b[0m                                Traceback (most recent call last)",
      "\u001b[0;32m<ipython-input-270-b31634f7ba9b>\u001b[0m in \u001b[0;36m<module>\u001b[0;34m()\u001b[0m\n\u001b[1;32m     19\u001b[0m \u001b[0;31m# standardize the data\u001b[0m\u001b[0;34m\u001b[0m\u001b[0;34m\u001b[0m\u001b[0m\n\u001b[1;32m     20\u001b[0m \u001b[0mss\u001b[0m \u001b[0;34m=\u001b[0m \u001b[0mStandardScaler\u001b[0m\u001b[0;34m(\u001b[0m\u001b[0;34m)\u001b[0m\u001b[0;34m\u001b[0m\u001b[0m\n\u001b[0;32m---> 21\u001b[0;31m \u001b[0mX_train\u001b[0m \u001b[0;34m=\u001b[0m \u001b[0mss\u001b[0m\u001b[0;34m.\u001b[0m\u001b[0mfit_transform\u001b[0m\u001b[0;34m(\u001b[0m\u001b[0mX_train\u001b[0m\u001b[0;34m)\u001b[0m\u001b[0;34m\u001b[0m\u001b[0m\n\u001b[0m\u001b[1;32m     22\u001b[0m \u001b[0;34m\u001b[0m\u001b[0m\n\u001b[1;32m     23\u001b[0m \u001b[0;34m\u001b[0m\u001b[0m\n",
      "\u001b[0;32m/Users/Penelope/anaconda3/lib/python3.6/site-packages/sklearn/base.py\u001b[0m in \u001b[0;36mfit_transform\u001b[0;34m(self, X, y, **fit_params)\u001b[0m\n\u001b[1;32m    516\u001b[0m         \u001b[0;32mif\u001b[0m \u001b[0my\u001b[0m \u001b[0;32mis\u001b[0m \u001b[0;32mNone\u001b[0m\u001b[0;34m:\u001b[0m\u001b[0;34m\u001b[0m\u001b[0m\n\u001b[1;32m    517\u001b[0m             \u001b[0;31m# fit method of arity 1 (unsupervised transformation)\u001b[0m\u001b[0;34m\u001b[0m\u001b[0;34m\u001b[0m\u001b[0m\n\u001b[0;32m--> 518\u001b[0;31m             \u001b[0;32mreturn\u001b[0m \u001b[0mself\u001b[0m\u001b[0;34m.\u001b[0m\u001b[0mfit\u001b[0m\u001b[0;34m(\u001b[0m\u001b[0mX\u001b[0m\u001b[0;34m,\u001b[0m \u001b[0;34m**\u001b[0m\u001b[0mfit_params\u001b[0m\u001b[0;34m)\u001b[0m\u001b[0;34m.\u001b[0m\u001b[0mtransform\u001b[0m\u001b[0;34m(\u001b[0m\u001b[0mX\u001b[0m\u001b[0;34m)\u001b[0m\u001b[0;34m\u001b[0m\u001b[0m\n\u001b[0m\u001b[1;32m    519\u001b[0m         \u001b[0;32melse\u001b[0m\u001b[0;34m:\u001b[0m\u001b[0;34m\u001b[0m\u001b[0m\n\u001b[1;32m    520\u001b[0m             \u001b[0;31m# fit method of arity 2 (supervised transformation)\u001b[0m\u001b[0;34m\u001b[0m\u001b[0;34m\u001b[0m\u001b[0m\n",
      "\u001b[0;32m/Users/Penelope/anaconda3/lib/python3.6/site-packages/sklearn/preprocessing/data.py\u001b[0m in \u001b[0;36mfit\u001b[0;34m(self, X, y)\u001b[0m\n\u001b[1;32m    588\u001b[0m         \u001b[0;31m# Reset internal state before fitting\u001b[0m\u001b[0;34m\u001b[0m\u001b[0;34m\u001b[0m\u001b[0m\n\u001b[1;32m    589\u001b[0m         \u001b[0mself\u001b[0m\u001b[0;34m.\u001b[0m\u001b[0m_reset\u001b[0m\u001b[0;34m(\u001b[0m\u001b[0;34m)\u001b[0m\u001b[0;34m\u001b[0m\u001b[0m\n\u001b[0;32m--> 590\u001b[0;31m         \u001b[0;32mreturn\u001b[0m \u001b[0mself\u001b[0m\u001b[0;34m.\u001b[0m\u001b[0mpartial_fit\u001b[0m\u001b[0;34m(\u001b[0m\u001b[0mX\u001b[0m\u001b[0;34m,\u001b[0m \u001b[0my\u001b[0m\u001b[0;34m)\u001b[0m\u001b[0;34m\u001b[0m\u001b[0m\n\u001b[0m\u001b[1;32m    591\u001b[0m \u001b[0;34m\u001b[0m\u001b[0m\n\u001b[1;32m    592\u001b[0m     \u001b[0;32mdef\u001b[0m \u001b[0mpartial_fit\u001b[0m\u001b[0;34m(\u001b[0m\u001b[0mself\u001b[0m\u001b[0;34m,\u001b[0m \u001b[0mX\u001b[0m\u001b[0;34m,\u001b[0m \u001b[0my\u001b[0m\u001b[0;34m=\u001b[0m\u001b[0;32mNone\u001b[0m\u001b[0;34m)\u001b[0m\u001b[0;34m:\u001b[0m\u001b[0;34m\u001b[0m\u001b[0m\n",
      "\u001b[0;32m/Users/Penelope/anaconda3/lib/python3.6/site-packages/sklearn/preprocessing/data.py\u001b[0m in \u001b[0;36mpartial_fit\u001b[0;34m(self, X, y)\u001b[0m\n\u001b[1;32m    610\u001b[0m         \"\"\"\n\u001b[1;32m    611\u001b[0m         X = check_array(X, accept_sparse=('csr', 'csc'), copy=self.copy,\n\u001b[0;32m--> 612\u001b[0;31m                         warn_on_dtype=True, estimator=self, dtype=FLOAT_DTYPES)\n\u001b[0m\u001b[1;32m    613\u001b[0m \u001b[0;34m\u001b[0m\u001b[0m\n\u001b[1;32m    614\u001b[0m         \u001b[0;31m# Even in the case of `with_mean=False`, we update the mean anyway\u001b[0m\u001b[0;34m\u001b[0m\u001b[0;34m\u001b[0m\u001b[0m\n",
      "\u001b[0;32m/Users/Penelope/anaconda3/lib/python3.6/site-packages/sklearn/utils/validation.py\u001b[0m in \u001b[0;36mcheck_array\u001b[0;34m(array, accept_sparse, dtype, order, copy, force_all_finite, ensure_2d, allow_nd, ensure_min_samples, ensure_min_features, warn_on_dtype, estimator)\u001b[0m\n\u001b[1;32m    400\u001b[0m                                       force_all_finite)\n\u001b[1;32m    401\u001b[0m     \u001b[0;32melse\u001b[0m\u001b[0;34m:\u001b[0m\u001b[0;34m\u001b[0m\u001b[0m\n\u001b[0;32m--> 402\u001b[0;31m         \u001b[0marray\u001b[0m \u001b[0;34m=\u001b[0m \u001b[0mnp\u001b[0m\u001b[0;34m.\u001b[0m\u001b[0marray\u001b[0m\u001b[0;34m(\u001b[0m\u001b[0marray\u001b[0m\u001b[0;34m,\u001b[0m \u001b[0mdtype\u001b[0m\u001b[0;34m=\u001b[0m\u001b[0mdtype\u001b[0m\u001b[0;34m,\u001b[0m \u001b[0morder\u001b[0m\u001b[0;34m=\u001b[0m\u001b[0morder\u001b[0m\u001b[0;34m,\u001b[0m \u001b[0mcopy\u001b[0m\u001b[0;34m=\u001b[0m\u001b[0mcopy\u001b[0m\u001b[0;34m)\u001b[0m\u001b[0;34m\u001b[0m\u001b[0m\n\u001b[0m\u001b[1;32m    403\u001b[0m \u001b[0;34m\u001b[0m\u001b[0m\n\u001b[1;32m    404\u001b[0m         \u001b[0;32mif\u001b[0m \u001b[0mensure_2d\u001b[0m\u001b[0;34m:\u001b[0m\u001b[0;34m\u001b[0m\u001b[0m\n",
      "\u001b[0;31mValueError\u001b[0m: could not convert string to float: 'thank you all (applause) thank you all veri much (applause) thank you all for come pleas be seat (applause) thank you all thank for such a great welcom i appreci it it great to be in wilkesbarr pennsylvania it such an honor to be back here glad to be in a part of the world where peopl work hard they love their famili (applause) good to be in a part of the world where peopl like to hunt and fish (applause) my regret is that laura is not with me she is audienc awww the presid i know it (laughter) that gener the reaction (laughter) kind of like whi didnt you stay home and send laura (laughter) your not to believ thi it a true stori or kind of true (laughter) i said will you marri me? she said fine just so long as i never have to give a speech (laughter) i said okay you got a deal (laughter) fortun she didnt hold me to that promis laura when laura speak peopl see a compassion decent strong first ladi (applause)i had my morn brief today with someon your familiar with that would be your former governor tom ridg (applause) so laura send her best as doe tom ridgetoday i travel with don sherwood (applause) as we say in crawford he a good one he a great member of the unit state hous of repres proud to work with h he care deepli about the peopl of thi portant part of the state of pennsylvania he is a he is a fine repres who bring integr to the offic i appreci your servic (applause)i want to thank all the state and local offici who are here i want to thank the candid who are here i want to thank the grassroot activist who are here (applause) i want to thank you for what your to do which is to put up the sign make the phone call turn out the vote with your help there no doubt in my mind well carri pennsylvania (applause)i am sure mani of you stay up to watch the vice presidenti debat last night (applause) america saw two veri differ vision of our countri and two differ hairdo (laughter) i didnt pick my vice presid for hi hairdo i pick h for hi judgment hi experi (applause) a great vice presid proud to be run with h (applause)in less than a month youll have a chanc to vote for dick cheney and me think about that less than a month look forward to come down the stretch with a posit strong messag as your presid ive work to make america a more hope and more secur place ive led our countri with principl and resolv and that how ill lead our nation for four more year (applause)when i took when i took offic in 2001 the bubbl of the 90 had burst our economi wa head into a recess and becaus of the attack of septemb the 11th nearli a million job were lost in three month it wa a danger te for our economi peopl were warn of potenti deflat and depress but i act to stulat the economi i call on congress to pass histor tax relief which it did without my oppon ye vote (applause) the tax relief wa the fuel that got our economi grow again thank to the effort of our citizen and the right polici in the right place at the right te we put the recess behind us and america is creat job onc again (applause)w have built a broad and solid record of accomplish in the past year the unit state of america ha ad about 17 million new job (applause) more than germani japan great britain canada and franc combin (applause) real tax real aftertax incom that the money in your pocket to spend on groceri or hous payment and rent is up more than 10 percent sinc i took offic (applause) home ownership is at an allt high in america (applause) farm incom is up small busi are flourish the entrepreneuri spirit is strong in the unit state of america (applause)our is a record of accomplish thank to reform in educ math and read score are increas in our public school (applause) ten million student will get record level of grant and loan to help with colleg (applause) lowincom senior lowincom senior are get $600 extra to help pay for medicin thi year in their drug discount card and soon medicar will offer prescript drug coverag to everi senior in america (applause) we have made america a stronger more hope countri and were just get start (applause)listen i i like to travel our countri becaus i have a chanc to talk to our fellow citizen i understand the challeng face our nation peopl are live and work in a te of chang worker switch job more than they use to which mean they often need new skill and benefit they can take with them from job to job were in a chang world yet the system of govern havent chang run for four more year to chang the system of govern so peopl can better realiz the great dream of america (applause)mak sure peopl realiz those dream it essenti that our educ system work were to rais the standard and expect in everi high school well invest in our nation fine commun colleg so worker can be prepar to fill the job of the 21st centuri were to expand health save account so peopl can pay health expens with taxfre money and keep the save if they chang job were to prove social secur to allow younger worker to own a piec of their own retir a nest egg that the washington politician can never take away (applause)to keep thi economi strong and competit we must make sure america is the best place in the world to start a busi and to do busi (applause) to make sure america is the best place in the world to start a busi our tax must be low congress must make the tax relief we pass perman (applause) to keep job here there need to be less regul on our small busi (applause) to keep job here we must pass an energi plan that make us less depend on foreign sourc of energi (applause) to make sure job exist here in america we got to do someth about these junk and frivol lawsuit (applause) trial lawyer shouldnt be get rich at the expens of our entrepreneur and our doctor (applause)mi oppon and i have a veri differ view on how to grow our economi let me start with tax i have a record of reduc them he ha a record of rais themaudi booo!th presid he vote in the unit state senat to increas tax 98 tesaudi booo!th presid that a lot (laughter) he vote for higher tax on social secur benefitsaudi booo!th presid in 1997 he vote for the formula that help caus the increas in medicar premiumsaudi booo!th presid my oppon wa against all of our middl class tax relief he vote instead to squeez anoth $2000 per year from the averag middl class famili now the senat is propos higher tax on more than 900000 small busi owner my oppon is one of the few candid in histori to campaign on a pledg to rais tax (laughter) and that the kind of promis a politician from massachusett usual keep (laughter and applause)h say the tax increas is onli for the rich youv heard that kind of rhetor befor the rich hire lawyer and account for a reason to stick you with the tab the senat is not to tax you becaus were to win in novemb (applause)th senat and i have differ view on anoth threat to our economi frivol lawsuit he been a part of the washington crowd that ha obstruct legal reform again and again meanwhil all across america unfair lawsuit are hurt small busi lawsuit are drive up health care cost lawsuit are threaten ob/gyn all across our countri lawsuit are drive good doctor out of practic (applause) we need a presid who will stand up to the trial lawyer in washington not put one on the ticket (applause)th senat and i have veri differ view on health care ive got a specif plan to help american find health care that avail and afford lawsuit reform associ health care plan to help our small busi health save account commun health center to help the poor expand health care for lowincom children use technolog to drive down the cost of health careh ha a differ vision under hi health plan 8 million american would lose the privat insur they get at work and most would end up on a govern program under hi plan 8 out of 10 peopl who get new insur will get it from the feder govern my oppon propos would be the largest expans of governmentrun health care ever and when govern pay the bill govern make the rule hi plan would put bureaucrat in charg of dictat coverag which could ration care and lit your choic of doctor senat s propos would put us on the path to careaudi booo!th presid ill make sure doctor and patient are in charg of the decis in america health care (applause)th senat and i have differ view on govern spend over the year he vote 274 te to break the feder budget lit and in thi campaign senat ha announc more than $2 trillion in new spend and that a lot of money even for a senat from massachusett (laughter and applause) dure hi 20 year as a senat my oppon hasnt had mani accomplish of the hundr of bill he sube onli five becam law one of them wa ceremoni but to be fair he earn a special distinct in congress the nonpartisan nation journal analyz hi record and name the most liber member of the unit state senateaudi booo!th presid and when the competit includ ted kennedi that realli say someth (laughter and applause) tell you i know that bunch (laughter) it wasnt easi for my oppon to becom the singl most liber member of the senat you might even say it wa hard work (laughter and applause) but he earn that titl by vote for higher tax more regul more junk lawsuit and more govern control over your lifeand that set up a real differ in thi campaign my oppon is a taxandspend liber a compassion conserv (applause) my oppon my oppon want to empow govern i want to use govern to empow peopl (applause) my oppon seem to think all the wisdom is found in washington dc i trust the wisdom of the american peopl (applause)our differ are also clear on issu of nation secur when i took offic in 2001 threat to america had been gather for year then on one terribl morn the terrorist took more live than america lost at pearl harbor sinc that day we have wage a global campaign to protect the american peopl and bring our enemi to account our govern ha train over a half a million first respond we tripl spend on homeland secur law enforc and intellig have better tool to stop terrorist thank to the patriot act which senat vote for but now want to weaken the taliban rege that shelter al qaeda is gone from power and the peopl of afghanistan will vote in free elect thi veri week (applause)a black market network that provid weapon materi to north korea and libya and iran is now out of busi (applause) libya itself ha given up it weapon of mass destruct program (applause) we convinc pakistan and saudi arabia to join the fight against the terrorist and more than threequart of al qaeda key member and associ have been brought to justic (applause)aft septemb the 11th america had to assess everi potenti threat in a new light our nation awaken to an even greater danger the prospect that terrorist who kill thousand with hijack airplan would kill mani more with weapon of mass murder we had to take a hard look at everyplac where terrorist might get those weapon and one rege stood out the dictatorship of saddam husseinw knew the dictat had a histori of use weapon of mass destruct a long record of aggress and hatr for america he wa list by republican and democrat administr as a state sponsor of terrorist there wa a risk a real risk that saddam hussein would pass weapon or materi or inform to terrorist network in the world after septemb the 11th that wa a risk we could not afford to take (applause)aft 12 year of unit nation secur council resolut we gave h a final chanc to come clean and listen to the demand of the free world when he chose defianc and war our coalit enforc the just demand of the world and the world is better off with saddam hussein sit in a prison cell (applause)wev had mani victori in the war on terror and that war goe on our nation is safer but not yet safe to win thi war we must fight on everi front well stay on the offens against terrorist network strike them befor they come to america to hurt us well confront govern that support terrorist and could arm them becaus theyr equal guilti of terrorist murder (applause) and our longterm victori requir confront the ideolog of hate with freedom and hope (applause)our victori requir chang the condit that produc radic and suicid bomber and find new democrat alli in a troubl part of the region america is alway more secur when freedom is on the march and freedom is on the march in afghanistan and iraq and elsewher (applause) there will be good day and there will be bad day in the war on terror but everi day we will show our resolv and we will do our duti thi nation is determin we will stay in the fight until the fight is won (applause)mi oppon agre with all thi except when he doesnt (laughter) last week in our debat he onc again came down firmli on everi side of the iraq war (laughter) he state that saddam hussein wa a threat and that america had no busi remov that threat senat said our soldier and marin are not fight for a mistak but also call the liber of iraq a coloss error he said we need to do more to train iraqi but he also said we shouldnt be spend so much money over there he said he want to hold a summit meet so he can invit other countri to join what he call the wrong war in the wrong place at the wrong te (laughter and applause)h said terrorist are pour across the iraqi border but also said that fight those terrorist is a divers from the war on terror (laughter) you hear all that and you can understand whi somebodi would make a face (laughter and applause)mi oppon endless backandforth on iraq is part of a larger misunderstand in the war on terror senat is propos polici and doctrin that would weaken america and make the world more danger hi senat approach the world with a septemb the 10th mindset he declar in hi convent speech that ani attack will be met with a swift and certain respons that wa the mindset of the 1990 while al qaeda wa plan the attack on america after septemb the 11th our object in the war on terror is not to wait for the next attack and respond but to prevent attack by take the fight to the enemi (applause)in our debat senat said that remov saddam hussein wa a mistak becaus the threat wa not minent the problem with thi approach is obviou if america wait until a threat is at our doorstep it might be too late to save live (applause) tyrant and terrorist will not give us polit notic befor they launch an attack on our countri (applause) i refus to stand by while danger gather in the world after septemb the 11th the path to safeti is the path of action and i will continu to defend the peopl of the unit state of america (applause) thank you all thank you allmi oppon ha also announc the doctrin declar that american action in the war on terror must pass a global testaudi booo!th presid under thi test america would not be abl to act quickli against threat becaus wed be sit around wait for our grade from other nation and other leader (laughter)i have a differ view america will alway work with alli for secur and peac but the presid job is not to pass a global test the presid job is to protect the american peopl (applause) thank you allwhen my oppon first ran for congress he argu that american troop should be deploy onli at the direct of the unit nationsaudi booo!th presid now he chang hi mind (laughter) no he ha in all fair but it is a window into hi think over the year senat ha look for everi excus to constrain america action in the world these day he prais america broad coalit in the persian gulf war but in 1991 he critic those coalit member as shadow battlefield alli who bare carri a burden sound familiar at that te he vote against the war if that coalit didnt pass hi global test clearli noth will (laughter and applause) thi mindset would paralyz america in a danger world ill never hand over america secur decis to foreign leader and intern bodi that do not have america interest at heart (applause)mi oppon doctrin ha other consequ especi for our men and women in uniform my oppon support the intern crinal court which would allow unaccount foreign prosecutor and judg to put american soldier on trialaudi booo!th presid that would be a legal nightmar for our troop my fellow citizen as long as your presid american in uniform will answer to the offic and law of the unit state not to the intern crinal court in the hagueaudi four more years! four more years! four more years!th presid the senat speak often about hi plan to strengthen america allianc but he got an odd way of do it in the middl of the war he chosen to insult america fight alli by call them window dress and the coalit of the coerc and the bribe the italian who die in nasiriyah were not window dress they were hero in the war on terror (applause) the british and the pole at the head of the multin divis in iraq were not coerc or bribe they have fought and some have die in the caus of freedom these good alli and dozen of other deserv the respect of all american not the scorn of a politician (applause)instead the senat would have america bend over backward to satisfi a hand of govern with agenda differ from our own thi is my oppon alliancebuild strategi brush off your best friend fawn over your critic and that is no way to gain the respect of the world (applause)mi oppon say he ha a plan for iraq part of it should sound pretti familiar it alreadi known as the plan (laughter and applause) senat suggest we train iraqi troop which weve been do for month just thi week iraqi forc back by coalit troop fought brave to take the citi of samarra from the terrorist and baathist and insurg (applause) senat senat is propos that we have that iraq have elect (laughter) those elect are alreadi schedul for januari (laughter and applause) he want the un to be involv in those elect well the un is alreadi therether wa one element of the senat there one element of senat s plan that a new element he talk about artifici tetabl to pull our troop out of iraq he sent the signal that america overrid goal in iraq would be to leav even if the job isnt done that may satisfi hi polit need but it complic the essenti work were do in iraq (applause) the iraqi peopl the iraqi peopl need to know that america will not cut and run when their freedom is at stake (applause) our soldier and marin need to know that america will honor their servic and sacrific by complet the mission (applause) and our enemi in iraq need to know that they can never outlast the will of america (applause)sen assur us that he the one to win a war he call a mistak an error and a divers but you cant win a war you dont believ in fight (applause) in iraq senat ha a strategi of retreat i have a strategi of victori (applause) weve return sovereignti to the iraqi peopl ahead of schedul weve train about 100000 iraqi soldier polic offic and other secur personnel and that total will rise to 125000 by yearend weve alreadi alloc more than $7 billion for reconstruct effort so more iraqi can see the benefit of freedom were work with a coalit of some 30 nation to provid secur other nation are help with debt relief and reconstruct aid for iraqi and although the terrorist will tri to stop them iraq will hold free elect in januari becaus the iraqi peopl want and deserv to govern themselv (applause)i understand some american have strong concern about our role in iraq i respect the fact that they take thi issu serious becaus it is a seriou matter i assur them were in iraq becaus i deepli believ it is necessari and right and critic to the outcom of the war on terror if anoth terror rege were allow to emerg in iraq the terrorist would find a home a sourc of fund vital support they would correctli conclud that free nation do not have the will to defend themselv if iraq becom a free societi at the heart of the middl east an alli in the war on terror a model of hope reform in a region that need hope reform the terrorist will suffer a crush defeat and everi free nation will be more secur (applause)thi is whi democrat senat joe lieberman call iraq a crucial battl in the global war on terror thi is whi pre minist toni blair ha call the struggl in iraq the crucibl in which the futur of global terror will be determin thi is whi the terrorist are fight with desper cruelti they know their own futur is at stake iraq is no divers it is the place where civil is take a decis stand against chao and terror and we must not waver (applause)unfortun my oppon ha been known to waver (laughter) hi wellchosen word and ration cannot explain whi he vote to author forc against saddam hussein and then vote against money for bullet and vehicl and bodi armor for the troop on the ground he tri to clear it all up by say i actual did vote for the $87 billion befor i vote against it now he say he made a mistak in how he talk about the war the mistak here is not what senat said the mistak is what he did in vote against fund for american in combat (applause) that is the kind of waver a nation at war can never afforda a candid my oppon promis to defend america the problem is as a senat for two decad he ha built a record of weak the record show he twice led effort to gut our intellig servic budget the record show he vote against mani of the weapon that won the cold war and are vital to current militari oper and the record show he ha vote more than 50 te against missil defens system that would help protect us from the threat of a danger worldi have a record in offic as well and all american have seen that record on septemb the 14th 2001 i stood in the ruin of the twin tower it a day i will never forget there were worker in hard hat yell at me whatev it take i rememb tri to consol peopl come out of that rubbl and a guy grab me by the arm and he look me in the eye and said do not let me down these men and women (applause) the men and women there took it person you took it person i took it person i have a respons that goe on i wake up everi morn think about how to make our countri more secur i have act again and again to protect our peopl i will never relent in defend america whatev it take (applause)audi four more years! four more years! four more years!th presid twentyseven 27 day from today american will make a critic choic my oppon offer an agenda that is stuck in the think and the polici of the past on nation secur he offer the defens mindset of septemb the 10th a global test to replac american leadership a strategi of retreat in iraq and a 20year histori of weak in the unit state senat here at home he offer a record and an agenda of more tax and more spend and more litig and more govern control over your lifeth race for presid is a contest for the futur and you know where i stand run for presid to keep thi nation on the offens against terrorist with the goal of total victori run (applause) run for presid to keep thi economi move so everi worker ha a good job and qualiti health care and a secur retir (applause) run for presid to make our nation a more compassion societi where no one is left out where everi life mattersi have a hope vision i believ thi young centuri will be liberti centuri well promot liberti abroad protect our countri and build a better world beyond the war on terror well encourag liberti at home to spread the prosper and opportun of america to everi corner of our countri i will carri thi messag to my fellow citizen in the close day of thi campaign and with your help we will win a great victori on novemb the 2nd god bless god bless our great countri (applause)thank you all thank for come (applause)'"
     ]
    }
   ],
   "source": [
    "# define the predictive features and the predicted columns\n",
    "\n",
    "X = df[['stems', 'subjectivity', 'polarity']]\n",
    "y = df.party\n",
    "\n",
    "X_train, X_test, y_train, y_test = train_test_split(X, y, test_size=.3, random_state=42)\n",
    "\n",
    "tfidf = TfidfVectorizer(stop_words='english')\n",
    "tfidf.fit(X_train.stems)\n",
    "X_train_tf = tfidf.transform(X_train.stems)\n",
    "\n",
    "\n",
    "X_train_tf = pd.DataFrame(X_train_tf.todense())\n",
    "\n",
    "\n",
    "train_sub_pol = X_train[['subjectivity', 'polarity']].reset_index().drop(['index'], axis=1)\n",
    "X_train_tf = pd.concat([X_train_tf, train_sub_pol], axis=1)\n",
    "\n",
    "# standardize the data \n",
    "ss = StandardScaler()\n",
    "X_train = ss.fit_transform(X_train)\n",
    "\n",
    "\n",
    "rfc = RandomForestClassifier(max_depth=36, n_estimators=22)\n",
    "\n",
    "rfc.fit(X_train_tf, y_train)\n",
    "train_predictions = rfc.predict(X_train_tf)\n",
    "\n",
    "print('Train Accuracy Score', rfc.score(X_train_tf, y_train))\n",
    "print('Cross Validated Accuracy Train Score', cross_val_score(rfc, X_train_tf, y_train, cv=5).mean())\n",
    "\n",
    "# vectorize and concat test data\n",
    "X_test_tf = tfidf.transform(X_test.stems)\n",
    "X_test_tf = pd.DataFrame(X_test_tf.todense())\n",
    "\n",
    "test_sub_pol = X_test[['subjectivity', 'polarity']].reset_index().drop(['index'], axis=1)\n",
    "X_test_tf = pd.concat([X_test_tf, test_sub_pol], axis=1)\n",
    "\n",
    "# standardize test data\n",
    "X_test = ss.transform(X_test)\n",
    "\n",
    "test_predictions = rfc.predict(X_test_tf)\n",
    "print('Accuracy Score', rfc.score(X_test_tf, y_test))\n",
    "print('Cross Validated Accuracy Test Score', cross_val_score(rfc, X_test_tf, y_test, cv=5).mean())\n",
    "print(m.confusion_matrix(y_test, test_predictions))\n",
    "print(m.classification_report(y_test, test_predictions))"
   ]
  },
  {
   "cell_type": "markdown",
   "metadata": {
    "collapsed": true
   },
   "source": [
    "The Random Forest model actually produces a better accuracy score on the training data. But the cross validated accuracy on the test data is much better in the Logistic Regression. Indicating that this model is better at predicting the party of new data. \n",
    "\n",
    "The point of predicting the party of the speeches is to show that there are fundamental differences in the words choosen by the nominees each party has."
   ]
  },
  {
   "cell_type": "markdown",
   "metadata": {},
   "source": [
    "\n"
   ]
  },
  {
   "cell_type": "markdown",
   "metadata": {},
   "source": [
    "### GridSearch on Random Forest Classifier"
   ]
  },
  {
   "cell_type": "markdown",
   "metadata": {},
   "source": [
    "The following code was a GridSearch on used with the Random Forest Classifier to optimize the hyper paramers. This increased the Cross Validated Score on the Test data, but not enough to challenge the results from Logistic Regression."
   ]
  },
  {
   "cell_type": "markdown",
   "metadata": {
    "scrolled": true
   },
   "source": [
    "tfidf = TfidfVectorizer(stop_words='english')\n",
    "tfidf.fit(X_train.speech)\n",
    "X_train_tf = tfidf.transform(X_train.speech)\n",
    "\n",
    "\n",
    "X_train_tf = pd.DataFrame(X_train_tf.todense())\n",
    "\n",
    "\n",
    "train_sub_pol = X_train[['subjectivity', 'polarity']].reset_index().drop(['index'], axis=1)\n",
    "X_train_tf = pd.concat([X_train_tf, train_sub_pol], axis=1)\n",
    "\n",
    "rfc = RandomForestClassifier()\n",
    "\n",
    "\n",
    "params = {\n",
    "    'n_estimators':range(5, 26),\n",
    "    'max_depth':range(5, 40),  \n",
    "}\n",
    "\n",
    "grid = GridSearchCV(rfc, params, verbose=2, n_jobs=-1)\n",
    "\n",
    "grid.fit(X_train_tf, y_train)\n",
    "grid.best_estimator_\n"
   ]
  },
  {
   "cell_type": "markdown",
   "metadata": {},
   "source": [
    "\n"
   ]
  },
  {
   "cell_type": "markdown",
   "metadata": {},
   "source": [
    "### Random Forest Classifier - Most Indicative Words"
   ]
  },
  {
   "cell_type": "markdown",
   "metadata": {
    "collapsed": true
   },
   "source": [
    "This section results a dataframe of the most words that were the most indicative of party"
   ]
  },
  {
   "cell_type": "code",
   "execution_count": 157,
   "metadata": {},
   "outputs": [
    {
     "data": {
      "text/html": [
       "<div>\n",
       "<style>\n",
       "    .dataframe thead tr:only-child th {\n",
       "        text-align: right;\n",
       "    }\n",
       "\n",
       "    .dataframe thead th {\n",
       "        text-align: left;\n",
       "    }\n",
       "\n",
       "    .dataframe tbody tr th {\n",
       "        vertical-align: top;\n",
       "    }\n",
       "</style>\n",
       "<table border=\"1\" class=\"dataframe\">\n",
       "  <thead>\n",
       "    <tr style=\"text-align: right;\">\n",
       "      <th></th>\n",
       "      <th>feature_names</th>\n",
       "      <th>feature_importances</th>\n",
       "    </tr>\n",
       "  </thead>\n",
       "  <tbody>\n",
       "    <tr>\n",
       "      <th>2196</th>\n",
       "      <td>applause</td>\n",
       "      <td>0.007775</td>\n",
       "    </tr>\n",
       "    <tr>\n",
       "      <th>2217</th>\n",
       "      <td>appreci</td>\n",
       "      <td>0.007397</td>\n",
       "    </tr>\n",
       "    <tr>\n",
       "      <th>3446</th>\n",
       "      <td>bleach</td>\n",
       "      <td>0.005877</td>\n",
       "    </tr>\n",
       "    <tr>\n",
       "      <th>6742</th>\n",
       "      <td>defend</td>\n",
       "      <td>0.009767</td>\n",
       "    </tr>\n",
       "    <tr>\n",
       "      <th>7558</th>\n",
       "      <td>dollar</td>\n",
       "      <td>0.006006</td>\n",
       "    </tr>\n",
       "    <tr>\n",
       "      <th>7807</th>\n",
       "      <td>drill</td>\n",
       "      <td>0.007295</td>\n",
       "    </tr>\n",
       "    <tr>\n",
       "      <th>9945</th>\n",
       "      <td>free</td>\n",
       "      <td>0.005102</td>\n",
       "    </tr>\n",
       "    <tr>\n",
       "      <th>10575</th>\n",
       "      <td>govern</td>\n",
       "      <td>0.006996</td>\n",
       "    </tr>\n",
       "    <tr>\n",
       "      <th>11532</th>\n",
       "      <td>hi</td>\n",
       "      <td>0.010343</td>\n",
       "    </tr>\n",
       "    <tr>\n",
       "      <th>12694</th>\n",
       "      <td>invest</td>\n",
       "      <td>0.021022</td>\n",
       "    </tr>\n",
       "    <tr>\n",
       "      <th>15918</th>\n",
       "      <td>nation</td>\n",
       "      <td>0.005452</td>\n",
       "    </tr>\n",
       "    <tr>\n",
       "      <th>18100</th>\n",
       "      <td>play</td>\n",
       "      <td>0.009527</td>\n",
       "    </tr>\n",
       "    <tr>\n",
       "      <th>18977</th>\n",
       "      <td>prosper</td>\n",
       "      <td>0.005123</td>\n",
       "    </tr>\n",
       "    <tr>\n",
       "      <th>19428</th>\n",
       "      <td>realli</td>\n",
       "      <td>0.005424</td>\n",
       "    </tr>\n",
       "    <tr>\n",
       "      <th>24214</th>\n",
       "      <td>total</td>\n",
       "      <td>0.006455</td>\n",
       "    </tr>\n",
       "    <tr>\n",
       "      <th>26807</th>\n",
       "      <td>young</td>\n",
       "      <td>0.009804</td>\n",
       "    </tr>\n",
       "  </tbody>\n",
       "</table>\n",
       "</div>"
      ],
      "text/plain": [
       "      feature_names  feature_importances\n",
       "2196       applause             0.007775\n",
       "2217        appreci             0.007397\n",
       "3446         bleach             0.005877\n",
       "6742         defend             0.009767\n",
       "7558         dollar             0.006006\n",
       "7807          drill             0.007295\n",
       "9945           free             0.005102\n",
       "10575        govern             0.006996\n",
       "11532            hi             0.010343\n",
       "12694        invest             0.021022\n",
       "15918        nation             0.005452\n",
       "18100          play             0.009527\n",
       "18977       prosper             0.005123\n",
       "19428        realli             0.005424\n",
       "24214         total             0.006455\n",
       "26807         young             0.009804"
      ]
     },
     "execution_count": 157,
     "metadata": {},
     "output_type": "execute_result"
    }
   ],
   "source": [
    "feature_names = tfidf.get_feature_names() \n",
    "feature_names.append('subjectivity') \n",
    "feature_names.append('polarity')\n",
    "importance = list(rfc.feature_importances_)\n",
    "results = pd.DataFrame()\n",
    "results['feature_names'] = feature_names\n",
    "results['feature_importances'] = importance\n",
    "\n",
    "results = results[results['feature_importances'] > .005]\n",
    "\n",
    "results"
   ]
  },
  {
   "cell_type": "markdown",
   "metadata": {},
   "source": [
    "<a id='subsection3'></a>\n",
    "## Neural Network - Keras with TensorFlow backend"
   ]
  },
  {
   "cell_type": "code",
   "execution_count": 138,
   "metadata": {},
   "outputs": [],
   "source": [
    "# define the predictive features and the predicted columns\n",
    "\n",
    "X = df[['stems', 'subjectivity', 'polarity']]\n",
    "y = df.party\n",
    "\n",
    "X_train, X_test, y_train, y_test = train_test_split(X, y, test_size=.3, random_state=42)\n",
    "\n",
    "# initialize vectorizer \n",
    "tfidf = TfidfVectorizer(stop_words='english')\n",
    "tfidf.fit(X_train.stems)\n",
    "\n",
    "# fit and transform training data with vectoizer\n",
    "X_train_tf = tfidf.transform(X_train.stems)\n",
    "X_train_tf = pd.DataFrame(X_train_tf.todense())\n",
    "\n",
    "# transform test data with vectorizer\n",
    "X_test_tf = tfidf.transform(X_test.stems)\n",
    "X_test_tf = pd.DataFrame(X_test_tf.todense())\n",
    "\n",
    "# concat the vecotried matrixes \n",
    "train_sub_pol = X_train[['subjectivity', 'polarity']].reset_index().drop(['index'], axis=1)\n",
    "test_sub_pol = X_test[['subjectivity', 'polarity']].reset_index().drop(['index'], axis=1)\n",
    "\n",
    "X_train = pd.concat([X_train_tf, train_sub_pol], axis=1)\n",
    "X_test = pd.concat([X_test_tf, test_sub_pol], axis=1)\n",
    "\n",
    "# standardize data\n",
    "ss = StandardScaler()\n",
    "X_train = ss.fit_transform(X_train)\n",
    "X_test = ss.transform(X_test)"
   ]
  },
  {
   "cell_type": "code",
   "execution_count": 139,
   "metadata": {
    "scrolled": true
   },
   "outputs": [],
   "source": [
    "y_train = np.array(y_train)\n",
    "y_test = np.array(y_test)"
   ]
  },
  {
   "cell_type": "code",
   "execution_count": 140,
   "metadata": {},
   "outputs": [
    {
     "name": "stdout",
     "output_type": "stream",
     "text": [
      "Train on 702 samples, validate on 302 samples\n",
      "Epoch 1/10\n",
      "702/702 [==============================] - 15s 22ms/step - loss: 1.0115 - acc: 0.7151 - val_loss: 0.1415 - val_acc: 0.9503\n",
      "Epoch 2/10\n",
      "702/702 [==============================] - 13s 19ms/step - loss: 0.3837 - acc: 0.9359 - val_loss: 0.2112 - val_acc: 0.9669\n",
      "Epoch 3/10\n",
      "702/702 [==============================] - 13s 19ms/step - loss: 0.2168 - acc: 0.9715 - val_loss: 0.1678 - val_acc: 0.9702\n",
      "Epoch 4/10\n",
      "702/702 [==============================] - 13s 19ms/step - loss: 0.1227 - acc: 0.9815 - val_loss: 0.2000 - val_acc: 0.9702\n",
      "Epoch 5/10\n",
      "702/702 [==============================] - 15s 21ms/step - loss: 0.1816 - acc: 0.9786 - val_loss: 0.2774 - val_acc: 0.9735\n",
      "Epoch 6/10\n",
      "702/702 [==============================] - 15s 21ms/step - loss: 0.2386 - acc: 0.9801 - val_loss: 0.2325 - val_acc: 0.9702\n",
      "Epoch 7/10\n",
      "702/702 [==============================] - 14s 19ms/step - loss: 0.2293 - acc: 0.9801 - val_loss: 0.1802 - val_acc: 0.9702\n",
      "Epoch 8/10\n",
      "702/702 [==============================] - 14s 20ms/step - loss: 0.1030 - acc: 0.9929 - val_loss: 0.2490 - val_acc: 0.9536\n",
      "Epoch 9/10\n",
      "702/702 [==============================] - 14s 20ms/step - loss: 0.1401 - acc: 0.9872 - val_loss: 0.3352 - val_acc: 0.9603\n",
      "Epoch 10/10\n",
      "702/702 [==============================] - 13s 19ms/step - loss: 0.4349 - acc: 0.9687 - val_loss: 0.5650 - val_acc: 0.9437\n"
     ]
    },
    {
     "data": {
      "text/plain": [
       "<keras.callbacks.History at 0x3437f8400>"
      ]
     },
     "execution_count": 140,
     "metadata": {},
     "output_type": "execute_result"
    }
   ],
   "source": [
    "model = Sequential()\n",
    "model.add(Dense(1000, input_dim=X_train.shape[1], activation='relu'))\n",
    "model.add(Dropout(.5))\n",
    "model.add(Dense(500, input_dim=X_train.shape[1], activation='relu'))\n",
    "model.add(Dropout(.5))\n",
    "model.add(Dense(100, input_dim=X_train.shape[1], activation='relu'))\n",
    "model.add(Dense(1, activation='sigmoid'))\n",
    "\n",
    "model.compile(optimizer='adam', loss='binary_crossentropy', metrics=['accuracy'])\n",
    "model.fit(X_train, y_train, validation_data=(X_test, y_test), epochs=10)"
   ]
  },
  {
   "cell_type": "code",
   "execution_count": 146,
   "metadata": {},
   "outputs": [
    {
     "name": "stdout",
     "output_type": "stream",
     "text": [
      "[[275   1]\n",
      " [  7 419]]\n",
      "             precision    recall  f1-score   support\n",
      "\n",
      "          0       0.98      1.00      0.99       276\n",
      "          1       1.00      0.98      0.99       426\n",
      "\n",
      "avg / total       0.99      0.99      0.99       702\n",
      "\n"
     ]
    }
   ],
   "source": [
    "pred_train = model.predict_classes(X_train)\n",
    "\n",
    "print(m.confusion_matrix(y_train, pred_train))\n",
    "print(m.classification_report(y_train, pred_train))"
   ]
  },
  {
   "cell_type": "code",
   "execution_count": 147,
   "metadata": {},
   "outputs": [
    {
     "name": "stdout",
     "output_type": "stream",
     "text": [
      "[[101  11]\n",
      " [  6 184]]\n",
      "             precision    recall  f1-score   support\n",
      "\n",
      "          0       0.94      0.90      0.92       112\n",
      "          1       0.94      0.97      0.96       190\n",
      "\n",
      "avg / total       0.94      0.94      0.94       302\n",
      "\n"
     ]
    }
   ],
   "source": [
    "pred_test = model.predict_classes(X_test)\n",
    "\n",
    "print(m.confusion_matrix(y_test, pred_test))\n",
    "print(m.classification_report(y_test, pred_test))"
   ]
  },
  {
   "cell_type": "markdown",
   "metadata": {
    "collapsed": true
   },
   "source": [
    "# Modeling Two - Predicting Election Year"
   ]
  },
  {
   "cell_type": "markdown",
   "metadata": {},
   "source": [
    "## Neural Network - Keras"
   ]
  },
  {
   "cell_type": "markdown",
   "metadata": {},
   "source": [
    "Finding the baseline"
   ]
  },
  {
   "cell_type": "code",
   "execution_count": 284,
   "metadata": {},
   "outputs": [
    {
     "name": "stdout",
     "output_type": "stream",
     "text": [
      "1004\n",
      "2    402\n",
      "4    270\n",
      "3    205\n",
      "1    127\n",
      "Name: year, dtype: int64\n"
     ]
    }
   ],
   "source": [
    "y = df.year.apply(lambda x: 1 if x == 2004 else (2 if x == 2008 else(3 if x == 2012 else 4)))\n",
    "\n",
    "print(len(y))\n",
    "print(y.value_counts())\n",
    "baseline = 402/1004"
   ]
  },
  {
   "cell_type": "code",
   "execution_count": 254,
   "metadata": {
    "scrolled": true
   },
   "outputs": [
    {
     "name": "stdout",
     "output_type": "stream",
     "text": [
      "Train on 702 samples, validate on 302 samples\n",
      "Epoch 1/5\n",
      "702/702 [==============================] - 20s 29ms/step - loss: 0.7279 - acc: 0.8023 - val_loss: 0.2222 - val_acc: 0.9053\n",
      "Epoch 2/5\n",
      "702/702 [==============================] - 18s 25ms/step - loss: 0.4025 - acc: 0.9134 - val_loss: 0.1020 - val_acc: 0.9603\n",
      "Epoch 3/5\n",
      "702/702 [==============================] - 18s 25ms/step - loss: 0.2631 - acc: 0.9587 - val_loss: 0.1270 - val_acc: 0.9682\n",
      "Epoch 4/5\n",
      "702/702 [==============================] - 18s 25ms/step - loss: 0.2071 - acc: 0.9752 - val_loss: 0.1748 - val_acc: 0.9682\n",
      "Epoch 5/5\n",
      "702/702 [==============================] - 18s 25ms/step - loss: 0.1719 - acc: 0.9821 - val_loss: 0.0969 - val_acc: 0.9775\n"
     ]
    }
   ],
   "source": [
    "# define the predictive features and the predicted columns\n",
    "X = df[['stems', 'subjectivity', 'polarity']]\n",
    "y = df.year.apply(lambda x: 1 if x == 2004 else (2 if x == 2008 else(3 if x == 2012 else 4)))\n",
    "y = to_categorical(y)\n",
    "\n",
    "X_train, X_test, y_train, y_test = train_test_split(X, y, test_size=.3, random_state=42)\n",
    "\n",
    "# initialize vectorizer \n",
    "tfidf = TfidfVectorizer(stop_words='english')\n",
    "tfidf.fit(X_train.stems)\n",
    "\n",
    "# fit and transform training data with vectoizer\n",
    "X_train_tf = tfidf.transform(X_train.stems)\n",
    "X_train_tf = pd.DataFrame(X_train_tf.todense())\n",
    "\n",
    "# transform test data with vectorizer\n",
    "X_test_tf = tfidf.transform(X_test.stems)\n",
    "X_test_tf = pd.DataFrame(X_test_tf.todense())\n",
    "\n",
    "# concat the vecotried matrixes \n",
    "train_sub_pol = X_train[['subjectivity', 'polarity']].reset_index().drop(['index'], axis=1)\n",
    "test_sub_pol = X_test[['subjectivity', 'polarity']].reset_index().drop(['index'], axis=1)\n",
    "\n",
    "X_train = pd.concat([X_train_tf, train_sub_pol], axis=1)\n",
    "X_test = pd.concat([X_test_tf, test_sub_pol], axis=1)\n",
    "\n",
    "# standardize the data \n",
    "ss = StandardScaler()\n",
    "X_train = ss.fit_transform(X_train)\n",
    "X_test = ss.transform(X_test)\n",
    "\n",
    "model = Sequential()\n",
    "model.add(Dense(1000, input_dim=X_train.shape[1], activation='relu'))\n",
    "model.add(Dropout(.5))\n",
    "model.add(Dense(500, input_dim=X_train.shape[1], activation='relu'))\n",
    "model.add(Dropout(.5))\n",
    "model.add(Dense(100, input_dim=X_train.shape[1], activation='relu'))\n",
    "model.add(Dense(y_train.shape[1], activation='sigmoid'))\n",
    "\n",
    "model.compile(optimizer='adam', loss='binary_crossentropy', metrics=['accuracy'])\n",
    "model.fit(X_train, y_train, validation_data=(X_test, y_test), epochs=15, batch_size=20)\n",
    "\n",
    "pred_test = model.predict(X_test)"
   ]
  },
  {
   "cell_type": "code",
   "execution_count": 286,
   "metadata": {},
   "outputs": [
    {
     "ename": "AxisError",
     "evalue": "axis 1 is out of bounds for array of dimension 1",
     "output_type": "error",
     "traceback": [
      "\u001b[0;31m---------------------------------------------------------------------------\u001b[0m",
      "\u001b[0;31mAxisError\u001b[0m                                 Traceback (most recent call last)",
      "\u001b[0;32m<ipython-input-286-e50bfd54055d>\u001b[0m in \u001b[0;36m<module>\u001b[0;34m()\u001b[0m\n\u001b[0;32m----> 1\u001b[0;31m \u001b[0mpred_test\u001b[0m \u001b[0;34m=\u001b[0m \u001b[0;34m(\u001b[0m\u001b[0mpred_test\u001b[0m \u001b[0;34m==\u001b[0m \u001b[0mpred_test\u001b[0m\u001b[0;34m.\u001b[0m\u001b[0mmax\u001b[0m\u001b[0;34m(\u001b[0m\u001b[0maxis\u001b[0m\u001b[0;34m=\u001b[0m\u001b[0;36m1\u001b[0m\u001b[0;34m,\u001b[0m \u001b[0mkeepdims\u001b[0m\u001b[0;34m=\u001b[0m\u001b[0;32mTrue\u001b[0m\u001b[0;34m)\u001b[0m\u001b[0;34m)\u001b[0m\u001b[0;34m.\u001b[0m\u001b[0mastype\u001b[0m\u001b[0;34m(\u001b[0m\u001b[0mfloat\u001b[0m\u001b[0;34m)\u001b[0m\u001b[0;34m\u001b[0m\u001b[0m\n\u001b[0m\u001b[1;32m      2\u001b[0m \u001b[0;34m\u001b[0m\u001b[0m\n\u001b[1;32m      3\u001b[0m \u001b[0mpred_test\u001b[0m \u001b[0;34m=\u001b[0m \u001b[0mpred_test\u001b[0m\u001b[0;34m.\u001b[0m\u001b[0margmax\u001b[0m\u001b[0;34m(\u001b[0m\u001b[0;36m1\u001b[0m\u001b[0;34m)\u001b[0m\u001b[0;34m\u001b[0m\u001b[0m\n\u001b[1;32m      4\u001b[0m \u001b[0my_test\u001b[0m \u001b[0;34m=\u001b[0m \u001b[0my_test\u001b[0m\u001b[0;34m.\u001b[0m\u001b[0margmax\u001b[0m\u001b[0;34m(\u001b[0m\u001b[0;36m1\u001b[0m\u001b[0;34m)\u001b[0m\u001b[0;34m\u001b[0m\u001b[0m\n\u001b[1;32m      5\u001b[0m \u001b[0;34m\u001b[0m\u001b[0m\n",
      "\u001b[0;32m/Users/Penelope/anaconda3/lib/python3.6/site-packages/numpy/core/_methods.py\u001b[0m in \u001b[0;36m_amax\u001b[0;34m(a, axis, out, keepdims)\u001b[0m\n\u001b[1;32m     24\u001b[0m \u001b[0;31m# small reductions\u001b[0m\u001b[0;34m\u001b[0m\u001b[0;34m\u001b[0m\u001b[0m\n\u001b[1;32m     25\u001b[0m \u001b[0;32mdef\u001b[0m \u001b[0m_amax\u001b[0m\u001b[0;34m(\u001b[0m\u001b[0ma\u001b[0m\u001b[0;34m,\u001b[0m \u001b[0maxis\u001b[0m\u001b[0;34m=\u001b[0m\u001b[0;32mNone\u001b[0m\u001b[0;34m,\u001b[0m \u001b[0mout\u001b[0m\u001b[0;34m=\u001b[0m\u001b[0;32mNone\u001b[0m\u001b[0;34m,\u001b[0m \u001b[0mkeepdims\u001b[0m\u001b[0;34m=\u001b[0m\u001b[0;32mFalse\u001b[0m\u001b[0;34m)\u001b[0m\u001b[0;34m:\u001b[0m\u001b[0;34m\u001b[0m\u001b[0m\n\u001b[0;32m---> 26\u001b[0;31m     \u001b[0;32mreturn\u001b[0m \u001b[0mumr_maximum\u001b[0m\u001b[0;34m(\u001b[0m\u001b[0ma\u001b[0m\u001b[0;34m,\u001b[0m \u001b[0maxis\u001b[0m\u001b[0;34m,\u001b[0m \u001b[0;32mNone\u001b[0m\u001b[0;34m,\u001b[0m \u001b[0mout\u001b[0m\u001b[0;34m,\u001b[0m \u001b[0mkeepdims\u001b[0m\u001b[0;34m)\u001b[0m\u001b[0;34m\u001b[0m\u001b[0m\n\u001b[0m\u001b[1;32m     27\u001b[0m \u001b[0;34m\u001b[0m\u001b[0m\n\u001b[1;32m     28\u001b[0m \u001b[0;32mdef\u001b[0m \u001b[0m_amin\u001b[0m\u001b[0;34m(\u001b[0m\u001b[0ma\u001b[0m\u001b[0;34m,\u001b[0m \u001b[0maxis\u001b[0m\u001b[0;34m=\u001b[0m\u001b[0;32mNone\u001b[0m\u001b[0;34m,\u001b[0m \u001b[0mout\u001b[0m\u001b[0;34m=\u001b[0m\u001b[0;32mNone\u001b[0m\u001b[0;34m,\u001b[0m \u001b[0mkeepdims\u001b[0m\u001b[0;34m=\u001b[0m\u001b[0;32mFalse\u001b[0m\u001b[0;34m)\u001b[0m\u001b[0;34m:\u001b[0m\u001b[0;34m\u001b[0m\u001b[0m\n",
      "\u001b[0;31mAxisError\u001b[0m: axis 1 is out of bounds for array of dimension 1"
     ]
    }
   ],
   "source": [
    "pred_test = (pred_test == pred_test.max(axis=1, keepdims=True)).astype(float)\n",
    "\n",
    "pred_test = pred_test.argmax(1)\n",
    "y_test = y_test.argmax(1)\n",
    "\n",
    "print('Confusion Matrix \\n', pd.crosstab(y_test, pred_test, rownames=['Actual'], colnames=['Predicted'], \n",
    "                                         margins=True))"
   ]
  },
  {
   "cell_type": "markdown",
   "metadata": {
    "collapsed": true
   },
   "source": [
    "Accuracy Score is 97% compared to a baseline of 40%"
   ]
  },
  {
   "cell_type": "markdown",
   "metadata": {},
   "source": [
    "<a id='section3'></a>\n",
    "# Most Frequent Words in Speeches by Party"
   ]
  },
  {
   "cell_type": "code",
   "execution_count": 488,
   "metadata": {
    "collapsed": true
   },
   "outputs": [],
   "source": [
    "df['speech'] = df['speech'].apply(lambda x: x.replace(\"applause\", \"\"))\n",
    "df['speech'] = df['speech'].apply(lambda x: x.replace(\"laughter\", \"\"))\n",
    "df['speech'] = df['speech'].apply(lambda x: x.replace(\"laughr\", \"\"))\n",
    "\n",
    "df['speech'] = df['speech'].apply(lambda x: x.replace(\"america\", \"\"))\n",
    "df['speech'] = df['speech'].apply(lambda x: x.replace(\"american\", \"\"))\n",
    "df['speech'] = df['speech'].apply(lambda x: x.replace(\"think\", \"\"))\n",
    "df['speech'] = df['speech'].apply(lambda x: x.replace(\"this\", \"\"))\n",
    "df['speech'] = df['speech'].apply(lambda x: x.replace(\"thats\", \"\"))\n",
    "df['speech'] = df['speech'].apply(lambda x: x.replace(\"make\", \"\"))\n",
    "df['speech'] = df['speech'].apply(lambda x: x.replace(\"know\", \"\"))\n",
    "df['speech'] = df['speech'].apply(lambda x: x.replace(\"want\", \"\"))\n",
    "df['speech'] = df['speech'].apply(lambda x: x.replace(\"im \", \" \"))\n",
    "df['speech'] = df['speech'].apply(lambda x: x.replace(\"weve\", \"\"))\n",
    "df['speech'] = df['speech'].apply(lambda x: x.replace(\"got\", \"\"))\n",
    "df['speech'] = df['speech'].apply(lambda x: x.replace(\"just\", \"\"))\n",
    "df['speech'] = df['speech'].apply(lambda x: x.replace(\"like\", \"\"))\n",
    "df['speech'] = df['speech'].apply(lambda x: x.replace(\"need\", \"\"))\n",
    "df['speech'] = df['speech'].apply(lambda x: x.replace(\"said\", \"\"))\n",
    "df['speech'] = df['speech'].apply(lambda x: x.replace(\"cheers\", \"\"))\n",
    "df['speech'] = df['speech'].apply(lambda x: x.replace(\"te \", \" \"))\n",
    "df['speech'] = df['speech'].apply(lambda x: x.replace(\"ns \", \" \"))\n",
    "df['speech'] = df['speech'].apply(lambda x: x.replace(\"dont\", \"\"))\n",
    "df['speech'] = df['speech'].apply(lambda x: x.replace(\"senator\", \"\"))\n",
    "df['speech'] = df['speech'].apply(lambda x: x.replace(\"president\", \"\"))\n",
    "\n",
    "df['speech'] = df['speech'].apply(lambda x: x.replace(\"unemployed\", \"unemployment\")\n",
    "                                  .replace(\"unemployments\", \"unemployment\").replace(\"jobs\", \"unemployment\"))\n",
    "df['speech'] = df['speech'].apply(lambda x: x.replace(\"school\", \"education\").replace(\"teachers\", \"education\")\n",
    "                                  .replace(\"teachers\", \"education\").replace(\"student\", \"education\")\n",
    "                                  .replace(\"students\", \"education\").replace(\"literacy\", \"education\")\n",
    "                                  .replace(\"literate\", \"education\").replace(\"college\", \"education\"))"
   ]
  },
  {
   "cell_type": "code",
   "execution_count": 315,
   "metadata": {
    "collapsed": true
   },
   "outputs": [],
   "source": [
    "df['speech'] = df['speech'].apply(lambda x: x.replace(\"wealth\", \"income\").replace(\"class\", \"income\")\n",
    "                                  .replace(\"billionaire\", \"income\"))\n",
    "df['speech'] = df['speech'].apply(lambda x: x.replace(\"afordable\", \"equality\").replace(\"comprehensive\", \"equality\")\n",
    "                                  .replace(\"comprehensive\", \"equality\"))\n",
    "df['speech'] = df['speech'].apply(lambda x: x.replace(\"immigrant\", \"immigration\").replace(\"migrant\", \"immigration\")\n",
    "                                  .replace(\"migration\", \"immigration\").replace(\"mexico\", \"immigration\")\n",
    "                                  .replace(\"wall\", \"immigration\"))\n",
    "df['speech'] = df['speech'].apply(lambda x: x.replace(\"troops\", \"war\").replace(\"iraq\", \"war\")\n",
    "                                  .replace(\"iran\", \"war\").replace(\"fight\", \"war\").replace(\"security\", \"war\")\n",
    "                                  .replace(\"military\", \"war\")\n",
    "                                  .replace(\"enemies\", \"war\"))\n",
    "df['speech'] = df['speech'].apply(lambda x: x.replace(\"oil\", \"energy\"))\n",
    "df['speech'] = df['speech'].apply(lambda x: x.replace(\"children\", \"families\"))\n",
    "df['speech'] = df['speech'].apply(lambda x: x.replace(\"taxation\", \"tax\"))\n",
    "\n",
    "                                  .replace(\"job\", \"unemployment\").replace(\"worker\", \"unemployment\")\n",
    "                                  .replace(\"workers\", \"unemployment\").replace(\"work\", \"unemployment\")"
   ]
  },
  {
   "cell_type": "code",
   "execution_count": 452,
   "metadata": {},
   "outputs": [
    {
     "data": {
      "text/plain": [
       "472"
      ]
     },
     "execution_count": 452,
     "metadata": {},
     "output_type": "execute_result"
    }
   ],
   "source": [
    "z = []\n",
    "for x in df.speech:\n",
    "    if 'oil' in x:\n",
    "        z.append('yes')\n",
    "len(z)    "
   ]
  },
  {
   "cell_type": "code",
   "execution_count": 496,
   "metadata": {
    "scrolled": false
   },
   "outputs": [
    {
     "data": {
      "image/png": "[encoded data removed]",
      "text/plain": [
       "<matplotlib.figure.Figure at 0x376fc2978>"
      ]
     },
     "metadata": {},
     "output_type": "display_data"
    }
   ],
   "source": [
    "X = df[df.party == 1]\n",
    "# print('Democratic Average Subjectivity', X.subjectivity.mean())\n",
    "# print('Democratic Average Polarity', X.polarity.mean())\n",
    "X = X.speech\n",
    "\n",
    "tfidf = TfidfVectorizer(stop_words='english')\n",
    "tfidf.fit(X)\n",
    "\n",
    "count = pd.DataFrame(tfidf.transform(X).todense(),columns=tfidf.get_feature_names())\n",
    "count = count/100\n",
    "\n",
    "fig, ax = plt.subplots()\n",
    "fig.set_size_inches(8, 8)\n",
    "plt.tick_params(axis='x', which='both', bottom='off', labelbottom='off')\n",
    "plt.yticks(fontsize=15)\n",
    "\n",
    "count.sum().sort_values(ascending=True)[-20:].plot(kind='barh', color='cornflowerblue')\n",
    "plt.title('Word Frequency Democrats', fontsize=18);"
   ]
  },
  {
   "cell_type": "code",
   "execution_count": 497,
   "metadata": {},
   "outputs": [
    {
     "data": {
      "image/png": "[encoded data removed]",
      "text/plain": [
       "<matplotlib.figure.Figure at 0x376787d68>"
      ]
     },
     "metadata": {},
     "output_type": "display_data"
    }
   ],
   "source": [
    "X = df[df.party == 0]\n",
    "# print('Republican Average Subjectivity', X.subjectivity.mean())\n",
    "# print('Republican Average Polarity', X.polarity.mean())\n",
    "X = X.speech\n",
    "\n",
    "tfidf = TfidfVectorizer(stop_words='english')\n",
    "tfidf.fit(X)\n",
    "\n",
    "count = pd.DataFrame(tfidf.transform(X).todense(),columns=tfidf.get_feature_names())\n",
    "count = count/100\n",
    "  \n",
    "fig, ax = plt.subplots()\n",
    "fig.set_size_inches(8, 8)\n",
    "plt.tick_params(axis='x', which='both', bottom='off', labelbottom='off')    \n",
    "plt.yticks(fontsize=15)\n",
    "    \n",
    "count.sum().sort_values(ascending=True)[-20:].plot(kind='barh', color='firebrick')\n",
    "plt.title('Word Frequency Republicans', fontsize=18);"
   ]
  },
  {
   "cell_type": "markdown",
   "metadata": {},
   "source": [
    "<a id='section4'></a>\n",
    "# Most Frequent Words by Election\n",
    "\n",
    "- [2004](#subsection5)\n",
    "- [2008](#subsection6)\n",
    "- [2012](#subsection7)\n",
    "- [2016](#subsection8)"
   ]
  },
  {
   "cell_type": "markdown",
   "metadata": {},
   "source": [
    "<a id='subsection5'></a>\n",
    "## 2004"
   ]
  },
  {
   "cell_type": "code",
   "execution_count": 498,
   "metadata": {},
   "outputs": [
    {
     "data": {
      "image/png": "[encoded data removed]",
      "text/plain": [
       "<matplotlib.figure.Figure at 0x376574240>"
      ]
     },
     "metadata": {},
     "output_type": "display_data"
    }
   ],
   "source": [
    "X = df[df.year == 2004]\n",
    "# print('2004 Average Democratic Subjectivity', X[X.party == 1].subjectivity.mean())\n",
    "# print('2004 Average Republican Subjectivity', X[X.party == 0].subjectivity.mean())\n",
    "# print('2004 Average Democratic Polarity', X[X.party == 1].polarity.mean())\n",
    "# print('2004 Average Republican Polarity', X[X.party == 0].polarity.mean())\n",
    "X = X.speech\n",
    "\n",
    "tfidf = TfidfVectorizer(stop_words='english')\n",
    "tfidf.fit(X)\n",
    "\n",
    "count = pd.DataFrame(tfidf.transform(X).todense(),columns=tfidf.get_feature_names())\n",
    "# count = count/100\n",
    "\n",
    "fig, ax = plt.subplots()\n",
    "fig.set_size_inches(8, 8)\n",
    "plt.tick_params(axis='x', which='both', bottom='off', labelbottom='off')\n",
    "plt.yticks(fontsize=15)\n",
    "\n",
    "count.sum().sort_values(ascending=True)[-20:].plot(kind='barh', color='lightblue')\n",
    "plt.title('Word Frequency 2004 Election', fontsize=18);"
   ]
  },
  {
   "cell_type": "markdown",
   "metadata": {},
   "source": [
    "<a id='subsection6'></a>\n",
    "## 2008"
   ]
  },
  {
   "cell_type": "code",
   "execution_count": 499,
   "metadata": {},
   "outputs": [
    {
     "data": {
      "image/png": "[encoded data removed]",
      "text/plain": [
       "<matplotlib.figure.Figure at 0x3767ed4e0>"
      ]
     },
     "metadata": {},
     "output_type": "display_data"
    }
   ],
   "source": [
    "X = df[df.year == 2008]\n",
    "# print('2008 Average Democratic Subjectivity', X[X.party == 1].subjectivity.mean())\n",
    "# print('2008 Average Republican Subjectivity', X[X.party == 0].subjectivity.mean())\n",
    "# print('2008 Average Democratic Polarity', X[X.party == 1].polarity.mean())\n",
    "# print('2008 Average Republican Polarity', X[X.party == 0].polarity.mean())\n",
    "X = X.speech\n",
    "\n",
    "tfidf = TfidfVectorizer(stop_words='english')\n",
    "tfidf.fit(X)\n",
    "\n",
    "count = pd.DataFrame(tfidf.transform(X).todense(),columns=tfidf.get_feature_names())\n",
    "# count = count/100\n",
    "\n",
    "fig, ax = plt.subplots()\n",
    "fig.set_size_inches(8, 8)\n",
    "# plt.tick_params(axis='x', which='both', bottom='off', labelbottom='off')\n",
    "plt.yticks(fontsize=15)\n",
    "\n",
    "count.sum().sort_values(ascending=True)[-20:].plot(kind='barh', color='lightblue')\n",
    "plt.title('Word Frequency 2008 Election', fontsize=18);"
   ]
  },
  {
   "cell_type": "markdown",
   "metadata": {},
   "source": [
    "<a id='subsection7'></a>\n",
    "## 2012"
   ]
  },
  {
   "cell_type": "code",
   "execution_count": 500,
   "metadata": {},
   "outputs": [
    {
     "data": {
      "image/png": "[encoded data removed]",
      "text/plain": [
       "<matplotlib.figure.Figure at 0x3772038d0>"
      ]
     },
     "metadata": {},
     "output_type": "display_data"
    }
   ],
   "source": [
    "X = df[df.year == 2012]\n",
    "# print('2012 Average Democratic Subjectivity', X[X.party == 1].subjectivity.mean())\n",
    "# print('2012 Average Republican Subjectivity', X[X.party == 0].subjectivity.mean())\n",
    "# print('2012 Average Democratic Polarity', X[X.party == 1].polarity.mean())\n",
    "# print('2012 Average Republican Polarity', X[X.party == 0].polarity.mean())\n",
    "X = X.speech\n",
    "\n",
    "tfidf = TfidfVectorizer(stop_words='english')\n",
    "tfidf.fit(X)\n",
    "\n",
    "count = pd.DataFrame(tfidf.transform(X).todense(),columns=tfidf.get_feature_names())\n",
    "# count = count/100\n",
    "\n",
    "fig, ax = plt.subplots()\n",
    "fig.set_size_inches(8, 8)\n",
    "# plt.tick_params(axis='x', which='both', bottom='off', labelbottom='off') \n",
    "plt.yticks(fontsize=15)\n",
    "\n",
    "count.sum().sort_values(ascending=True)[-20:].plot(kind='barh', color='lightblue')\n",
    "plt.title('Word Frequency 2012 Election', fontsize=18);"
   ]
  },
  {
   "cell_type": "markdown",
   "metadata": {},
   "source": [
    "<a id='subsection8'></a>\n",
    "## 2016"
   ]
  },
  {
   "cell_type": "code",
   "execution_count": 501,
   "metadata": {},
   "outputs": [
    {
     "data": {
      "image/png": "[encoded data removed]",
      "text/plain": [
       "<matplotlib.figure.Figure at 0x35a51b898>"
      ]
     },
     "metadata": {},
     "output_type": "display_data"
    }
   ],
   "source": [
    "X = df[df.year == 2016]\n",
    "# print('2016 Average Democratic Subjectivity', X[X.party == 1].subjectivity.mean())\n",
    "# print('2016 Average Republican Subjectivity', X[X.party == 0].subjectivity.mean())\n",
    "# print('2016 Average Democratic Polarity', X[X.party == 1].polarity.mean())\n",
    "# print('2016 Average Republican Polarity', X[X.party == 0].polarity.mean())\n",
    "X = X.speech\n",
    "\n",
    "tfidf = TfidfVectorizer(stop_words='english')\n",
    "tfidf.fit(X)\n",
    "\n",
    "count = pd.DataFrame(tfidf.transform(X).todense(), columns=tfidf.get_feature_names())\n",
    "# count = count/100\n",
    "\n",
    "fig, ax = plt.subplots()\n",
    "fig.set_size_inches(8, 8)\n",
    "# plt.tick_params(axis='x', which='both', bottom='off', labelbottom='off') \n",
    "plt.yticks(fontsize=15)\n",
    "\n",
    "count.sum().sort_values(ascending=True)[-20:].plot(kind='barh', color='lightblue')\n",
    "plt.title('Word Frequency 2016 Election', fontsize=18);"
   ]
  },
  {
   "cell_type": "code",
   "execution_count": null,
   "metadata": {
    "collapsed": true
   },
   "outputs": [],
   "source": []
  },
  {
   "cell_type": "code",
   "execution_count": null,
   "metadata": {
    "collapsed": true
   },
   "outputs": [],
   "source": []
  },
  {
   "cell_type": "code",
   "execution_count": null,
   "metadata": {
    "collapsed": true
   },
   "outputs": [],
   "source": []
  },
  {
   "cell_type": "code",
   "execution_count": null,
   "metadata": {
    "collapsed": true
   },
   "outputs": [],
   "source": []
  }
 ],
 "metadata": {
  "kernelspec": {
   "display_name": "Python 3",
   "language": "python",
   "name": "python3"
  },
  "language_info": {
   "codemirror_mode": {
    "name": "ipython",
    "version": 3
   },
   "file_extension": ".py",
   "mimetype": "text/x-python",
   "name": "python",
   "nbconvert_exporter": "python",
   "pygments_lexer": "ipython3",
   "version": "3.6.1"
  }
 },
 "nbformat": 4,
 "nbformat_minor": 2
}
