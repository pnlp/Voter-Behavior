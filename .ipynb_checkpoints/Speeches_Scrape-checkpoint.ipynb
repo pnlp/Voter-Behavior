{
 "cells": [
  {
   "cell_type": "markdown",
   "metadata": {},
   "source": [
    "# Web Scrape for Election Speeches"
   ]
  },
  {
   "cell_type": "code",
   "execution_count": 5,
   "metadata": {
    "collapsed": true
   },
   "outputs": [],
   "source": [
    "import pandas as pd\n",
    "import numpy as np\n",
    "from bs4 import BeautifulSoup\n",
    "import requests\n",
    "import time\n",
    "from itertools import chain"
   ]
  },
  {
   "cell_type": "markdown",
   "metadata": {},
   "source": [
    "# Scrape for Speech ID"
   ]
  },
  {
   "cell_type": "markdown",
   "metadata": {},
   "source": [
    "Each speech has a specific id in it's url, but there is no order to which canidate's speeches get which id. So to start the scrape for the speeches, a list of the IDs are scraped from the candidates page."
   ]
  },
  {
   "cell_type": "code",
   "execution_count": 5,
   "metadata": {
    "collapsed": true
   },
   "outputs": [],
   "source": [
    "url_2004_kerry = 'http://www.presidency.ucsb.edu/2004_election_speeches.php?candidate=67&campaign=2004KERRY'\n",
    "\n",
    "url_2008_obama = 'http://www.presidency.ucsb.edu/2008_election_speeches.php?candidate=44&campaign=2008OBAMA&doctype=5000'\n",
    "url_2008_mccain = 'http://www.presidency.ucsb.edu/2008_election_speeches.php?candidate=68&campaign=2008MCCAIN&doctype=5000'\n",
    "\n",
    "url_2012_obama = 'http://www.presidency.ucsb.edu/2012_election_speeches.php?candidate=44&doctype=1157'\n",
    "url_2012_romney = 'http://www.presidency.ucsb.edu/2012_election_speeches.php?candidate=79&campaign=2012ROMNEY&doctype=5000'\n",
    "\n",
    "url_2016_clinton = 'http://www.presidency.ucsb.edu/2016_election_speeches.php?candidate=70&campaign=2016CLINTON&doctype=5000'\n",
    "url_2016_trump = 'http://www.presidency.ucsb.edu/2016_election_speeches.php?candidate=45&campaign=2016TRUMP&doctype=5000'"
   ]
  },
  {
   "cell_type": "code",
   "execution_count": 6,
   "metadata": {},
   "outputs": [
    {
     "ename": "ConnectionError",
     "evalue": "HTTPConnectionPool(host='www.presidency.ucsb.edu', port=80): Max retries exceeded with url: /2004_election_speeches.php?candidate=67&campaign=2004KERRY (Caused by NewConnectionError('<urllib3.connection.HTTPConnection object at 0x118c4d198>: Failed to establish a new connection: [Errno 61] Connection refused',))",
     "output_type": "error",
     "traceback": [
      "\u001b[0;31m---------------------------------------------------------------------------\u001b[0m",
      "\u001b[0;31mConnectionRefusedError\u001b[0m                    Traceback (most recent call last)",
      "\u001b[0;32m/Users/Penelope/anaconda3/lib/python3.6/site-packages/urllib3/connection.py\u001b[0m in \u001b[0;36m_new_conn\u001b[0;34m(self)\u001b[0m\n\u001b[1;32m    140\u001b[0m             conn = connection.create_connection(\n\u001b[0;32m--> 141\u001b[0;31m                 (self.host, self.port), self.timeout, **extra_kw)\n\u001b[0m\u001b[1;32m    142\u001b[0m \u001b[0;34m\u001b[0m\u001b[0m\n",
      "\u001b[0;32m/Users/Penelope/anaconda3/lib/python3.6/site-packages/urllib3/util/connection.py\u001b[0m in \u001b[0;36mcreate_connection\u001b[0;34m(address, timeout, source_address, socket_options)\u001b[0m\n\u001b[1;32m     82\u001b[0m     \u001b[0;32mif\u001b[0m \u001b[0merr\u001b[0m \u001b[0;32mis\u001b[0m \u001b[0;32mnot\u001b[0m \u001b[0;32mNone\u001b[0m\u001b[0;34m:\u001b[0m\u001b[0;34m\u001b[0m\u001b[0m\n\u001b[0;32m---> 83\u001b[0;31m         \u001b[0;32mraise\u001b[0m \u001b[0merr\u001b[0m\u001b[0;34m\u001b[0m\u001b[0m\n\u001b[0m\u001b[1;32m     84\u001b[0m \u001b[0;34m\u001b[0m\u001b[0m\n",
      "\u001b[0;32m/Users/Penelope/anaconda3/lib/python3.6/site-packages/urllib3/util/connection.py\u001b[0m in \u001b[0;36mcreate_connection\u001b[0;34m(address, timeout, source_address, socket_options)\u001b[0m\n\u001b[1;32m     72\u001b[0m                 \u001b[0msock\u001b[0m\u001b[0;34m.\u001b[0m\u001b[0mbind\u001b[0m\u001b[0;34m(\u001b[0m\u001b[0msource_address\u001b[0m\u001b[0;34m)\u001b[0m\u001b[0;34m\u001b[0m\u001b[0m\n\u001b[0;32m---> 73\u001b[0;31m             \u001b[0msock\u001b[0m\u001b[0;34m.\u001b[0m\u001b[0mconnect\u001b[0m\u001b[0;34m(\u001b[0m\u001b[0msa\u001b[0m\u001b[0;34m)\u001b[0m\u001b[0;34m\u001b[0m\u001b[0m\n\u001b[0m\u001b[1;32m     74\u001b[0m             \u001b[0;32mreturn\u001b[0m \u001b[0msock\u001b[0m\u001b[0;34m\u001b[0m\u001b[0m\n",
      "\u001b[0;31mConnectionRefusedError\u001b[0m: [Errno 61] Connection refused",
      "\nDuring handling of the above exception, another exception occurred:\n",
      "\u001b[0;31mNewConnectionError\u001b[0m                        Traceback (most recent call last)",
      "\u001b[0;32m/Users/Penelope/anaconda3/lib/python3.6/site-packages/urllib3/connectionpool.py\u001b[0m in \u001b[0;36murlopen\u001b[0;34m(self, method, url, body, headers, retries, redirect, assert_same_host, timeout, pool_timeout, release_conn, chunked, body_pos, **response_kw)\u001b[0m\n\u001b[1;32m    600\u001b[0m                                                   \u001b[0mbody\u001b[0m\u001b[0;34m=\u001b[0m\u001b[0mbody\u001b[0m\u001b[0;34m,\u001b[0m \u001b[0mheaders\u001b[0m\u001b[0;34m=\u001b[0m\u001b[0mheaders\u001b[0m\u001b[0;34m,\u001b[0m\u001b[0;34m\u001b[0m\u001b[0m\n\u001b[0;32m--> 601\u001b[0;31m                                                   chunked=chunked)\n\u001b[0m\u001b[1;32m    602\u001b[0m \u001b[0;34m\u001b[0m\u001b[0m\n",
      "\u001b[0;32m/Users/Penelope/anaconda3/lib/python3.6/site-packages/urllib3/connectionpool.py\u001b[0m in \u001b[0;36m_make_request\u001b[0;34m(self, conn, method, url, timeout, chunked, **httplib_request_kw)\u001b[0m\n\u001b[1;32m    356\u001b[0m         \u001b[0;32melse\u001b[0m\u001b[0;34m:\u001b[0m\u001b[0;34m\u001b[0m\u001b[0m\n\u001b[0;32m--> 357\u001b[0;31m             \u001b[0mconn\u001b[0m\u001b[0;34m.\u001b[0m\u001b[0mrequest\u001b[0m\u001b[0;34m(\u001b[0m\u001b[0mmethod\u001b[0m\u001b[0;34m,\u001b[0m \u001b[0murl\u001b[0m\u001b[0;34m,\u001b[0m \u001b[0;34m**\u001b[0m\u001b[0mhttplib_request_kw\u001b[0m\u001b[0;34m)\u001b[0m\u001b[0;34m\u001b[0m\u001b[0m\n\u001b[0m\u001b[1;32m    358\u001b[0m \u001b[0;34m\u001b[0m\u001b[0m\n",
      "\u001b[0;32m/Users/Penelope/anaconda3/lib/python3.6/http/client.py\u001b[0m in \u001b[0;36mrequest\u001b[0;34m(self, method, url, body, headers, encode_chunked)\u001b[0m\n\u001b[1;32m   1238\u001b[0m         \u001b[0;34m\"\"\"Send a complete request to the server.\"\"\"\u001b[0m\u001b[0;34m\u001b[0m\u001b[0m\n\u001b[0;32m-> 1239\u001b[0;31m         \u001b[0mself\u001b[0m\u001b[0;34m.\u001b[0m\u001b[0m_send_request\u001b[0m\u001b[0;34m(\u001b[0m\u001b[0mmethod\u001b[0m\u001b[0;34m,\u001b[0m \u001b[0murl\u001b[0m\u001b[0;34m,\u001b[0m \u001b[0mbody\u001b[0m\u001b[0;34m,\u001b[0m \u001b[0mheaders\u001b[0m\u001b[0;34m,\u001b[0m \u001b[0mencode_chunked\u001b[0m\u001b[0;34m)\u001b[0m\u001b[0;34m\u001b[0m\u001b[0m\n\u001b[0m\u001b[1;32m   1240\u001b[0m \u001b[0;34m\u001b[0m\u001b[0m\n",
      "\u001b[0;32m/Users/Penelope/anaconda3/lib/python3.6/http/client.py\u001b[0m in \u001b[0;36m_send_request\u001b[0;34m(self, method, url, body, headers, encode_chunked)\u001b[0m\n\u001b[1;32m   1284\u001b[0m             \u001b[0mbody\u001b[0m \u001b[0;34m=\u001b[0m \u001b[0m_encode\u001b[0m\u001b[0;34m(\u001b[0m\u001b[0mbody\u001b[0m\u001b[0;34m,\u001b[0m \u001b[0;34m'body'\u001b[0m\u001b[0;34m)\u001b[0m\u001b[0;34m\u001b[0m\u001b[0m\n\u001b[0;32m-> 1285\u001b[0;31m         \u001b[0mself\u001b[0m\u001b[0;34m.\u001b[0m\u001b[0mendheaders\u001b[0m\u001b[0;34m(\u001b[0m\u001b[0mbody\u001b[0m\u001b[0;34m,\u001b[0m \u001b[0mencode_chunked\u001b[0m\u001b[0;34m=\u001b[0m\u001b[0mencode_chunked\u001b[0m\u001b[0;34m)\u001b[0m\u001b[0;34m\u001b[0m\u001b[0m\n\u001b[0m\u001b[1;32m   1286\u001b[0m \u001b[0;34m\u001b[0m\u001b[0m\n",
      "\u001b[0;32m/Users/Penelope/anaconda3/lib/python3.6/http/client.py\u001b[0m in \u001b[0;36mendheaders\u001b[0;34m(self, message_body, encode_chunked)\u001b[0m\n\u001b[1;32m   1233\u001b[0m             \u001b[0;32mraise\u001b[0m \u001b[0mCannotSendHeader\u001b[0m\u001b[0;34m(\u001b[0m\u001b[0;34m)\u001b[0m\u001b[0;34m\u001b[0m\u001b[0m\n\u001b[0;32m-> 1234\u001b[0;31m         \u001b[0mself\u001b[0m\u001b[0;34m.\u001b[0m\u001b[0m_send_output\u001b[0m\u001b[0;34m(\u001b[0m\u001b[0mmessage_body\u001b[0m\u001b[0;34m,\u001b[0m \u001b[0mencode_chunked\u001b[0m\u001b[0;34m=\u001b[0m\u001b[0mencode_chunked\u001b[0m\u001b[0;34m)\u001b[0m\u001b[0;34m\u001b[0m\u001b[0m\n\u001b[0m\u001b[1;32m   1235\u001b[0m \u001b[0;34m\u001b[0m\u001b[0m\n",
      "\u001b[0;32m/Users/Penelope/anaconda3/lib/python3.6/http/client.py\u001b[0m in \u001b[0;36m_send_output\u001b[0;34m(self, message_body, encode_chunked)\u001b[0m\n\u001b[1;32m   1025\u001b[0m         \u001b[0;32mdel\u001b[0m \u001b[0mself\u001b[0m\u001b[0;34m.\u001b[0m\u001b[0m_buffer\u001b[0m\u001b[0;34m[\u001b[0m\u001b[0;34m:\u001b[0m\u001b[0;34m]\u001b[0m\u001b[0;34m\u001b[0m\u001b[0m\n\u001b[0;32m-> 1026\u001b[0;31m         \u001b[0mself\u001b[0m\u001b[0;34m.\u001b[0m\u001b[0msend\u001b[0m\u001b[0;34m(\u001b[0m\u001b[0mmsg\u001b[0m\u001b[0;34m)\u001b[0m\u001b[0;34m\u001b[0m\u001b[0m\n\u001b[0m\u001b[1;32m   1027\u001b[0m \u001b[0;34m\u001b[0m\u001b[0m\n",
      "\u001b[0;32m/Users/Penelope/anaconda3/lib/python3.6/http/client.py\u001b[0m in \u001b[0;36msend\u001b[0;34m(self, data)\u001b[0m\n\u001b[1;32m    963\u001b[0m             \u001b[0;32mif\u001b[0m \u001b[0mself\u001b[0m\u001b[0;34m.\u001b[0m\u001b[0mauto_open\u001b[0m\u001b[0;34m:\u001b[0m\u001b[0;34m\u001b[0m\u001b[0m\n\u001b[0;32m--> 964\u001b[0;31m                 \u001b[0mself\u001b[0m\u001b[0;34m.\u001b[0m\u001b[0mconnect\u001b[0m\u001b[0;34m(\u001b[0m\u001b[0;34m)\u001b[0m\u001b[0;34m\u001b[0m\u001b[0m\n\u001b[0m\u001b[1;32m    965\u001b[0m             \u001b[0;32melse\u001b[0m\u001b[0;34m:\u001b[0m\u001b[0;34m\u001b[0m\u001b[0m\n",
      "\u001b[0;32m/Users/Penelope/anaconda3/lib/python3.6/site-packages/urllib3/connection.py\u001b[0m in \u001b[0;36mconnect\u001b[0;34m(self)\u001b[0m\n\u001b[1;32m    165\u001b[0m     \u001b[0;32mdef\u001b[0m \u001b[0mconnect\u001b[0m\u001b[0;34m(\u001b[0m\u001b[0mself\u001b[0m\u001b[0;34m)\u001b[0m\u001b[0;34m:\u001b[0m\u001b[0;34m\u001b[0m\u001b[0m\n\u001b[0;32m--> 166\u001b[0;31m         \u001b[0mconn\u001b[0m \u001b[0;34m=\u001b[0m \u001b[0mself\u001b[0m\u001b[0;34m.\u001b[0m\u001b[0m_new_conn\u001b[0m\u001b[0;34m(\u001b[0m\u001b[0;34m)\u001b[0m\u001b[0;34m\u001b[0m\u001b[0m\n\u001b[0m\u001b[1;32m    167\u001b[0m         \u001b[0mself\u001b[0m\u001b[0;34m.\u001b[0m\u001b[0m_prepare_conn\u001b[0m\u001b[0;34m(\u001b[0m\u001b[0mconn\u001b[0m\u001b[0;34m)\u001b[0m\u001b[0;34m\u001b[0m\u001b[0m\n",
      "\u001b[0;32m/Users/Penelope/anaconda3/lib/python3.6/site-packages/urllib3/connection.py\u001b[0m in \u001b[0;36m_new_conn\u001b[0;34m(self)\u001b[0m\n\u001b[1;32m    149\u001b[0m             raise NewConnectionError(\n\u001b[0;32m--> 150\u001b[0;31m                 self, \"Failed to establish a new connection: %s\" % e)\n\u001b[0m\u001b[1;32m    151\u001b[0m \u001b[0;34m\u001b[0m\u001b[0m\n",
      "\u001b[0;31mNewConnectionError\u001b[0m: <urllib3.connection.HTTPConnection object at 0x118c4d198>: Failed to establish a new connection: [Errno 61] Connection refused",
      "\nDuring handling of the above exception, another exception occurred:\n",
      "\u001b[0;31mMaxRetryError\u001b[0m                             Traceback (most recent call last)",
      "\u001b[0;32m/Users/Penelope/anaconda3/lib/python3.6/site-packages/requests/adapters.py\u001b[0m in \u001b[0;36msend\u001b[0;34m(self, request, stream, timeout, verify, cert, proxies)\u001b[0m\n\u001b[1;32m    439\u001b[0m                     \u001b[0mretries\u001b[0m\u001b[0;34m=\u001b[0m\u001b[0mself\u001b[0m\u001b[0;34m.\u001b[0m\u001b[0mmax_retries\u001b[0m\u001b[0;34m,\u001b[0m\u001b[0;34m\u001b[0m\u001b[0m\n\u001b[0;32m--> 440\u001b[0;31m                     \u001b[0mtimeout\u001b[0m\u001b[0;34m=\u001b[0m\u001b[0mtimeout\u001b[0m\u001b[0;34m\u001b[0m\u001b[0m\n\u001b[0m\u001b[1;32m    441\u001b[0m                 )\n",
      "\u001b[0;32m/Users/Penelope/anaconda3/lib/python3.6/site-packages/urllib3/connectionpool.py\u001b[0m in \u001b[0;36murlopen\u001b[0;34m(self, method, url, body, headers, retries, redirect, assert_same_host, timeout, pool_timeout, release_conn, chunked, body_pos, **response_kw)\u001b[0m\n\u001b[1;32m    638\u001b[0m             retries = retries.increment(method, url, error=e, _pool=self,\n\u001b[0;32m--> 639\u001b[0;31m                                         _stacktrace=sys.exc_info()[2])\n\u001b[0m\u001b[1;32m    640\u001b[0m             \u001b[0mretries\u001b[0m\u001b[0;34m.\u001b[0m\u001b[0msleep\u001b[0m\u001b[0;34m(\u001b[0m\u001b[0;34m)\u001b[0m\u001b[0;34m\u001b[0m\u001b[0m\n",
      "\u001b[0;32m/Users/Penelope/anaconda3/lib/python3.6/site-packages/urllib3/util/retry.py\u001b[0m in \u001b[0;36mincrement\u001b[0;34m(self, method, url, response, error, _pool, _stacktrace)\u001b[0m\n\u001b[1;32m    387\u001b[0m         \u001b[0;32mif\u001b[0m \u001b[0mnew_retry\u001b[0m\u001b[0;34m.\u001b[0m\u001b[0mis_exhausted\u001b[0m\u001b[0;34m(\u001b[0m\u001b[0;34m)\u001b[0m\u001b[0;34m:\u001b[0m\u001b[0;34m\u001b[0m\u001b[0m\n\u001b[0;32m--> 388\u001b[0;31m             \u001b[0;32mraise\u001b[0m \u001b[0mMaxRetryError\u001b[0m\u001b[0;34m(\u001b[0m\u001b[0m_pool\u001b[0m\u001b[0;34m,\u001b[0m \u001b[0murl\u001b[0m\u001b[0;34m,\u001b[0m \u001b[0merror\u001b[0m \u001b[0;32mor\u001b[0m \u001b[0mResponseError\u001b[0m\u001b[0;34m(\u001b[0m\u001b[0mcause\u001b[0m\u001b[0;34m)\u001b[0m\u001b[0;34m)\u001b[0m\u001b[0;34m\u001b[0m\u001b[0m\n\u001b[0m\u001b[1;32m    389\u001b[0m \u001b[0;34m\u001b[0m\u001b[0m\n",
      "\u001b[0;31mMaxRetryError\u001b[0m: HTTPConnectionPool(host='www.presidency.ucsb.edu', port=80): Max retries exceeded with url: /2004_election_speeches.php?candidate=67&campaign=2004KERRY (Caused by NewConnectionError('<urllib3.connection.HTTPConnection object at 0x118c4d198>: Failed to establish a new connection: [Errno 61] Connection refused',))",
      "\nDuring handling of the above exception, another exception occurred:\n",
      "\u001b[0;31mConnectionError\u001b[0m                           Traceback (most recent call last)",
      "\u001b[0;32m<ipython-input-6-d650a239db0f>\u001b[0m in \u001b[0;36m<module>\u001b[0;34m()\u001b[0m\n\u001b[0;32m----> 1\u001b[0;31m \u001b[0mres\u001b[0m \u001b[0;34m=\u001b[0m \u001b[0mrequests\u001b[0m\u001b[0;34m.\u001b[0m\u001b[0mget\u001b[0m\u001b[0;34m(\u001b[0m\u001b[0murl_2004_kerry\u001b[0m\u001b[0;34m)\u001b[0m\u001b[0;34m\u001b[0m\u001b[0m\n\u001b[0m\u001b[1;32m      2\u001b[0m \u001b[0msoup\u001b[0m \u001b[0;34m=\u001b[0m \u001b[0mBeautifulSoup\u001b[0m\u001b[0;34m(\u001b[0m\u001b[0mres\u001b[0m\u001b[0;34m.\u001b[0m\u001b[0mcontent\u001b[0m\u001b[0;34m,\u001b[0m \u001b[0;34m'lxml'\u001b[0m\u001b[0;34m)\u001b[0m\u001b[0;34m\u001b[0m\u001b[0m\n",
      "\u001b[0;32m/Users/Penelope/anaconda3/lib/python3.6/site-packages/requests/api.py\u001b[0m in \u001b[0;36mget\u001b[0;34m(url, params, **kwargs)\u001b[0m\n\u001b[1;32m     70\u001b[0m \u001b[0;34m\u001b[0m\u001b[0m\n\u001b[1;32m     71\u001b[0m     \u001b[0mkwargs\u001b[0m\u001b[0;34m.\u001b[0m\u001b[0msetdefault\u001b[0m\u001b[0;34m(\u001b[0m\u001b[0;34m'allow_redirects'\u001b[0m\u001b[0;34m,\u001b[0m \u001b[0;32mTrue\u001b[0m\u001b[0;34m)\u001b[0m\u001b[0;34m\u001b[0m\u001b[0m\n\u001b[0;32m---> 72\u001b[0;31m     \u001b[0;32mreturn\u001b[0m \u001b[0mrequest\u001b[0m\u001b[0;34m(\u001b[0m\u001b[0;34m'get'\u001b[0m\u001b[0;34m,\u001b[0m \u001b[0murl\u001b[0m\u001b[0;34m,\u001b[0m \u001b[0mparams\u001b[0m\u001b[0;34m=\u001b[0m\u001b[0mparams\u001b[0m\u001b[0;34m,\u001b[0m \u001b[0;34m**\u001b[0m\u001b[0mkwargs\u001b[0m\u001b[0;34m)\u001b[0m\u001b[0;34m\u001b[0m\u001b[0m\n\u001b[0m\u001b[1;32m     73\u001b[0m \u001b[0;34m\u001b[0m\u001b[0m\n\u001b[1;32m     74\u001b[0m \u001b[0;34m\u001b[0m\u001b[0m\n",
      "\u001b[0;32m/Users/Penelope/anaconda3/lib/python3.6/site-packages/requests/api.py\u001b[0m in \u001b[0;36mrequest\u001b[0;34m(method, url, **kwargs)\u001b[0m\n\u001b[1;32m     56\u001b[0m     \u001b[0;31m# cases, and look like a memory leak in others.\u001b[0m\u001b[0;34m\u001b[0m\u001b[0;34m\u001b[0m\u001b[0m\n\u001b[1;32m     57\u001b[0m     \u001b[0;32mwith\u001b[0m \u001b[0msessions\u001b[0m\u001b[0;34m.\u001b[0m\u001b[0mSession\u001b[0m\u001b[0;34m(\u001b[0m\u001b[0;34m)\u001b[0m \u001b[0;32mas\u001b[0m \u001b[0msession\u001b[0m\u001b[0;34m:\u001b[0m\u001b[0;34m\u001b[0m\u001b[0m\n\u001b[0;32m---> 58\u001b[0;31m         \u001b[0;32mreturn\u001b[0m \u001b[0msession\u001b[0m\u001b[0;34m.\u001b[0m\u001b[0mrequest\u001b[0m\u001b[0;34m(\u001b[0m\u001b[0mmethod\u001b[0m\u001b[0;34m=\u001b[0m\u001b[0mmethod\u001b[0m\u001b[0;34m,\u001b[0m \u001b[0murl\u001b[0m\u001b[0;34m=\u001b[0m\u001b[0murl\u001b[0m\u001b[0;34m,\u001b[0m \u001b[0;34m**\u001b[0m\u001b[0mkwargs\u001b[0m\u001b[0;34m)\u001b[0m\u001b[0;34m\u001b[0m\u001b[0m\n\u001b[0m\u001b[1;32m     59\u001b[0m \u001b[0;34m\u001b[0m\u001b[0m\n\u001b[1;32m     60\u001b[0m \u001b[0;34m\u001b[0m\u001b[0m\n",
      "\u001b[0;32m/Users/Penelope/anaconda3/lib/python3.6/site-packages/requests/sessions.py\u001b[0m in \u001b[0;36mrequest\u001b[0;34m(self, method, url, params, data, headers, cookies, files, auth, timeout, allow_redirects, proxies, hooks, stream, verify, cert, json)\u001b[0m\n\u001b[1;32m    506\u001b[0m         }\n\u001b[1;32m    507\u001b[0m         \u001b[0msend_kwargs\u001b[0m\u001b[0;34m.\u001b[0m\u001b[0mupdate\u001b[0m\u001b[0;34m(\u001b[0m\u001b[0msettings\u001b[0m\u001b[0;34m)\u001b[0m\u001b[0;34m\u001b[0m\u001b[0m\n\u001b[0;32m--> 508\u001b[0;31m         \u001b[0mresp\u001b[0m \u001b[0;34m=\u001b[0m \u001b[0mself\u001b[0m\u001b[0;34m.\u001b[0m\u001b[0msend\u001b[0m\u001b[0;34m(\u001b[0m\u001b[0mprep\u001b[0m\u001b[0;34m,\u001b[0m \u001b[0;34m**\u001b[0m\u001b[0msend_kwargs\u001b[0m\u001b[0;34m)\u001b[0m\u001b[0;34m\u001b[0m\u001b[0m\n\u001b[0m\u001b[1;32m    509\u001b[0m \u001b[0;34m\u001b[0m\u001b[0m\n\u001b[1;32m    510\u001b[0m         \u001b[0;32mreturn\u001b[0m \u001b[0mresp\u001b[0m\u001b[0;34m\u001b[0m\u001b[0m\n",
      "\u001b[0;32m/Users/Penelope/anaconda3/lib/python3.6/site-packages/requests/sessions.py\u001b[0m in \u001b[0;36msend\u001b[0;34m(self, request, **kwargs)\u001b[0m\n\u001b[1;32m    616\u001b[0m \u001b[0;34m\u001b[0m\u001b[0m\n\u001b[1;32m    617\u001b[0m         \u001b[0;31m# Send the request\u001b[0m\u001b[0;34m\u001b[0m\u001b[0;34m\u001b[0m\u001b[0m\n\u001b[0;32m--> 618\u001b[0;31m         \u001b[0mr\u001b[0m \u001b[0;34m=\u001b[0m \u001b[0madapter\u001b[0m\u001b[0;34m.\u001b[0m\u001b[0msend\u001b[0m\u001b[0;34m(\u001b[0m\u001b[0mrequest\u001b[0m\u001b[0;34m,\u001b[0m \u001b[0;34m**\u001b[0m\u001b[0mkwargs\u001b[0m\u001b[0;34m)\u001b[0m\u001b[0;34m\u001b[0m\u001b[0m\n\u001b[0m\u001b[1;32m    619\u001b[0m \u001b[0;34m\u001b[0m\u001b[0m\n\u001b[1;32m    620\u001b[0m         \u001b[0;31m# Total elapsed time of the request (approximately)\u001b[0m\u001b[0;34m\u001b[0m\u001b[0;34m\u001b[0m\u001b[0m\n",
      "\u001b[0;32m/Users/Penelope/anaconda3/lib/python3.6/site-packages/requests/adapters.py\u001b[0m in \u001b[0;36msend\u001b[0;34m(self, request, stream, timeout, verify, cert, proxies)\u001b[0m\n\u001b[1;32m    506\u001b[0m                 \u001b[0;32mraise\u001b[0m \u001b[0mSSLError\u001b[0m\u001b[0;34m(\u001b[0m\u001b[0me\u001b[0m\u001b[0;34m,\u001b[0m \u001b[0mrequest\u001b[0m\u001b[0;34m=\u001b[0m\u001b[0mrequest\u001b[0m\u001b[0;34m)\u001b[0m\u001b[0;34m\u001b[0m\u001b[0m\n\u001b[1;32m    507\u001b[0m \u001b[0;34m\u001b[0m\u001b[0m\n\u001b[0;32m--> 508\u001b[0;31m             \u001b[0;32mraise\u001b[0m \u001b[0mConnectionError\u001b[0m\u001b[0;34m(\u001b[0m\u001b[0me\u001b[0m\u001b[0;34m,\u001b[0m \u001b[0mrequest\u001b[0m\u001b[0;34m=\u001b[0m\u001b[0mrequest\u001b[0m\u001b[0;34m)\u001b[0m\u001b[0;34m\u001b[0m\u001b[0m\n\u001b[0m\u001b[1;32m    509\u001b[0m \u001b[0;34m\u001b[0m\u001b[0m\n\u001b[1;32m    510\u001b[0m         \u001b[0;32mexcept\u001b[0m \u001b[0mClosedPoolError\u001b[0m \u001b[0;32mas\u001b[0m \u001b[0me\u001b[0m\u001b[0;34m:\u001b[0m\u001b[0;34m\u001b[0m\u001b[0m\n",
      "\u001b[0;31mConnectionError\u001b[0m: HTTPConnectionPool(host='www.presidency.ucsb.edu', port=80): Max retries exceeded with url: /2004_election_speeches.php?candidate=67&campaign=2004KERRY (Caused by NewConnectionError('<urllib3.connection.HTTPConnection object at 0x118c4d198>: Failed to establish a new connection: [Errno 61] Connection refused',))"
     ]
    }
   ],
   "source": [
    "res = requests.get(url_2004_kerry)\n",
    "soup = BeautifulSoup(res.content, 'lxml')"
   ]
  },
  {
   "cell_type": "code",
   "execution_count": null,
   "metadata": {
    "collapsed": true
   },
   "outputs": [],
   "source": [
    "pids_kerry = []\n",
    "rows = soup.find_all('tr')\n",
    "for i in range(49, 138):\n",
    "    row = rows[i].find('a')\n",
    "    row = str(row)\n",
    "    pid = int(row[29:34])\n",
    "    pids_kerry.append(pid)\n",
    "    time.sleep(2)"
   ]
  },
  {
   "cell_type": "code",
   "execution_count": null,
   "metadata": {
    "collapsed": true
   },
   "outputs": [],
   "source": [
    "res = requests.get(url_2008_obama)\n",
    "soup = BeautifulSoup(res.content, 'lxml')\n",
    "\n",
    "pids_obama = []\n",
    "rows = soup.find_all('tr')\n",
    "for i in range(49, 276):\n",
    "    row = rows[i].find('a')\n",
    "    row = str(row)\n",
    "    pid = int(row[29:34])\n",
    "    pids_obama.append(pid)\n",
    "    time.sleep(2)"
   ]
  },
  {
   "cell_type": "code",
   "execution_count": null,
   "metadata": {
    "collapsed": true
   },
   "outputs": [],
   "source": [
    "res = requests.get(url_2008_mccain)\n",
    "soup = BeautifulSoup(res.content, 'lxml')\n",
    "\n",
    "pids_mccain = []\n",
    "rows = soup.find_all('tr')\n",
    "for i in range(49, 224):\n",
    "    row = rows[i].find('a')\n",
    "    row = str(row)\n",
    "    pid = int(row[29:34])\n",
    "    pids_mccain.append(pid)\n",
    "    time.sleep(2)"
   ]
  },
  {
   "cell_type": "code",
   "execution_count": null,
   "metadata": {
    "collapsed": true,
    "scrolled": true
   },
   "outputs": [],
   "source": [
    "res = requests.get(url_2012_obama)\n",
    "soup = BeautifulSoup(res.content, 'lxml')\n",
    "\n",
    "pids_obama_2 = []\n",
    "rows = soup.find_all('tr')\n",
    "for i in range(49, 89):\n",
    "    row = rows[i].find('a')\n",
    "    row = str(row)\n",
    "    pid = int(row[29:34])\n",
    "    pids_obama_2.append(pid)\n",
    "    time.sleep(2)\n",
    "    \n",
    "for i in range(89, 153):\n",
    "    row = rows[i].find('a')\n",
    "    row = str(row)\n",
    "    pid = int(row[29:35])\n",
    "    pids_obama_2.append(pid)\n",
    "    time.sleep(2)"
   ]
  },
  {
   "cell_type": "code",
   "execution_count": null,
   "metadata": {
    "collapsed": true
   },
   "outputs": [],
   "source": [
    "res = requests.get(url_2012_romney)\n",
    "soup = BeautifulSoup(res.content, 'lxml')\n",
    "\n",
    "pids_romney = []\n",
    "rows = soup.find_all('tr')\n",
    "for i in range(49, 67):\n",
    "    row = rows[i].find('a')\n",
    "    row = str(row)\n",
    "    pid = int(row[29:34])\n",
    "    pids_romney.append(pid)\n",
    "    time.sleep(2)\n",
    "\n",
    "for i in range(67, 150):\n",
    "    row = rows[i].find('a')\n",
    "    row = str(row)\n",
    "    pid = int(row[29:35])\n",
    "    pids_romney.append(pid)\n",
    "    time.sleep(2)"
   ]
  },
  {
   "cell_type": "code",
   "execution_count": null,
   "metadata": {
    "collapsed": true
   },
   "outputs": [],
   "source": [
    "res = requests.get(url_2016_clinton)\n",
    "soup = BeautifulSoup(res.content, 'lxml')\n",
    "\n",
    "pids_clinton = []\n",
    "rows = soup.find_all('tr')\n",
    "for i in range(49, 156):\n",
    "    row = rows[i].find('a')\n",
    "    row = str(row)\n",
    "    pid = int(row[29:34])\n",
    "    pids_clinton.append(pid)\n",
    "    time.sleep(2)\n",
    "\n",
    "for i in range(156, 245):\n",
    "    row = rows[i].find('a')\n",
    "    row = str(row)\n",
    "    pid = int(row[29:35])\n",
    "    pids_clinton.append(pid)\n",
    "    time.sleep(2)"
   ]
  },
  {
   "cell_type": "code",
   "execution_count": null,
   "metadata": {
    "collapsed": true
   },
   "outputs": [],
   "source": [
    "res = requests.get(url_2016_trump)\n",
    "soup = BeautifulSoup(res.content, 'lxml')\n",
    "\n",
    "pids_trump = []\n",
    "rows = soup.find_all('tr')\n",
    "for i in range(49, 123):\n",
    "    row = rows[i].find('a')\n",
    "    row = str(row)\n",
    "    pid = int(row[29:35])\n",
    "    pids_trump.append(pid)\n",
    "    time.sleep(2)"
   ]
  },
  {
   "cell_type": "markdown",
   "metadata": {},
   "source": [
    "# Scrape for Speeches"
   ]
  },
  {
   "cell_type": "markdown",
   "metadata": {},
   "source": [
    "Using the IDs to go troug each speech, a dataframe from each catidates speeches is created. Each row is an entire speech."
   ]
  },
  {
   "cell_type": "code",
   "execution_count": null,
   "metadata": {
    "collapsed": true
   },
   "outputs": [],
   "source": [
    "url_speech = 'http://www.presidency.ucsb.edu/ws/index.php?pid={}'"
   ]
  },
  {
   "cell_type": "code",
   "execution_count": null,
   "metadata": {
    "collapsed": true
   },
   "outputs": [],
   "source": [
    "df_kerry = pd.DataFrame()\n",
    "\n",
    "speech = []\n",
    "for i in pids_kerry:\n",
    "    res = requests.get(url_speech .format(i))\n",
    "    soup = BeautifulSoup(res.content, 'lxml')\n",
    "    rows = soup.find('span', {\"class\" : \"displaytext\"})\n",
    "    speech.append(rows.text)\n",
    "    time.sleep(2)\n",
    "    \n",
    "df_kerry['speech'] = speech\n",
    "df_kerry['year'] = 2004 \n",
    "df_kerry['candidate'] = 'kerry'"
   ]
  },
  {
   "cell_type": "code",
   "execution_count": null,
   "metadata": {
    "collapsed": true
   },
   "outputs": [],
   "source": [
    "df_kerry['speech'] = speech\n",
    "df_kerry['year'] = 2004 "
   ]
  },
  {
   "cell_type": "code",
   "execution_count": null,
   "metadata": {
    "collapsed": true,
    "scrolled": true
   },
   "outputs": [],
   "source": [
    "df_obama = pd.DataFrame()\n",
    "\n",
    "speech = []\n",
    "for i in pids_obama:\n",
    "    res = requests.get(url_speech .format(i))\n",
    "    soup = BeautifulSoup(res.content, 'lxml')\n",
    "    rows = soup.find('span', {\"class\" : \"displaytext\"})\n",
    "    speech.append(rows.text)\n",
    "    time.sleep(2)\n",
    "    \n",
    "df_obama['speech'] = speech\n",
    "df_obama['year'] = 2008 \n",
    "df_obama['candidate'] = 'obama'"
   ]
  },
  {
   "cell_type": "code",
   "execution_count": null,
   "metadata": {
    "collapsed": true
   },
   "outputs": [],
   "source": [
    "df_obama['speech'] = speech\n",
    "df_obama['year'] = 2008 "
   ]
  },
  {
   "cell_type": "code",
   "execution_count": null,
   "metadata": {
    "collapsed": true
   },
   "outputs": [],
   "source": [
    "df_mccain = pd.DataFrame()\n",
    "\n",
    "speech = []\n",
    "for i in pids_mccain:\n",
    "    res = requests.get(url_speech .format(i))\n",
    "    soup = BeautifulSoup(res.content, 'lxml')\n",
    "    rows = soup.find('span', {\"class\" : \"displaytext\"})\n",
    "    speech.append(rows.text)\n",
    "    time.sleep(2)\n",
    "    \n",
    "df_mccain['speech'] = speech\n",
    "df_mccain['year'] = 2008 \n",
    "df_mccain['candidate'] = 'mccain'"
   ]
  },
  {
   "cell_type": "code",
   "execution_count": null,
   "metadata": {
    "collapsed": true
   },
   "outputs": [],
   "source": [
    "df_mccain['speech'] = speech\n",
    "df_mccain['year'] = 2008 "
   ]
  },
  {
   "cell_type": "code",
   "execution_count": null,
   "metadata": {
    "collapsed": true
   },
   "outputs": [],
   "source": [
    "df_obama_2 = pd.DataFrame()\n",
    "\n",
    "speech = []\n",
    "for i in pids_obama_2:\n",
    "    res = requests.get(url_speech .format(i))\n",
    "    soup = BeautifulSoup(res.content, 'lxml')\n",
    "    rows = soup.find('span', {\"class\" : \"displaytext\"})\n",
    "    speech.append(rows.text)\n",
    "    time.sleep(2)\n",
    "    \n",
    "df_obama_2['speech'] = speech\n",
    "df_obama_2['year'] = 2008 \n",
    "df_obama_2['candidate'] = 'obama'"
   ]
  },
  {
   "cell_type": "code",
   "execution_count": null,
   "metadata": {
    "collapsed": true
   },
   "outputs": [],
   "source": [
    "df_obama_2['speech'] = speech\n",
    "df_obama_2['year'] = 2008 "
   ]
  },
  {
   "cell_type": "code",
   "execution_count": null,
   "metadata": {
    "collapsed": true
   },
   "outputs": [],
   "source": [
    "df_romney = pd.DataFrame()\n",
    "\n",
    "speech = []\n",
    "for i in pids_romney:\n",
    "    res = requests.get(url_speech .format(i))\n",
    "    soup = BeautifulSoup(res.content, 'lxml')\n",
    "    rows = soup.find('span', {\"class\" : \"displaytext\"})\n",
    "    speech.append(rows.text)\n",
    "    time.sleep(2)\n",
    "    \n",
    "df_romney['speech'] = speech\n",
    "df_romney['year'] = 2008 \n",
    "df_romney['candidate'] = 'romney'"
   ]
  },
  {
   "cell_type": "code",
   "execution_count": null,
   "metadata": {
    "collapsed": true
   },
   "outputs": [],
   "source": [
    "df_romney['speech'] = speech\n",
    "df_romney['year'] = 2008 v"
   ]
  },
  {
   "cell_type": "code",
   "execution_count": null,
   "metadata": {
    "collapsed": true
   },
   "outputs": [],
   "source": [
    "df_clinton = pd.DataFrame()\n",
    "\n",
    "speech = []\n",
    "for i in pids_clinton:\n",
    "    res = requests.get(url_speech .format(i))\n",
    "    soup = BeautifulSoup(res.content, 'lxml')\n",
    "    rows = soup.find('span', {\"class\" : \"displaytext\"})\n",
    "    speech.append(rows.text)\n",
    "    time.sleep(2)\n",
    "    \n",
    "df_clinton['speech'] = speech\n",
    "df_clinton['year'] = 2008 \n",
    "df_clinton['candidate'] = 'clinton'"
   ]
  },
  {
   "cell_type": "code",
   "execution_count": null,
   "metadata": {
    "collapsed": true
   },
   "outputs": [],
   "source": [
    "df_clinton['speech'] = speech\n",
    "df_clinton['year'] = 2008 "
   ]
  },
  {
   "cell_type": "code",
   "execution_count": null,
   "metadata": {
    "collapsed": true
   },
   "outputs": [],
   "source": [
    "df_trump = pd.DataFrame()\n",
    "\n",
    "speech = []\n",
    "for i in pids_trump:\n",
    "    res = requests.get(url_speech .format(i))\n",
    "    soup = BeautifulSoup(res.content, 'lxml')\n",
    "    rows = soup.find('span', {\"class\" : \"displaytext\"})\n",
    "    speech.append(rows.text)\n",
    "    time.sleep(2)\n",
    "    \n",
    "df_trump['speech'] = speech\n",
    "df_trump['year'] = 2008 \n",
    "df_trump['candidate'] = 'trump'"
   ]
  },
  {
   "cell_type": "code",
   "execution_count": null,
   "metadata": {
    "collapsed": true
   },
   "outputs": [],
   "source": [
    "df_trump['speech'] = speech\n",
    "df_trump['year'] = 2008 "
   ]
  },
  {
   "cell_type": "code",
   "execution_count": null,
   "metadata": {
    "collapsed": true
   },
   "outputs": [],
   "source": [
    "df_kerry.shape, df_obama.shape, df_mccain.shape, df_obama_2.shape, df_ronmey.shape, df_clinton.shape, df_trump.shape"
   ]
  },
  {
   "cell_type": "markdown",
   "metadata": {
    "collapsed": true
   },
   "source": [
    "# Bush"
   ]
  },
  {
   "cell_type": "markdown",
   "metadata": {},
   "source": [
    "Bush's 2004 election speeches were not stored on this site, so they come from a different website. "
   ]
  },
  {
   "cell_type": "code",
   "execution_count": 6,
   "metadata": {
    "collapsed": true
   },
   "outputs": [],
   "source": [
    "bush_dates = ['bush_nov3', 'bush_oct29', 'bush_oct27', 'bush_oct26', 'bush_oct23', \n",
    "              'bush_oct22', 'bush_oct21', 'bush_oct20', 'bush_oct19', 'bush_oct18', \n",
    "              'bush_oct15', 'bush_oct14', 'bush_oct11', 'bush_oct6', 'bush_oct2', \n",
    "              'bush_sept23', 'bush_sept21', '09.23.04', '09.21.04', 'bush_sept17', \n",
    "              'bush_sept15', 'bush_sept14', 'bush_sept13', 'bush_sept13b', 'bush_sept10', \n",
    "              'bush_sept9', 'bush_sept6', 'bush_sept2', 'bush_aug28', 'bush_aug26', \n",
    "              'bush_aug18', 'bush_aug16', 'bush_aug6', 'bush_aug4', 'bush_aug3', \n",
    "              'bush_july30', 'bush_july30.1', 'bush_july23', 'bush_july21', 'bush_july20', \n",
    "              'bush_july14', 'bush_july9']"
   ]
  },
  {
   "cell_type": "code",
   "execution_count": 7,
   "metadata": {
    "collapsed": true
   },
   "outputs": [],
   "source": [
    "url_bush = 'http://www.presidentialrhetoric.com/campaign/speeches/{}.html'"
   ]
  },
  {
   "cell_type": "code",
   "execution_count": null,
   "metadata": {},
   "outputs": [],
   "source": [
    "df_bush = pd.DataFrame()\n",
    "speech = []\n",
    "\n",
    "for i in bush_dates:\n",
    "    res = requests.get(url_bush .format(i))\n",
    "    soup = BeautifulSoup(res.content, 'lxml')\n",
    "    rows = soup.find_all('p', {\"align\" : \"left\", \"class\":\"style2\"})\n",
    "    sub_speeches = []\n",
    "    for x in rows:\n",
    "        sub_speeches.append(x.text)\n",
    "\n",
    "    sub = []\n",
    "    for x in sub_speeches:\n",
    "        x = x.replace('\\r                      ', ' ')\n",
    "        x = x.replace('\\r', ' ')\n",
    "        x = x.replace('                    ', ' ')\n",
    "        sub.append(x)\n",
    "        \n",
    "    \n",
    "\n",
    "    try:\n",
    "        speech.append(''.join(sub))\n",
    "        time.sleep(2)\n",
    "    except:\n",
    "        print('list empty')"
   ]
  },
  {
   "cell_type": "code",
   "execution_count": 4,
   "metadata": {},
   "outputs": [
    {
     "ename": "NameError",
     "evalue": "name 'df_bush' is not defined",
     "output_type": "error",
     "traceback": [
      "\u001b[0;31m---------------------------------------------------------------------------\u001b[0m",
      "\u001b[0;31mNameError\u001b[0m                                 Traceback (most recent call last)",
      "\u001b[0;32m<ipython-input-4-66707b96359c>\u001b[0m in \u001b[0;36m<module>\u001b[0;34m()\u001b[0m\n\u001b[0;32m----> 1\u001b[0;31m \u001b[0mdf_bush\u001b[0m\u001b[0;34m[\u001b[0m\u001b[0;34m'candidate'\u001b[0m\u001b[0;34m]\u001b[0m \u001b[0;34m=\u001b[0m \u001b[0;34m'bush'\u001b[0m\u001b[0;34m\u001b[0m\u001b[0m\n\u001b[0m\u001b[1;32m      2\u001b[0m \u001b[0mdf_bush\u001b[0m\u001b[0;34m[\u001b[0m\u001b[0;34m'year'\u001b[0m\u001b[0;34m]\u001b[0m \u001b[0;34m=\u001b[0m \u001b[0;36m2008\u001b[0m\u001b[0;34m\u001b[0m\u001b[0m\n\u001b[1;32m      3\u001b[0m \u001b[0mdf_bush\u001b[0m\u001b[0;34m[\u001b[0m\u001b[0;34m'speech'\u001b[0m\u001b[0;34m]\u001b[0m \u001b[0;34m=\u001b[0m \u001b[0mspeech\u001b[0m\u001b[0;34m\u001b[0m\u001b[0m\n",
      "\u001b[0;31mNameError\u001b[0m: name 'df_bush' is not defined"
     ]
    }
   ],
   "source": [
    "df_bush['candidate'] = 'bush'\n",
    "df_bush['year'] = 2008 \n",
    "df_bush['speech'] = speech"
   ]
  },
  {
   "cell_type": "code",
   "execution_count": 11,
   "metadata": {
    "collapsed": true
   },
   "outputs": [],
   "source": [
    "df_bush['candidate'] = 'bush'\n",
    "df_bush['year'] = 2008 "
   ]
  },
  {
   "cell_type": "code",
   "execution_count": 12,
   "metadata": {},
   "outputs": [
    {
     "data": {
      "text/html": [
       "<div>\n",
       "<style>\n",
       "    .dataframe thead tr:only-child th {\n",
       "        text-align: right;\n",
       "    }\n",
       "\n",
       "    .dataframe thead th {\n",
       "        text-align: left;\n",
       "    }\n",
       "\n",
       "    .dataframe tbody tr th {\n",
       "        vertical-align: top;\n",
       "    }\n",
       "</style>\n",
       "<table border=\"1\" class=\"dataframe\">\n",
       "  <thead>\n",
       "    <tr style=\"text-align: right;\">\n",
       "      <th></th>\n",
       "      <th>candidate</th>\n",
       "      <th>year</th>\n",
       "      <th>speech</th>\n",
       "    </tr>\n",
       "  </thead>\n",
       "  <tbody>\n",
       "    <tr>\n",
       "      <th>0</th>\n",
       "      <td>bush</td>\n",
       "      <td>2008</td>\n",
       "      <td>The voters turned out in records numbersand de...</td>\n",
       "    </tr>\n",
       "    <tr>\n",
       "      <th>1</th>\n",
       "      <td>bush</td>\n",
       "      <td>2008</td>\n",
       "      <td>Laura and I are so honored so many cameout to ...</td>\n",
       "    </tr>\n",
       "    <tr>\n",
       "      <th>2</th>\n",
       "      <td>bush</td>\n",
       "      <td>2008</td>\n",
       "      <td>Thank you all for coming. (Applause.) Youknow,...</td>\n",
       "    </tr>\n",
       "    <tr>\n",
       "      <th>3</th>\n",
       "      <td>bush</td>\n",
       "      <td>2008</td>\n",
       "      <td>Thank you all. What a great way to spenda Tues...</td>\n",
       "    </tr>\n",
       "    <tr>\n",
       "      <th>4</th>\n",
       "      <td>bush</td>\n",
       "      <td>2008</td>\n",
       "      <td>Thank you all. (Applause.) Thank you all  for ...</td>\n",
       "    </tr>\n",
       "    <tr>\n",
       "      <th>5</th>\n",
       "      <td>bush</td>\n",
       "      <td>2008</td>\n",
       "      <td>Thank you all for coming. (Applause.) Thankyou...</td>\n",
       "    </tr>\n",
       "    <tr>\n",
       "      <th>6</th>\n",
       "      <td>bush</td>\n",
       "      <td>2008</td>\n",
       "      <td>Thank you all. (Applause.) Thank you allfor co...</td>\n",
       "    </tr>\n",
       "    <tr>\n",
       "      <th>7</th>\n",
       "      <td>bush</td>\n",
       "      <td>2008</td>\n",
       "      <td>Thank you all for coming. (Applause.) Thankyou...</td>\n",
       "    </tr>\n",
       "    <tr>\n",
       "      <th>8</th>\n",
       "      <td>bush</td>\n",
       "      <td>2008</td>\n",
       "      <td>Thank you all for coming today. (Applause.)I a...</td>\n",
       "    </tr>\n",
       "    <tr>\n",
       "      <th>9</th>\n",
       "      <td>bush</td>\n",
       "      <td>2008</td>\n",
       "      <td>Thank you all. Thanks for coming. Thanksfor th...</td>\n",
       "    </tr>\n",
       "    <tr>\n",
       "      <th>10</th>\n",
       "      <td>bush</td>\n",
       "      <td>2008</td>\n",
       "      <td>Thank you all. (Applause.) Okay. It's greatto ...</td>\n",
       "    </tr>\n",
       "    <tr>\n",
       "      <th>11</th>\n",
       "      <td>bush</td>\n",
       "      <td>2008</td>\n",
       "      <td>I appreciate it, thank you. (Applause.)Thank y...</td>\n",
       "    </tr>\n",
       "    <tr>\n",
       "      <th>12</th>\n",
       "      <td>bush</td>\n",
       "      <td>2008</td>\n",
       "      <td>Thank you all. (Applause.) Thanks for comingou...</td>\n",
       "    </tr>\n",
       "    <tr>\n",
       "      <th>13</th>\n",
       "      <td>bush</td>\n",
       "      <td>2008</td>\n",
       "      <td>Thank you all. (Applause.) Thank you allvery m...</td>\n",
       "    </tr>\n",
       "    <tr>\n",
       "      <th>14</th>\n",
       "      <td>bush</td>\n",
       "      <td>2008</td>\n",
       "      <td>Thank you all for coming.AUDIENCE: Four more y...</td>\n",
       "    </tr>\n",
       "    <tr>\n",
       "      <th>15</th>\n",
       "      <td>bush</td>\n",
       "      <td>2008</td>\n",
       "      <td>Thank you all very much for coming. Nothinglik...</td>\n",
       "    </tr>\n",
       "    <tr>\n",
       "      <th>16</th>\n",
       "      <td>bush</td>\n",
       "      <td>2008</td>\n",
       "      <td></td>\n",
       "    </tr>\n",
       "    <tr>\n",
       "      <th>17</th>\n",
       "      <td>bush</td>\n",
       "      <td>2008</td>\n",
       "      <td></td>\n",
       "    </tr>\n",
       "    <tr>\n",
       "      <th>18</th>\n",
       "      <td>bush</td>\n",
       "      <td>2008</td>\n",
       "      <td></td>\n",
       "    </tr>\n",
       "    <tr>\n",
       "      <th>19</th>\n",
       "      <td>bush</td>\n",
       "      <td>2008</td>\n",
       "      <td>Thanks for being here. Go ahead and beseated. ...</td>\n",
       "    </tr>\n",
       "    <tr>\n",
       "      <th>20</th>\n",
       "      <td>bush</td>\n",
       "      <td>2008</td>\n",
       "      <td>Thank you for coming. Bienvenidos a laCasa Bla...</td>\n",
       "    </tr>\n",
       "    <tr>\n",
       "      <th>21</th>\n",
       "      <td>bush</td>\n",
       "      <td>2008</td>\n",
       "      <td>Thank you all. Thanks for the warm welcome.I a...</td>\n",
       "    </tr>\n",
       "    <tr>\n",
       "      <th>22</th>\n",
       "      <td>bush</td>\n",
       "      <td>2008</td>\n",
       "      <td>Thank you all very much for coming. Nothinglik...</td>\n",
       "    </tr>\n",
       "    <tr>\n",
       "      <th>23</th>\n",
       "      <td>bush</td>\n",
       "      <td>2008</td>\n",
       "      <td>Listen, thank you all for coming. Thanksfor co...</td>\n",
       "    </tr>\n",
       "    <tr>\n",
       "      <th>24</th>\n",
       "      <td>bush</td>\n",
       "      <td>2008</td>\n",
       "      <td>Thank you all. (Applause.) Thank you allvery m...</td>\n",
       "    </tr>\n",
       "    <tr>\n",
       "      <th>25</th>\n",
       "      <td>bush</td>\n",
       "      <td>2008</td>\n",
       "      <td>Thank you all for coming. Thank you allvery mu...</td>\n",
       "    </tr>\n",
       "    <tr>\n",
       "      <th>26</th>\n",
       "      <td>bush</td>\n",
       "      <td>2008</td>\n",
       "      <td>Thank you all. Thanks for coming. (Applause.)...</td>\n",
       "    </tr>\n",
       "    <tr>\n",
       "      <th>27</th>\n",
       "      <td>bush</td>\n",
       "      <td>2008</td>\n",
       "      <td></td>\n",
       "    </tr>\n",
       "    <tr>\n",
       "      <th>28</th>\n",
       "      <td>bush</td>\n",
       "      <td>2008</td>\n",
       "      <td>Thanks for coming. Thank you for bringingyour...</td>\n",
       "    </tr>\n",
       "    <tr>\n",
       "      <th>29</th>\n",
       "      <td>bush</td>\n",
       "      <td>2008</td>\n",
       "      <td>Thank you all. (Applause.) Thanks for  coming...</td>\n",
       "    </tr>\n",
       "    <tr>\n",
       "      <th>30</th>\n",
       "      <td>bush</td>\n",
       "      <td>2008</td>\n",
       "      <td>Thank you all very much for coming. Thanksfor...</td>\n",
       "    </tr>\n",
       "    <tr>\n",
       "      <th>31</th>\n",
       "      <td>bush</td>\n",
       "      <td>2008</td>\n",
       "      <td>Thank you all very much. Thanks for thewarm ...</td>\n",
       "    </tr>\n",
       "    <tr>\n",
       "      <th>32</th>\n",
       "      <td>bush</td>\n",
       "      <td>2008</td>\n",
       "      <td>Thank you, Ernest. Thank you for havingme. I...</td>\n",
       "    </tr>\n",
       "    <tr>\n",
       "      <th>33</th>\n",
       "      <td>bush</td>\n",
       "      <td>2008</td>\n",
       "      <td>Thank you all so very much for coming.Thanks...</td>\n",
       "    </tr>\n",
       "    <tr>\n",
       "      <th>34</th>\n",
       "      <td>bush</td>\n",
       "      <td>2008</td>\n",
       "      <td>Thanks for the warm welcome. Welcometo Texas...</td>\n",
       "    </tr>\n",
       "    <tr>\n",
       "      <th>35</th>\n",
       "      <td>bush</td>\n",
       "      <td>2008</td>\n",
       "      <td>Thank you, all. I appreciateyou coming. Sit...</td>\n",
       "    </tr>\n",
       "    <tr>\n",
       "      <th>36</th>\n",
       "      <td>bush</td>\n",
       "      <td>2008</td>\n",
       "      <td>Thank you, all.THE AUDIENCE: Four more year...</td>\n",
       "    </tr>\n",
       "    <tr>\n",
       "      <th>37</th>\n",
       "      <td>bush</td>\n",
       "      <td>2008</td>\n",
       "      <td>Thanks for the warm introduction.It's reall...</td>\n",
       "    </tr>\n",
       "    <tr>\n",
       "      <th>38</th>\n",
       "      <td>bush</td>\n",
       "      <td>2008</td>\n",
       "      <td>Thank you all very much.(Applause.) Gosh, t...</td>\n",
       "    </tr>\n",
       "    <tr>\n",
       "      <th>39</th>\n",
       "      <td>bush</td>\n",
       "      <td>2008</td>\n",
       "      <td>Thank you all very much. I am proudto be b...</td>\n",
       "    </tr>\n",
       "    <tr>\n",
       "      <th>40</th>\n",
       "      <td>bush</td>\n",
       "      <td>2008</td>\n",
       "      <td>Thanks for coming. (Applause.)It's good to...</td>\n",
       "    </tr>\n",
       "    <tr>\n",
       "      <th>41</th>\n",
       "      <td>bush</td>\n",
       "      <td>2008</td>\n",
       "      <td>Thank you all. (Applause.)I'm honored you'...</td>\n",
       "    </tr>\n",
       "  </tbody>\n",
       "</table>\n",
       "</div>"
      ],
      "text/plain": [
       "   candidate  year                                             speech\n",
       "0       bush  2008  The voters turned out in records numbersand de...\n",
       "1       bush  2008  Laura and I are so honored so many cameout to ...\n",
       "2       bush  2008  Thank you all for coming. (Applause.) Youknow,...\n",
       "3       bush  2008  Thank you all. What a great way to spenda Tues...\n",
       "4       bush  2008  Thank you all. (Applause.) Thank you all  for ...\n",
       "5       bush  2008  Thank you all for coming. (Applause.) Thankyou...\n",
       "6       bush  2008  Thank you all. (Applause.) Thank you allfor co...\n",
       "7       bush  2008  Thank you all for coming. (Applause.) Thankyou...\n",
       "8       bush  2008  Thank you all for coming today. (Applause.)I a...\n",
       "9       bush  2008  Thank you all. Thanks for coming. Thanksfor th...\n",
       "10      bush  2008  Thank you all. (Applause.) Okay. It's greatto ...\n",
       "11      bush  2008  I appreciate it, thank you. (Applause.)Thank y...\n",
       "12      bush  2008  Thank you all. (Applause.) Thanks for comingou...\n",
       "13      bush  2008  Thank you all. (Applause.) Thank you allvery m...\n",
       "14      bush  2008  Thank you all for coming.AUDIENCE: Four more y...\n",
       "15      bush  2008  Thank you all very much for coming. Nothinglik...\n",
       "16      bush  2008                                                   \n",
       "17      bush  2008                                                   \n",
       "18      bush  2008                                                   \n",
       "19      bush  2008  Thanks for being here. Go ahead and beseated. ...\n",
       "20      bush  2008  Thank you for coming. Bienvenidos a laCasa Bla...\n",
       "21      bush  2008  Thank you all. Thanks for the warm welcome.I a...\n",
       "22      bush  2008  Thank you all very much for coming. Nothinglik...\n",
       "23      bush  2008  Listen, thank you all for coming. Thanksfor co...\n",
       "24      bush  2008  Thank you all. (Applause.) Thank you allvery m...\n",
       "25      bush  2008  Thank you all for coming. Thank you allvery mu...\n",
       "26      bush  2008   Thank you all. Thanks for coming. (Applause.)...\n",
       "27      bush  2008                                                   \n",
       "28      bush  2008   Thanks for coming. Thank you for bringingyour...\n",
       "29      bush  2008   Thank you all. (Applause.) Thanks for  coming...\n",
       "30      bush  2008   Thank you all very much for coming. Thanksfor...\n",
       "31      bush  2008    Thank you all very much. Thanks for thewarm ...\n",
       "32      bush  2008    Thank you, Ernest. Thank you for havingme. I...\n",
       "33      bush  2008    Thank you all so very much for coming.Thanks...\n",
       "34      bush  2008    Thanks for the warm welcome. Welcometo Texas...\n",
       "35      bush  2008     Thank you, all. I appreciateyou coming. Sit...\n",
       "36      bush  2008     Thank you, all.THE AUDIENCE: Four more year...\n",
       "37      bush  2008     Thanks for the warm introduction.It's reall...\n",
       "38      bush  2008     Thank you all very much.(Applause.) Gosh, t...\n",
       "39      bush  2008      Thank you all very much. I am proudto be b...\n",
       "40      bush  2008      Thanks for coming. (Applause.)It's good to...\n",
       "41      bush  2008      Thank you all. (Applause.)I'm honored you'..."
      ]
     },
     "execution_count": 12,
     "metadata": {},
     "output_type": "execute_result"
    }
   ],
   "source": [
    "df_bush"
   ]
  },
  {
   "cell_type": "code",
   "execution_count": 13,
   "metadata": {
    "collapsed": true
   },
   "outputs": [],
   "source": [
    "df_bush.drop([16, 17, 18, 27], axis=0, inplace=True)"
   ]
  },
  {
   "cell_type": "markdown",
   "metadata": {
    "collapsed": true
   },
   "source": [
    "To csv files"
   ]
  },
  {
   "cell_type": "code",
   "execution_count": 14,
   "metadata": {
    "collapsed": true
   },
   "outputs": [],
   "source": [
    "df_bush.to_csv('./csv_files/speech_bush', index=False)"
   ]
  },
  {
   "cell_type": "code",
   "execution_count": null,
   "metadata": {
    "collapsed": true
   },
   "outputs": [],
   "source": [
    "df_kerry.to_csv('./csv_files/speech_kerry', index=False)\n",
    "df_bush.to_csv('./csv_files/speech_bush', index=False)\n",
    "\n",
    "df_obama.to_csv('./csv_files/speech_obama', index=False)\n",
    "df_mccain.to_csv('./csv_files/speech_mccain', index=False)\n",
    "\n",
    "df_obama_2.to_csv('./csv_files/speech_obama_2', index=False)\n",
    "df_romney.to_csv('./csv_files/speech_romney', index=False)\n",
    "\n",
    "df_clinton.to_csv('./csv_files/speech_clinton', index=False)\n",
    "df_trump.to_csv('./csv_files/speech_trump', index=False)"
   ]
  },
  {
   "cell_type": "code",
   "execution_count": null,
   "metadata": {
    "collapsed": true
   },
   "outputs": [],
   "source": []
  }
 ],
 "metadata": {
  "kernelspec": {
   "display_name": "Python 3",
   "language": "python",
   "name": "python3"
  },
  "language_info": {
   "codemirror_mode": {
    "name": "ipython",
    "version": 3
   },
   "file_extension": ".py",
   "mimetype": "text/x-python",
   "name": "python",
   "nbconvert_exporter": "python",
   "pygments_lexer": "ipython3",
   "version": "3.6.1"
  }
 },
 "nbformat": 4,
 "nbformat_minor": 2
}
