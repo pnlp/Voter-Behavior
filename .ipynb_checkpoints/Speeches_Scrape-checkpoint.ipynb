{
 "cells": [
  {
   "cell_type": "markdown",
   "metadata": {},
   "source": [
    "# Web Scrape for Election Speeches"
   ]
  },
  {
   "cell_type": "markdown",
   "metadata": {},
   "source": [
    "### Previous Notebook [Web Scraping for Votes Per County](Votes_Web_Scrape.ipynb)\n",
    "### Next Notebook [Data Cleaning](Data_Cleaning.ipynb)"
   ]
  },
  {
   "cell_type": "markdown",
   "metadata": {},
   "source": [
    "This notebook scrapes all the speeches presidential nominees gave in there campaigns durring the election year. So the date of the first sppech is before the Republican and Democratic Conventions.\n",
    "\n",
    "### Section One\n",
    "Scrapes for the url extension that each speech is under.\n",
    "- [Scrape for url](#section1)\n",
    "\n",
    "### Section Two\n",
    "Uses the urls from sections one to scrape the speeches from each address.\n",
    "- [Scrape for Speech](#section2)"
   ]
  },
  {
   "cell_type": "code",
   "execution_count": 1,
   "metadata": {
    "collapsed": true
   },
   "outputs": [],
   "source": [
    "import pandas as pd\n",
    "import numpy as np\n",
    "from bs4 import BeautifulSoup\n",
    "import requests\n",
    "import time"
   ]
  },
  {
   "cell_type": "markdown",
   "metadata": {},
   "source": [
    "<a id='section1'></a>\n",
    "# Scrape for Speech ID"
   ]
  },
  {
   "cell_type": "markdown",
   "metadata": {},
   "source": [
    "Each speech has a specific id in it's url, but there is no order to which canidate's speeches get which id. So to start the scrape for the speeches, a list of the IDs are scraped from the candidates page."
   ]
  },
  {
   "cell_type": "code",
   "execution_count": 2,
   "metadata": {
    "collapsed": true
   },
   "outputs": [],
   "source": [
    "url_2004_kerry = 'http://www.presidency.ucsb.edu/2004_election_speeches.php?candidate=67&campaign=2004KERRY'\n",
    "\n",
    "url_2008_obama = 'http://www.presidency.ucsb.edu/2008_election_speeches.php?candidate=44&campaign=2008OBAMA&doctype=5000'\n",
    "url_2008_mccain = 'http://www.presidency.ucsb.edu/2008_election_speeches.php?candidate=68&campaign=2008MCCAIN&doctype=5000'\n",
    "\n",
    "url_2012_obama = 'http://www.presidency.ucsb.edu/2012_election_speeches.php?candidate=44&doctype=1157'\n",
    "url_2012_romney = 'http://www.presidency.ucsb.edu/2012_election_speeches.php?candidate=79&campaign=2012ROMNEY&doctype=5000'\n",
    "\n",
    "url_2016_clinton = 'http://www.presidency.ucsb.edu/2016_election_speeches.php?candidate=70&campaign=2016CLINTON&doctype=5000'\n",
    "url_2016_trump = 'http://www.presidency.ucsb.edu/2016_election_speeches.php?candidate=45&campaign=2016TRUMP&doctype=5000'"
   ]
  },
  {
   "cell_type": "code",
   "execution_count": 3,
   "metadata": {
    "collapsed": true
   },
   "outputs": [],
   "source": [
    "res = requests.get(url_2004_kerry)\n",
    "soup = BeautifulSoup(res.content, 'lxml')"
   ]
  },
  {
   "cell_type": "code",
   "execution_count": 4,
   "metadata": {
    "collapsed": true
   },
   "outputs": [],
   "source": [
    "pids_kerry = []\n",
    "rows = soup.find_all('tr')\n",
    "for i in range(49, 138):\n",
    "    row = rows[i].find('a')\n",
    "    row = str(row)\n",
    "    pid = int(row[29:34])\n",
    "    pids_kerry.append(pid)"
   ]
  },
  {
   "cell_type": "code",
   "execution_count": 5,
   "metadata": {
    "collapsed": true
   },
   "outputs": [],
   "source": [
    "res = requests.get(url_2008_obama)\n",
    "soup = BeautifulSoup(res.content, 'lxml')\n",
    "\n",
    "pids_obama = []\n",
    "rows = soup.find_all('tr')\n",
    "for i in range(49, 276):\n",
    "    row = rows[i].find('a')\n",
    "    row = str(row)\n",
    "    pid = int(row[29:34])\n",
    "    pids_obama.append(pid)"
   ]
  },
  {
   "cell_type": "code",
   "execution_count": 6,
   "metadata": {
    "collapsed": true
   },
   "outputs": [],
   "source": [
    "res = requests.get(url_2008_mccain)\n",
    "soup = BeautifulSoup(res.content, 'lxml')\n",
    "\n",
    "pids_mccain = []\n",
    "rows = soup.find_all('tr')\n",
    "for i in range(49, 224):\n",
    "    row = rows[i].find('a')\n",
    "    row = str(row)\n",
    "    pid = int(row[29:34])\n",
    "    pids_mccain.append(pid)"
   ]
  },
  {
   "cell_type": "code",
   "execution_count": 7,
   "metadata": {
    "collapsed": true,
    "scrolled": true
   },
   "outputs": [],
   "source": [
    "res = requests.get(url_2012_obama)\n",
    "soup = BeautifulSoup(res.content, 'lxml')\n",
    "\n",
    "pids_obama_2 = []\n",
    "rows = soup.find_all('tr')\n",
    "for i in range(49, 89):\n",
    "    row = rows[i].find('a')\n",
    "    row = str(row)\n",
    "    pid = int(row[29:34])\n",
    "    pids_obama_2.append(pid)\n",
    "    \n",
    "for i in range(89, 153):\n",
    "    row = rows[i].find('a')\n",
    "    row = str(row)\n",
    "    pid = int(row[29:35])\n",
    "    pids_obama_2.append(pid)"
   ]
  },
  {
   "cell_type": "code",
   "execution_count": 8,
   "metadata": {
    "collapsed": true
   },
   "outputs": [],
   "source": [
    "res = requests.get(url_2012_romney)\n",
    "soup = BeautifulSoup(res.content, 'lxml')\n",
    "\n",
    "pids_romney = []\n",
    "rows = soup.find_all('tr')\n",
    "for i in range(49, 67):\n",
    "    row = rows[i].find('a')\n",
    "    row = str(row)\n",
    "    pid = int(row[29:34])\n",
    "    pids_romney.append(pid)\n",
    "\n",
    "for i in range(67, 150):\n",
    "    row = rows[i].find('a')\n",
    "    row = str(row)\n",
    "    pid = int(row[29:35])\n",
    "    pids_romney.append(pid)"
   ]
  },
  {
   "cell_type": "code",
   "execution_count": 9,
   "metadata": {
    "collapsed": true
   },
   "outputs": [],
   "source": [
    "res = requests.get(url_2016_clinton)\n",
    "soup = BeautifulSoup(res.content, 'lxml')\n",
    "\n",
    "pids_clinton = []\n",
    "rows = soup.find_all('tr')\n",
    "for i in range(49, 156):\n",
    "    row = rows[i].find('a')\n",
    "    row = str(row)\n",
    "    pid = int(row[29:34])\n",
    "    pids_clinton.append(pid)\n",
    "\n",
    "for i in range(156, 245):\n",
    "    row = rows[i].find('a')\n",
    "    row = str(row)\n",
    "    pid = int(row[29:35])\n",
    "    pids_clinton.append(pid)"
   ]
  },
  {
   "cell_type": "code",
   "execution_count": 10,
   "metadata": {
    "collapsed": true
   },
   "outputs": [],
   "source": [
    "res = requests.get(url_2016_trump)\n",
    "soup = BeautifulSoup(res.content, 'lxml')\n",
    "\n",
    "pids_trump = []\n",
    "rows = soup.find_all('tr')\n",
    "for i in range(49, 123):\n",
    "    row = rows[i].find('a')\n",
    "    row = str(row)\n",
    "    pid = int(row[29:35])\n",
    "    pids_trump.append(pid)"
   ]
  },
  {
   "cell_type": "markdown",
   "metadata": {},
   "source": [
    "<a id='section2'></a>\n",
    "# Scrape for Speeches"
   ]
  },
  {
   "cell_type": "markdown",
   "metadata": {},
   "source": [
    "Using the IDs to go troug each speech, a dataframe from each catidates speeches is created. Each row is an entire speech."
   ]
  },
  {
   "cell_type": "code",
   "execution_count": 11,
   "metadata": {
    "collapsed": true
   },
   "outputs": [],
   "source": [
    "url_speech = 'http://www.presidency.ucsb.edu/ws/index.php?pid={}'"
   ]
  },
  {
   "cell_type": "code",
   "execution_count": 12,
   "metadata": {
    "collapsed": true
   },
   "outputs": [],
   "source": [
    "df_kerry = pd.DataFrame()\n",
    "\n",
    "speech = []\n",
    "for i in pids_kerry:\n",
    "    res = requests.get(url_speech .format(i))\n",
    "    soup = BeautifulSoup(res.content, 'lxml')\n",
    "    rows = soup.find('span', {\"class\" : \"displaytext\"})\n",
    "    speech.append(rows.text)\n",
    "    time.sleep(3)\n",
    "    \n",
    "df_kerry['speech'] = speech\n",
    "df_kerry['year'] = 2004 \n",
    "df_kerry['candidate'] = 'kerry'"
   ]
  },
  {
   "cell_type": "code",
   "execution_count": 13,
   "metadata": {
    "collapsed": true
   },
   "outputs": [],
   "source": [
    "df_kerry['speech'] = speech\n",
    "df_kerry['year'] = 2004 "
   ]
  },
  {
   "cell_type": "code",
   "execution_count": 14,
   "metadata": {
    "collapsed": true,
    "scrolled": true
   },
   "outputs": [],
   "source": [
    "df_obama = pd.DataFrame()\n",
    "\n",
    "speech = []\n",
    "for i in pids_obama:\n",
    "    res = requests.get(url_speech .format(i))\n",
    "    soup = BeautifulSoup(res.content, 'lxml')\n",
    "    rows = soup.find('span', {\"class\" : \"displaytext\"})\n",
    "    speech.append(rows.text)\n",
    "    time.sleep(3)\n",
    "    \n",
    "df_obama['speech'] = speech\n",
    "df_obama['year'] = 2008 \n",
    "df_obama['candidate'] = 'obama'"
   ]
  },
  {
   "cell_type": "code",
   "execution_count": 15,
   "metadata": {
    "collapsed": true
   },
   "outputs": [],
   "source": [
    "df_obama['speech'] = speech\n",
    "df_obama['year'] = 2008 "
   ]
  },
  {
   "cell_type": "code",
   "execution_count": 16,
   "metadata": {
    "collapsed": true
   },
   "outputs": [],
   "source": [
    "df_mccain = pd.DataFrame()\n",
    "\n",
    "speech = []\n",
    "for i in pids_mccain:\n",
    "    res = requests.get(url_speech .format(i))\n",
    "    soup = BeautifulSoup(res.content, 'lxml')\n",
    "    rows = soup.find('span', {\"class\" : \"displaytext\"})\n",
    "    speech.append(rows.text)\n",
    "    time.sleep(3)\n",
    "    \n",
    "df_mccain['speech'] = speech\n",
    "df_mccain['year'] = 2008 \n",
    "df_mccain['candidate'] = 'mccain'"
   ]
  },
  {
   "cell_type": "code",
   "execution_count": 17,
   "metadata": {
    "collapsed": true
   },
   "outputs": [],
   "source": [
    "df_mccain['speech'] = speech\n",
    "df_mccain['year'] = 2008 "
   ]
  },
  {
   "cell_type": "code",
   "execution_count": 18,
   "metadata": {
    "collapsed": true
   },
   "outputs": [],
   "source": [
    "df_obama_2 = pd.DataFrame()\n",
    "\n",
    "speech = []\n",
    "for i in pids_obama_2:\n",
    "    res = requests.get(url_speech .format(i))\n",
    "    soup = BeautifulSoup(res.content, 'lxml')\n",
    "    rows = soup.find('span', {\"class\" : \"displaytext\"})\n",
    "    speech.append(rows.text)\n",
    "    time.sleep(3)\n",
    "    \n",
    "df_obama_2['speech'] = speech\n",
    "df_obama_2['year'] = 2008 \n",
    "df_obama_2['candidate'] = 'obama'"
   ]
  },
  {
   "cell_type": "code",
   "execution_count": 19,
   "metadata": {
    "collapsed": true
   },
   "outputs": [],
   "source": [
    "df_obama_2['speech'] = speech\n",
    "df_obama_2['year'] = 2008 "
   ]
  },
  {
   "cell_type": "code",
   "execution_count": 20,
   "metadata": {
    "collapsed": true
   },
   "outputs": [],
   "source": [
    "df_romney = pd.DataFrame()\n",
    "\n",
    "speech = []\n",
    "for i in pids_romney:\n",
    "    res = requests.get(url_speech .format(i))\n",
    "    soup = BeautifulSoup(res.content, 'lxml')\n",
    "    rows = soup.find('span', {\"class\" : \"displaytext\"})\n",
    "    speech.append(rows.text)\n",
    "    time.sleep(3)\n",
    "    \n",
    "df_romney['speech'] = speech\n",
    "df_romney['year'] = 2008 \n",
    "df_romney['candidate'] = 'romney'"
   ]
  },
  {
   "cell_type": "code",
   "execution_count": 22,
   "metadata": {
    "collapsed": true
   },
   "outputs": [],
   "source": [
    "df_romney['speech'] = speech\n",
    "df_romney['year'] = 2008"
   ]
  },
  {
   "cell_type": "code",
   "execution_count": 23,
   "metadata": {
    "collapsed": true
   },
   "outputs": [],
   "source": [
    "df_clinton = pd.DataFrame()\n",
    "\n",
    "speech = []\n",
    "for i in pids_clinton:\n",
    "    res = requests.get(url_speech .format(i))\n",
    "    soup = BeautifulSoup(res.content, 'lxml')\n",
    "    rows = soup.find('span', {\"class\" : \"displaytext\"})\n",
    "    speech.append(rows.text)\n",
    "    time.sleep(3)\n",
    "    \n",
    "df_clinton['speech'] = speech\n",
    "df_clinton['year'] = 2008 \n",
    "df_clinton['candidate'] = 'clinton'"
   ]
  },
  {
   "cell_type": "code",
   "execution_count": 24,
   "metadata": {
    "collapsed": true
   },
   "outputs": [],
   "source": [
    "df_clinton['speech'] = speech\n",
    "df_clinton['year'] = 2008 "
   ]
  },
  {
   "cell_type": "code",
   "execution_count": 25,
   "metadata": {
    "collapsed": true
   },
   "outputs": [],
   "source": [
    "df_trump = pd.DataFrame()\n",
    "\n",
    "speech = []\n",
    "for i in pids_trump:\n",
    "    res = requests.get(url_speech .format(i))\n",
    "    soup = BeautifulSoup(res.content, 'lxml')\n",
    "    rows = soup.find('span', {\"class\" : \"displaytext\"})\n",
    "    speech.append(rows.text)\n",
    "    time.sleep(3)\n",
    "    \n",
    "df_trump['speech'] = speech\n",
    "df_trump['year'] = 2008 \n",
    "df_trump['candidate'] = 'trump'"
   ]
  },
  {
   "cell_type": "code",
   "execution_count": 26,
   "metadata": {
    "collapsed": true
   },
   "outputs": [],
   "source": [
    "df_trump['speech'] = speech\n",
    "df_trump['year'] = 2008 "
   ]
  },
  {
   "cell_type": "code",
   "execution_count": 28,
   "metadata": {},
   "outputs": [
    {
     "data": {
      "text/plain": [
       "((89, 3), (227, 3), (175, 3), (104, 3), (101, 3), (196, 3), (74, 3))"
      ]
     },
     "execution_count": 28,
     "metadata": {},
     "output_type": "execute_result"
    }
   ],
   "source": [
    "df_kerry.shape, df_obama.shape, df_mccain.shape, df_obama_2.shape, df_romney.shape, df_clinton.shape, df_trump.shape"
   ]
  },
  {
   "cell_type": "markdown",
   "metadata": {
    "collapsed": true
   },
   "source": [
    "## Special Case - Bush"
   ]
  },
  {
   "cell_type": "markdown",
   "metadata": {},
   "source": [
    "Bush's 2004 election speeches were not stored on this site, so they come from a different website. "
   ]
  },
  {
   "cell_type": "code",
   "execution_count": 29,
   "metadata": {
    "collapsed": true
   },
   "outputs": [],
   "source": [
    "bush_dates = ['bush_nov3', 'bush_oct29', 'bush_oct27', 'bush_oct26', 'bush_oct23', \n",
    "              'bush_oct22', 'bush_oct21', 'bush_oct20', 'bush_oct19', 'bush_oct18', \n",
    "              'bush_oct15', 'bush_oct14', 'bush_oct11', 'bush_oct6', 'bush_oct2', \n",
    "              'bush_sept23', 'bush_sept21', '09.23.04', '09.21.04', 'bush_sept17', \n",
    "              'bush_sept15', 'bush_sept14', 'bush_sept13', 'bush_sept13b', 'bush_sept10', \n",
    "              'bush_sept9', 'bush_sept6', 'bush_sept2', 'bush_aug28', 'bush_aug26', \n",
    "              'bush_aug18', 'bush_aug16', 'bush_aug6', 'bush_aug4', 'bush_aug3', \n",
    "              'bush_july30', 'bush_july30.1', 'bush_july23', 'bush_july21', 'bush_july20', \n",
    "              'bush_july14', 'bush_july9']"
   ]
  },
  {
   "cell_type": "code",
   "execution_count": 30,
   "metadata": {
    "collapsed": true
   },
   "outputs": [],
   "source": [
    "url_bush = 'http://www.presidentialrhetoric.com/campaign/speeches/{}.html'"
   ]
  },
  {
   "cell_type": "code",
   "execution_count": 31,
   "metadata": {
    "collapsed": true
   },
   "outputs": [],
   "source": [
    "df_bush = pd.DataFrame()\n",
    "speech = []\n",
    "\n",
    "for i in bush_dates:\n",
    "    res = requests.get(url_bush .format(i))\n",
    "    soup = BeautifulSoup(res.content, 'lxml')\n",
    "    rows = soup.find_all('p', {\"align\" : \"left\", \"class\":\"style2\"})\n",
    "    time.sleep(2)\n",
    "    sub_speeches = []\n",
    "    for x in rows:\n",
    "        sub_speeches.append(x.text)\n",
    "\n",
    "    sub = []\n",
    "    for x in sub_speeches:\n",
    "        x = x.replace('\\r                      ', ' ')\n",
    "        x = x.replace('\\r', ' ')\n",
    "        x = x.replace('                    ', ' ')\n",
    "        sub.append(x)\n",
    "        \n",
    "    \n",
    "\n",
    "    try:\n",
    "        speech.append(''.join(sub))\n",
    "    except:\n",
    "        print('list empty')"
   ]
  },
  {
   "cell_type": "code",
   "execution_count": 32,
   "metadata": {
    "collapsed": true
   },
   "outputs": [],
   "source": [
    "df_bush['candidate'] = 'bush'\n",
    "df_bush['year'] = 2008 \n",
    "df_bush['speech'] = speech"
   ]
  },
  {
   "cell_type": "code",
   "execution_count": 33,
   "metadata": {
    "collapsed": true
   },
   "outputs": [],
   "source": [
    "df_bush['candidate'] = 'bush'\n",
    "df_bush['year'] = 2008 "
   ]
  },
  {
   "cell_type": "code",
   "execution_count": 34,
   "metadata": {},
   "outputs": [
    {
     "data": {
      "text/html": [
       "<div>\n",
       "<style>\n",
       "    .dataframe thead tr:only-child th {\n",
       "        text-align: right;\n",
       "    }\n",
       "\n",
       "    .dataframe thead th {\n",
       "        text-align: left;\n",
       "    }\n",
       "\n",
       "    .dataframe tbody tr th {\n",
       "        vertical-align: top;\n",
       "    }\n",
       "</style>\n",
       "<table border=\"1\" class=\"dataframe\">\n",
       "  <thead>\n",
       "    <tr style=\"text-align: right;\">\n",
       "      <th></th>\n",
       "      <th>candidate</th>\n",
       "      <th>year</th>\n",
       "      <th>speech</th>\n",
       "    </tr>\n",
       "  </thead>\n",
       "  <tbody>\n",
       "    <tr>\n",
       "      <th>0</th>\n",
       "      <td>bush</td>\n",
       "      <td>2008</td>\n",
       "      <td>The voters turned out in records numbers and d...</td>\n",
       "    </tr>\n",
       "    <tr>\n",
       "      <th>1</th>\n",
       "      <td>bush</td>\n",
       "      <td>2008</td>\n",
       "      <td>Laura and I are so honored so many came out to...</td>\n",
       "    </tr>\n",
       "    <tr>\n",
       "      <th>2</th>\n",
       "      <td>bush</td>\n",
       "      <td>2008</td>\n",
       "      <td>Thank you all for coming. (Applause.) You know...</td>\n",
       "    </tr>\n",
       "    <tr>\n",
       "      <th>3</th>\n",
       "      <td>bush</td>\n",
       "      <td>2008</td>\n",
       "      <td>Thank you all. What a great way to spend a Tue...</td>\n",
       "    </tr>\n",
       "    <tr>\n",
       "      <th>4</th>\n",
       "      <td>bush</td>\n",
       "      <td>2008</td>\n",
       "      <td>Thank you all. (Applause.) Thank you all  for ...</td>\n",
       "    </tr>\n",
       "    <tr>\n",
       "      <th>5</th>\n",
       "      <td>bush</td>\n",
       "      <td>2008</td>\n",
       "      <td>Thank you all for coming. (Applause.) Thank yo...</td>\n",
       "    </tr>\n",
       "    <tr>\n",
       "      <th>6</th>\n",
       "      <td>bush</td>\n",
       "      <td>2008</td>\n",
       "      <td>Thank you all. (Applause.) Thank you all for c...</td>\n",
       "    </tr>\n",
       "    <tr>\n",
       "      <th>7</th>\n",
       "      <td>bush</td>\n",
       "      <td>2008</td>\n",
       "      <td>Thank you all for coming. (Applause.) Thank yo...</td>\n",
       "    </tr>\n",
       "    <tr>\n",
       "      <th>8</th>\n",
       "      <td>bush</td>\n",
       "      <td>2008</td>\n",
       "      <td>Thank you all for coming today. (Applause.) I ...</td>\n",
       "    </tr>\n",
       "    <tr>\n",
       "      <th>9</th>\n",
       "      <td>bush</td>\n",
       "      <td>2008</td>\n",
       "      <td>Thank you all. Thanks for coming. Thanks for t...</td>\n",
       "    </tr>\n",
       "    <tr>\n",
       "      <th>10</th>\n",
       "      <td>bush</td>\n",
       "      <td>2008</td>\n",
       "      <td>Thank you all. (Applause.) Okay. It's great to...</td>\n",
       "    </tr>\n",
       "    <tr>\n",
       "      <th>11</th>\n",
       "      <td>bush</td>\n",
       "      <td>2008</td>\n",
       "      <td>I appreciate it, thank you. (Applause.) Thank ...</td>\n",
       "    </tr>\n",
       "    <tr>\n",
       "      <th>12</th>\n",
       "      <td>bush</td>\n",
       "      <td>2008</td>\n",
       "      <td>Thank you all. (Applause.) Thanks for coming o...</td>\n",
       "    </tr>\n",
       "    <tr>\n",
       "      <th>13</th>\n",
       "      <td>bush</td>\n",
       "      <td>2008</td>\n",
       "      <td>Thank you all. (Applause.) Thank you all very ...</td>\n",
       "    </tr>\n",
       "    <tr>\n",
       "      <th>14</th>\n",
       "      <td>bush</td>\n",
       "      <td>2008</td>\n",
       "      <td>Thank you all for coming.AUDIENCE: Four more y...</td>\n",
       "    </tr>\n",
       "    <tr>\n",
       "      <th>15</th>\n",
       "      <td>bush</td>\n",
       "      <td>2008</td>\n",
       "      <td>Thank you all very much for coming. Nothing li...</td>\n",
       "    </tr>\n",
       "    <tr>\n",
       "      <th>16</th>\n",
       "      <td>bush</td>\n",
       "      <td>2008</td>\n",
       "      <td></td>\n",
       "    </tr>\n",
       "    <tr>\n",
       "      <th>17</th>\n",
       "      <td>bush</td>\n",
       "      <td>2008</td>\n",
       "      <td></td>\n",
       "    </tr>\n",
       "    <tr>\n",
       "      <th>18</th>\n",
       "      <td>bush</td>\n",
       "      <td>2008</td>\n",
       "      <td></td>\n",
       "    </tr>\n",
       "    <tr>\n",
       "      <th>19</th>\n",
       "      <td>bush</td>\n",
       "      <td>2008</td>\n",
       "      <td>Thanks for being here. Go ahead and be seated....</td>\n",
       "    </tr>\n",
       "    <tr>\n",
       "      <th>20</th>\n",
       "      <td>bush</td>\n",
       "      <td>2008</td>\n",
       "      <td>Thank you for coming. Bienvenidos a la Casa Bl...</td>\n",
       "    </tr>\n",
       "    <tr>\n",
       "      <th>21</th>\n",
       "      <td>bush</td>\n",
       "      <td>2008</td>\n",
       "      <td>Thank you all. Thanks for the warm welcome. I ...</td>\n",
       "    </tr>\n",
       "    <tr>\n",
       "      <th>22</th>\n",
       "      <td>bush</td>\n",
       "      <td>2008</td>\n",
       "      <td>Thank you all very much for coming. Nothing li...</td>\n",
       "    </tr>\n",
       "    <tr>\n",
       "      <th>23</th>\n",
       "      <td>bush</td>\n",
       "      <td>2008</td>\n",
       "      <td>Listen, thank you all for coming. Thanks for c...</td>\n",
       "    </tr>\n",
       "    <tr>\n",
       "      <th>24</th>\n",
       "      <td>bush</td>\n",
       "      <td>2008</td>\n",
       "      <td>Thank you all. (Applause.) Thank you all very ...</td>\n",
       "    </tr>\n",
       "    <tr>\n",
       "      <th>25</th>\n",
       "      <td>bush</td>\n",
       "      <td>2008</td>\n",
       "      <td>Thank you all for coming. Thank you all very m...</td>\n",
       "    </tr>\n",
       "    <tr>\n",
       "      <th>26</th>\n",
       "      <td>bush</td>\n",
       "      <td>2008</td>\n",
       "      <td>Thank you all. Thanks for coming. (Applause.)...</td>\n",
       "    </tr>\n",
       "    <tr>\n",
       "      <th>27</th>\n",
       "      <td>bush</td>\n",
       "      <td>2008</td>\n",
       "      <td></td>\n",
       "    </tr>\n",
       "    <tr>\n",
       "      <th>28</th>\n",
       "      <td>bush</td>\n",
       "      <td>2008</td>\n",
       "      <td>Thanks for coming. Thank you for bringing you...</td>\n",
       "    </tr>\n",
       "    <tr>\n",
       "      <th>29</th>\n",
       "      <td>bush</td>\n",
       "      <td>2008</td>\n",
       "      <td>Thank you all. (Applause.) Thanks for  coming...</td>\n",
       "    </tr>\n",
       "    <tr>\n",
       "      <th>30</th>\n",
       "      <td>bush</td>\n",
       "      <td>2008</td>\n",
       "      <td>Thank you all very much for coming. Thanks fo...</td>\n",
       "    </tr>\n",
       "    <tr>\n",
       "      <th>31</th>\n",
       "      <td>bush</td>\n",
       "      <td>2008</td>\n",
       "      <td>Thank you all very much. Thanks for the warm...</td>\n",
       "    </tr>\n",
       "    <tr>\n",
       "      <th>32</th>\n",
       "      <td>bush</td>\n",
       "      <td>2008</td>\n",
       "      <td>Thank you, Ernest. Thank you for having me. ...</td>\n",
       "    </tr>\n",
       "    <tr>\n",
       "      <th>33</th>\n",
       "      <td>bush</td>\n",
       "      <td>2008</td>\n",
       "      <td>Thank you all so very much for coming. Thank...</td>\n",
       "    </tr>\n",
       "    <tr>\n",
       "      <th>34</th>\n",
       "      <td>bush</td>\n",
       "      <td>2008</td>\n",
       "      <td>Thanks for the warm welcome. Welcome to Texa...</td>\n",
       "    </tr>\n",
       "    <tr>\n",
       "      <th>35</th>\n",
       "      <td>bush</td>\n",
       "      <td>2008</td>\n",
       "      <td>Thank you, all. I appreciate you coming. Si...</td>\n",
       "    </tr>\n",
       "    <tr>\n",
       "      <th>36</th>\n",
       "      <td>bush</td>\n",
       "      <td>2008</td>\n",
       "      <td>Thank you, all.THE AUDIENCE: Four more year...</td>\n",
       "    </tr>\n",
       "    <tr>\n",
       "      <th>37</th>\n",
       "      <td>bush</td>\n",
       "      <td>2008</td>\n",
       "      <td>Thanks for the warm introduction. It's real...</td>\n",
       "    </tr>\n",
       "    <tr>\n",
       "      <th>38</th>\n",
       "      <td>bush</td>\n",
       "      <td>2008</td>\n",
       "      <td>Thank you all very much. (Applause.) Gosh, ...</td>\n",
       "    </tr>\n",
       "    <tr>\n",
       "      <th>39</th>\n",
       "      <td>bush</td>\n",
       "      <td>2008</td>\n",
       "      <td>Thank you all very much. I am proud to be ...</td>\n",
       "    </tr>\n",
       "    <tr>\n",
       "      <th>40</th>\n",
       "      <td>bush</td>\n",
       "      <td>2008</td>\n",
       "      <td>Thanks for coming. (Applause.) It's good t...</td>\n",
       "    </tr>\n",
       "    <tr>\n",
       "      <th>41</th>\n",
       "      <td>bush</td>\n",
       "      <td>2008</td>\n",
       "      <td>Thank you all. (Applause.) I'm honored you...</td>\n",
       "    </tr>\n",
       "  </tbody>\n",
       "</table>\n",
       "</div>"
      ],
      "text/plain": [
       "   candidate  year                                             speech\n",
       "0       bush  2008  The voters turned out in records numbers and d...\n",
       "1       bush  2008  Laura and I are so honored so many came out to...\n",
       "2       bush  2008  Thank you all for coming. (Applause.) You know...\n",
       "3       bush  2008  Thank you all. What a great way to spend a Tue...\n",
       "4       bush  2008  Thank you all. (Applause.) Thank you all  for ...\n",
       "5       bush  2008  Thank you all for coming. (Applause.) Thank yo...\n",
       "6       bush  2008  Thank you all. (Applause.) Thank you all for c...\n",
       "7       bush  2008  Thank you all for coming. (Applause.) Thank yo...\n",
       "8       bush  2008  Thank you all for coming today. (Applause.) I ...\n",
       "9       bush  2008  Thank you all. Thanks for coming. Thanks for t...\n",
       "10      bush  2008  Thank you all. (Applause.) Okay. It's great to...\n",
       "11      bush  2008  I appreciate it, thank you. (Applause.) Thank ...\n",
       "12      bush  2008  Thank you all. (Applause.) Thanks for coming o...\n",
       "13      bush  2008  Thank you all. (Applause.) Thank you all very ...\n",
       "14      bush  2008  Thank you all for coming.AUDIENCE: Four more y...\n",
       "15      bush  2008  Thank you all very much for coming. Nothing li...\n",
       "16      bush  2008                                                   \n",
       "17      bush  2008                                                   \n",
       "18      bush  2008                                                   \n",
       "19      bush  2008  Thanks for being here. Go ahead and be seated....\n",
       "20      bush  2008  Thank you for coming. Bienvenidos a la Casa Bl...\n",
       "21      bush  2008  Thank you all. Thanks for the warm welcome. I ...\n",
       "22      bush  2008  Thank you all very much for coming. Nothing li...\n",
       "23      bush  2008  Listen, thank you all for coming. Thanks for c...\n",
       "24      bush  2008  Thank you all. (Applause.) Thank you all very ...\n",
       "25      bush  2008  Thank you all for coming. Thank you all very m...\n",
       "26      bush  2008   Thank you all. Thanks for coming. (Applause.)...\n",
       "27      bush  2008                                                   \n",
       "28      bush  2008   Thanks for coming. Thank you for bringing you...\n",
       "29      bush  2008   Thank you all. (Applause.) Thanks for  coming...\n",
       "30      bush  2008   Thank you all very much for coming. Thanks fo...\n",
       "31      bush  2008    Thank you all very much. Thanks for the warm...\n",
       "32      bush  2008    Thank you, Ernest. Thank you for having me. ...\n",
       "33      bush  2008    Thank you all so very much for coming. Thank...\n",
       "34      bush  2008    Thanks for the warm welcome. Welcome to Texa...\n",
       "35      bush  2008     Thank you, all. I appreciate you coming. Si...\n",
       "36      bush  2008     Thank you, all.THE AUDIENCE: Four more year...\n",
       "37      bush  2008     Thanks for the warm introduction. It's real...\n",
       "38      bush  2008     Thank you all very much. (Applause.) Gosh, ...\n",
       "39      bush  2008      Thank you all very much. I am proud to be ...\n",
       "40      bush  2008      Thanks for coming. (Applause.) It's good t...\n",
       "41      bush  2008      Thank you all. (Applause.) I'm honored you..."
      ]
     },
     "execution_count": 34,
     "metadata": {},
     "output_type": "execute_result"
    }
   ],
   "source": [
    "df_bush"
   ]
  },
  {
   "cell_type": "code",
   "execution_count": 35,
   "metadata": {
    "collapsed": true
   },
   "outputs": [],
   "source": [
    "df_bush.drop([16, 17, 18, 27], axis=0, inplace=True)"
   ]
  },
  {
   "cell_type": "markdown",
   "metadata": {
    "collapsed": true
   },
   "source": [
    "To csv files"
   ]
  },
  {
   "cell_type": "code",
   "execution_count": 36,
   "metadata": {
    "collapsed": true
   },
   "outputs": [],
   "source": [
    "df_kerry.to_csv('./csv_files/speech_kerry', index=False)\n",
    "df_bush.to_csv('./csv_files/speech_bush', index=False)\n",
    "\n",
    "df_obama.to_csv('./csv_files/speech_obama', index=False)\n",
    "df_mccain.to_csv('./csv_files/speech_mccain', index=False)\n",
    "\n",
    "df_obama_2.to_csv('./csv_files/speech_obama_2', index=False)\n",
    "df_romney.to_csv('./csv_files/speech_romney', index=False)\n",
    "\n",
    "df_clinton.to_csv('./csv_files/speech_clinton', index=False)\n",
    "df_trump.to_csv('./csv_files/speech_trump', index=False)"
   ]
  },
  {
   "cell_type": "markdown",
   "metadata": {},
   "source": [
    "### Next Notebook [Data Cleaning](Data_Cleaning.ipynb)"
   ]
  }
 ],
 "metadata": {
  "kernelspec": {
   "display_name": "Python 3",
   "language": "python",
   "name": "python3"
  },
  "language_info": {
   "codemirror_mode": {
    "name": "ipython",
    "version": 3
   },
   "file_extension": ".py",
   "mimetype": "text/x-python",
   "name": "python",
   "nbconvert_exporter": "python",
   "pygments_lexer": "ipython3",
   "version": "3.6.1"
  }
 },
 "nbformat": 4,
 "nbformat_minor": 2
}
