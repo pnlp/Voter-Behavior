{
 "cells": [
  {
   "cell_type": "markdown",
   "metadata": {},
   "source": [
    "# Modeling One "
   ]
  },
  {
   "cell_type": "code",
   "execution_count": 17,
   "metadata": {},
   "outputs": [],
   "source": [
    "import pandas as pd\n",
    "import numpy as np\n",
    "import matplotlib.pyplot as plt\n",
    "\n",
    "%matplotlib inline\n",
    "\n",
    "from sklearn.linear_model import LinearRegression\n",
    "from sklearn.model_selection import train_test_split, cross_val_score\n",
    "from sklearn.preprocessing import StandardScaler"
   ]
  },
  {
   "cell_type": "code",
   "execution_count": 3,
   "metadata": {
    "collapsed": true
   },
   "outputs": [],
   "source": [
    "df_2004 = pd.read_csv('./csv_files/df_2004')\n",
    "df_2008 = pd.read_csv('./csv_files/df_2008')\n",
    "df_2012 = pd.read_csv('./csv_files/df_2012')\n",
    "df_2016 = pd.read_csv('./csv_files/df_2016')"
   ]
  },
  {
   "cell_type": "code",
   "execution_count": 4,
   "metadata": {},
   "outputs": [
    {
     "data": {
      "text/html": [
       "<div>\n",
       "<style>\n",
       "    .dataframe thead tr:only-child th {\n",
       "        text-align: right;\n",
       "    }\n",
       "\n",
       "    .dataframe thead th {\n",
       "        text-align: left;\n",
       "    }\n",
       "\n",
       "    .dataframe tbody tr th {\n",
       "        vertical-align: top;\n",
       "    }\n",
       "</style>\n",
       "<table border=\"1\" class=\"dataframe\">\n",
       "  <thead>\n",
       "    <tr style=\"text-align: right;\">\n",
       "      <th></th>\n",
       "      <th>oct_rate</th>\n",
       "      <th>nov_rate</th>\n",
       "      <th>land_area</th>\n",
       "      <th>total_vote_ratio</th>\n",
       "      <th>dem_vote_ratio</th>\n",
       "      <th>rep_vote_ratio</th>\n",
       "      <th>vote_diff</th>\n",
       "      <th>continuum_2003</th>\n",
       "      <th>influence_2003</th>\n",
       "      <th>per_less_high_2000</th>\n",
       "      <th>...</th>\n",
       "      <th>per_some_college_2000</th>\n",
       "      <th>per_bachelors_or_higher_2000</th>\n",
       "      <th>less_high_change</th>\n",
       "      <th>high_dimploma_change</th>\n",
       "      <th>some_college_change</th>\n",
       "      <th>bachelors_change</th>\n",
       "      <th>per_less_high_change</th>\n",
       "      <th>per_high_dimploma_change</th>\n",
       "      <th>per_some_college_change</th>\n",
       "      <th>per_bachelors_change</th>\n",
       "    </tr>\n",
       "  </thead>\n",
       "  <tbody>\n",
       "    <tr>\n",
       "      <th>0</th>\n",
       "      <td>7.8</td>\n",
       "      <td>8.3</td>\n",
       "      <td>508.03</td>\n",
       "      <td>0.374462</td>\n",
       "      <td>0.167296</td>\n",
       "      <td>0.207166</td>\n",
       "      <td>-0.039870</td>\n",
       "      <td>6</td>\n",
       "      <td>6</td>\n",
       "      <td>29.9</td>\n",
       "      <td>...</td>\n",
       "      <td>21.4</td>\n",
       "      <td>12.8</td>\n",
       "      <td>-1081.0</td>\n",
       "      <td>1111.0</td>\n",
       "      <td>1433.0</td>\n",
       "      <td>544.0</td>\n",
       "      <td>-11.2</td>\n",
       "      <td>2.5</td>\n",
       "      <td>6.7</td>\n",
       "      <td>2.0</td>\n",
       "    </tr>\n",
       "    <tr>\n",
       "      <th>1</th>\n",
       "      <td>5.3</td>\n",
       "      <td>5.3</td>\n",
       "      <td>655.28</td>\n",
       "      <td>0.422471</td>\n",
       "      <td>0.150904</td>\n",
       "      <td>0.271567</td>\n",
       "      <td>-0.120663</td>\n",
       "      <td>4</td>\n",
       "      <td>5</td>\n",
       "      <td>35.3</td>\n",
       "      <td>...</td>\n",
       "      <td>17.2</td>\n",
       "      <td>9.4</td>\n",
       "      <td>-2397.0</td>\n",
       "      <td>2497.0</td>\n",
       "      <td>1973.0</td>\n",
       "      <td>581.0</td>\n",
       "      <td>-10.1</td>\n",
       "      <td>4.5</td>\n",
       "      <td>4.6</td>\n",
       "      <td>1.0</td>\n",
       "    </tr>\n",
       "    <tr>\n",
       "      <th>2</th>\n",
       "      <td>4.0</td>\n",
       "      <td>4.6</td>\n",
       "      <td>455.24</td>\n",
       "      <td>0.364665</td>\n",
       "      <td>0.151942</td>\n",
       "      <td>0.212724</td>\n",
       "      <td>-0.060782</td>\n",
       "      <td>7</td>\n",
       "      <td>9</td>\n",
       "      <td>32.1</td>\n",
       "      <td>...</td>\n",
       "      <td>20.3</td>\n",
       "      <td>13.5</td>\n",
       "      <td>-455.0</td>\n",
       "      <td>1572.0</td>\n",
       "      <td>1619.0</td>\n",
       "      <td>1515.0</td>\n",
       "      <td>-8.4</td>\n",
       "      <td>0.6</td>\n",
       "      <td>3.5</td>\n",
       "      <td>4.3</td>\n",
       "    </tr>\n",
       "    <tr>\n",
       "      <th>3</th>\n",
       "      <td>3.9</td>\n",
       "      <td>3.9</td>\n",
       "      <td>1054.99</td>\n",
       "      <td>0.454130</td>\n",
       "      <td>0.173859</td>\n",
       "      <td>0.280271</td>\n",
       "      <td>-0.106412</td>\n",
       "      <td>2</td>\n",
       "      <td>2</td>\n",
       "      <td>9.2</td>\n",
       "      <td>...</td>\n",
       "      <td>36.5</td>\n",
       "      <td>31.2</td>\n",
       "      <td>1076.0</td>\n",
       "      <td>10341.0</td>\n",
       "      <td>22617.0</td>\n",
       "      <td>27040.0</td>\n",
       "      <td>-3.6</td>\n",
       "      <td>-2.9</td>\n",
       "      <td>0.2</td>\n",
       "      <td>6.3</td>\n",
       "    </tr>\n",
       "    <tr>\n",
       "      <th>4</th>\n",
       "      <td>3.5</td>\n",
       "      <td>3.7</td>\n",
       "      <td>569.30</td>\n",
       "      <td>0.526998</td>\n",
       "      <td>0.228582</td>\n",
       "      <td>0.298416</td>\n",
       "      <td>-0.069834</td>\n",
       "      <td>8</td>\n",
       "      <td>7</td>\n",
       "      <td>12.2</td>\n",
       "      <td>...</td>\n",
       "      <td>28.2</td>\n",
       "      <td>11.2</td>\n",
       "      <td>-603.0</td>\n",
       "      <td>132.0</td>\n",
       "      <td>325.0</td>\n",
       "      <td>72.0</td>\n",
       "      <td>-10.3</td>\n",
       "      <td>3.0</td>\n",
       "      <td>6.0</td>\n",
       "      <td>1.4</td>\n",
       "    </tr>\n",
       "  </tbody>\n",
       "</table>\n",
       "<p>5 rows × 21 columns</p>\n",
       "</div>"
      ],
      "text/plain": [
       "   oct_rate  nov_rate  land_area  total_vote_ratio  dem_vote_ratio  \\\n",
       "0       7.8       8.3     508.03          0.374462        0.167296   \n",
       "1       5.3       5.3     655.28          0.422471        0.150904   \n",
       "2       4.0       4.6     455.24          0.364665        0.151942   \n",
       "3       3.9       3.9    1054.99          0.454130        0.173859   \n",
       "4       3.5       3.7     569.30          0.526998        0.228582   \n",
       "\n",
       "   rep_vote_ratio  vote_diff  continuum_2003  influence_2003  \\\n",
       "0        0.207166  -0.039870               6               6   \n",
       "1        0.271567  -0.120663               4               5   \n",
       "2        0.212724  -0.060782               7               9   \n",
       "3        0.280271  -0.106412               2               2   \n",
       "4        0.298416  -0.069834               8               7   \n",
       "\n",
       "   per_less_high_2000          ...           per_some_college_2000  \\\n",
       "0                29.9          ...                            21.4   \n",
       "1                35.3          ...                            17.2   \n",
       "2                32.1          ...                            20.3   \n",
       "3                 9.2          ...                            36.5   \n",
       "4                12.2          ...                            28.2   \n",
       "\n",
       "   per_bachelors_or_higher_2000  less_high_change  high_dimploma_change  \\\n",
       "0                          12.8           -1081.0                1111.0   \n",
       "1                           9.4           -2397.0                2497.0   \n",
       "2                          13.5            -455.0                1572.0   \n",
       "3                          31.2            1076.0               10341.0   \n",
       "4                          11.2            -603.0                 132.0   \n",
       "\n",
       "   some_college_change  bachelors_change  per_less_high_change  \\\n",
       "0               1433.0             544.0                 -11.2   \n",
       "1               1973.0             581.0                 -10.1   \n",
       "2               1619.0            1515.0                  -8.4   \n",
       "3              22617.0           27040.0                  -3.6   \n",
       "4                325.0              72.0                 -10.3   \n",
       "\n",
       "   per_high_dimploma_change  per_some_college_change  per_bachelors_change  \n",
       "0                       2.5                      6.7                   2.0  \n",
       "1                       4.5                      4.6                   1.0  \n",
       "2                       0.6                      3.5                   4.3  \n",
       "3                      -2.9                      0.2                   6.3  \n",
       "4                       3.0                      6.0                   1.4  \n",
       "\n",
       "[5 rows x 21 columns]"
      ]
     },
     "execution_count": 4,
     "metadata": {},
     "output_type": "execute_result"
    }
   ],
   "source": [
    "df_2004.head()"
   ]
  },
  {
   "cell_type": "code",
   "execution_count": 5,
   "metadata": {
    "collapsed": true
   },
   "outputs": [],
   "source": [
    "X = df_2004.drop(['total_vote_ratio', 'dem_vote_ratio', 'rep_vote_ratio', 'vote_diff'], axis=1)\n",
    "y = df_2004.total_vote_ratio"
   ]
  },
  {
   "cell_type": "code",
   "execution_count": 6,
   "metadata": {
    "collapsed": true
   },
   "outputs": [],
   "source": [
    "X_train, X_test, y_train, y_test = train_test_split(X, y, test_size=.3, random_state=42)"
   ]
  },
  {
   "cell_type": "code",
   "execution_count": 7,
   "metadata": {
    "collapsed": true
   },
   "outputs": [],
   "source": [
    "ss = StandardScaler()\n",
    "X_train = ss.fit_transform(X_train)\n",
    "X_test = ss.transform(X_test)"
   ]
  },
  {
   "cell_type": "markdown",
   "metadata": {},
   "source": [
    "## Remember to go back and look at ratios over 1 in EDA. make counties match up for accurate cross election comparison"
   ]
  },
  {
   "cell_type": "code",
   "execution_count": 8,
   "metadata": {},
   "outputs": [
    {
     "name": "stdout",
     "output_type": "stream",
     "text": [
      "baseline 0.4298674627590971\n"
     ]
    }
   ],
   "source": [
    "baseline = y_train.mean()\n",
    "print('baseline', baseline)"
   ]
  },
  {
   "cell_type": "code",
   "execution_count": 9,
   "metadata": {},
   "outputs": [
    {
     "name": "stderr",
     "output_type": "stream",
     "text": [
      "/Users/Penelope/anaconda3/lib/python3.6/site-packages/scipy/linalg/basic.py:1226: RuntimeWarning: internal gelsd driver lwork query error, required iwork dimension not returned. This is likely the result of LAPACK bug 0038, fixed in LAPACK 3.2.2 (released July 21, 2010). Falling back to 'gelss' driver.\n",
      "  warnings.warn(mesg, RuntimeWarning)\n"
     ]
    },
    {
     "data": {
      "text/plain": [
       "LinearRegression(copy_X=True, fit_intercept=True, n_jobs=1, normalize=False)"
      ]
     },
     "execution_count": 9,
     "metadata": {},
     "output_type": "execute_result"
    }
   ],
   "source": [
    "lm = LinearRegression()\n",
    "lm.fit(X_train, y_train)"
   ]
  },
  {
   "cell_type": "code",
   "execution_count": 10,
   "metadata": {},
   "outputs": [
    {
     "data": {
      "text/plain": [
       "0.44535360903944077"
      ]
     },
     "execution_count": 10,
     "metadata": {},
     "output_type": "execute_result"
    }
   ],
   "source": [
    "lm.score(X_train, y_train)  # R^2"
   ]
  },
  {
   "cell_type": "code",
   "execution_count": 11,
   "metadata": {},
   "outputs": [],
   "source": [
    "train_pred = lm.predict(X_train)"
   ]
  },
  {
   "cell_type": "code",
   "execution_count": 13,
   "metadata": {},
   "outputs": [
    {
     "data": {
      "text/plain": [
       "array([ 0.44003795,  0.21718017,  0.48203578, ...,  0.41147078,\n",
       "        0.44501803,  0.48595473])"
      ]
     },
     "execution_count": 13,
     "metadata": {},
     "output_type": "execute_result"
    }
   ],
   "source": [
    "train_pred"
   ]
  },
  {
   "cell_type": "code",
   "execution_count": 29,
   "metadata": {},
   "outputs": [
    {
     "data": {
      "text/plain": [
       "<matplotlib.collections.PathCollection at 0x110692438>"
      ]
     },
     "execution_count": 29,
     "metadata": {},
     "output_type": "execute_result"
    },
    {
     "data": {
      "image/png": "[encoded data removed]",
      "text/plain": [
       "<matplotlib.figure.Figure at 0x1107375c0>"
      ]
     },
     "metadata": {},
     "output_type": "display_data"
    }
   ],
   "source": [
    "plt.scatter(y_train, train_pred, alpha=.1)"
   ]
  },
  {
   "cell_type": "code",
   "execution_count": 18,
   "metadata": {},
   "outputs": [
    {
     "ename": "ValueError",
     "evalue": "continuous is not supported",
     "output_type": "error",
     "traceback": [
      "\u001b[0;31m---------------------------------------------------------------------------\u001b[0m",
      "\u001b[0;31mValueError\u001b[0m                                Traceback (most recent call last)",
      "\u001b[0;32m<ipython-input-18-e4beec1e32bc>\u001b[0m in \u001b[0;36m<module>\u001b[0;34m()\u001b[0m\n\u001b[0;32m----> 1\u001b[0;31m \u001b[0maccuracy_score\u001b[0m\u001b[0;34m(\u001b[0m\u001b[0my_train\u001b[0m\u001b[0;34m,\u001b[0m \u001b[0mtrain_pred\u001b[0m\u001b[0;34m)\u001b[0m\u001b[0;34m\u001b[0m\u001b[0m\n\u001b[0m",
      "\u001b[0;32m/Users/Penelope/anaconda3/lib/python3.6/site-packages/sklearn/metrics/classification.py\u001b[0m in \u001b[0;36maccuracy_score\u001b[0;34m(y_true, y_pred, normalize, sample_weight)\u001b[0m\n\u001b[1;32m    174\u001b[0m \u001b[0;34m\u001b[0m\u001b[0m\n\u001b[1;32m    175\u001b[0m     \u001b[0;31m# Compute accuracy for each possible representation\u001b[0m\u001b[0;34m\u001b[0m\u001b[0;34m\u001b[0m\u001b[0m\n\u001b[0;32m--> 176\u001b[0;31m     \u001b[0my_type\u001b[0m\u001b[0;34m,\u001b[0m \u001b[0my_true\u001b[0m\u001b[0;34m,\u001b[0m \u001b[0my_pred\u001b[0m \u001b[0;34m=\u001b[0m \u001b[0m_check_targets\u001b[0m\u001b[0;34m(\u001b[0m\u001b[0my_true\u001b[0m\u001b[0;34m,\u001b[0m \u001b[0my_pred\u001b[0m\u001b[0;34m)\u001b[0m\u001b[0;34m\u001b[0m\u001b[0m\n\u001b[0m\u001b[1;32m    177\u001b[0m     \u001b[0;32mif\u001b[0m \u001b[0my_type\u001b[0m\u001b[0;34m.\u001b[0m\u001b[0mstartswith\u001b[0m\u001b[0;34m(\u001b[0m\u001b[0;34m'multilabel'\u001b[0m\u001b[0;34m)\u001b[0m\u001b[0;34m:\u001b[0m\u001b[0;34m\u001b[0m\u001b[0m\n\u001b[1;32m    178\u001b[0m         \u001b[0mdiffering_labels\u001b[0m \u001b[0;34m=\u001b[0m \u001b[0mcount_nonzero\u001b[0m\u001b[0;34m(\u001b[0m\u001b[0my_true\u001b[0m \u001b[0;34m-\u001b[0m \u001b[0my_pred\u001b[0m\u001b[0;34m,\u001b[0m \u001b[0maxis\u001b[0m\u001b[0;34m=\u001b[0m\u001b[0;36m1\u001b[0m\u001b[0;34m)\u001b[0m\u001b[0;34m\u001b[0m\u001b[0m\n",
      "\u001b[0;32m/Users/Penelope/anaconda3/lib/python3.6/site-packages/sklearn/metrics/classification.py\u001b[0m in \u001b[0;36m_check_targets\u001b[0;34m(y_true, y_pred)\u001b[0m\n\u001b[1;32m     86\u001b[0m     \u001b[0;31m# No metrics support \"multiclass-multioutput\" format\u001b[0m\u001b[0;34m\u001b[0m\u001b[0;34m\u001b[0m\u001b[0m\n\u001b[1;32m     87\u001b[0m     \u001b[0;32mif\u001b[0m \u001b[0;34m(\u001b[0m\u001b[0my_type\u001b[0m \u001b[0;32mnot\u001b[0m \u001b[0;32min\u001b[0m \u001b[0;34m[\u001b[0m\u001b[0;34m\"binary\"\u001b[0m\u001b[0;34m,\u001b[0m \u001b[0;34m\"multiclass\"\u001b[0m\u001b[0;34m,\u001b[0m \u001b[0;34m\"multilabel-indicator\"\u001b[0m\u001b[0;34m]\u001b[0m\u001b[0;34m)\u001b[0m\u001b[0;34m:\u001b[0m\u001b[0;34m\u001b[0m\u001b[0m\n\u001b[0;32m---> 88\u001b[0;31m         \u001b[0;32mraise\u001b[0m \u001b[0mValueError\u001b[0m\u001b[0;34m(\u001b[0m\u001b[0;34m\"{0} is not supported\"\u001b[0m\u001b[0;34m.\u001b[0m\u001b[0mformat\u001b[0m\u001b[0;34m(\u001b[0m\u001b[0my_type\u001b[0m\u001b[0;34m)\u001b[0m\u001b[0;34m)\u001b[0m\u001b[0;34m\u001b[0m\u001b[0m\n\u001b[0m\u001b[1;32m     89\u001b[0m \u001b[0;34m\u001b[0m\u001b[0m\n\u001b[1;32m     90\u001b[0m     \u001b[0;32mif\u001b[0m \u001b[0my_type\u001b[0m \u001b[0;32min\u001b[0m \u001b[0;34m[\u001b[0m\u001b[0;34m\"binary\"\u001b[0m\u001b[0;34m,\u001b[0m \u001b[0;34m\"multiclass\"\u001b[0m\u001b[0;34m]\u001b[0m\u001b[0;34m:\u001b[0m\u001b[0;34m\u001b[0m\u001b[0m\n",
      "\u001b[0;31mValueError\u001b[0m: continuous is not supported"
     ]
    }
   ],
   "source": [
    "accuracy_score(y_train, train_pred)"
   ]
  },
  {
   "cell_type": "code",
   "execution_count": null,
   "metadata": {
    "collapsed": true
   },
   "outputs": [],
   "source": []
  }
 ],
 "metadata": {
  "kernelspec": {
   "display_name": "Python 3",
   "language": "python",
   "name": "python3"
  },
  "language_info": {
   "codemirror_mode": {
    "name": "ipython",
    "version": 3
   },
   "file_extension": ".py",
   "mimetype": "text/x-python",
   "name": "python",
   "nbconvert_exporter": "python",
   "pygments_lexer": "ipython3",
   "version": "3.6.1"
  }
 },
 "nbformat": 4,
 "nbformat_minor": 2
}
