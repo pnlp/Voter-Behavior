{
 "cells": [
  {
   "cell_type": "markdown",
   "metadata": {},
   "source": [
    "# November Unemployment Rate Data Cleaning"
   ]
  },
  {
   "cell_type": "code",
   "execution_count": 1,
   "metadata": {
    "collapsed": true
   },
   "outputs": [],
   "source": [
    "import pandas as pd\n",
    "\n",
    "from collections import Counter"
   ]
  },
  {
   "cell_type": "code",
   "execution_count": 2,
   "metadata": {
    "collapsed": true
   },
   "outputs": [],
   "source": [
    "pd.set_option(\"display.max_rows\", 4000)"
   ]
  },
  {
   "cell_type": "code",
   "execution_count": 3,
   "metadata": {
    "collapsed": true
   },
   "outputs": [],
   "source": [
    "# Load in data from excel turned csv files\n",
    "\n",
    "ur_2004 = pd.read_csv('./raw_csv_files/ur_2004.csv')\n",
    "ur_2008 = pd.read_csv('./raw_csv_files/ur_2008.csv')\n",
    "ur_2012 = pd.read_csv('./raw_csv_files/ur_2012.csv')\n",
    "ur_2016 = pd.read_csv('./raw_csv_files/ur_2016.csv')"
   ]
  },
  {
   "cell_type": "code",
   "execution_count": 4,
   "metadata": {
    "collapsed": true
   },
   "outputs": [],
   "source": [
    "ur_2004.county = ur_2004.county.map(lambda x: str(x)[:-7] if str(x)[-3] == 'n' or str(x)[-1] == 'h' else str(x)[:-5] + ' Co.')\n",
    "ur_2008.county = ur_2008.county.map(lambda x: str(x)[:-7] if str(x)[-3] == 'n' or str(x)[-1] == 'h' else str(x)[:-5])\n",
    "ur_2012.county = ur_2012.county.map(lambda x: str(x)[:-7] if str(x)[-3] == 'n' or str(x)[-1] == 'h' else str(x)[:-5])\n",
    "ur_2016.county = ur_2016.county.map(lambda x: str(x)[:-7] if str(x)[-3] == 'n' or str(x)[-1] == 'h' else str(x)[:-5])"
   ]
  },
  {
   "cell_type": "code",
   "execution_count": 5,
   "metadata": {},
   "outputs": [
    {
     "data": {
      "text/html": [
       "<div>\n",
       "<style>\n",
       "    .dataframe thead tr:only-child th {\n",
       "        text-align: right;\n",
       "    }\n",
       "\n",
       "    .dataframe thead th {\n",
       "        text-align: left;\n",
       "    }\n",
       "\n",
       "    .dataframe tbody tr th {\n",
       "        vertical-align: top;\n",
       "    }\n",
       "</style>\n",
       "<table border=\"1\" class=\"dataframe\">\n",
       "  <thead>\n",
       "    <tr style=\"text-align: right;\">\n",
       "      <th></th>\n",
       "      <th>county</th>\n",
       "      <th>nov_rate</th>\n",
       "      <th>state</th>\n",
       "      <th>year</th>\n",
       "      <th>2004_pop_est</th>\n",
       "      <th>total area sqmi</th>\n",
       "      <th>water area</th>\n",
       "      <th>land area</th>\n",
       "      <th>per_pov</th>\n",
       "      <th>med_income</th>\n",
       "    </tr>\n",
       "  </thead>\n",
       "  <tbody>\n",
       "    <tr>\n",
       "      <th>0</th>\n",
       "      <td>Autauga</td>\n",
       "      <td>4.5</td>\n",
       "      <td>Alabama</td>\n",
       "      <td>2004</td>\n",
       "      <td>48366</td>\n",
       "      <td>604.45</td>\n",
       "      <td>8.48</td>\n",
       "      <td>595.97</td>\n",
       "      <td>11.6</td>\n",
       "      <td>45379</td>\n",
       "    </tr>\n",
       "    <tr>\n",
       "      <th>1</th>\n",
       "      <td>Baldwin</td>\n",
       "      <td>5.7</td>\n",
       "      <td>Alabama</td>\n",
       "      <td>2004</td>\n",
       "      <td>156266</td>\n",
       "      <td>2026.93</td>\n",
       "      <td>430.58</td>\n",
       "      <td>1596.35</td>\n",
       "      <td>10.0</td>\n",
       "      <td>42227</td>\n",
       "    </tr>\n",
       "    <tr>\n",
       "      <th>2</th>\n",
       "      <td>Barbour</td>\n",
       "      <td>7.3</td>\n",
       "      <td>Alabama</td>\n",
       "      <td>2004</td>\n",
       "      <td>28287</td>\n",
       "      <td>904.52</td>\n",
       "      <td>19.61</td>\n",
       "      <td>884.90</td>\n",
       "      <td>23.9</td>\n",
       "      <td>26495</td>\n",
       "    </tr>\n",
       "    <tr>\n",
       "      <th>3</th>\n",
       "      <td>Bibb</td>\n",
       "      <td>4.8</td>\n",
       "      <td>Alabama</td>\n",
       "      <td>2004</td>\n",
       "      <td>21721</td>\n",
       "      <td>626.16</td>\n",
       "      <td>3.14</td>\n",
       "      <td>623.03</td>\n",
       "      <td>17.1</td>\n",
       "      <td>34055</td>\n",
       "    </tr>\n",
       "    <tr>\n",
       "      <th>4</th>\n",
       "      <td>Blount</td>\n",
       "      <td>3.8</td>\n",
       "      <td>Alabama</td>\n",
       "      <td>2004</td>\n",
       "      <td>54124</td>\n",
       "      <td>650.60</td>\n",
       "      <td>5.02</td>\n",
       "      <td>645.59</td>\n",
       "      <td>12.4</td>\n",
       "      <td>38643</td>\n",
       "    </tr>\n",
       "  </tbody>\n",
       "</table>\n",
       "</div>"
      ],
      "text/plain": [
       "    county  nov_rate    state  year  2004_pop_est  total area sqmi  \\\n",
       "0  Autauga       4.5  Alabama  2004         48366           604.45   \n",
       "1  Baldwin       5.7  Alabama  2004        156266          2026.93   \n",
       "2  Barbour       7.3  Alabama  2004         28287           904.52   \n",
       "3     Bibb       4.8  Alabama  2004         21721           626.16   \n",
       "4   Blount       3.8  Alabama  2004         54124           650.60   \n",
       "\n",
       "   water area  land area  per_pov  med_income  \n",
       "0        8.48     595.97     11.6       45379  \n",
       "1      430.58    1596.35     10.0       42227  \n",
       "2       19.61     884.90     23.9       26495  \n",
       "3        3.14     623.03     17.1       34055  \n",
       "4        5.02     645.59     12.4       38643  "
      ]
     },
     "execution_count": 5,
     "metadata": {},
     "output_type": "execute_result"
    }
   ],
   "source": [
    "ur_2004.head()"
   ]
  },
  {
   "cell_type": "code",
   "execution_count": 6,
   "metadata": {},
   "outputs": [
    {
     "data": {
      "text/plain": [
       "((3111, 10), (3111, 10), (3111, 10), (3111, 10))"
      ]
     },
     "execution_count": 6,
     "metadata": {},
     "output_type": "execute_result"
    }
   ],
   "source": [
    "ur_2004.shape, ur_2008.shape, ur_2012.shape, ur_2016.shape"
   ]
  },
  {
   "cell_type": "code",
   "execution_count": 7,
   "metadata": {
    "collapsed": true
   },
   "outputs": [],
   "source": [
    "def replace(df):\n",
    "    '''Function to replace every state name in dataset with it's abbreviation'''\n",
    "    \n",
    "    df.state = df.state.replace('Alabama', 'AL').replace('Arizona', 'AZ').replace('Arkansas', 'AR')\n",
    "    df.state = df.state.replace('California', 'CA').replace('Colorado', 'CO').replace('Connecticut', 'CT')\n",
    "    df.state = df.state.replace('Delaware', 'DE').replace('Florida', 'FL').replace('Georgia', 'GA')\n",
    "    df.state = df.state.replace('Hawaii', 'HI').replace('Idaho', 'ID').replace('Illinois', 'IL')\n",
    "    df.state = df.state.replace('Indiana', 'IN').replace('Iowa', 'IA').replace('Kansas', 'KS')\n",
    "    df.state = df.state.replace('Kentucky', 'KY').replace('Louisiana', 'LA').replace('Maine', 'ME')\n",
    "    df.state = df.state.replace('Maryland', 'MD').replace('Massachusetts', 'MA').replace('Michigan', 'MI')\n",
    "    df.state = df.state.replace('Minnesota', 'MN').replace('Mississippi', 'MS').replace('Missouri', 'MO')\n",
    "    df.state = df.state.replace('Montana', 'MT').replace('Nebraska', 'NE').replace('Nevada', 'NV')\n",
    "    df.state = df.state.replace('New Hampshire','NH').replace('New Jersey', 'NJ').replace('New Mexico', 'NM')\n",
    "    df.state = df.state.replace('New York', 'NY').replace('North Carolina','NC').replace('North Dakota', 'ND')\n",
    "    df.state = df.state.replace('Ohio', 'OH').replace('Oklahoma', 'OK').replace('Oregon', 'OR')\n",
    "    df.state = df.state.replace('Pennsylvania', 'PA').replace('Rhode Island', 'RI').replace('South Carolina', 'SC')\n",
    "    df.state = df.state.replace('South Dakota', 'SD').replace('Tennessee', 'TN').replace('Texas', 'TX')\n",
    "    df.state = df.state.replace('Utah', 'UT').replace('Vermont', 'VT').replace('Virginia', 'VA')\n",
    "    df.state = df.state.replace('Washington', 'WA').replace('West Virginia', 'WV').replace('Wisconsin', 'WI')\n",
    "    df.state = df.state.replace('Wyoming', 'WY')\n",
    "    return df"
   ]
  },
  {
   "cell_type": "code",
   "execution_count": 8,
   "metadata": {
    "collapsed": true
   },
   "outputs": [],
   "source": [
    "ur_2004 = replace(ur_2004)\n",
    "\n",
    "ur_2004.county = ur_2004.county + ', ' + ur_2004.state\n",
    "\n",
    "ur_2004.drop('state', axis=1, inplace=True)"
   ]
  },
  {
   "cell_type": "code",
   "execution_count": 9,
   "metadata": {
    "collapsed": true
   },
   "outputs": [],
   "source": [
    "ur_2008 = replace(ur_2008)\n",
    "\n",
    "ur_2008.county = ur_2008.county + ', ' + ur_2008.state\n",
    "\n",
    "ur_2008.drop('state', axis=1, inplace=True)"
   ]
  },
  {
   "cell_type": "code",
   "execution_count": 10,
   "metadata": {
    "collapsed": true
   },
   "outputs": [],
   "source": [
    "ur_2012 = replace(ur_2012)\n",
    "\n",
    "ur_2012.county = ur_2012.county + ', ' + ur_2012.state\n",
    "\n",
    "ur_2012.drop('state', axis=1, inplace=True)"
   ]
  },
  {
   "cell_type": "code",
   "execution_count": 11,
   "metadata": {
    "collapsed": true
   },
   "outputs": [],
   "source": [
    "ur_2016 = replace(ur_2016)\n",
    "\n",
    "ur_2016.county = ur_2016.county + ', ' + ur_2016.state\n",
    "\n",
    "ur_2016.drop('state', axis=1, inplace=True)"
   ]
  },
  {
   "cell_type": "code",
   "execution_count": 12,
   "metadata": {
    "collapsed": true
   },
   "outputs": [],
   "source": [
    "# Townhall distingushes cities that share a name with counties with a 'Co.', \n",
    "# and all other cites have only the city name.\n",
    "\n",
    "# Finds the cities and counties with the same name, creates a list of these duplicates.\n",
    "uni = []\n",
    "for count in ur_2004.county:\n",
    "    if count[-5] == '.':\n",
    "        x = count[:-8]+count[-4:]\n",
    "        uni.append(x)\n",
    "    else:\n",
    "        uni.append(count)\n",
    "\n",
    "# cities in this list keep Co. all others drop it\n",
    "\n",
    "repeted_counties = list({x for x in uni if uni.count(x) > 1})\n",
    "\n",
    "# removes the 'Co.' from all cities that don't have a count of the same name.\n",
    "\n",
    "new_county = []\n",
    "for count in ur_2004.county:\n",
    "    if 'Co.' in count:\n",
    "        if count[:-8] + count[-4:] not in repeted_counties:\n",
    "            new_county.append(count[:-8] + count[-4:])\n",
    "        elif count[:-8] + count[-4:] in repeted_counties:\n",
    "            new_county.append(count)\n",
    "    else:\n",
    "        new_county.append(count)\n",
    "new_county_2 = []            \n",
    "for count in new_county:\n",
    "    if 'Saint ' in count:\n",
    "        count = count.replace('Saint', 'St.')\n",
    "        new_county_2.append(count)\n",
    "    elif 'Dekalb' in count:\n",
    "        count = count.replace('Dekalb', 'DeKalb')\n",
    "        new_county_2.append(count)\n",
    "    elif 'Desoto' in count:\n",
    "        count = count.replace('Desoto', 'DeSoto')\n",
    "        new_county_2.append(count)\n",
    "    elif 'Lamoure' in count:\n",
    "        count = count.replace('Lamoure', 'LaMoure')\n",
    "        new_county_2.append(count)\n",
    "    elif 'Mc Kean' in count:\n",
    "        count = count.replace('Mc Kean', 'McKean')\n",
    "        new_county_2.append(count) \n",
    "    elif 'Du Page' in count:\n",
    "        count = count.replace('Du Page', 'DuPage')\n",
    "        new_county_2.append(count)\n",
    "    elif 'Dewitt' in count:\n",
    "        count = count.replace('Dewitt', 'DeWitt') \n",
    "        new_county_2.append(count)\n",
    "    elif 'Debaca' in count:\n",
    "        count = count.replace('Debaca', 'De Baca')\n",
    "        new_county_2.append(count)\n",
    "    elif 'Baltimore Co.' in count:\n",
    "        count = count.replace('Baltimore Co.', 'Baltimore City')\n",
    "        new_county_2.append(count)\n",
    "    elif count == 'Baltimore, MD':\n",
    "        count = count.replace('Baltimore, MD', 'Baltimore County, MD')\n",
    "        new_county_2.append(count) \n",
    "    elif count == 'Carson, NV':\n",
    "        count = count.replace('Carson, NV', 'Carson City, NV')\n",
    "        new_county_2.append(count)    \n",
    "    elif count == 'Shannon, SD':\n",
    "        count = count.replace('Shannon, SD', 'Oglala Lakota, SD')\n",
    "        new_county_2.append(count)     \n",
    "    else:\n",
    "        new_county_2.append(count)"
   ]
  },
  {
   "cell_type": "code",
   "execution_count": 13,
   "metadata": {
    "scrolled": false
   },
   "outputs": [
    {
     "data": {
      "text/plain": [
       "(3111, 3111)"
      ]
     },
     "execution_count": 13,
     "metadata": {},
     "output_type": "execute_result"
    }
   ],
   "source": [
    "len(new_county), len(new_county_2)"
   ]
  },
  {
   "cell_type": "code",
   "execution_count": 14,
   "metadata": {
    "collapsed": true
   },
   "outputs": [],
   "source": [
    "# replaces county names with the new list\n",
    "# replaces county names with the new list\n",
    "\n",
    "ur_2004.county = new_county_2\n",
    "\n",
    "ur_2008.county = new_county_2\n",
    "\n",
    "ur_2012.county = new_county_2\n",
    "\n",
    "ur_2016.county = new_county_2"
   ]
  },
  {
   "cell_type": "code",
   "execution_count": 15,
   "metadata": {
    "scrolled": false
   },
   "outputs": [
    {
     "data": {
      "text/plain": [
       "3111"
      ]
     },
     "execution_count": 15,
     "metadata": {},
     "output_type": "execute_result"
    }
   ],
   "source": [
    "len(ur_2004.county.unique())"
   ]
  },
  {
   "cell_type": "code",
   "execution_count": 16,
   "metadata": {},
   "outputs": [
    {
     "data": {
      "text/html": [
       "<div>\n",
       "<style>\n",
       "    .dataframe thead tr:only-child th {\n",
       "        text-align: right;\n",
       "    }\n",
       "\n",
       "    .dataframe thead th {\n",
       "        text-align: left;\n",
       "    }\n",
       "\n",
       "    .dataframe tbody tr th {\n",
       "        vertical-align: top;\n",
       "    }\n",
       "</style>\n",
       "<table border=\"1\" class=\"dataframe\">\n",
       "  <thead>\n",
       "    <tr style=\"text-align: right;\">\n",
       "      <th></th>\n",
       "      <th>county</th>\n",
       "      <th>nov_rate</th>\n",
       "      <th>year</th>\n",
       "      <th>2004_pop_est</th>\n",
       "      <th>total area sqmi</th>\n",
       "      <th>water area</th>\n",
       "      <th>land area</th>\n",
       "      <th>per_pov</th>\n",
       "      <th>med_income</th>\n",
       "    </tr>\n",
       "  </thead>\n",
       "  <tbody>\n",
       "    <tr>\n",
       "      <th>0</th>\n",
       "      <td>Autauga, AL</td>\n",
       "      <td>4.5</td>\n",
       "      <td>2004</td>\n",
       "      <td>48366</td>\n",
       "      <td>604.45</td>\n",
       "      <td>8.48</td>\n",
       "      <td>595.97</td>\n",
       "      <td>11.6</td>\n",
       "      <td>45379</td>\n",
       "    </tr>\n",
       "    <tr>\n",
       "      <th>1</th>\n",
       "      <td>Baldwin, AL</td>\n",
       "      <td>5.7</td>\n",
       "      <td>2004</td>\n",
       "      <td>156266</td>\n",
       "      <td>2026.93</td>\n",
       "      <td>430.58</td>\n",
       "      <td>1596.35</td>\n",
       "      <td>10.0</td>\n",
       "      <td>42227</td>\n",
       "    </tr>\n",
       "    <tr>\n",
       "      <th>2</th>\n",
       "      <td>Barbour, AL</td>\n",
       "      <td>7.3</td>\n",
       "      <td>2004</td>\n",
       "      <td>28287</td>\n",
       "      <td>904.52</td>\n",
       "      <td>19.61</td>\n",
       "      <td>884.90</td>\n",
       "      <td>23.9</td>\n",
       "      <td>26495</td>\n",
       "    </tr>\n",
       "    <tr>\n",
       "      <th>3</th>\n",
       "      <td>Bibb, AL</td>\n",
       "      <td>4.8</td>\n",
       "      <td>2004</td>\n",
       "      <td>21721</td>\n",
       "      <td>626.16</td>\n",
       "      <td>3.14</td>\n",
       "      <td>623.03</td>\n",
       "      <td>17.1</td>\n",
       "      <td>34055</td>\n",
       "    </tr>\n",
       "    <tr>\n",
       "      <th>4</th>\n",
       "      <td>Blount, AL</td>\n",
       "      <td>3.8</td>\n",
       "      <td>2004</td>\n",
       "      <td>54124</td>\n",
       "      <td>650.60</td>\n",
       "      <td>5.02</td>\n",
       "      <td>645.59</td>\n",
       "      <td>12.4</td>\n",
       "      <td>38643</td>\n",
       "    </tr>\n",
       "  </tbody>\n",
       "</table>\n",
       "</div>"
      ],
      "text/plain": [
       "        county  nov_rate  year  2004_pop_est  total area sqmi  water area  \\\n",
       "0  Autauga, AL       4.5  2004         48366           604.45        8.48   \n",
       "1  Baldwin, AL       5.7  2004        156266          2026.93      430.58   \n",
       "2  Barbour, AL       7.3  2004         28287           904.52       19.61   \n",
       "3     Bibb, AL       4.8  2004         21721           626.16        3.14   \n",
       "4   Blount, AL       3.8  2004         54124           650.60        5.02   \n",
       "\n",
       "   land area  per_pov  med_income  \n",
       "0     595.97     11.6       45379  \n",
       "1    1596.35     10.0       42227  \n",
       "2     884.90     23.9       26495  \n",
       "3     623.03     17.1       34055  \n",
       "4     645.59     12.4       38643  "
      ]
     },
     "execution_count": 16,
     "metadata": {},
     "output_type": "execute_result"
    }
   ],
   "source": [
    "ur_2004.head()"
   ]
  },
  {
   "cell_type": "code",
   "execution_count": 17,
   "metadata": {},
   "outputs": [
    {
     "data": {
      "text/html": [
       "<div>\n",
       "<style>\n",
       "    .dataframe thead tr:only-child th {\n",
       "        text-align: right;\n",
       "    }\n",
       "\n",
       "    .dataframe thead th {\n",
       "        text-align: left;\n",
       "    }\n",
       "\n",
       "    .dataframe tbody tr th {\n",
       "        vertical-align: top;\n",
       "    }\n",
       "</style>\n",
       "<table border=\"1\" class=\"dataframe\">\n",
       "  <thead>\n",
       "    <tr style=\"text-align: right;\">\n",
       "      <th></th>\n",
       "      <th>county</th>\n",
       "      <th>nov_rate</th>\n",
       "      <th>year</th>\n",
       "      <th>2012_pop_est</th>\n",
       "      <th>total area sqmi</th>\n",
       "      <th>water area</th>\n",
       "      <th>land area</th>\n",
       "      <th>per_pov</th>\n",
       "      <th>med_income</th>\n",
       "    </tr>\n",
       "  </thead>\n",
       "  <tbody>\n",
       "    <tr>\n",
       "      <th>0</th>\n",
       "      <td>Autauga, AL</td>\n",
       "      <td>6.1</td>\n",
       "      <td>2012</td>\n",
       "      <td>55027</td>\n",
       "      <td>604.45</td>\n",
       "      <td>8.48</td>\n",
       "      <td>595.97</td>\n",
       "      <td>12.7</td>\n",
       "      <td>51441</td>\n",
       "    </tr>\n",
       "    <tr>\n",
       "      <th>1</th>\n",
       "      <td>Baldwin, AL</td>\n",
       "      <td>6.7</td>\n",
       "      <td>2012</td>\n",
       "      <td>190403</td>\n",
       "      <td>2026.93</td>\n",
       "      <td>430.58</td>\n",
       "      <td>1596.35</td>\n",
       "      <td>13.9</td>\n",
       "      <td>48867</td>\n",
       "    </tr>\n",
       "    <tr>\n",
       "      <th>2</th>\n",
       "      <td>Barbour, AL</td>\n",
       "      <td>10.3</td>\n",
       "      <td>2012</td>\n",
       "      <td>27132</td>\n",
       "      <td>904.52</td>\n",
       "      <td>19.61</td>\n",
       "      <td>884.90</td>\n",
       "      <td>29.0</td>\n",
       "      <td>30287</td>\n",
       "    </tr>\n",
       "    <tr>\n",
       "      <th>3</th>\n",
       "      <td>Bibb, AL</td>\n",
       "      <td>7.6</td>\n",
       "      <td>2012</td>\n",
       "      <td>22645</td>\n",
       "      <td>626.16</td>\n",
       "      <td>3.14</td>\n",
       "      <td>623.03</td>\n",
       "      <td>21.5</td>\n",
       "      <td>37392</td>\n",
       "    </tr>\n",
       "    <tr>\n",
       "      <th>4</th>\n",
       "      <td>Blount, AL</td>\n",
       "      <td>5.9</td>\n",
       "      <td>2012</td>\n",
       "      <td>57772</td>\n",
       "      <td>650.60</td>\n",
       "      <td>5.02</td>\n",
       "      <td>645.59</td>\n",
       "      <td>16.2</td>\n",
       "      <td>44225</td>\n",
       "    </tr>\n",
       "  </tbody>\n",
       "</table>\n",
       "</div>"
      ],
      "text/plain": [
       "        county  nov_rate  year  2012_pop_est  total area sqmi  water area  \\\n",
       "0  Autauga, AL       6.1  2012         55027           604.45        8.48   \n",
       "1  Baldwin, AL       6.7  2012        190403          2026.93      430.58   \n",
       "2  Barbour, AL      10.3  2012         27132           904.52       19.61   \n",
       "3     Bibb, AL       7.6  2012         22645           626.16        3.14   \n",
       "4   Blount, AL       5.9  2012         57772           650.60        5.02   \n",
       "\n",
       "   land area  per_pov  med_income  \n",
       "0     595.97     12.7       51441  \n",
       "1    1596.35     13.9       48867  \n",
       "2     884.90     29.0       30287  \n",
       "3     623.03     21.5       37392  \n",
       "4     645.59     16.2       44225  "
      ]
     },
     "execution_count": 17,
     "metadata": {},
     "output_type": "execute_result"
    }
   ],
   "source": [
    "ur_2012.head()"
   ]
  },
  {
   "cell_type": "code",
   "execution_count": 18,
   "metadata": {},
   "outputs": [
    {
     "data": {
      "text/html": [
       "<div>\n",
       "<style>\n",
       "    .dataframe thead tr:only-child th {\n",
       "        text-align: right;\n",
       "    }\n",
       "\n",
       "    .dataframe thead th {\n",
       "        text-align: left;\n",
       "    }\n",
       "\n",
       "    .dataframe tbody tr th {\n",
       "        vertical-align: top;\n",
       "    }\n",
       "</style>\n",
       "<table border=\"1\" class=\"dataframe\">\n",
       "  <thead>\n",
       "    <tr style=\"text-align: right;\">\n",
       "      <th></th>\n",
       "      <th>county</th>\n",
       "      <th>nov_rate</th>\n",
       "      <th>year</th>\n",
       "      <th>2016_pop_est</th>\n",
       "      <th>total area sqmi</th>\n",
       "      <th>water area</th>\n",
       "      <th>land area</th>\n",
       "      <th>per_pov</th>\n",
       "      <th>med_income</th>\n",
       "    </tr>\n",
       "  </thead>\n",
       "  <tbody>\n",
       "    <tr>\n",
       "      <th>0</th>\n",
       "      <td>Autauga, AL</td>\n",
       "      <td>5.0</td>\n",
       "      <td>2016</td>\n",
       "      <td>55416</td>\n",
       "      <td>604.45</td>\n",
       "      <td>8.48</td>\n",
       "      <td>595.97</td>\n",
       "      <td>13.5</td>\n",
       "      <td>54487</td>\n",
       "    </tr>\n",
       "    <tr>\n",
       "      <th>1</th>\n",
       "      <td>Baldwin, AL</td>\n",
       "      <td>5.2</td>\n",
       "      <td>2016</td>\n",
       "      <td>208563</td>\n",
       "      <td>2026.93</td>\n",
       "      <td>430.58</td>\n",
       "      <td>1596.35</td>\n",
       "      <td>11.7</td>\n",
       "      <td>56460</td>\n",
       "    </tr>\n",
       "    <tr>\n",
       "      <th>2</th>\n",
       "      <td>Barbour, AL</td>\n",
       "      <td>8.1</td>\n",
       "      <td>2016</td>\n",
       "      <td>25965</td>\n",
       "      <td>904.52</td>\n",
       "      <td>19.61</td>\n",
       "      <td>884.90</td>\n",
       "      <td>29.9</td>\n",
       "      <td>32884</td>\n",
       "    </tr>\n",
       "    <tr>\n",
       "      <th>3</th>\n",
       "      <td>Bibb, AL</td>\n",
       "      <td>6.2</td>\n",
       "      <td>2016</td>\n",
       "      <td>22643</td>\n",
       "      <td>626.16</td>\n",
       "      <td>3.14</td>\n",
       "      <td>623.03</td>\n",
       "      <td>20.1</td>\n",
       "      <td>43079</td>\n",
       "    </tr>\n",
       "    <tr>\n",
       "      <th>4</th>\n",
       "      <td>Blount, AL</td>\n",
       "      <td>5.1</td>\n",
       "      <td>2016</td>\n",
       "      <td>57704</td>\n",
       "      <td>650.60</td>\n",
       "      <td>5.02</td>\n",
       "      <td>645.59</td>\n",
       "      <td>14.1</td>\n",
       "      <td>47213</td>\n",
       "    </tr>\n",
       "  </tbody>\n",
       "</table>\n",
       "</div>"
      ],
      "text/plain": [
       "        county  nov_rate  year  2016_pop_est  total area sqmi  water area  \\\n",
       "0  Autauga, AL       5.0  2016         55416           604.45        8.48   \n",
       "1  Baldwin, AL       5.2  2016        208563          2026.93      430.58   \n",
       "2  Barbour, AL       8.1  2016         25965           904.52       19.61   \n",
       "3     Bibb, AL       6.2  2016         22643           626.16        3.14   \n",
       "4   Blount, AL       5.1  2016         57704           650.60        5.02   \n",
       "\n",
       "   land area  per_pov  med_income  \n",
       "0     595.97     13.5       54487  \n",
       "1    1596.35     11.7       56460  \n",
       "2     884.90     29.9       32884  \n",
       "3     623.03     20.1       43079  \n",
       "4     645.59     14.1       47213  "
      ]
     },
     "execution_count": 18,
     "metadata": {},
     "output_type": "execute_result"
    }
   ],
   "source": [
    "ur_2016.head()"
   ]
  },
  {
   "cell_type": "code",
   "execution_count": 19,
   "metadata": {
    "collapsed": true
   },
   "outputs": [],
   "source": [
    "ur_2004.to_csv('./csv_files/nov_ur_2004', index=False)\n",
    "\n",
    "ur_2008.to_csv('./csv_files/nov_ur_2008', index=False)\n",
    "\n",
    "ur_2012.to_csv('./csv_files/nov_ur_2012', index=False)\n",
    "\n",
    "ur_2016.to_csv('./csv_files/nov_ur_2016', index=False)"
   ]
  }
 ],
 "metadata": {
  "kernelspec": {
   "display_name": "Python 3",
   "language": "python",
   "name": "python3"
  },
  "language_info": {
   "codemirror_mode": {
    "name": "ipython",
    "version": 3
   },
   "file_extension": ".py",
   "mimetype": "text/x-python",
   "name": "python",
   "nbconvert_exporter": "python",
   "pygments_lexer": "ipython3",
   "version": "3.6.1"
  }
 },
 "nbformat": 4,
 "nbformat_minor": 2
}
