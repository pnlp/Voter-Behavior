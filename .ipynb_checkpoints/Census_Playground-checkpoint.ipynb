{
 "cells": [
  {
   "cell_type": "markdown",
   "metadata": {},
   "source": [
    "# Census Data from 2000 and 2010 Cleaning"
   ]
  },
  {
   "cell_type": "code",
   "execution_count": 1,
   "metadata": {
    "collapsed": true
   },
   "outputs": [],
   "source": [
    "import pandas as pd"
   ]
  },
  {
   "cell_type": "code",
   "execution_count": 2,
   "metadata": {
    "collapsed": true
   },
   "outputs": [],
   "source": [
    "pd.set_option(\"display.max_rows\", 4000)"
   ]
  },
  {
   "cell_type": "code",
   "execution_count": 3,
   "metadata": {
    "collapsed": true
   },
   "outputs": [],
   "source": [
    "# Load in data from excel turned csv files\n",
    "\n",
    "pop_2000 = pd.read_csv('./raw_csv_files/census_2000.csv', encoding = \"ISO-8859-1\")\n",
    "pop_2010 = pd.read_csv('./raw_csv_files/census_2010.csv', encoding = \"ISO-8859-1\")"
   ]
  },
  {
   "cell_type": "code",
   "execution_count": 4,
   "metadata": {},
   "outputs": [],
   "source": [
    "# drop empty rows and columns \n",
    "\n",
    "pop_2000 = pop_2000.drop([0,1], axis=0)\n",
    "\n",
    "pop_2010 = pop_2010.drop([0,1], axis=0)"
   ]
  },
  {
   "cell_type": "code",
   "execution_count": 5,
   "metadata": {
    "collapsed": true
   },
   "outputs": [],
   "source": [
    "# rename columns to be lower case\n",
    "\n",
    "pop_2000.columns = [x.lower() for x in pop_2000.columns]\n",
    "pop_2010.columns = [x.lower() for x in pop_2010.columns]"
   ]
  },
  {
   "cell_type": "code",
   "execution_count": 6,
   "metadata": {
    "collapsed": true
   },
   "outputs": [],
   "source": [
    "# drop Alaska from data set because of voter districs irregularity\n",
    "\n",
    "pop_2000 = pop_2000[pop_2000.state != 'Alaska']\n",
    "pop_2010 = pop_2010[pop_2010.state != 'Alaska']"
   ]
  },
  {
   "cell_type": "code",
   "execution_count": 7,
   "metadata": {
    "collapsed": true
   },
   "outputs": [],
   "source": [
    "# remove the word county from every county in the column county, so what is left is the name of the county\n",
    "\n",
    "pop_2000.county = pop_2000.county.map(lambda x: str(x)[:-7] if str(x)[-3] == 'n' or str(x)[-1] == 'h' else str(x)[:-5])\n",
    "pop_2010.county = pop_2010.county.map(lambda x: str(x)[:-7] if str(x)[-3] == 'n' or str(x)[-1] == 'h' else str(x)[:-5])"
   ]
  },
  {
   "cell_type": "code",
   "execution_count": 8,
   "metadata": {
    "collapsed": true
   },
   "outputs": [],
   "source": [
    "def replace(df):\n",
    "    '''Function to replace every state name in dataset with it's abbreviation'''\n",
    "    \n",
    "    df.state = df.state.replace('Alabama', 'AL').replace('Arizona', 'AZ').replace('Arkansas', 'AR')\n",
    "    df.state = df.state.replace('California', 'CA').replace('Colorado', 'CO').replace('Connecticut', 'CT')\n",
    "    df.state = df.state.replace('Delaware', 'DE').replace('Florida', 'FL').replace('Georgia', 'GA')\n",
    "    df.state = df.state.replace('Hawai_i', 'HI').replace('Idaho', 'ID').replace('Illinois', 'IL')\n",
    "    df.state = df.state.replace('Indiana', 'IN').replace('Iowa', 'IA').replace('Kansas', 'KS')\n",
    "    df.state = df.state.replace('Kentucky', 'KY').replace('Louisiana', 'LA').replace('Maine', 'ME')\n",
    "    df.state = df.state.replace('Maryland', 'MD').replace('Massachusetts', 'MA').replace('Michigan', 'MI')\n",
    "    df.state = df.state.replace('Minnesota', 'MN').replace('Mississippi', 'MS').replace('Missouri', 'MO')\n",
    "    df.state = df.state.replace('Montana', 'MT').replace('Nebraska', 'NE').replace('Nevada', 'NV')\n",
    "    df.state = df.state.replace('New Hampshire','NH').replace('New Jersey', 'NJ').replace('New Mexico', 'NM')\n",
    "    df.state = df.state.replace('New York', 'NY').replace('North Carolina','NC').replace('North Dakota', 'ND')\n",
    "    df.state = df.state.replace('Ohio', 'OH').replace('Oklahoma', 'OK').replace('Oregon', 'OR')\n",
    "    df.state = df.state.replace('Pennsylvania', 'PA').replace('Rhode Island', 'RI').replace('South Carolina', 'SC')\n",
    "    df.state = df.state.replace('South Dakota', 'SD').replace('Tennessee', 'TN').replace('Texas', 'TX')\n",
    "    df.state = df.state.replace('Utah', 'UT').replace('Vermont', 'VT').replace('Virginia', 'VA')\n",
    "    df.state = df.state.replace('Washington', 'WA').replace('West Virginia', 'WV').replace('Wisconsin', 'WI')\n",
    "    df.state = df.state.replace('Wyoming', 'WY')\n",
    "    return df"
   ]
  },
  {
   "cell_type": "code",
   "execution_count": 9,
   "metadata": {
    "collapsed": true
   },
   "outputs": [],
   "source": [
    "# call function, and combine county name with state slug\n",
    "\n",
    "pop_2000 = replace(pop_2000)\n",
    "\n",
    "pop_2000.county = pop_2000.county + ', ' + pop_2000.state\n",
    "\n",
    "pop_2000.drop('state', axis=1, inplace=True)"
   ]
  },
  {
   "cell_type": "code",
   "execution_count": 10,
   "metadata": {
    "collapsed": true
   },
   "outputs": [],
   "source": [
    "# call function, and combine county name with state slug\n",
    "\n",
    "pop_2010 = replace(pop_2010)\n",
    "\n",
    "pop_2010.county = pop_2010.county + ', ' + pop_2010.state\n",
    "\n",
    "pop_2010.drop('state', axis=1, inplace=True)"
   ]
  },
  {
   "cell_type": "code",
   "execution_count": 11,
   "metadata": {
    "collapsed": true
   },
   "outputs": [],
   "source": [
    "repeted_counties = ['Franklin, VA','Roanoke, VA','Baltimore, MD','Richmond, VA','Saint Louis, MO','Fairfax, VA']"
   ]
  },
  {
   "cell_type": "code",
   "execution_count": 12,
   "metadata": {
    "scrolled": true
   },
   "outputs": [],
   "source": [
    "new_count = []\n",
    "new_county = []\n",
    "for count in pop_2000.county:\n",
    "    if 'Co.' in count:\n",
    "        if count[:-7] + count[-2:] not in repeted_counties:\n",
    "            new_county.append(count[:-7] + count[-2:])\n",
    "        elif count[:-7] + count[-2:] in repeted_counties:\n",
    "            new_county.append(count)\n",
    "    else:\n",
    "        new_county.append(count)\n",
    "for count in new_county:            \n",
    "    if 'Ci' in count:\n",
    "        count = count.replace('Ci', 'Co.')\n",
    "        new_count.append(count)\n",
    "    elif 'City and Coun' in count:\n",
    "        count = count.replace('City and Coun, ', '')\n",
    "        new_count.append(count)\n",
    "    elif 'LaSalle' in count:\n",
    "        count = count.replace('LaSalle', 'La Salle.')\n",
    "        new_count.append(count)   \n",
    "    elif 'Town and Coun, ' in count:\n",
    "        count = count.replace('Town and Coun, ', '')\n",
    "        new_count.append(count)   \n",
    "    elif 'Co.ty and Coun, ' in count:\n",
    "        count = count.replace('Co.ty and Coun, ', '')\n",
    "        new_count.append(count) \n",
    "    else:\n",
    "        new_count.append(count)"
   ]
  },
  {
   "cell_type": "code",
   "execution_count": 13,
   "metadata": {},
   "outputs": [
    {
     "data": {
      "text/plain": [
       "(3114, 3114)"
      ]
     },
     "execution_count": 13,
     "metadata": {},
     "output_type": "execute_result"
    }
   ],
   "source": [
    "len(new_count), len(new_county)"
   ]
  },
  {
   "cell_type": "code",
   "execution_count": 14,
   "metadata": {
    "collapsed": true
   },
   "outputs": [],
   "source": [
    "pop_2000.county = new_count\n",
    "pop_2010.county = new_count"
   ]
  },
  {
   "cell_type": "code",
   "execution_count": 15,
   "metadata": {},
   "outputs": [
    {
     "data": {
      "text/plain": [
       "(3114, 2)"
      ]
     },
     "execution_count": 15,
     "metadata": {},
     "output_type": "execute_result"
    }
   ],
   "source": [
    "pop_2000.shape"
   ]
  },
  {
   "cell_type": "code",
   "execution_count": 16,
   "metadata": {
    "scrolled": false
   },
   "outputs": [
    {
     "data": {
      "text/html": [
       "<div>\n",
       "<style>\n",
       "    .dataframe thead tr:only-child th {\n",
       "        text-align: right;\n",
       "    }\n",
       "\n",
       "    .dataframe thead th {\n",
       "        text-align: left;\n",
       "    }\n",
       "\n",
       "    .dataframe tbody tr th {\n",
       "        vertical-align: top;\n",
       "    }\n",
       "</style>\n",
       "<table border=\"1\" class=\"dataframe\">\n",
       "  <thead>\n",
       "    <tr style=\"text-align: right;\">\n",
       "      <th></th>\n",
       "      <th>county</th>\n",
       "      <th>population 2000</th>\n",
       "    </tr>\n",
       "  </thead>\n",
       "  <tbody>\n",
       "    <tr>\n",
       "      <th>267</th>\n",
       "      <td>El Paso, CO</td>\n",
       "      <td>516929.0</td>\n",
       "    </tr>\n",
       "  </tbody>\n",
       "</table>\n",
       "</div>"
      ],
      "text/plain": [
       "          county  population 2000\n",
       "267  El Paso, CO         516929.0"
      ]
     },
     "execution_count": 16,
     "metadata": {},
     "output_type": "execute_result"
    }
   ],
   "source": [
    "pop_2000[pop_2000.county == 'El Paso, CO']"
   ]
  },
  {
   "cell_type": "code",
   "execution_count": 17,
   "metadata": {
    "collapsed": true
   },
   "outputs": [],
   "source": [
    "pop_2000.to_csv('./csv_files/pop_2000', index=False)\n",
    "\n",
    "pop_2010.to_csv('./csv_files/pop_2010', index=False)"
   ]
  }
 ],
 "metadata": {
  "kernelspec": {
   "display_name": "Python 3",
   "language": "python",
   "name": "python3"
  },
  "language_info": {
   "codemirror_mode": {
    "name": "ipython",
    "version": 3
   },
   "file_extension": ".py",
   "mimetype": "text/x-python",
   "name": "python",
   "nbconvert_exporter": "python",
   "pygments_lexer": "ipython3",
   "version": "3.6.1"
  }
 },
 "nbformat": 4,
 "nbformat_minor": 2
}
