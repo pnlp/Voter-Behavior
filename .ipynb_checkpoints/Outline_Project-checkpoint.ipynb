{
 "cells": [
  {
   "cell_type": "markdown",
   "metadata": {},
   "source": [
    "# Voting Behavior Project Outline\n",
    "## By Penelope Leach"
   ]
  },
  {
   "cell_type": "markdown",
   "metadata": {},
   "source": [
    "# Summary\n",
    "In a democracy, voting is the minimal political participation requested from its citizens. Yet America is notorious for its low voter turnout rates. So why do so many people choose not to vote? The common explanation for this is that Americans take representation for granted and believe that a single vote doesn’t matter in a country so large. In additional there is a theory that informed voting takes effort that many people do not wish to make. There are many political and social campaigns to increase voting numbers. In an attempt to examine one potential factor of political involvement this paper investigates the correlations between the relationship that unemployment has on voting. \n",
    "\n",
    "This project aims to investigate the reasons for this and explain some of the variance between counties, and for specific counties between years. \n",
    "\n",
    "I scraped voter data from a third party site chosen for it's relatively consistent html base and format. Unemployment Rates for the election months were taken from the Bureau of Labor Statistics and reformatted in a notebook attach to this project. As well as census data by county, and land area of each county.\n",
    "\n",
    "To add depth to the project I plan to find importance the campaigns placed on jobs or unemployment rate relative to the other elections. As well as the polarization of issues related to density. I plan to take major candidates speeches and advertisements transcripts and analyze with natural language processing to accomplish this.\n",
    "\n",
    "The goal of this project is to explain how campaign rhetoric is reflected in voting behavior. This is based on the thesis that candidates focus on a topic that influences voting behavior in counties with indicators related to the topic. In other words, campaign rhetoric affects the decision to vote.\n",
    "\n",
    "\n",
    "\n",
    "# Outline\n",
    "\n",
    "## Getting Data\n",
    "- [Web Scraping for Votes Per County](Votes_Web_Scrape.ipynb)\n",
    "- [Web Scrape for Speeches by Nominees](Speeches_Scrape.ipynb)\n",
    "\n",
    "## Cleaning Data\n",
    "- [Data Cleaning](Data_Cleaning.ipynb)\n",
    "\n",
    "## EDA\n",
    "- [Exploratory Data Analysis](EDA.ipynb)\n",
    "\n",
    "## Modeling\n",
    "- [Linear Modeling](Strike_a_Line_Pose.ipynb)\n",
    "- [Mini Time Series Modeling](Mini_Time_posing.ipynb)\n",
    "- [Natural Language Processing Modeling](NLP_Pose.ipynb)\n",
    "\n",
    "\n",
    "Note: There is a data dictionary in the Data Cleaning Notebook. But because all the feature name are understandable, I include a definition for the codes below so the dictionary is not necessary to read.\n",
    "\n",
    "The Rural-urban Continuum Code and the Urban Influence Codes are both classification codes that distinguishes metropolitan counties by the population size of their metro area, and nonmetropolitan counties by degree of urbanization and adjacency to a metro area."
   ]
  },
  {
   "cell_type": "markdown",
   "metadata": {},
   "source": [
    "# Conclusions\n",
    "\n",
    "I was able to predict the Election a speech was made in with an Accuracy Score of 97%. Below are the left are the most frequent words per election, and on the right are the coefficients for that election. The goal is to find the topics in each election's speechs reflected in wht factors influence voter participation.\n",
    "The Confusion Matrix for this classification is below.\n",
    "\n",
    "![](img/files/confusion_matrix.png?raw=true)\n",
    "\n",
    "Nominee Speeches | Voter Participation \n",
    "- | - \n",
    "![an image alt text](img/files/words_2008.png) | ![an image alt text](img/files/total_feat_2008.png)\n",
    "\n",
    "\n",
    "Nominee Speeches | Voter Participation \n",
    "- | - \n",
    "![an image alt text](img/files/words_2012.png) | ![an image alt text](img/files/total_feat_2012.png)\n",
    "The most interesting features in the 2012 election were the Unemployment Rates for October and November. The November Unemployment Rate has a negative coefficient, while the October Rate has a relatively high positive one. The October rate show what people are reacting to conceptually, and the November Rate show the Actual Unemployment they face on election day.\n",
    "\n",
    "Nominee Speeches | Voter Participation \n",
    "- | - \n",
    "![an image alt text](img/files/words_2016.png) | ![an image alt text](img/files/total_feat_2016.png)\n",
    "In the 2016 Election the higher the percent on people in the country who lived under the poverty line, the lower Voter Participation was. Interestingly the most common word by far was people. This may be a coincidence or it oculd be that those who lived above the poverty line reacted favorably to the nominees talking about the people."
   ]
  },
  {
   "cell_type": "markdown",
   "metadata": {},
   "source": [
    "# Next Steps\n",
    "\n",
    "### More Features\n",
    "The most pressing next step is add more features to the Voter Participation Mini Time Series section including weather data per county, voter laws in each state, and recent tax changes before each election.\n",
    "\n",
    "### More Words\n",
    "In the NLP section I would add the transcripts of the general debates between the Republican and Democratic nominees.\n",
    "\n",
    "### Fine Tune Word Frequency per Election\n",
    "Group up words to make larger topics the candidates talk about."
   ]
  }
 ],
 "metadata": {
  "kernelspec": {
   "display_name": "Python 3",
   "language": "python",
   "name": "python3"
  },
  "language_info": {
   "codemirror_mode": {
    "name": "ipython",
    "version": 3
   },
   "file_extension": ".py",
   "mimetype": "text/x-python",
   "name": "python",
   "nbconvert_exporter": "python",
   "pygments_lexer": "ipython3",
   "version": "3.6.1"
  }
 },
 "nbformat": 4,
 "nbformat_minor": 2
}
