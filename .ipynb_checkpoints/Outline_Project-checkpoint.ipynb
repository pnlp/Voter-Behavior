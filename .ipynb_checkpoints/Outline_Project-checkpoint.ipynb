{
 "cells": [
  {
   "cell_type": "markdown",
   "metadata": {},
   "source": [
    "# Voting Behavior Project Outline"
   ]
  },
  {
   "cell_type": "markdown",
   "metadata": {},
   "source": [
    "problem statement\n",
    "data sources\n",
    "key numerical results\n",
    "headline take away\n",
    "key visualizations\n",
    "no code \n",
    "\n",
    "Outline\n",
    "which notebooks to look at in which order\n",
    "put in links\n",
    "put in headers\n",
    "\n",
    "# Getting Data\n",
    "## Votes Scrape\n",
    "\n",
    "[Capstone/Voter_Behavior/]<Votes_Web_Playground.ipynb>\n",
    "\n",
    "## Speeches Scrape\n",
    "# Cleaning Data\n",
    "## All notebooks that contain cleaning \n",
    "## Most Interesting - cleaning notebook\n",
    "# EDA\n",
    "## link to EDA Notebook\n",
    "# Modeling\n",
    "## link to \n"
   ]
  },
  {
   "cell_type": "markdown",
   "metadata": {},
   "source": [
    "## Intro"
   ]
  },
  {
   "cell_type": "markdown",
   "metadata": {},
   "source": [
    "In a democracy, voting is the minimal political participation requested from its citizens. Yet America is notorious for its low voter turnout rates. So why do so many people choose not to vote? The common explanation for this is that Americans take representation for granted and believe that a single vote doesn’t matter in a country so large. In additional there is a theory that informed voting takes effort that many people do not wish to make. There are many political and social campaigns to increase voting numbers. In an attempt to examine one potential factor of political involvement this paper investigates the correlations between the relationship that unemployment has on voting. \n",
    "\n",
    "This project aims to investigate the reasons for this and explain some of the variance between counties, and for specific counties between years. \n",
    "\n",
    "By looking at unemployment rates next to voter turnout to examine possible correlation, we can begin to understand some of the concerns and circumstances which motivate people to go to the polls. Unemployment is a particularly interesting factor because it functions as both a practical and political factor in the decision to vote. Some possible effects could include that when the unemployment rate is up fewer people have work keeping them from the polls on election day. High unemployment rates also unset the populous either because they personally don’t have a job or the general state of the economy worries them, possibly driving more people to vote in an election for a candidate believed to expand the economy. To examine the relationship between unemployment and voter turnout in the United States over four separate years, a regression analysis will be conducted. "
   ]
  },
  {
   "cell_type": "markdown",
   "metadata": {},
   "source": [
    "## Methods"
   ]
  },
  {
   "cell_type": "markdown",
   "metadata": {},
   "source": [
    "During election years it can feel like you are drowning in data about the election between primaries, polls, and new reports. However it is suprisingly hard to come across useable data to use for statistical modeling. The Freedom of Information Act mandates that election information be availible but it does not dictate how each state provides it. As a result there is no official government site hosting county level presidental election results. \n",
    "\n",
    "I scraped voter data from a third party site choosen for it's realitively consistent html base and format.Unemployment Rates for the election months were taken from the Bureau of Labor Statistics and reformated in a notebook attach to this project. As well as census data by county, and land area of each county.\n",
    "\n",
    "To add depth to the project I plan to find importance the campaigns placed on jobs or unemployment rate relative to the other elections. As well as the polarization of issues related to density. I plan to take major candidates speeches and advertisements transcrips and analyize with natural language processing to accompish this.\n",
    "\n",
    "The goal of this project is to explain how campaign rhetoric is reflected in voting behavior. This is based on the thesis that candidates focus on a topic influences voting behavior in counties with indicators relatd to the topic. In other words, campaign rhetoric affects the decision to vote.\n",
    "\n",
    "I will be using linear regression models and time series regression on the voting data incorporating the results fo the natural langage processing. "
   ]
  }
 ],
 "metadata": {
  "kernelspec": {
   "display_name": "Python 3",
   "language": "python",
   "name": "python3"
  },
  "language_info": {
   "codemirror_mode": {
    "name": "ipython",
    "version": 3
   },
   "file_extension": ".py",
   "mimetype": "text/x-python",
   "name": "python",
   "nbconvert_exporter": "python",
   "pygments_lexer": "ipython3",
   "version": "3.6.1"
  }
 },
 "nbformat": 4,
 "nbformat_minor": 2
}
