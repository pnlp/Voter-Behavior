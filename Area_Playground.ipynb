{
 "cells": [
  {
   "cell_type": "markdown",
   "metadata": {},
   "source": [
    "# Density Data Cleaning"
   ]
  },
  {
   "cell_type": "code",
   "execution_count": 5,
   "metadata": {
    "collapsed": true
   },
   "outputs": [],
   "source": [
    "import pandas as pd"
   ]
  },
  {
   "cell_type": "code",
   "execution_count": 6,
   "metadata": {
    "collapsed": true
   },
   "outputs": [],
   "source": [
    "area = pd.read_csv('./raw_csv_files/urban_area.csv', encoding = \"ISO-8859-1\")"
   ]
  },
  {
   "cell_type": "code",
   "execution_count": 7,
   "metadata": {},
   "outputs": [
    {
     "data": {
      "text/html": [
       "<div>\n",
       "<style>\n",
       "    .dataframe thead tr:only-child th {\n",
       "        text-align: right;\n",
       "    }\n",
       "\n",
       "    .dataframe thead th {\n",
       "        text-align: left;\n",
       "    }\n",
       "\n",
       "    .dataframe tbody tr th {\n",
       "        vertical-align: top;\n",
       "    }\n",
       "</style>\n",
       "<table border=\"1\" class=\"dataframe\">\n",
       "  <thead>\n",
       "    <tr style=\"text-align: right;\">\n",
       "      <th></th>\n",
       "      <th>county</th>\n",
       "      <th>state</th>\n",
       "      <th>sq ki</th>\n",
       "    </tr>\n",
       "  </thead>\n",
       "  <tbody>\n",
       "    <tr>\n",
       "      <th>0</th>\n",
       "      <td>NaN</td>\n",
       "      <td>NaN</td>\n",
       "      <td>NaN</td>\n",
       "    </tr>\n",
       "    <tr>\n",
       "      <th>1</th>\n",
       "      <td>NaN</td>\n",
       "      <td>NaN</td>\n",
       "      <td>NaN</td>\n",
       "    </tr>\n",
       "    <tr>\n",
       "      <th>2</th>\n",
       "      <td>Autauga</td>\n",
       "      <td>Alabama</td>\n",
       "      <td>1543.7</td>\n",
       "    </tr>\n",
       "    <tr>\n",
       "      <th>3</th>\n",
       "      <td>Baldwin</td>\n",
       "      <td>Alabama</td>\n",
       "      <td>4135.0</td>\n",
       "    </tr>\n",
       "    <tr>\n",
       "      <th>4</th>\n",
       "      <td>Barbour</td>\n",
       "      <td>Alabama</td>\n",
       "      <td>2292.1</td>\n",
       "    </tr>\n",
       "    <tr>\n",
       "      <th>5</th>\n",
       "      <td>Bibb</td>\n",
       "      <td>Alabama</td>\n",
       "      <td>1611.9</td>\n",
       "    </tr>\n",
       "    <tr>\n",
       "      <th>6</th>\n",
       "      <td>Blount</td>\n",
       "      <td>Alabama</td>\n",
       "      <td>1672.3</td>\n",
       "    </tr>\n",
       "    <tr>\n",
       "      <th>7</th>\n",
       "      <td>Bullock</td>\n",
       "      <td>Alabama</td>\n",
       "      <td>1618.9</td>\n",
       "    </tr>\n",
       "    <tr>\n",
       "      <th>8</th>\n",
       "      <td>Butler</td>\n",
       "      <td>Alabama</td>\n",
       "      <td>2012.3</td>\n",
       "    </tr>\n",
       "    <tr>\n",
       "      <th>9</th>\n",
       "      <td>Calhoun</td>\n",
       "      <td>Alabama</td>\n",
       "      <td>1576.0</td>\n",
       "    </tr>\n",
       "    <tr>\n",
       "      <th>10</th>\n",
       "      <td>Chambers</td>\n",
       "      <td>Alabama</td>\n",
       "      <td>1547.3</td>\n",
       "    </tr>\n",
       "    <tr>\n",
       "      <th>11</th>\n",
       "      <td>Cherokee</td>\n",
       "      <td>Alabama</td>\n",
       "      <td>1432.7</td>\n",
       "    </tr>\n",
       "    <tr>\n",
       "      <th>12</th>\n",
       "      <td>Chilton</td>\n",
       "      <td>Alabama</td>\n",
       "      <td>1797.6</td>\n",
       "    </tr>\n",
       "    <tr>\n",
       "      <th>13</th>\n",
       "      <td>Choctaw</td>\n",
       "      <td>Alabama</td>\n",
       "      <td>2366.2</td>\n",
       "    </tr>\n",
       "    <tr>\n",
       "      <th>14</th>\n",
       "      <td>Clarke</td>\n",
       "      <td>Alabama</td>\n",
       "      <td>3207.7</td>\n",
       "    </tr>\n",
       "  </tbody>\n",
       "</table>\n",
       "</div>"
      ],
      "text/plain": [
       "      county    state   sq ki\n",
       "0        NaN      NaN     NaN\n",
       "1        NaN      NaN     NaN\n",
       "2    Autauga  Alabama  1543.7\n",
       "3    Baldwin  Alabama  4135.0\n",
       "4    Barbour  Alabama  2292.1\n",
       "5       Bibb  Alabama  1611.9\n",
       "6     Blount  Alabama  1672.3\n",
       "7    Bullock  Alabama  1618.9\n",
       "8     Butler  Alabama  2012.3\n",
       "9    Calhoun  Alabama  1576.0\n",
       "10  Chambers  Alabama  1547.3\n",
       "11  Cherokee  Alabama  1432.7\n",
       "12   Chilton  Alabama  1797.6\n",
       "13   Choctaw  Alabama  2366.2\n",
       "14    Clarke  Alabama  3207.7"
      ]
     },
     "execution_count": 7,
     "metadata": {},
     "output_type": "execute_result"
    }
   ],
   "source": [
    "area.head(15)"
   ]
  },
  {
   "cell_type": "code",
   "execution_count": 8,
   "metadata": {
    "collapsed": true
   },
   "outputs": [],
   "source": [
    "# drop empty rows and columns \n",
    "\n",
    "area = area.drop([0,1], axis=0).reset_index().drop('index', axis=1)"
   ]
  },
  {
   "cell_type": "code",
   "execution_count": 9,
   "metadata": {
    "collapsed": true
   },
   "outputs": [],
   "source": [
    "# drop Alaska from data set because of voter districs irregularity\n",
    "\n",
    "area = area[area.state != 'Alaska']"
   ]
  },
  {
   "cell_type": "code",
   "execution_count": 10,
   "metadata": {
    "collapsed": true
   },
   "outputs": [],
   "source": [
    "def replace(df):\n",
    "    '''Function to replace every state name in dataset with it's abbreviation'''\n",
    "    \n",
    "    df.state = df.state.replace('Alabama', 'AL').replace('Arizona', 'AZ').replace('Arkansas', 'AR')\n",
    "    df.state = df.state.replace('California', 'CA').replace('Colorado', 'CO').replace('Connecticut', 'CT')\n",
    "    df.state = df.state.replace('Delaware', 'DE').replace('Hawaii', 'HI').replace('Idaho', 'ID')\n",
    "    df.state = df.state.replace('Illinois', 'IL').replace('Indiana', 'IN').replace('Iowa', 'IA')\n",
    "    df.state = df.state.replace('Kansas', 'KS').replace('Kentucky', 'KY').replace('Louisiana', 'LA')\n",
    "    df.state = df.state.replace('Maine', 'ME').replace('Maryland', 'MD').replace('Massachusetts', 'MA')\n",
    "    df.state = df.state.replace('Michigan', 'MI').replace('Minnesota', 'MN').replace('Mississippi', 'MS')\n",
    "    df.state = df.state.replace('Missouri', 'MO').replace('Montana', 'MT').replace('Nebraska', 'NE')\n",
    "    df.state = df.state.replace('Nevada', 'NV').replace('New Hampshire','NH').replace('New Jersey', 'NJ')\n",
    "    df.state = df.state.replace('New Mexico', 'NM').replace('New York', 'NY').replace('North Carolina','NC')\n",
    "    df.state = df.state.replace('North Dakota', 'ND').replace('Ohio', 'OH').replace('Oklahoma', 'OK')\n",
    "    df.state = df.state.replace('Oregon', 'OR').replace('Pennsylvania', 'PA').replace('Rhode Island', 'RI')\n",
    "    df.state = df.state.replace('South Carolina', 'SC').replace('South Dakota', 'SD').replace('Tennessee', 'TN')\n",
    "    df.state = df.state.replace('Texas', 'TX').replace('Utah', 'UT').replace('Vermont', 'VT')\n",
    "    df.state = df.state.replace('Virginia', 'VA').replace('Washington', 'WA').replace('West Virginia', 'WV')\n",
    "    df.state = df.state.replace('Wisconsin', 'WI').replace('Wyoming', 'WY')\n",
    "    return df"
   ]
  },
  {
   "cell_type": "code",
   "execution_count": 11,
   "metadata": {
    "collapsed": true
   },
   "outputs": [],
   "source": [
    "# call function, and combine county name with state slug\n",
    "\n",
    "area = replace(area)\n",
    "\n",
    "area.county = area.county + ', ' + area.state\n",
    "\n",
    "area.drop('state', axis=1, inplace=True)"
   ]
  },
  {
   "cell_type": "code",
   "execution_count": 13,
   "metadata": {},
   "outputs": [
    {
     "data": {
      "text/html": [
       "<div>\n",
       "<style>\n",
       "    .dataframe thead tr:only-child th {\n",
       "        text-align: right;\n",
       "    }\n",
       "\n",
       "    .dataframe thead th {\n",
       "        text-align: left;\n",
       "    }\n",
       "\n",
       "    .dataframe tbody tr th {\n",
       "        vertical-align: top;\n",
       "    }\n",
       "</style>\n",
       "<table border=\"1\" class=\"dataframe\">\n",
       "  <thead>\n",
       "    <tr style=\"text-align: right;\">\n",
       "      <th></th>\n",
       "      <th>county</th>\n",
       "      <th>sq ki</th>\n",
       "    </tr>\n",
       "  </thead>\n",
       "  <tbody>\n",
       "    <tr>\n",
       "      <th>2848</th>\n",
       "      <td>Fairfax, VA</td>\n",
       "      <td>1024.5</td>\n",
       "    </tr>\n",
       "    <tr>\n",
       "      <th>2925</th>\n",
       "      <td>Fairfax, VA</td>\n",
       "      <td>16.0</td>\n",
       "    </tr>\n",
       "  </tbody>\n",
       "</table>\n",
       "</div>"
      ],
      "text/plain": [
       "           county   sq ki\n",
       "2848  Fairfax, VA  1024.5\n",
       "2925  Fairfax, VA    16.0"
      ]
     },
     "execution_count": 13,
     "metadata": {},
     "output_type": "execute_result"
    }
   ],
   "source": [
    "area[area.county == 'Fairfax, VA']"
   ]
  },
  {
   "cell_type": "code",
   "execution_count": 7,
   "metadata": {
    "collapsed": true
   },
   "outputs": [],
   "source": [
    "area.to_csv('./csv_files/area', index=False)"
   ]
  }
 ],
 "metadata": {
  "kernelspec": {
   "display_name": "Python 3",
   "language": "python",
   "name": "python3"
  },
  "language_info": {
   "codemirror_mode": {
    "name": "ipython",
    "version": 3
   },
   "file_extension": ".py",
   "mimetype": "text/x-python",
   "name": "python",
   "nbconvert_exporter": "python",
   "pygments_lexer": "ipython3",
   "version": "3.6.1"
  }
 },
 "nbformat": 4,
 "nbformat_minor": 2
}
