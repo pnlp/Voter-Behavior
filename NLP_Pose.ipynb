{
 "cells": [
  {
   "cell_type": "markdown",
   "metadata": {},
   "source": [
    "# Natural Language Processing for Campaign Speeches"
   ]
  },
  {
   "cell_type": "code",
   "execution_count": 70,
   "metadata": {
    "collapsed": true
   },
   "outputs": [],
   "source": [
    "import pandas as pd\n",
    "import numpy as np\n",
    "import matplotlib.pyplot as plt\n",
    "import timeit\n",
    "import re\n",
    "from tqdm import *\n",
    "\n",
    "%matplotlib inline\n",
    "\n",
    "import spacy\n",
    "from textblob import TextBlob, Word\n",
    "\n",
    "from sklearn.feature_extraction.text import CountVectorizer, TfidfVectorizer\n",
    "from sklearn.decomposition import TruncatedSVD, LatentDirichletAllocation\n",
    "from sklearn.metrics import confusion_matrix, classification_report\n",
    "from sklearn.model_selection import train_test_split, GridSearchCV, cross_val_score\n",
    "from sklearn.linear_model import LogisticRegression\n",
    "from sklearn.ensemble import RandomForestClassifier\n",
    "from sklearn.svm import SVC\n",
    "from sklearn.preprocessing import normalize"
   ]
  },
  {
   "cell_type": "code",
   "execution_count": 71,
   "metadata": {
    "collapsed": true
   },
   "outputs": [],
   "source": [
    "pd.set_option(\"display.max_rows\", 999)\n",
    "pd.set_option(\"display.max_columns\", 999)"
   ]
  },
  {
   "cell_type": "code",
   "execution_count": 72,
   "metadata": {
    "collapsed": true
   },
   "outputs": [],
   "source": [
    "df_kerry = pd.read_csv('./csv_files/speech_kerry')\n",
    "df_bush = pd.read_csv('./csv_files/speech_bush')\n",
    "df_obama = pd.read_csv('./csv_files/speech_obama')\n",
    "df_mccain = pd.read_csv('./csv_files/speech_mccain')\n",
    "df_obama_2 = pd.read_csv('./csv_files/speech_obama_2')\n",
    "df_romney = pd.read_csv('./csv_files/speech_romney')\n",
    "df_clinton = pd.read_csv('./csv_files/speech_clinton')\n",
    "df_trump = pd.read_csv('./csv_files/speech_trump')"
   ]
  },
  {
   "cell_type": "code",
   "execution_count": 73,
   "metadata": {
    "collapsed": true
   },
   "outputs": [],
   "source": [
    "df_kerry['party'] = 1\n",
    "df_kerry['year'] = 2004\n",
    "df_bush['party'] = 0\n",
    "df_bush['year'] = 2004\n",
    "df_obama['party'] = 1\n",
    "df_obama['year'] = 2008\n",
    "df_mccain['party'] = 0\n",
    "df_mccain['year'] = 2008\n",
    "df_obama_2['party'] = 1\n",
    "df_obama_2['year'] = 2012\n",
    "df_romney['party'] = 0\n",
    "df_romney['year'] = 2012\n",
    "df_clinton['party'] = 1\n",
    "df_clinton['year'] = 2016\n",
    "df_trump['party'] = 0\n",
    "df_trump['year'] = 2016"
   ]
  },
  {
   "cell_type": "code",
   "execution_count": 74,
   "metadata": {
    "collapsed": true
   },
   "outputs": [],
   "source": [
    "df = pd.concat([df_kerry, df_bush, df_obama, df_mccain, df_obama_2, df_romney, \n",
    "                df_clinton, df_trump], axis=0, ignore_index=True)"
   ]
  },
  {
   "cell_type": "code",
   "execution_count": 75,
   "metadata": {
    "scrolled": true
   },
   "outputs": [
    {
     "data": {
      "text/plain": [
       "(1004, 4)"
      ]
     },
     "execution_count": 75,
     "metadata": {},
     "output_type": "execute_result"
    }
   ],
   "source": [
    "df.reindex()\n",
    "df.shape"
   ]
  },
  {
   "cell_type": "markdown",
   "metadata": {},
   "source": [
    "# Preprocessing"
   ]
  },
  {
   "cell_type": "code",
   "execution_count": 76,
   "metadata": {
    "collapsed": true
   },
   "outputs": [],
   "source": [
    "df['speech'] = df['speech'].apply(lambda x: x.lower().replace(\"\\\\'\", \"'\"))\n",
    "df['speech'] = df['speech'].apply(lambda x: x.replace(\"\"\"'\"\"\", \"\"\"\"\"\"))\n",
    "df['speech'] = df['speech'].apply(lambda x: x.replace('''\"''', ''''''))\n",
    "df['speech'] = df['speech'].apply(lambda x: x.replace(\".\", \"\"))\n",
    "df['speech'] = df['speech'].apply(lambda x: x.replace(\",\", \"\"))\n",
    "df['speech'] = df['speech'].apply(lambda x: x.replace(\"-\", \"\"))\n",
    "df['speech'] = df['speech'].apply(lambda x: x.replace(\";\", \"\"))\n",
    "df['speech'] = df['speech'].apply(lambda x: x.replace(\":\", \"\"))\n",
    "df['speech'] = df['speech'].apply(lambda x: x.replace(\"im\", \"\"))\n",
    "df['speech'] = df['speech'].apply(lambda x: x.replace(\"going\", \"\"))\n",
    "df['speech'] = df['speech'].apply(lambda x: x.replace(\"kerry\", \"\"))\n",
    "df['speech'] = df['speech'].apply(lambda x: x.replace(\"john\", \"\"))\n",
    "df['speech'] = df['speech'].apply(lambda x: x.replace(\"bush\", \"\"))\n",
    "df['speech'] = df['speech'].apply(lambda x: x.replace(\"george\", \"\"))\n",
    "df['speech'] = df['speech'].apply(lambda x: x.replace(\"obama\", \"\"))\n",
    "df['speech'] = df['speech'].apply(lambda x: x.replace(\"barack\", \"\"))\n",
    "df['speech'] = df['speech'].apply(lambda x: x.replace(\"mccain\", \"\"))\n",
    "df['speech'] = df['speech'].apply(lambda x: x.replace(\"romeny\", \"\"))\n",
    "df['speech'] = df['speech'].apply(lambda x: x.replace(\"mitt\", \"\"))\n",
    "df['speech'] = df['speech'].apply(lambda x: x.replace(\"clinton\", \"\"))\n",
    "df['speech'] = df['speech'].apply(lambda x: x.replace(\"hillary\", \"\"))\n",
    "df['speech'] = df['speech'].apply(lambda x: x.replace(\"trump\", \"\"))\n",
    "df['speech'] = df['speech'].apply(lambda x: x.replace(\"donald\", \"\"))\n",
    "df['speech'] = df['speech'].apply(lambda x: x.replace(\"applause\", \"\"))\n",
    "df['speech'] = df['speech'].apply(lambda x: x.replace(\"laughter\", \"\"))\n",
    "df['speech'] = df['speech'].apply(lambda x: x.replace(\"america\", \"\"))\n",
    "df['speech'] = df['speech'].apply(lambda x: x.replace(\"american\", \"\"))\n",
    "df['speech'] = df['speech'].apply(lambda x: x.replace(\"think\", \"\"))\n",
    "df['speech'] = df['speech'].apply(lambda x: x.replace(\"this\", \"\"))"
   ]
  },
  {
   "cell_type": "code",
   "execution_count": 77,
   "metadata": {
    "collapsed": true
   },
   "outputs": [],
   "source": [
    "df['speech'] = df['speech'].apply(lambda x: x.replace(\"unemployed\", \"unemployment\").replace(\"unemployments\", \"unemployment\").replace(\"jobs\", \"unemployment\").replace(\"job\", \"unemployment\").replace(\"worker\", \"unemployment\").replace(\"workers\", \"unemployment\").replace(\"work\", \"unemployment\").replace(\"unemploymenting\", \"unemployment\"))\n",
    "df['speech'] = df['speech'].apply(lambda x: x.replace(\"school\", \"education\").replace(\"teachers\", \"education\").replace(\"teachers\", \"education\").replace(\"student\", \"education\").replace(\"students\", \"education\").replace(\"literacy\", \"education\").replace(\"literate\", \"education\").replace(\"college\", \"education\"))\n",
    "df['speech'] = df['speech'].apply(lambda x: x.replace(\"Wall Street\", \"income\").replace(\"wealth\", \"income\").replace(\"class\", \"income\").replace(\"billionaire\", \"income\"))\n",
    "df['speech'] = df['speech'].apply(lambda x: x.replace(\"afordable\", \"equality\").replace(\"comprehensive\", \"equality\").replace(\"comprehensive\", \"equality\"))\n",
    "df['speech'] = df['speech'].apply(lambda x: x.replace(\"immigrant\", \"immigration\").replace(\"migrant\", \"immigration\").replace(\"migration\", \"immigration\").replace(\"mexico\", \"immigration\").replace(\"wall\", \"immigration\"))\n",
    "df['speech'] = df['speech'].apply(lambda x: x.replace(\"troops\", \"war\").replace(\"iraq\", \"war\").replace(\"iran\", \"war\").replace(\"fight\", \"war\").replace(\"security\", \"war\"))\n",
    "df['speech'] = df['speech'].apply(lambda x: x.replace(\"oil\", \"energy\"))\n",
    "df['speech'] = df['speech'].apply(lambda x: x.replace(\"help\", \"crisis\"))\n",
    "df['speech'] = df['speech'].apply(lambda x: x.replace(\"children\", \"families\"))\n",
    "\n",
    "\n"
   ]
  },
  {
   "cell_type": "code",
   "execution_count": 9,
   "metadata": {
    "scrolled": true
   },
   "outputs": [
    {
     "data": {
      "text/plain": [
       "0"
      ]
     },
     "execution_count": 9,
     "metadata": {},
     "output_type": "execute_result"
    }
   ],
   "source": [
    "x = []\n",
    "for i in df.speech:\n",
    "    if 'iran' in i:\n",
    "        x.append('yes')\n",
    "len(x)    "
   ]
  },
  {
   "cell_type": "code",
   "execution_count": 78,
   "metadata": {},
   "outputs": [
    {
     "name": "stdout",
     "output_type": "stream",
     "text": [
      "1 loop, best of 3: 1.87 s per loop\n"
     ]
    }
   ],
   "source": [
    "%%timeit\n",
    "new_sp = []\n",
    "for x in df.speech:\n",
    "    x = ''.join([i for i in x if not i.isdigit()])\n",
    "    new_sp.append(x)\n",
    "df.speech = new_sp"
   ]
  },
  {
   "cell_type": "code",
   "execution_count": 79,
   "metadata": {},
   "outputs": [
    {
     "name": "stdout",
     "output_type": "stream",
     "text": [
      "1 loop, best of 3: 41.6 s per loop\n"
     ]
    }
   ],
   "source": [
    "%%timeit\n",
    "# create columns that show the subjectivity and polarity score of each speech\n",
    "\n",
    "subjectivity = []\n",
    "polarity = []\n",
    "for i in range(0, len(df.speech)):\n",
    "    sub = TextBlob(df.speech[i]).sentiment.subjectivity\n",
    "    subjectivity.append(sub)\n",
    "    \n",
    "    pol = TextBlob(df.speech[i]).sentiment.polarity\n",
    "    polarity.append(pol)\n",
    "\n",
    "df['subjectivity'] = subjectivity\n",
    "df['polarity'] = polarity"
   ]
  },
  {
   "cell_type": "code",
   "execution_count": 80,
   "metadata": {},
   "outputs": [
    {
     "name": "stdout",
     "output_type": "stream",
     "text": [
      "1 loop, best of 3: 1min 30s per loop\n"
     ]
    }
   ],
   "source": [
    "%%timeit\n",
    "# gets the stem of each word in the speech, to group together like words better\n",
    "\n",
    "sp = []\n",
    "\n",
    "for speech in df.speech:\n",
    "    stem_list = []\n",
    "    speech_new = []\n",
    "    speech = speech.split()\n",
    "    for word in speech:\n",
    "        w = Word(word)\n",
    "        stem = w.stem()\n",
    "        stem_list.append(stem)\n",
    "    speech_new = ' '.join(stem_list)\n",
    "    sp.append(speech_new)\n",
    "\n",
    "\n",
    "df.speech = sp"
   ]
  },
  {
   "cell_type": "code",
   "execution_count": 81,
   "metadata": {
    "collapsed": true
   },
   "outputs": [],
   "source": [
    "X = df[['speech', 'subjectivity', 'polarity']]\n",
    "y = df.party"
   ]
  },
  {
   "cell_type": "code",
   "execution_count": 82,
   "metadata": {
    "collapsed": true
   },
   "outputs": [],
   "source": [
    "X_train, X_test, y_train, y_test = train_test_split(X, y, test_size=.3, random_state=42)"
   ]
  },
  {
   "cell_type": "markdown",
   "metadata": {},
   "source": [
    "# Modeling Straight Predictions"
   ]
  },
  {
   "cell_type": "markdown",
   "metadata": {},
   "source": [
    "## Logistic Regression"
   ]
  },
  {
   "cell_type": "code",
   "execution_count": 175,
   "metadata": {},
   "outputs": [
    {
     "name": "stdout",
     "output_type": "stream",
     "text": [
      "0.98433048433\n",
      "0.920241448692\n",
      "[[267   9]\n",
      " [  2 424]]\n",
      "             precision    recall  f1-score   support\n",
      "\n",
      "          0       0.99      0.97      0.98       276\n",
      "          1       0.98      1.00      0.99       426\n",
      "\n",
      "avg / total       0.98      0.98      0.98       702\n",
      "\n",
      "score 0.940397350993\n",
      "0.870710382514\n",
      "[[ 99  13]\n",
      " [  5 185]]\n",
      "             precision    recall  f1-score   support\n",
      "\n",
      "          0       0.95      0.88      0.92       112\n",
      "          1       0.93      0.97      0.95       190\n",
      "\n",
      "avg / total       0.94      0.94      0.94       302\n",
      "\n"
     ]
    }
   ],
   "source": [
    "tfidf = TfidfVectorizer(stop_words='english')\n",
    "tfidf.fit(X_train.speech)\n",
    "X_train_tf = tfidf.transform(X_train.speech)\n",
    "\n",
    "\n",
    "X_train_tf = pd.DataFrame(X_train_tf.todense())\n",
    "\n",
    "\n",
    "train_sub_pol = X_train[['subjectivity', 'polarity']].reset_index().drop(['index'], axis=1)\n",
    "X_train_tf = pd.concat([X_train_tf, train_sub_pol], axis=1)\n",
    "\n",
    "\n",
    "\n",
    "logreg = LogisticRegression()\n",
    "logreg.fit(X_train_tf, y_train)\n",
    "train_predictions = logreg.predict(X_train_tf)\n",
    "\n",
    "print(logreg.score(X_train_tf, y_train))\n",
    "print(cross_val_score(logreg, X_train_tf, y_train, cv=5).mean())\n",
    "print(confusion_matrix(y_train, train_predictions))\n",
    "print(classification_report(y_train, train_predictions))\n",
    "\n",
    "\n",
    "X_test_tf = tfidf.transform(X_test.speech)\n",
    "X_test_tf = pd.DataFrame(X_test_tf.todense())\n",
    "\n",
    "test_sub_pol = X_test[['subjectivity', 'polarity']].reset_index().drop(['index'], axis=1)\n",
    "X_test_tf = pd.concat([X_test_tf, test_sub_pol], axis=1)\n",
    "\n",
    "test_predictions = logreg.predict(X_test_tf)\n",
    "print('score', logreg.score(X_test_tf, y_test))\n",
    "print(cross_val_score(logreg, X_test_tf, y_test, cv=5).mean())\n",
    "print(confusion_matrix(y_test, test_predictions))\n",
    "print(classification_report(y_test, test_predictions))"
   ]
  },
  {
   "cell_type": "markdown",
   "metadata": {},
   "source": [
    "## Random Forest"
   ]
  },
  {
   "cell_type": "code",
   "execution_count": 174,
   "metadata": {},
   "outputs": [
    {
     "name": "stdout",
     "output_type": "stream",
     "text": [
      "score 1.0\n",
      "0.885995975855\n",
      "[[276   0]\n",
      " [  0 426]]\n",
      "             precision    recall  f1-score   support\n",
      "\n",
      "          0       1.00      1.00      1.00       276\n",
      "          1       1.00      1.00      1.00       426\n",
      "\n",
      "avg / total       1.00      1.00      1.00       702\n",
      "\n",
      "score 0.91059602649\n",
      "0.864426229508\n",
      "[[ 94  18]\n",
      " [  9 181]]\n",
      "             precision    recall  f1-score   support\n",
      "\n",
      "          0       0.91      0.84      0.87       112\n",
      "          1       0.91      0.95      0.93       190\n",
      "\n",
      "avg / total       0.91      0.91      0.91       302\n",
      "\n"
     ]
    }
   ],
   "source": [
    "tfidf = TfidfVectorizer(stop_words='english')\n",
    "tfidf.fit(X_train.speech)\n",
    "X_train_tf = tfidf.transform(X_train.speech)\n",
    "\n",
    "\n",
    "X_train_tf = pd.DataFrame(X_train_tf.todense())\n",
    "\n",
    "\n",
    "train_sub_pol = X_train[['subjectivity', 'polarity']].reset_index().drop(['index'], axis=1)\n",
    "X_train_tf = pd.concat([X_train_tf, train_sub_pol], axis=1)\n",
    "\n",
    "rfc = RandomForestClassifier(max_depth=36, n_estimators=22)\n",
    "\n",
    "rfc.fit(X_train_tf, y_train)\n",
    "train_predictions = rfc.predict(X_train_tf)\n",
    "\n",
    "print('score', rfc.score(X_train_tf, y_train))\n",
    "print(cross_val_score(rfc, X_train_tf, y_train, cv=5).mean())\n",
    "print(confusion_matrix(y_train, train_predictions))\n",
    "print(classification_report(y_train, train_predictions))\n",
    "\n",
    "X_test_tf = tfidf.transform(X_test.speech)\n",
    "X_test_tf = pd.DataFrame(X_test_tf.todense())\n",
    "\n",
    "test_sub_pol = X_test[['subjectivity', 'polarity']].reset_index().drop(['index'], axis=1)\n",
    "X_test_tf = pd.concat([X_test_tf, test_sub_pol], axis=1)\n",
    "\n",
    "test_predictions = rfc.predict(X_test_tf)\n",
    "print('score', rfc.score(X_test_tf, y_test))\n",
    "print(cross_val_score(rfc, X_test_tf, y_test, cv=5).mean())\n",
    "print(confusion_matrix(y_test, test_predictions))\n",
    "print(classification_report(y_test, test_predictions))"
   ]
  },
  {
   "cell_type": "code",
   "execution_count": null,
   "metadata": {
    "collapsed": true
   },
   "outputs": [],
   "source": []
  },
  {
   "cell_type": "code",
   "execution_count": 169,
   "metadata": {
    "scrolled": true
   },
   "outputs": [
    {
     "name": "stdout",
     "output_type": "stream",
     "text": [
      "Fitting 3 folds for each of 150 candidates, totalling 450 fits\n",
      "[CV] max_depth=15, n_estimators=20 ...................................\n",
      "[CV] max_depth=15, n_estimators=20 ...................................\n",
      "[CV] max_depth=15, n_estimators=20 ...................................\n",
      "[CV] max_depth=15, n_estimators=21 ...................................\n",
      "[CV] .................... max_depth=15, n_estimators=20, total=   0.9s\n",
      "[CV] max_depth=15, n_estimators=21 ...................................\n",
      "[CV] .................... max_depth=15, n_estimators=20, total=   1.2s\n",
      "[CV] max_depth=15, n_estimators=21 ...................................\n",
      "[CV] .................... max_depth=15, n_estimators=20, total=   1.3s\n",
      "[CV] .................... max_depth=15, n_estimators=21, total=   1.2s\n",
      "[CV] max_depth=15, n_estimators=22 ...................................\n",
      "[CV] .................... max_depth=15, n_estimators=21, total=   1.1s\n",
      "[CV] max_depth=15, n_estimators=22 ...................................\n",
      "[CV] .................... max_depth=15, n_estimators=21, total=   0.9s\n",
      "[CV] max_depth=15, n_estimators=22 ...................................\n",
      "[CV] .................... max_depth=15, n_estimators=22, total=   0.8s\n",
      "[CV] max_depth=15, n_estimators=23 ...................................\n",
      "[CV] .................... max_depth=15, n_estimators=22, total=   0.8s\n",
      "[CV] max_depth=15, n_estimators=23 ...................................\n",
      "[CV] .................... max_depth=15, n_estimators=22, total=   0.8s\n",
      "[CV] max_depth=15, n_estimators=23 ...................................\n",
      "[CV] .................... max_depth=15, n_estimators=23, total=   0.9s\n",
      "[CV] max_depth=15, n_estimators=24 ...................................\n",
      "[CV] .................... max_depth=15, n_estimators=23, total=   0.9s\n",
      "[CV] max_depth=15, n_estimators=24 ...................................\n",
      "[CV] .................... max_depth=15, n_estimators=23, total=   1.1s\n",
      "[CV] max_depth=15, n_estimators=24 ...................................\n",
      "[CV] max_depth=15, n_estimators=25 ...................................\n",
      "[CV] .................... max_depth=15, n_estimators=24, total=   1.2s\n",
      "[CV] .................... max_depth=15, n_estimators=24, total=   1.2s\n",
      "[CV] max_depth=15, n_estimators=25 ...................................\n",
      "[CV] max_depth=15, n_estimators=25 ...................................\n",
      "[CV] .................... max_depth=15, n_estimators=24, total=   1.2s\n",
      "[CV] .................... max_depth=15, n_estimators=25, total=   1.0s\n",
      "[CV] max_depth=16, n_estimators=20 ...................................\n",
      "[CV] .................... max_depth=15, n_estimators=25, total=   1.0s\n",
      "[CV] max_depth=16, n_estimators=20 ...................................\n",
      "[CV] .................... max_depth=15, n_estimators=25, total=   0.9s\n",
      "[CV] max_depth=16, n_estimators=20 ...................................\n",
      "[CV] .................... max_depth=16, n_estimators=20, total=   0.9s\n",
      "[CV] max_depth=16, n_estimators=21 ...................................\n",
      "[CV] max_depth=16, n_estimators=21 ...................................\n",
      "[CV] .................... max_depth=16, n_estimators=20, total=   1.2s\n",
      "[CV] .................... max_depth=16, n_estimators=20, total=   1.2s\n",
      "[CV] max_depth=16, n_estimators=21 ...................................\n",
      "[CV] max_depth=16, n_estimators=22 ...................................\n",
      "[CV] .................... max_depth=16, n_estimators=21, total=   1.3s\n",
      "[CV] .................... max_depth=16, n_estimators=21, total=   1.2s\n",
      "[CV] max_depth=16, n_estimators=22 ...................................\n",
      "[CV] .................... max_depth=16, n_estimators=21, total=   1.3s\n",
      "[CV] max_depth=16, n_estimators=22 ...................................\n",
      "[CV] .................... max_depth=16, n_estimators=22, total=   1.1s\n",
      "[CV] max_depth=16, n_estimators=23 ...................................\n",
      "[CV] .................... max_depth=16, n_estimators=22, total=   1.2s\n",
      "[CV] max_depth=16, n_estimators=23 ...................................\n",
      "[CV] .................... max_depth=16, n_estimators=22, total=   1.3s\n",
      "[CV] max_depth=16, n_estimators=23 ...................................\n",
      "[CV] max_depth=16, n_estimators=24 ...................................\n",
      "[CV] .................... max_depth=16, n_estimators=23, total=   1.4s\n",
      "[CV] .................... max_depth=16, n_estimators=23, total=   1.2s\n",
      "[CV] max_depth=16, n_estimators=24 ...................................\n",
      "[CV] max_depth=16, n_estimators=24 ...................................\n",
      "[CV] .................... max_depth=16, n_estimators=23, total=   1.3s\n",
      "[CV] .................... max_depth=16, n_estimators=24, total=   1.3s\n",
      "[CV] max_depth=16, n_estimators=25 ...................................\n",
      "[CV] .................... max_depth=16, n_estimators=24, total=   1.4s\n",
      "[CV] max_depth=16, n_estimators=25 ...................................\n",
      "[CV] max_depth=16, n_estimators=25 ...................................\n",
      "[CV] .................... max_depth=16, n_estimators=24, total=   1.3s\n"
     ]
    },
    {
     "name": "stderr",
     "output_type": "stream",
     "text": [
      "[Parallel(n_jobs=-1)]: Done  33 tasks      | elapsed:   15.5s\n"
     ]
    },
    {
     "name": "stdout",
     "output_type": "stream",
     "text": [
      "[CV] max_depth=17, n_estimators=20 ...................................\n",
      "[CV] .................... max_depth=16, n_estimators=25, total=   1.4s\n",
      "[CV] max_depth=17, n_estimators=20 ...................................\n",
      "[CV] .................... max_depth=16, n_estimators=25, total=   1.4s\n",
      "[CV] max_depth=17, n_estimators=20 ...................................\n",
      "[CV] .................... max_depth=16, n_estimators=25, total=   1.4s\n",
      "[CV] .................... max_depth=17, n_estimators=20, total=   1.1s\n",
      "[CV] max_depth=17, n_estimators=21 ...................................\n",
      "[CV] .................... max_depth=17, n_estimators=20, total=   1.0s\n",
      "[CV] max_depth=17, n_estimators=21 ...................................\n",
      "[CV] .................... max_depth=17, n_estimators=20, total=   0.9s\n",
      "[CV] max_depth=17, n_estimators=21 ...................................\n",
      "[CV] .................... max_depth=17, n_estimators=21, total=   0.8s\n",
      "[CV] max_depth=17, n_estimators=22 ...................................\n",
      "[CV] .................... max_depth=17, n_estimators=21, total=   0.8s\n",
      "[CV] max_depth=17, n_estimators=22 ...................................\n",
      "[CV] .................... max_depth=17, n_estimators=21, total=   0.8s\n",
      "[CV] max_depth=17, n_estimators=22 ...................................\n",
      "[CV] .................... max_depth=17, n_estimators=22, total=   0.8s\n",
      "[CV] max_depth=17, n_estimators=23 ...................................\n",
      "[CV] .................... max_depth=17, n_estimators=22, total=   0.8s\n",
      "[CV] max_depth=17, n_estimators=23 ...................................\n",
      "[CV] .................... max_depth=17, n_estimators=22, total=   0.8s\n",
      "[CV] max_depth=17, n_estimators=23 ...................................\n",
      "[CV] .................... max_depth=17, n_estimators=23, total=   0.9s\n",
      "[CV] max_depth=17, n_estimators=24 ...................................\n",
      "[CV] .................... max_depth=17, n_estimators=23, total=   1.0s\n",
      "[CV] max_depth=17, n_estimators=24 ...................................\n",
      "[CV] .................... max_depth=17, n_estimators=23, total=   1.0s\n",
      "[CV] max_depth=17, n_estimators=24 ...................................\n",
      "[CV] .................... max_depth=17, n_estimators=24, total=   1.0s\n",
      "[CV] max_depth=17, n_estimators=25 ...................................\n",
      "[CV] .................... max_depth=17, n_estimators=24, total=   0.9s\n",
      "[CV] max_depth=17, n_estimators=25 ...................................\n",
      "[CV] .................... max_depth=17, n_estimators=24, total=   1.0s\n",
      "[CV] max_depth=17, n_estimators=25 ...................................\n",
      "[CV] .................... max_depth=17, n_estimators=25, total=   1.2s\n",
      "[CV] max_depth=18, n_estimators=20 ...................................\n",
      "[CV] max_depth=18, n_estimators=20 ...................................\n",
      "[CV] .................... max_depth=17, n_estimators=25, total=   1.3s\n",
      "[CV] .................... max_depth=17, n_estimators=25, total=   1.3s\n",
      "[CV] max_depth=18, n_estimators=20 ...................................\n",
      "[CV] .................... max_depth=18, n_estimators=20, total=   1.0s\n",
      "[CV] max_depth=18, n_estimators=21 ...................................\n",
      "[CV] .................... max_depth=18, n_estimators=20, total=   1.0s\n",
      "[CV] max_depth=18, n_estimators=21 ...................................\n",
      "[CV] max_depth=18, n_estimators=21 ...................................\n",
      "[CV] .................... max_depth=18, n_estimators=20, total=   1.4s\n",
      "[CV] max_depth=18, n_estimators=22 ...................................\n",
      "[CV] .................... max_depth=18, n_estimators=21, total=   1.5s\n",
      "[CV] max_depth=18, n_estimators=22 ...................................\n",
      "[CV] .................... max_depth=18, n_estimators=21, total=   1.3s\n",
      "[CV] .................... max_depth=18, n_estimators=21, total=   1.3s\n",
      "[CV] max_depth=18, n_estimators=22 ...................................\n",
      "[CV] .................... max_depth=18, n_estimators=22, total=   1.1s\n",
      "[CV] max_depth=18, n_estimators=23 ...................................\n",
      "[CV] max_depth=18, n_estimators=23 ...................................\n",
      "[CV] .................... max_depth=18, n_estimators=22, total=   1.1s\n",
      "[CV] max_depth=18, n_estimators=23 ...................................\n",
      "[CV] .................... max_depth=18, n_estimators=22, total=   1.2s\n",
      "[CV] max_depth=18, n_estimators=24 ...................................\n",
      "[CV] .................... max_depth=18, n_estimators=23, total=   1.3s\n",
      "[CV] max_depth=18, n_estimators=24 ...................................\n",
      "[CV] .................... max_depth=18, n_estimators=23, total=   1.7s\n",
      "[CV] max_depth=18, n_estimators=24 ...................................\n",
      "[CV] .................... max_depth=18, n_estimators=23, total=   1.5s\n",
      "[CV] max_depth=18, n_estimators=25 ...................................\n",
      "[CV] .................... max_depth=18, n_estimators=24, total=   1.3s\n",
      "[CV] .................... max_depth=18, n_estimators=24, total=   1.1s\n",
      "[CV] max_depth=18, n_estimators=25 ...................................\n",
      "[CV] max_depth=18, n_estimators=25 ...................................\n",
      "[CV] .................... max_depth=18, n_estimators=24, total=   1.0s\n",
      "[CV] .................... max_depth=18, n_estimators=25, total=   1.2s\n",
      "[CV] max_depth=19, n_estimators=20 ...................................\n",
      "[CV] .................... max_depth=18, n_estimators=25, total=   1.1s\n",
      "[CV] max_depth=19, n_estimators=20 ...................................\n",
      "[CV] max_depth=19, n_estimators=20 ...................................\n",
      "[CV] .................... max_depth=18, n_estimators=25, total=   1.3s\n",
      "[CV] .................... max_depth=19, n_estimators=20, total=   1.1s\n",
      "[CV] max_depth=19, n_estimators=21 ...................................\n",
      "[CV] .................... max_depth=19, n_estimators=20, total=   1.1s\n",
      "[CV] max_depth=19, n_estimators=21 ...................................\n",
      "[CV] .................... max_depth=19, n_estimators=20, total=   1.0s\n",
      "[CV] max_depth=19, n_estimators=21 ...................................\n",
      "[CV] .................... max_depth=19, n_estimators=21, total=   0.9s\n",
      "[CV] max_depth=19, n_estimators=22 ...................................\n",
      "[CV] .................... max_depth=19, n_estimators=21, total=   0.9s\n",
      "[CV] max_depth=19, n_estimators=22 ...................................\n",
      "[CV] .................... max_depth=19, n_estimators=21, total=   0.9s\n",
      "[CV] max_depth=19, n_estimators=22 ...................................\n",
      "[CV] .................... max_depth=19, n_estimators=22, total=   0.9s\n",
      "[CV] max_depth=19, n_estimators=23 ...................................\n",
      "[CV] .................... max_depth=19, n_estimators=22, total=   1.0s\n",
      "[CV] max_depth=19, n_estimators=23 ...................................\n",
      "[CV] .................... max_depth=19, n_estimators=22, total=   1.2s\n",
      "[CV] max_depth=19, n_estimators=23 ...................................\n",
      "[CV] .................... max_depth=19, n_estimators=23, total=   1.2s\n",
      "[CV] max_depth=19, n_estimators=24 ...................................\n",
      "[CV] .................... max_depth=19, n_estimators=23, total=   1.0s\n",
      "[CV] max_depth=19, n_estimators=24 ...................................\n",
      "[CV] max_depth=19, n_estimators=24 ...................................\n",
      "[CV] .................... max_depth=19, n_estimators=23, total=   1.3s\n",
      "[CV] .................... max_depth=19, n_estimators=24, total=   1.4s\n",
      "[CV] max_depth=19, n_estimators=25 ...................................\n",
      "[CV] .................... max_depth=19, n_estimators=24, total=   1.3s\n",
      "[CV] max_depth=19, n_estimators=25 ...................................\n",
      "[CV] .................... max_depth=19, n_estimators=24, total=   1.1s\n",
      "[CV] max_depth=19, n_estimators=25 ...................................\n",
      "[CV] max_depth=20, n_estimators=20 ...................................\n",
      "[CV] .................... max_depth=19, n_estimators=25, total=   1.2s\n",
      "[CV] .................... max_depth=19, n_estimators=25, total=   1.2s\n",
      "[CV] max_depth=20, n_estimators=20 ...................................\n",
      "[CV] .................... max_depth=19, n_estimators=25, total=   1.2s\n",
      "[CV] max_depth=20, n_estimators=20 ...................................\n",
      "[CV] .................... max_depth=20, n_estimators=20, total=   1.2s\n",
      "[CV] max_depth=20, n_estimators=21 ...................................\n"
     ]
    },
    {
     "name": "stdout",
     "output_type": "stream",
     "text": [
      "[CV] max_depth=20, n_estimators=21 ...................................\n",
      "[CV] .................... max_depth=20, n_estimators=20, total=   1.3s\n",
      "[CV] max_depth=20, n_estimators=21 ...................................\n",
      "[CV] .................... max_depth=20, n_estimators=20, total=   1.6s\n",
      "[CV] .................... max_depth=20, n_estimators=21, total=   1.6s\n",
      "[CV] max_depth=20, n_estimators=22 ...................................\n",
      "[CV] .................... max_depth=20, n_estimators=21, total=   1.4s\n",
      "[CV] max_depth=20, n_estimators=22 ...................................\n",
      "[CV] .................... max_depth=20, n_estimators=21, total=   1.3s\n",
      "[CV] max_depth=20, n_estimators=22 ...................................\n",
      "[CV] max_depth=20, n_estimators=23 ...................................\n",
      "[CV] .................... max_depth=20, n_estimators=22, total=   1.1s\n",
      "[CV] .................... max_depth=20, n_estimators=22, total=   1.2s\n",
      "[CV] max_depth=20, n_estimators=23 ...................................\n",
      "[CV] .................... max_depth=20, n_estimators=22, total=   1.3s\n",
      "[CV] max_depth=20, n_estimators=23 ...................................\n",
      "[CV] .................... max_depth=20, n_estimators=23, total=   1.2s\n",
      "[CV] max_depth=20, n_estimators=24 ...................................\n",
      "[CV] .................... max_depth=20, n_estimators=23, total=   1.0s\n",
      "[CV] max_depth=20, n_estimators=24 ...................................\n",
      "[CV] .................... max_depth=20, n_estimators=23, total=   0.9s\n",
      "[CV] max_depth=20, n_estimators=24 ...................................\n",
      "[CV] .................... max_depth=20, n_estimators=24, total=   1.1s\n",
      "[CV] max_depth=20, n_estimators=25 ...................................\n",
      "[CV] .................... max_depth=20, n_estimators=24, total=   1.2s\n",
      "[CV] max_depth=20, n_estimators=25 ...................................\n",
      "[CV] .................... max_depth=20, n_estimators=24, total=   1.1s\n",
      "[CV] max_depth=20, n_estimators=25 ...................................\n",
      "[CV] .................... max_depth=20, n_estimators=25, total=   1.1s\n",
      "[CV] max_depth=21, n_estimators=20 ...................................\n",
      "[CV] .................... max_depth=20, n_estimators=25, total=   1.1s\n",
      "[CV] max_depth=21, n_estimators=20 ...................................\n",
      "[CV] .................... max_depth=20, n_estimators=25, total=   1.2s\n",
      "[CV] max_depth=21, n_estimators=20 ...................................\n",
      "[CV] .................... max_depth=21, n_estimators=20, total=   1.3s\n",
      "[CV] max_depth=21, n_estimators=21 ...................................\n",
      "[CV] .................... max_depth=21, n_estimators=20, total=   1.1s\n",
      "[CV] max_depth=21, n_estimators=21 ...................................\n",
      "[CV] .................... max_depth=21, n_estimators=20, total=   1.1s\n",
      "[CV] max_depth=21, n_estimators=21 ...................................\n",
      "[CV] .................... max_depth=21, n_estimators=21, total=   1.0s\n",
      "[CV] max_depth=21, n_estimators=22 ...................................\n",
      "[CV] .................... max_depth=21, n_estimators=21, total=   1.2s\n",
      "[CV] max_depth=21, n_estimators=22 ...................................\n",
      "[CV] max_depth=21, n_estimators=22 ...................................\n",
      "[CV] .................... max_depth=21, n_estimators=21, total=   1.3s\n",
      "[CV] max_depth=21, n_estimators=23 ...................................\n",
      "[CV] .................... max_depth=21, n_estimators=22, total=   1.3s\n",
      "[CV] .................... max_depth=21, n_estimators=22, total=   1.2s\n",
      "[CV] max_depth=21, n_estimators=23 ...................................\n",
      "[CV] .................... max_depth=21, n_estimators=22, total=   1.1s\n",
      "[CV] max_depth=21, n_estimators=23 ...................................\n",
      "[CV] .................... max_depth=21, n_estimators=23, total=   1.0s\n",
      "[CV] max_depth=21, n_estimators=24 ...................................\n",
      "[CV] .................... max_depth=21, n_estimators=23, total=   1.0s\n",
      "[CV] max_depth=21, n_estimators=24 ...................................\n",
      "[CV] .................... max_depth=21, n_estimators=23, total=   0.9s\n",
      "[CV] max_depth=21, n_estimators=24 ...................................\n",
      "[CV] max_depth=21, n_estimators=25 ...................................\n",
      "[CV] .................... max_depth=21, n_estimators=24, total=   1.2s\n",
      "[CV] max_depth=21, n_estimators=25 ...................................\n",
      "[CV] .................... max_depth=21, n_estimators=24, total=   1.4s\n",
      "[CV] .................... max_depth=21, n_estimators=24, total=   1.2s\n",
      "[CV] max_depth=21, n_estimators=25 ...................................\n",
      "[CV] max_depth=22, n_estimators=20 ...................................\n",
      "[CV] .................... max_depth=21, n_estimators=25, total=   1.4s\n",
      "[CV] max_depth=22, n_estimators=20 ...................................\n",
      "[CV] .................... max_depth=21, n_estimators=25, total=   1.2s\n",
      "[CV] max_depth=22, n_estimators=20 ...................................\n",
      "[CV] .................... max_depth=21, n_estimators=25, total=   1.1s\n",
      "[CV] .................... max_depth=22, n_estimators=20, total=   0.9s\n",
      "[CV] max_depth=22, n_estimators=21 ...................................\n",
      "[CV] .................... max_depth=22, n_estimators=20, total=   0.9s\n",
      "[CV] max_depth=22, n_estimators=21 ...................................\n",
      "[CV] .................... max_depth=22, n_estimators=20, total=   0.8s\n",
      "[CV] max_depth=22, n_estimators=21 ...................................\n",
      "[CV] .................... max_depth=22, n_estimators=21, total=   0.9s\n",
      "[CV] max_depth=22, n_estimators=22 ...................................\n",
      "[CV] .................... max_depth=22, n_estimators=21, total=   1.1s\n",
      "[CV] max_depth=22, n_estimators=22 ...................................\n",
      "[CV] .................... max_depth=22, n_estimators=21, total=   1.1s\n",
      "[CV] max_depth=22, n_estimators=22 ...................................\n",
      "[CV] .................... max_depth=22, n_estimators=22, total=   1.1s\n",
      "[CV] max_depth=22, n_estimators=23 ...................................\n",
      "[CV] .................... max_depth=22, n_estimators=22, total=   1.0s\n",
      "[CV] max_depth=22, n_estimators=23 ...................................\n",
      "[CV] .................... max_depth=22, n_estimators=22, total=   1.3s\n",
      "[CV] max_depth=22, n_estimators=23 ...................................\n",
      "[CV] .................... max_depth=22, n_estimators=23, total=   1.8s\n",
      "[CV] max_depth=22, n_estimators=24 ...................................\n",
      "[CV] .................... max_depth=22, n_estimators=23, total=   2.0s\n",
      "[CV] max_depth=22, n_estimators=24 ...................................\n",
      "[CV] .................... max_depth=22, n_estimators=23, total=   1.4s\n",
      "[CV] max_depth=22, n_estimators=24 ...................................\n",
      "[CV] .................... max_depth=22, n_estimators=24, total=   1.1s\n",
      "[CV] max_depth=22, n_estimators=25 ...................................\n",
      "[CV] .................... max_depth=22, n_estimators=24, total=   0.9s\n",
      "[CV] max_depth=22, n_estimators=25 ...................................\n",
      "[CV] .................... max_depth=22, n_estimators=24, total=   0.9s\n",
      "[CV] max_depth=22, n_estimators=25 ...................................\n",
      "[CV] .................... max_depth=22, n_estimators=25, total=   0.8s\n",
      "[CV] max_depth=23, n_estimators=20 ...................................\n",
      "[CV] max_depth=23, n_estimators=20 ...................................\n",
      "[CV] .................... max_depth=22, n_estimators=25, total=   1.4s\n",
      "[CV] .................... max_depth=22, n_estimators=25, total=   1.2s\n",
      "[CV] max_depth=23, n_estimators=20 ...................................\n",
      "[CV] .................... max_depth=23, n_estimators=20, total=   1.0s\n",
      "[CV] max_depth=23, n_estimators=21 ...................................\n",
      "[CV] .................... max_depth=23, n_estimators=20, total=   1.0s\n",
      "[CV] max_depth=23, n_estimators=21 ...................................\n",
      "[CV] .................... max_depth=23, n_estimators=20, total=   0.9s\n",
      "[CV] max_depth=23, n_estimators=21 ...................................\n",
      "[CV] .................... max_depth=23, n_estimators=21, total=   0.9s\n",
      "[CV] max_depth=23, n_estimators=22 ...................................\n",
      "[CV] .................... max_depth=23, n_estimators=21, total=   0.7s\n",
      "[CV] max_depth=23, n_estimators=22 ...................................\n"
     ]
    },
    {
     "name": "stdout",
     "output_type": "stream",
     "text": [
      "[CV] max_depth=23, n_estimators=22 ...................................\n",
      "[CV] .................... max_depth=23, n_estimators=21, total=   0.9s\n",
      "[CV] max_depth=23, n_estimators=23 ...................................\n",
      "[CV] .................... max_depth=23, n_estimators=22, total=   1.1s\n",
      "[CV] max_depth=23, n_estimators=23 ...................................\n",
      "[CV] .................... max_depth=23, n_estimators=22, total=   1.2s\n",
      "[CV] .................... max_depth=23, n_estimators=22, total=   1.2s\n",
      "[CV] max_depth=23, n_estimators=23 ...................................\n",
      "[CV] max_depth=23, n_estimators=24 ...................................\n",
      "[CV] .................... max_depth=23, n_estimators=23, total=   1.2s\n",
      "[CV] .................... max_depth=23, n_estimators=23, total=   1.0s\n",
      "[CV] max_depth=23, n_estimators=24 ...................................\n"
     ]
    },
    {
     "name": "stderr",
     "output_type": "stream",
     "text": [
      "[Parallel(n_jobs=-1)]: Done 154 tasks      | elapsed:  1.1min\n"
     ]
    },
    {
     "name": "stdout",
     "output_type": "stream",
     "text": [
      "[CV] max_depth=23, n_estimators=24 ...................................\n",
      "[CV] .................... max_depth=23, n_estimators=23, total=   1.1s\n",
      "[CV] max_depth=23, n_estimators=25 ...................................\n",
      "[CV] .................... max_depth=23, n_estimators=24, total=   1.0s\n",
      "[CV] .................... max_depth=23, n_estimators=24, total=   0.8s\n",
      "[CV] max_depth=23, n_estimators=25 ...................................\n",
      "[CV] .................... max_depth=23, n_estimators=24, total=   0.9s\n",
      "[CV] max_depth=23, n_estimators=25 ...................................\n",
      "[CV] .................... max_depth=23, n_estimators=25, total=   0.9s\n",
      "[CV] max_depth=24, n_estimators=20 ...................................\n",
      "[CV] .................... max_depth=23, n_estimators=25, total=   0.8s\n",
      "[CV] max_depth=24, n_estimators=20 ...................................\n",
      "[CV] .................... max_depth=23, n_estimators=25, total=   0.8s\n",
      "[CV] max_depth=24, n_estimators=20 ...................................\n",
      "[CV] .................... max_depth=24, n_estimators=20, total=   0.8s\n",
      "[CV] max_depth=24, n_estimators=21 ...................................\n",
      "[CV] .................... max_depth=24, n_estimators=20, total=   0.7s\n",
      "[CV] max_depth=24, n_estimators=21 ...................................\n",
      "[CV] .................... max_depth=24, n_estimators=20, total=   0.8s\n",
      "[CV] max_depth=24, n_estimators=21 ...................................\n",
      "[CV] .................... max_depth=24, n_estimators=21, total=   0.7s\n",
      "[CV] max_depth=24, n_estimators=22 ...................................\n",
      "[CV] .................... max_depth=24, n_estimators=21, total=   0.8s\n",
      "[CV] max_depth=24, n_estimators=22 ...................................\n",
      "[CV] .................... max_depth=24, n_estimators=21, total=   0.8s\n",
      "[CV] max_depth=24, n_estimators=22 ...................................\n",
      "[CV] .................... max_depth=24, n_estimators=22, total=   0.7s\n",
      "[CV] max_depth=24, n_estimators=23 ...................................\n",
      "[CV] .................... max_depth=24, n_estimators=22, total=   0.7s\n",
      "[CV] max_depth=24, n_estimators=23 ...................................\n",
      "[CV] max_depth=24, n_estimators=23 ...................................\n",
      "[CV] .................... max_depth=24, n_estimators=22, total=   0.9s\n",
      "[CV] .................... max_depth=24, n_estimators=23, total=   0.9s\n",
      "[CV] max_depth=24, n_estimators=24 ...................................\n",
      "[CV] .................... max_depth=24, n_estimators=23, total=   1.1s\n",
      "[CV] max_depth=24, n_estimators=24 ...................................\n",
      "[CV] .................... max_depth=24, n_estimators=23, total=   1.1s\n",
      "[CV] max_depth=24, n_estimators=24 ...................................\n",
      "[CV] .................... max_depth=24, n_estimators=24, total=   0.9s\n",
      "[CV] max_depth=24, n_estimators=25 ...................................\n",
      "[CV] .................... max_depth=24, n_estimators=24, total=   1.0s\n",
      "[CV] max_depth=24, n_estimators=25 ...................................\n",
      "[CV] .................... max_depth=24, n_estimators=24, total=   0.9s\n",
      "[CV] max_depth=24, n_estimators=25 ...................................\n",
      "[CV] .................... max_depth=24, n_estimators=25, total=   0.9s\n",
      "[CV] max_depth=25, n_estimators=20 ...................................\n",
      "[CV] max_depth=25, n_estimators=20 ...................................\n",
      "[CV] .................... max_depth=24, n_estimators=25, total=   1.0s\n",
      "[CV] max_depth=25, n_estimators=20 ...................................\n",
      "[CV] .................... max_depth=24, n_estimators=25, total=   1.1s\n",
      "[CV] .................... max_depth=25, n_estimators=20, total=   1.1s\n",
      "[CV] max_depth=25, n_estimators=21 ...................................\n",
      "[CV] .................... max_depth=25, n_estimators=20, total=   1.0s\n",
      "[CV] max_depth=25, n_estimators=21 ...................................\n",
      "[CV] .................... max_depth=25, n_estimators=20, total=   1.0s\n",
      "[CV] max_depth=25, n_estimators=21 ...................................\n",
      "[CV] max_depth=25, n_estimators=22 ...................................\n",
      "[CV] .................... max_depth=25, n_estimators=21, total=   1.3s\n",
      "[CV] max_depth=25, n_estimators=22 ...................................\n",
      "[CV] .................... max_depth=25, n_estimators=21, total=   1.4s\n",
      "[CV] .................... max_depth=25, n_estimators=21, total=   1.2s\n",
      "[CV] max_depth=25, n_estimators=22 ...................................\n",
      "[CV] .................... max_depth=25, n_estimators=22, total=   1.1s\n",
      "[CV] max_depth=25, n_estimators=23 ...................................\n",
      "[CV] .................... max_depth=25, n_estimators=22, total=   1.0s\n",
      "[CV] max_depth=25, n_estimators=23 ...................................\n",
      "[CV] .................... max_depth=25, n_estimators=22, total=   0.9s\n",
      "[CV] max_depth=25, n_estimators=23 ...................................\n",
      "[CV] .................... max_depth=25, n_estimators=23, total=   0.9s\n",
      "[CV] max_depth=25, n_estimators=24 ...................................\n",
      "[CV] .................... max_depth=25, n_estimators=23, total=   0.8s\n",
      "[CV] max_depth=25, n_estimators=24 ...................................\n",
      "[CV] .................... max_depth=25, n_estimators=23, total=   0.8s\n",
      "[CV] max_depth=25, n_estimators=24 ...................................\n",
      "[CV] .................... max_depth=25, n_estimators=24, total=   0.8s\n",
      "[CV] max_depth=25, n_estimators=25 ...................................\n",
      "[CV] .................... max_depth=25, n_estimators=24, total=   0.8s\n",
      "[CV] max_depth=25, n_estimators=25 ...................................\n",
      "[CV] .................... max_depth=25, n_estimators=24, total=   0.8s\n",
      "[CV] max_depth=25, n_estimators=25 ...................................\n",
      "[CV] .................... max_depth=25, n_estimators=25, total=   0.9s\n",
      "[CV] max_depth=26, n_estimators=20 ...................................\n",
      "[CV] .................... max_depth=25, n_estimators=25, total=   0.8s\n",
      "[CV] max_depth=26, n_estimators=20 ...................................\n",
      "[CV] .................... max_depth=25, n_estimators=25, total=   0.9s\n",
      "[CV] max_depth=26, n_estimators=20 ...................................\n",
      "[CV] .................... max_depth=26, n_estimators=20, total=   0.9s\n",
      "[CV] max_depth=26, n_estimators=21 ...................................\n",
      "[CV] .................... max_depth=26, n_estimators=20, total=   0.8s\n",
      "[CV] max_depth=26, n_estimators=21 ...................................\n",
      "[CV] .................... max_depth=26, n_estimators=20, total=   0.7s\n",
      "[CV] max_depth=26, n_estimators=21 ...................................\n",
      "[CV] .................... max_depth=26, n_estimators=21, total=   0.6s\n",
      "[CV] max_depth=26, n_estimators=22 ...................................\n",
      "[CV] .................... max_depth=26, n_estimators=21, total=   0.8s\n",
      "[CV] max_depth=26, n_estimators=22 ...................................\n",
      "[CV] .................... max_depth=26, n_estimators=21, total=   0.7s\n",
      "[CV] max_depth=26, n_estimators=22 ...................................\n",
      "[CV] .................... max_depth=26, n_estimators=22, total=   0.9s\n",
      "[CV] max_depth=26, n_estimators=23 ...................................\n",
      "[CV] .................... max_depth=26, n_estimators=22, total=   0.9s\n",
      "[CV] max_depth=26, n_estimators=23 ...................................\n",
      "[CV] .................... max_depth=26, n_estimators=22, total=   0.8s\n",
      "[CV] max_depth=26, n_estimators=23 ...................................\n",
      "[CV] .................... max_depth=26, n_estimators=23, total=   0.8s\n",
      "[CV] max_depth=26, n_estimators=24 ...................................\n",
      "[CV] .................... max_depth=26, n_estimators=23, total=   1.0s\n",
      "[CV] max_depth=26, n_estimators=24 ...................................\n",
      "[CV] .................... max_depth=26, n_estimators=23, total=   1.0s\n",
      "[CV] max_depth=26, n_estimators=24 ...................................\n",
      "[CV] .................... max_depth=26, n_estimators=24, total=   0.9s\n",
      "[CV] max_depth=26, n_estimators=25 ...................................\n",
      "[CV] .................... max_depth=26, n_estimators=24, total=   0.9s\n",
      "[CV] max_depth=26, n_estimators=25 ...................................\n",
      "[CV] max_depth=26, n_estimators=25 ...................................\n",
      "[CV] .................... max_depth=26, n_estimators=24, total=   1.1s\n"
     ]
    },
    {
     "name": "stdout",
     "output_type": "stream",
     "text": [
      "[CV] .................... max_depth=26, n_estimators=25, total=   1.0s\n",
      "[CV] max_depth=27, n_estimators=20 ...................................\n",
      "[CV] max_depth=27, n_estimators=20 ...................................\n",
      "[CV] .................... max_depth=26, n_estimators=25, total=   1.2s\n",
      "[CV] max_depth=27, n_estimators=20 ...................................\n",
      "[CV] .................... max_depth=26, n_estimators=25, total=   1.1s\n",
      "[CV] .................... max_depth=27, n_estimators=20, total=   0.8s\n",
      "[CV] max_depth=27, n_estimators=21 ...................................\n",
      "[CV] .................... max_depth=27, n_estimators=20, total=   0.8s\n",
      "[CV] max_depth=27, n_estimators=21 ...................................\n",
      "[CV] .................... max_depth=27, n_estimators=20, total=   0.8s\n",
      "[CV] max_depth=27, n_estimators=21 ...................................\n",
      "[CV] .................... max_depth=27, n_estimators=21, total=   0.7s\n",
      "[CV] max_depth=27, n_estimators=22 ...................................\n",
      "[CV] .................... max_depth=27, n_estimators=21, total=   0.8s\n",
      "[CV] max_depth=27, n_estimators=22 ...................................\n",
      "[CV] .................... max_depth=27, n_estimators=21, total=   0.8s\n",
      "[CV] max_depth=27, n_estimators=22 ...................................\n",
      "[CV] .................... max_depth=27, n_estimators=22, total=   0.8s\n",
      "[CV] max_depth=27, n_estimators=23 ...................................\n",
      "[CV] .................... max_depth=27, n_estimators=22, total=   0.8s\n",
      "[CV] max_depth=27, n_estimators=23 ...................................\n",
      "[CV] .................... max_depth=27, n_estimators=22, total=   0.8s\n",
      "[CV] max_depth=27, n_estimators=23 ...................................\n",
      "[CV] .................... max_depth=27, n_estimators=23, total=   0.7s\n",
      "[CV] max_depth=27, n_estimators=24 ...................................\n",
      "[CV] .................... max_depth=27, n_estimators=23, total=   0.8s\n",
      "[CV] max_depth=27, n_estimators=24 ...................................\n",
      "[CV] .................... max_depth=27, n_estimators=23, total=   0.8s\n",
      "[CV] max_depth=27, n_estimators=24 ...................................\n",
      "[CV] .................... max_depth=27, n_estimators=24, total=   0.8s\n",
      "[CV] max_depth=27, n_estimators=25 ...................................\n",
      "[CV] .................... max_depth=27, n_estimators=24, total=   0.8s\n",
      "[CV] max_depth=27, n_estimators=25 ...................................\n",
      "[CV] .................... max_depth=27, n_estimators=24, total=   0.8s\n",
      "[CV] max_depth=27, n_estimators=25 ...................................\n",
      "[CV] .................... max_depth=27, n_estimators=25, total=   0.9s\n",
      "[CV] max_depth=28, n_estimators=20 ...................................\n",
      "[CV] max_depth=28, n_estimators=20 ...................................\n",
      "[CV] .................... max_depth=27, n_estimators=25, total=   1.1s\n",
      "[CV] .................... max_depth=27, n_estimators=25, total=   1.1s\n",
      "[CV] max_depth=28, n_estimators=20 ...................................\n",
      "[CV] .................... max_depth=28, n_estimators=20, total=   0.8s\n",
      "[CV] max_depth=28, n_estimators=21 ...................................\n",
      "[CV] .................... max_depth=28, n_estimators=20, total=   0.9s\n",
      "[CV] max_depth=28, n_estimators=21 ...................................\n",
      "[CV] max_depth=28, n_estimators=21 ...................................\n",
      "[CV] .................... max_depth=28, n_estimators=20, total=   0.9s\n",
      "[CV] max_depth=28, n_estimators=22 ...................................\n",
      "[CV] .................... max_depth=28, n_estimators=21, total=   1.1s\n",
      "[CV] max_depth=28, n_estimators=22 ...................................\n",
      "[CV] .................... max_depth=28, n_estimators=21, total=   1.1s\n",
      "[CV] .................... max_depth=28, n_estimators=21, total=   1.0s\n",
      "[CV] max_depth=28, n_estimators=22 ...................................\n",
      "[CV] .................... max_depth=28, n_estimators=22, total=   1.0s\n",
      "[CV] max_depth=28, n_estimators=23 ...................................\n",
      "[CV] .................... max_depth=28, n_estimators=22, total=   1.0s\n",
      "[CV] max_depth=28, n_estimators=23 ...................................\n",
      "[CV] .................... max_depth=28, n_estimators=22, total=   0.9s\n",
      "[CV] max_depth=28, n_estimators=23 ...................................\n",
      "[CV] .................... max_depth=28, n_estimators=23, total=   0.8s\n",
      "[CV] max_depth=28, n_estimators=24 ...................................\n",
      "[CV] .................... max_depth=28, n_estimators=23, total=   0.8s\n",
      "[CV] max_depth=28, n_estimators=24 ...................................\n",
      "[CV] .................... max_depth=28, n_estimators=23, total=   0.8s\n",
      "[CV] max_depth=28, n_estimators=24 ...................................\n",
      "[CV] max_depth=28, n_estimators=25 ...................................\n",
      "[CV] .................... max_depth=28, n_estimators=24, total=   1.0s\n",
      "[CV] .................... max_depth=28, n_estimators=24, total=   0.9s\n",
      "[CV] max_depth=28, n_estimators=25 ...................................\n",
      "[CV] max_depth=28, n_estimators=25 ...................................\n",
      "[CV] .................... max_depth=28, n_estimators=24, total=   0.9s\n",
      "[CV] max_depth=29, n_estimators=20 ...................................\n",
      "[CV] .................... max_depth=28, n_estimators=25, total=   1.0s\n",
      "[CV] .................... max_depth=28, n_estimators=25, total=   0.9s\n",
      "[CV] max_depth=29, n_estimators=20 ...................................\n",
      "[CV] .................... max_depth=28, n_estimators=25, total=   0.9s\n",
      "[CV] max_depth=29, n_estimators=20 ...................................\n",
      "[CV] .................... max_depth=29, n_estimators=20, total=   0.8s\n",
      "[CV] max_depth=29, n_estimators=21 ...................................\n",
      "[CV] .................... max_depth=29, n_estimators=20, total=   0.9s\n",
      "[CV] max_depth=29, n_estimators=21 ...................................\n",
      "[CV] .................... max_depth=29, n_estimators=20, total=   0.8s\n",
      "[CV] .................... max_depth=29, n_estimators=21, total=   0.8s\n",
      "[CV] max_depth=29, n_estimators=21 ...................................\n",
      "[CV] max_depth=29, n_estimators=22 ...................................\n",
      "[CV] .................... max_depth=29, n_estimators=21, total=   0.8s\n",
      "[CV] max_depth=29, n_estimators=22 ...................................\n",
      "[CV] .................... max_depth=29, n_estimators=21, total=   0.7s\n",
      "[CV] max_depth=29, n_estimators=22 ...................................\n",
      "[CV] .................... max_depth=29, n_estimators=22, total=   1.0s\n",
      "[CV] max_depth=29, n_estimators=23 ...................................\n",
      "[CV] .................... max_depth=29, n_estimators=22, total=   1.1s\n",
      "[CV] max_depth=29, n_estimators=23 ...................................\n",
      "[CV] .................... max_depth=29, n_estimators=22, total=   1.0s\n",
      "[CV] max_depth=29, n_estimators=23 ...................................\n",
      "[CV] .................... max_depth=29, n_estimators=23, total=   1.1s\n",
      "[CV] max_depth=29, n_estimators=24 ...................................\n",
      "[CV] .................... max_depth=29, n_estimators=23, total=   0.9s\n",
      "[CV] max_depth=29, n_estimators=24 ...................................\n",
      "[CV] max_depth=29, n_estimators=24 ...................................\n",
      "[CV] .................... max_depth=29, n_estimators=23, total=   1.0s\n",
      "[CV] .................... max_depth=29, n_estimators=24, total=   0.9s\n",
      "[CV] max_depth=29, n_estimators=25 ...................................\n",
      "[CV] .................... max_depth=29, n_estimators=24, total=   1.0s\n",
      "[CV] max_depth=29, n_estimators=25 ...................................\n",
      "[CV] .................... max_depth=29, n_estimators=24, total=   1.0s\n",
      "[CV] max_depth=29, n_estimators=25 ...................................\n",
      "[CV] .................... max_depth=29, n_estimators=25, total=   0.9s\n",
      "[CV] max_depth=30, n_estimators=20 ...................................\n",
      "[CV] max_depth=30, n_estimators=20 ...................................\n",
      "[CV] .................... max_depth=29, n_estimators=25, total=   1.1s\n",
      "[CV] .................... max_depth=29, n_estimators=25, total=   1.1s\n",
      "[CV] max_depth=30, n_estimators=20 ...................................\n",
      "[CV] .................... max_depth=30, n_estimators=20, total=   1.0s\n",
      "[CV] max_depth=30, n_estimators=21 ...................................\n"
     ]
    },
    {
     "name": "stdout",
     "output_type": "stream",
     "text": [
      "[CV] .................... max_depth=30, n_estimators=20, total=   1.1s\n",
      "[CV] max_depth=30, n_estimators=21 ...................................\n",
      "[CV] .................... max_depth=30, n_estimators=20, total=   0.9s\n",
      "[CV] max_depth=30, n_estimators=21 ...................................\n",
      "[CV] .................... max_depth=30, n_estimators=21, total=   0.9s\n",
      "[CV] max_depth=30, n_estimators=22 ...................................\n",
      "[CV] .................... max_depth=30, n_estimators=21, total=   0.9s\n",
      "[CV] max_depth=30, n_estimators=22 ...................................\n",
      "[CV] .................... max_depth=30, n_estimators=21, total=   0.9s\n",
      "[CV] max_depth=30, n_estimators=22 ...................................\n",
      "[CV] .................... max_depth=30, n_estimators=22, total=   0.8s\n",
      "[CV] max_depth=30, n_estimators=23 ...................................\n",
      "[CV] .................... max_depth=30, n_estimators=22, total=   0.8s\n",
      "[CV] max_depth=30, n_estimators=23 ...................................\n",
      "[CV] .................... max_depth=30, n_estimators=22, total=   0.9s\n",
      "[CV] max_depth=30, n_estimators=23 ...................................\n",
      "[CV] .................... max_depth=30, n_estimators=23, total=   0.8s\n",
      "[CV] max_depth=30, n_estimators=24 ...................................\n",
      "[CV] max_depth=30, n_estimators=24 ...................................\n",
      "[CV] .................... max_depth=30, n_estimators=23, total=   1.0s\n",
      "[CV] .................... max_depth=30, n_estimators=23, total=   1.0s\n",
      "[CV] max_depth=30, n_estimators=24 ...................................\n",
      "[CV] .................... max_depth=30, n_estimators=24, total=   0.9s\n",
      "[CV] max_depth=30, n_estimators=25 ...................................\n",
      "[CV] .................... max_depth=30, n_estimators=24, total=   0.8s\n",
      "[CV] max_depth=30, n_estimators=25 ...................................\n",
      "[CV] .................... max_depth=30, n_estimators=24, total=   0.8s\n",
      "[CV] max_depth=30, n_estimators=25 ...................................\n",
      "[CV] .................... max_depth=30, n_estimators=25, total=   0.9s\n",
      "[CV] max_depth=31, n_estimators=20 ...................................\n",
      "[CV] max_depth=31, n_estimators=20 ...................................\n",
      "[CV] .................... max_depth=30, n_estimators=25, total=   0.9s\n",
      "[CV] .................... max_depth=30, n_estimators=25, total=   0.8s\n",
      "[CV] max_depth=31, n_estimators=20 ...................................\n",
      "[CV] .................... max_depth=31, n_estimators=20, total=   0.9s\n",
      "[CV] max_depth=31, n_estimators=21 ...................................\n",
      "[CV] .................... max_depth=31, n_estimators=20, total=   0.9s\n",
      "[CV] max_depth=31, n_estimators=21 ...................................\n",
      "[CV] .................... max_depth=31, n_estimators=20, total=   0.9s\n",
      "[CV] max_depth=31, n_estimators=21 ...................................\n",
      "[CV] .................... max_depth=31, n_estimators=21, total=   1.0s\n",
      "[CV] max_depth=31, n_estimators=22 ...................................\n",
      "[CV] .................... max_depth=31, n_estimators=21, total=   1.1s\n",
      "[CV] max_depth=31, n_estimators=22 ...................................\n",
      "[CV] .................... max_depth=31, n_estimators=21, total=   1.8s\n",
      "[CV] max_depth=31, n_estimators=22 ...................................\n",
      "[CV] max_depth=31, n_estimators=23 ...................................\n",
      "[CV] .................... max_depth=31, n_estimators=22, total=   2.6s\n",
      "[CV] .................... max_depth=31, n_estimators=22, total=   2.4s\n",
      "[CV] max_depth=31, n_estimators=23 ...................................\n",
      "[CV] .................... max_depth=31, n_estimators=22, total=   1.6s\n",
      "[CV] max_depth=31, n_estimators=23 ...................................\n",
      "[CV] max_depth=31, n_estimators=24 ...................................\n",
      "[CV] .................... max_depth=31, n_estimators=23, total=   1.3s\n",
      "[CV] max_depth=31, n_estimators=24 ...................................\n",
      "[CV] .................... max_depth=31, n_estimators=23, total=   1.3s\n",
      "[CV] .................... max_depth=31, n_estimators=23, total=   1.2s\n",
      "[CV] max_depth=31, n_estimators=24 ...................................\n",
      "[CV] .................... max_depth=31, n_estimators=24, total=   1.1s\n",
      "[CV] max_depth=31, n_estimators=25 ...................................\n",
      "[CV] .................... max_depth=31, n_estimators=24, total=   1.0s\n",
      "[CV] max_depth=31, n_estimators=25 ...................................\n",
      "[CV] .................... max_depth=31, n_estimators=24, total=   1.0s\n",
      "[CV] max_depth=31, n_estimators=25 ...................................\n",
      "[CV] max_depth=32, n_estimators=20 ...................................\n",
      "[CV] .................... max_depth=31, n_estimators=25, total=   1.1s\n",
      "[CV] .................... max_depth=31, n_estimators=25, total=   1.0s\n",
      "[CV] max_depth=32, n_estimators=20 ...................................\n",
      "[CV] .................... max_depth=31, n_estimators=25, total=   1.0s\n",
      "[CV] max_depth=32, n_estimators=20 ...................................\n",
      "[CV] .................... max_depth=32, n_estimators=20, total=   0.8s\n",
      "[CV] max_depth=32, n_estimators=21 ...................................\n",
      "[CV] .................... max_depth=32, n_estimators=20, total=   0.8s\n",
      "[CV] max_depth=32, n_estimators=21 ...................................\n",
      "[CV] .................... max_depth=32, n_estimators=20, total=   0.8s\n",
      "[CV] max_depth=32, n_estimators=21 ...................................\n",
      "[CV] max_depth=32, n_estimators=22 ...................................\n",
      "[CV] .................... max_depth=32, n_estimators=21, total=   1.0s\n",
      "[CV] max_depth=32, n_estimators=22 ...................................\n",
      "[CV] .................... max_depth=32, n_estimators=21, total=   1.2s\n",
      "[CV] .................... max_depth=32, n_estimators=21, total=   0.9s\n",
      "[CV] max_depth=32, n_estimators=22 ...................................\n",
      "[CV] max_depth=32, n_estimators=23 ...................................\n",
      "[CV] .................... max_depth=32, n_estimators=22, total=   1.0s\n",
      "[CV] .................... max_depth=32, n_estimators=22, total=   0.9s\n",
      "[CV] max_depth=32, n_estimators=23 ...................................\n",
      "[CV] .................... max_depth=32, n_estimators=22, total=   0.8s\n",
      "[CV] max_depth=32, n_estimators=23 ...................................\n",
      "[CV] .................... max_depth=32, n_estimators=23, total=   0.8s\n",
      "[CV] max_depth=32, n_estimators=24 ...................................\n",
      "[CV] .................... max_depth=32, n_estimators=23, total=   0.8s\n",
      "[CV] max_depth=32, n_estimators=24 ...................................\n",
      "[CV] .................... max_depth=32, n_estimators=23, total=   0.8s\n",
      "[CV] max_depth=32, n_estimators=24 ...................................\n",
      "[CV] .................... max_depth=32, n_estimators=24, total=   0.8s\n",
      "[CV] max_depth=32, n_estimators=25 ...................................\n",
      "[CV] .................... max_depth=32, n_estimators=24, total=   0.8s\n",
      "[CV] max_depth=32, n_estimators=25 ...................................\n",
      "[CV] .................... max_depth=32, n_estimators=24, total=   0.9s\n",
      "[CV] max_depth=32, n_estimators=25 ...................................\n",
      "[CV] .................... max_depth=32, n_estimators=25, total=   0.9s\n",
      "[CV] max_depth=33, n_estimators=20 ...................................\n",
      "[CV] .................... max_depth=32, n_estimators=25, total=   0.8s\n",
      "[CV] max_depth=33, n_estimators=20 ...................................\n",
      "[CV] max_depth=33, n_estimators=20 ...................................\n",
      "[CV] .................... max_depth=32, n_estimators=25, total=   1.0s\n",
      "[CV] .................... max_depth=33, n_estimators=20, total=   1.0s\n",
      "[CV] max_depth=33, n_estimators=21 ...................................\n",
      "[CV] max_depth=33, n_estimators=21 ...................................\n",
      "[CV] .................... max_depth=33, n_estimators=20, total=   1.0s\n",
      "[CV] .................... max_depth=33, n_estimators=20, total=   1.2s\n",
      "[CV] max_depth=33, n_estimators=21 ...................................\n",
      "[CV] .................... max_depth=33, n_estimators=21, total=   1.1s\n",
      "[CV] max_depth=33, n_estimators=22 ...................................\n",
      "[CV] .................... max_depth=33, n_estimators=21, total=   1.0s\n",
      "[CV] max_depth=33, n_estimators=22 ...................................\n"
     ]
    },
    {
     "name": "stdout",
     "output_type": "stream",
     "text": [
      "[CV] .................... max_depth=33, n_estimators=21, total=   0.9s\n",
      "[CV] max_depth=33, n_estimators=22 ...................................\n",
      "[CV] .................... max_depth=33, n_estimators=22, total=   1.0s\n",
      "[CV] max_depth=33, n_estimators=23 ...................................\n",
      "[CV] .................... max_depth=33, n_estimators=22, total=   1.0s\n",
      "[CV] max_depth=33, n_estimators=23 ...................................\n",
      "[CV] .................... max_depth=33, n_estimators=22, total=   1.0s\n",
      "[CV] max_depth=33, n_estimators=23 ...................................\n",
      "[CV] .................... max_depth=33, n_estimators=23, total=   1.0s\n",
      "[CV] max_depth=33, n_estimators=24 ...................................\n",
      "[CV] .................... max_depth=33, n_estimators=23, total=   1.0s\n",
      "[CV] max_depth=33, n_estimators=24 ...................................\n",
      "[CV] max_depth=33, n_estimators=24 ...................................\n",
      "[CV] .................... max_depth=33, n_estimators=23, total=   1.2s\n",
      "[CV] .................... max_depth=33, n_estimators=24, total=   0.9s\n",
      "[CV] max_depth=33, n_estimators=25 ...................................\n",
      "[CV] .................... max_depth=33, n_estimators=24, total=   0.8s\n",
      "[CV] max_depth=33, n_estimators=25 ...................................\n",
      "[CV] max_depth=33, n_estimators=25 ...................................\n",
      "[CV] .................... max_depth=33, n_estimators=24, total=   0.8s\n",
      "[CV] .................... max_depth=33, n_estimators=25, total=   0.8s\n",
      "[CV] max_depth=34, n_estimators=20 ...................................\n",
      "[CV] max_depth=34, n_estimators=20 ...................................\n",
      "[CV] .................... max_depth=33, n_estimators=25, total=   1.0s\n",
      "[CV] max_depth=34, n_estimators=20 ...................................\n",
      "[CV] .................... max_depth=33, n_estimators=25, total=   1.1s\n",
      "[CV] .................... max_depth=34, n_estimators=20, total=   0.8s\n",
      "[CV] max_depth=34, n_estimators=21 ...................................\n",
      "[CV] .................... max_depth=34, n_estimators=20, total=   0.8s\n",
      "[CV] max_depth=34, n_estimators=21 ...................................\n",
      "[CV] .................... max_depth=34, n_estimators=20, total=   0.8s\n",
      "[CV] max_depth=34, n_estimators=21 ...................................\n",
      "[CV] .................... max_depth=34, n_estimators=21, total=   0.7s\n",
      "[CV] max_depth=34, n_estimators=22 ...................................\n",
      "[CV] .................... max_depth=34, n_estimators=21, total=   0.6s\n",
      "[CV] max_depth=34, n_estimators=22 ...................................\n",
      "[CV] .................... max_depth=34, n_estimators=21, total=   0.8s\n",
      "[CV] max_depth=34, n_estimators=22 ...................................\n",
      "[CV] .................... max_depth=34, n_estimators=22, total=   0.7s\n",
      "[CV] max_depth=34, n_estimators=23 ...................................\n",
      "[CV] .................... max_depth=34, n_estimators=22, total=   0.9s\n",
      "[CV] max_depth=34, n_estimators=23 ...................................\n",
      "[CV] .................... max_depth=34, n_estimators=22, total=   0.9s\n",
      "[CV] max_depth=34, n_estimators=23 ...................................\n",
      "[CV] .................... max_depth=34, n_estimators=23, total=   0.9s\n",
      "[CV] max_depth=34, n_estimators=24 ...................................\n",
      "[CV] .................... max_depth=34, n_estimators=23, total=   0.9s\n",
      "[CV] max_depth=34, n_estimators=24 ...................................\n",
      "[CV] .................... max_depth=34, n_estimators=23, total=   0.9s\n",
      "[CV] max_depth=34, n_estimators=24 ...................................\n",
      "[CV] .................... max_depth=34, n_estimators=24, total=   0.8s\n",
      "[CV] max_depth=34, n_estimators=25 ...................................\n",
      "[CV] .................... max_depth=34, n_estimators=24, total=   0.8s\n",
      "[CV] max_depth=34, n_estimators=25 ...................................\n",
      "[CV] .................... max_depth=34, n_estimators=24, total=   0.9s\n",
      "[CV] max_depth=34, n_estimators=25 ...................................\n"
     ]
    },
    {
     "name": "stderr",
     "output_type": "stream",
     "text": [
      "[Parallel(n_jobs=-1)]: Done 357 tasks      | elapsed:  2.3min\n"
     ]
    },
    {
     "name": "stdout",
     "output_type": "stream",
     "text": [
      "[CV] .................... max_depth=34, n_estimators=25, total=   0.9s\n",
      "[CV] max_depth=35, n_estimators=20 ...................................\n",
      "[CV] .................... max_depth=34, n_estimators=25, total=   0.8s\n",
      "[CV] max_depth=35, n_estimators=20 ...................................\n",
      "[CV] .................... max_depth=34, n_estimators=25, total=   0.8s\n",
      "[CV] max_depth=35, n_estimators=20 ...................................\n",
      "[CV] max_depth=35, n_estimators=21 ...................................\n",
      "[CV] .................... max_depth=35, n_estimators=20, total=   1.1s\n",
      "[CV] max_depth=35, n_estimators=21 ...................................\n",
      "[CV] .................... max_depth=35, n_estimators=20, total=   1.2s\n",
      "[CV] .................... max_depth=35, n_estimators=20, total=   1.1s\n",
      "[CV] max_depth=35, n_estimators=21 ...................................\n",
      "[CV] .................... max_depth=35, n_estimators=21, total=   1.1s\n",
      "[CV] max_depth=35, n_estimators=22 ...................................\n",
      "[CV] .................... max_depth=35, n_estimators=21, total=   1.0s\n",
      "[CV] max_depth=35, n_estimators=22 ...................................\n",
      "[CV] .................... max_depth=35, n_estimators=21, total=   1.0s\n",
      "[CV] max_depth=35, n_estimators=22 ...................................\n",
      "[CV] .................... max_depth=35, n_estimators=22, total=   1.0s\n",
      "[CV] max_depth=35, n_estimators=23 ...................................\n",
      "[CV] .................... max_depth=35, n_estimators=22, total=   1.0s\n",
      "[CV] max_depth=35, n_estimators=23 ...................................\n",
      "[CV] .................... max_depth=35, n_estimators=22, total=   0.8s\n",
      "[CV] max_depth=35, n_estimators=23 ...................................\n",
      "[CV] .................... max_depth=35, n_estimators=23, total=   0.8s\n",
      "[CV] max_depth=35, n_estimators=24 ...................................\n",
      "[CV] max_depth=35, n_estimators=24 ...................................\n",
      "[CV] .................... max_depth=35, n_estimators=23, total=   1.0s\n",
      "[CV] .................... max_depth=35, n_estimators=23, total=   0.9s\n",
      "[CV] max_depth=35, n_estimators=24 ...................................\n",
      "[CV] .................... max_depth=35, n_estimators=24, total=   0.9s\n",
      "[CV] max_depth=35, n_estimators=25 ...................................\n",
      "[CV] .................... max_depth=35, n_estimators=24, total=   0.8s\n",
      "[CV] max_depth=35, n_estimators=25 ...................................\n",
      "[CV] .................... max_depth=35, n_estimators=24, total=   0.8s\n",
      "[CV] max_depth=35, n_estimators=25 ...................................\n",
      "[CV] .................... max_depth=35, n_estimators=25, total=   0.8s\n",
      "[CV] max_depth=36, n_estimators=20 ...................................\n",
      "[CV] .................... max_depth=35, n_estimators=25, total=   0.8s\n",
      "[CV] max_depth=36, n_estimators=20 ...................................\n",
      "[CV] .................... max_depth=35, n_estimators=25, total=   0.8s\n",
      "[CV] max_depth=36, n_estimators=20 ...................................\n",
      "[CV] .................... max_depth=36, n_estimators=20, total=   0.8s\n",
      "[CV] max_depth=36, n_estimators=21 ...................................\n",
      "[CV] .................... max_depth=36, n_estimators=20, total=   0.7s\n",
      "[CV] max_depth=36, n_estimators=21 ...................................\n",
      "[CV] .................... max_depth=36, n_estimators=20, total=   0.7s\n",
      "[CV] max_depth=36, n_estimators=21 ...................................\n",
      "[CV] .................... max_depth=36, n_estimators=21, total=   0.8s\n",
      "[CV] max_depth=36, n_estimators=22 ...................................\n",
      "[CV] .................... max_depth=36, n_estimators=21, total=   0.7s\n",
      "[CV] max_depth=36, n_estimators=22 ...................................\n",
      "[CV] .................... max_depth=36, n_estimators=21, total=   0.7s\n",
      "[CV] max_depth=36, n_estimators=22 ...................................\n",
      "[CV] .................... max_depth=36, n_estimators=22, total=   0.7s\n",
      "[CV] max_depth=36, n_estimators=23 ...................................\n",
      "[CV] .................... max_depth=36, n_estimators=22, total=   0.7s\n",
      "[CV] max_depth=36, n_estimators=23 ...................................\n",
      "[CV] .................... max_depth=36, n_estimators=22, total=   0.9s\n",
      "[CV] max_depth=36, n_estimators=23 ...................................\n",
      "[CV] max_depth=36, n_estimators=24 ...................................\n",
      "[CV] .................... max_depth=36, n_estimators=23, total=   1.3s\n",
      "[CV] max_depth=36, n_estimators=24 ...................................\n",
      "[CV] .................... max_depth=36, n_estimators=23, total=   1.6s\n",
      "[CV] .................... max_depth=36, n_estimators=23, total=   1.5s\n",
      "[CV] max_depth=36, n_estimators=24 ...................................\n",
      "[CV] .................... max_depth=36, n_estimators=24, total=   1.4s\n",
      "[CV] max_depth=36, n_estimators=25 ...................................\n",
      "[CV] .................... max_depth=36, n_estimators=24, total=   1.3s\n",
      "[CV] max_depth=36, n_estimators=25 ...................................\n",
      "[CV] max_depth=36, n_estimators=25 ...................................\n",
      "[CV] .................... max_depth=36, n_estimators=24, total=   1.3s\n",
      "[CV] max_depth=37, n_estimators=20 ...................................\n",
      "[CV] .................... max_depth=36, n_estimators=25, total=   1.4s\n",
      "[CV] max_depth=37, n_estimators=20 ...................................\n",
      "[CV] .................... max_depth=36, n_estimators=25, total=   1.4s\n",
      "[CV] max_depth=37, n_estimators=20 ...................................\n",
      "[CV] .................... max_depth=36, n_estimators=25, total=   1.4s\n",
      "[CV] .................... max_depth=37, n_estimators=20, total=   1.1s\n",
      "[CV] max_depth=37, n_estimators=21 ...................................\n",
      "[CV] .................... max_depth=37, n_estimators=20, total=   1.0s\n",
      "[CV] max_depth=37, n_estimators=21 ...................................\n",
      "[CV] .................... max_depth=37, n_estimators=20, total=   0.9s\n",
      "[CV] max_depth=37, n_estimators=21 ...................................\n",
      "[CV] .................... max_depth=37, n_estimators=21, total=   0.9s\n",
      "[CV] max_depth=37, n_estimators=22 ...................................\n",
      "[CV] .................... max_depth=37, n_estimators=21, total=   1.0s\n",
      "[CV] max_depth=37, n_estimators=22 ...................................\n",
      "[CV] max_depth=37, n_estimators=22 ...................................\n",
      "[CV] .................... max_depth=37, n_estimators=21, total=   1.2s\n",
      "[CV] .................... max_depth=37, n_estimators=22, total=   0.9s\n",
      "[CV] max_depth=37, n_estimators=23 ...................................\n",
      "[CV] .................... max_depth=37, n_estimators=22, total=   1.1s\n",
      "[CV] max_depth=37, n_estimators=23 ...................................\n",
      "[CV] max_depth=37, n_estimators=23 ...................................\n",
      "[CV] .................... max_depth=37, n_estimators=22, total=   1.4s\n",
      "[CV] .................... max_depth=37, n_estimators=23, total=   1.2s\n",
      "[CV] max_depth=37, n_estimators=24 ...................................\n",
      "[CV] .................... max_depth=37, n_estimators=23, total=   1.1s\n",
      "[CV] max_depth=37, n_estimators=24 ...................................\n",
      "[CV] .................... max_depth=37, n_estimators=23, total=   1.1s\n",
      "[CV] max_depth=37, n_estimators=24 ...................................\n",
      "[CV] max_depth=37, n_estimators=25 ...................................\n",
      "[CV] .................... max_depth=37, n_estimators=24, total=   1.3s\n",
      "[CV] max_depth=37, n_estimators=25 ...................................\n",
      "[CV] .................... max_depth=37, n_estimators=24, total=   1.4s\n",
      "[CV] max_depth=37, n_estimators=25 ...................................\n",
      "[CV] .................... max_depth=37, n_estimators=24, total=   1.3s\n",
      "[CV] max_depth=38, n_estimators=20 ...................................\n",
      "[CV] .................... max_depth=37, n_estimators=25, total=   1.2s\n",
      "[CV] .................... max_depth=37, n_estimators=25, total=   1.0s\n",
      "[CV] max_depth=38, n_estimators=20 ...................................\n",
      "[CV] max_depth=38, n_estimators=20 ...................................\n",
      "[CV] .................... max_depth=37, n_estimators=25, total=   1.3s\n",
      "[CV] max_depth=38, n_estimators=21 ...................................\n",
      "[CV] .................... max_depth=38, n_estimators=20, total=   1.3s\n"
     ]
    },
    {
     "name": "stdout",
     "output_type": "stream",
     "text": [
      "[CV] .................... max_depth=38, n_estimators=20, total=   1.4s\n",
      "[CV] max_depth=38, n_estimators=21 ...................................\n",
      "[CV] .................... max_depth=38, n_estimators=20, total=   1.2s\n",
      "[CV] max_depth=38, n_estimators=21 ...................................\n",
      "[CV] .................... max_depth=38, n_estimators=21, total=   1.4s\n",
      "[CV] max_depth=38, n_estimators=22 ...................................\n",
      "[CV] .................... max_depth=38, n_estimators=21, total=   1.3s\n",
      "[CV] max_depth=38, n_estimators=22 ...................................\n",
      "[CV] .................... max_depth=38, n_estimators=21, total=   1.2s\n",
      "[CV] max_depth=38, n_estimators=22 ...................................\n",
      "[CV] .................... max_depth=38, n_estimators=22, total=   1.1s\n",
      "[CV] max_depth=38, n_estimators=23 ...................................\n",
      "[CV] .................... max_depth=38, n_estimators=22, total=   1.0s\n",
      "[CV] max_depth=38, n_estimators=23 ...................................\n",
      "[CV] .................... max_depth=38, n_estimators=22, total=   1.0s\n",
      "[CV] max_depth=38, n_estimators=23 ...................................\n",
      "[CV] .................... max_depth=38, n_estimators=23, total=   1.1s\n",
      "[CV] max_depth=38, n_estimators=24 ...................................\n",
      "[CV] .................... max_depth=38, n_estimators=23, total=   1.0s\n",
      "[CV] max_depth=38, n_estimators=24 ...................................\n",
      "[CV] .................... max_depth=38, n_estimators=23, total=   0.9s\n",
      "[CV] max_depth=38, n_estimators=24 ...................................\n",
      "[CV] .................... max_depth=38, n_estimators=24, total=   1.2s\n",
      "[CV] max_depth=38, n_estimators=25 ...................................\n",
      "[CV] max_depth=38, n_estimators=25 ...................................\n",
      "[CV] .................... max_depth=38, n_estimators=24, total=   1.6s\n",
      "[CV] .................... max_depth=38, n_estimators=24, total=   1.7s\n",
      "[CV] max_depth=38, n_estimators=25 ...................................\n",
      "[CV] max_depth=39, n_estimators=20 ...................................\n",
      "[CV] .................... max_depth=38, n_estimators=25, total=   1.5s\n",
      "[CV] max_depth=39, n_estimators=20 ...................................\n",
      "[CV] .................... max_depth=38, n_estimators=25, total=   1.4s\n",
      "[CV] .................... max_depth=38, n_estimators=25, total=   1.3s\n",
      "[CV] max_depth=39, n_estimators=20 ...................................\n",
      "[CV] .................... max_depth=39, n_estimators=20, total=   1.1s\n",
      "[CV] max_depth=39, n_estimators=21 ...................................\n",
      "[CV] .................... max_depth=39, n_estimators=20, total=   1.1s\n",
      "[CV] max_depth=39, n_estimators=21 ...................................\n",
      "[CV] .................... max_depth=39, n_estimators=20, total=   1.0s\n",
      "[CV] max_depth=39, n_estimators=21 ...................................\n",
      "[CV] .................... max_depth=39, n_estimators=21, total=   1.0s\n",
      "[CV] max_depth=39, n_estimators=22 ...................................\n",
      "[CV] .................... max_depth=39, n_estimators=21, total=   1.2s\n",
      "[CV] max_depth=39, n_estimators=22 ...................................\n",
      "[CV] .................... max_depth=39, n_estimators=21, total=   1.1s\n",
      "[CV] max_depth=39, n_estimators=22 ...................................\n",
      "[CV] .................... max_depth=39, n_estimators=22, total=   1.2s\n",
      "[CV] max_depth=39, n_estimators=23 ...................................\n",
      "[CV] .................... max_depth=39, n_estimators=22, total=   1.1s\n",
      "[CV] max_depth=39, n_estimators=23 ...................................\n",
      "[CV] .................... max_depth=39, n_estimators=22, total=   1.0s\n",
      "[CV] max_depth=39, n_estimators=23 ...................................\n",
      "[CV] .................... max_depth=39, n_estimators=23, total=   1.1s\n",
      "[CV] max_depth=39, n_estimators=24 ...................................\n",
      "[CV] .................... max_depth=39, n_estimators=23, total=   1.1s\n",
      "[CV] max_depth=39, n_estimators=24 ...................................\n",
      "[CV] .................... max_depth=39, n_estimators=23, total=   1.0s\n",
      "[CV] max_depth=39, n_estimators=24 ...................................\n",
      "[CV] max_depth=39, n_estimators=25 ...................................\n",
      "[CV] .................... max_depth=39, n_estimators=24, total=   1.1s\n",
      "[CV] max_depth=39, n_estimators=25 ...................................\n",
      "[CV] .................... max_depth=39, n_estimators=24, total=   1.3s\n",
      "[CV] max_depth=39, n_estimators=25 ...................................\n",
      "[CV] .................... max_depth=39, n_estimators=24, total=   1.5s\n",
      "[CV] .................... max_depth=39, n_estimators=25, total=   1.5s\n",
      "[CV] .................... max_depth=39, n_estimators=25, total=   1.1s\n",
      "[CV] .................... max_depth=39, n_estimators=25, total=   0.9s\n"
     ]
    },
    {
     "name": "stderr",
     "output_type": "stream",
     "text": [
      "[Parallel(n_jobs=-1)]: Done 450 out of 450 | elapsed:  3.0min finished\n"
     ]
    },
    {
     "data": {
      "text/plain": [
       "<bound method BaseEstimator.get_params of GridSearchCV(cv=None, error_score='raise',\n",
       "       estimator=RandomForestClassifier(bootstrap=True, class_weight=None, criterion='gini',\n",
       "            max_depth=None, max_features='auto', max_leaf_nodes=None,\n",
       "            min_impurity_decrease=0.0, min_impurity_split=None,\n",
       "            min_samples_leaf=1, min_samples_split=2,\n",
       "            min_weight_fraction_leaf=0.0, n_estimators=10, n_jobs=1,\n",
       "            oob_score=False, random_state=None, verbose=0,\n",
       "            warm_start=False),\n",
       "       fit_params=None, iid=True, n_jobs=-1,\n",
       "       param_grid={'n_estimators': range(20, 26), 'max_depth': range(15, 40)},\n",
       "       pre_dispatch='2*n_jobs', refit=True, return_train_score=True,\n",
       "       scoring=None, verbose=2)>"
      ]
     },
     "execution_count": 169,
     "metadata": {},
     "output_type": "execute_result"
    }
   ],
   "source": [
    "tfidf = TfidfVectorizer(stop_words='english')\n",
    "tfidf.fit(X_train.speech)\n",
    "X_train_tf = tfidf.transform(X_train.speech)\n",
    "\n",
    "\n",
    "X_train_tf = pd.DataFrame(X_train_tf.todense())\n",
    "\n",
    "\n",
    "train_sub_pol = X_train[['subjectivity', 'polarity']].reset_index().drop(['index'], axis=1)\n",
    "X_train_tf = pd.concat([X_train_tf, train_sub_pol], axis=1)\n",
    "\n",
    "rfc = RandomForestClassifier()\n",
    "\n",
    "\n",
    "params = {\n",
    "    'n_estimators':range(20, 26),\n",
    "    'max_depth':range(15, 40),  \n",
    "}\n",
    "\n",
    "grid = GridSearchCV(rfc, params, verbose=2, n_jobs=-1)\n",
    "\n",
    "grid.fit(X_train_tf, y_train)\n",
    "grid.get_params\n"
   ]
  },
  {
   "cell_type": "code",
   "execution_count": 170,
   "metadata": {
    "scrolled": true
   },
   "outputs": [
    {
     "data": {
      "text/plain": [
       "RandomForestClassifier(bootstrap=True, class_weight=None, criterion='gini',\n",
       "            max_depth=24, max_features='auto', max_leaf_nodes=None,\n",
       "            min_impurity_decrease=0.0, min_impurity_split=None,\n",
       "            min_samples_leaf=1, min_samples_split=2,\n",
       "            min_weight_fraction_leaf=0.0, n_estimators=20, n_jobs=1,\n",
       "            oob_score=False, random_state=None, verbose=0,\n",
       "            warm_start=False)"
      ]
     },
     "execution_count": 170,
     "metadata": {},
     "output_type": "execute_result"
    }
   ],
   "source": [
    "grid.best_estimator_"
   ]
  },
  {
   "cell_type": "code",
   "execution_count": null,
   "metadata": {
    "collapsed": true
   },
   "outputs": [],
   "source": []
  },
  {
   "cell_type": "code",
   "execution_count": null,
   "metadata": {
    "collapsed": true
   },
   "outputs": [],
   "source": []
  },
  {
   "cell_type": "code",
   "execution_count": null,
   "metadata": {
    "collapsed": true
   },
   "outputs": [],
   "source": []
  },
  {
   "cell_type": "code",
   "execution_count": 84,
   "metadata": {
    "collapsed": true
   },
   "outputs": [],
   "source": [
    "feature_names = tfidf.get_feature_names() \n",
    "feature_names.append('subjectivity') \n",
    "feature_names.append('polarity')\n",
    "importance = list(rfc.feature_importances_)\n",
    "results = pd.DataFrame()\n",
    "results['feature_names'] = feature_names\n",
    "results['feature_importances'] = importance"
   ]
  },
  {
   "cell_type": "code",
   "execution_count": 176,
   "metadata": {},
   "outputs": [
    {
     "data": {
      "text/html": [
       "<div>\n",
       "<style>\n",
       "    .dataframe thead tr:only-child th {\n",
       "        text-align: right;\n",
       "    }\n",
       "\n",
       "    .dataframe thead th {\n",
       "        text-align: left;\n",
       "    }\n",
       "\n",
       "    .dataframe tbody tr th {\n",
       "        vertical-align: top;\n",
       "    }\n",
       "</style>\n",
       "<table border=\"1\" class=\"dataframe\">\n",
       "  <thead>\n",
       "    <tr style=\"text-align: right;\">\n",
       "      <th></th>\n",
       "      <th>feature_names</th>\n",
       "      <th>feature_importances</th>\n",
       "    </tr>\n",
       "  </thead>\n",
       "  <tbody>\n",
       "    <tr>\n",
       "      <th>4125</th>\n",
       "      <td>company</td>\n",
       "      <td>0.008326</td>\n",
       "    </tr>\n",
       "    <tr>\n",
       "      <th>4556</th>\n",
       "      <td>corrupt</td>\n",
       "      <td>0.021335</td>\n",
       "    </tr>\n",
       "    <tr>\n",
       "      <th>7099</th>\n",
       "      <td>encourage</td>\n",
       "      <td>0.010576</td>\n",
       "    </tr>\n",
       "    <tr>\n",
       "      <th>7242</th>\n",
       "      <td>enterprise</td>\n",
       "      <td>0.008831</td>\n",
       "    </tr>\n",
       "    <tr>\n",
       "      <th>7799</th>\n",
       "      <td>family</td>\n",
       "      <td>0.011411</td>\n",
       "    </tr>\n",
       "    <tr>\n",
       "      <th>8631</th>\n",
       "      <td>freedom</td>\n",
       "      <td>0.015943</td>\n",
       "    </tr>\n",
       "    <tr>\n",
       "      <th>10763</th>\n",
       "      <td>illegal</td>\n",
       "      <td>0.009562</td>\n",
       "    </tr>\n",
       "    <tr>\n",
       "      <th>10869</th>\n",
       "      <td>include</td>\n",
       "      <td>0.009609</td>\n",
       "    </tr>\n",
       "    <tr>\n",
       "      <th>11858</th>\n",
       "      <td>just</td>\n",
       "      <td>0.014429</td>\n",
       "    </tr>\n",
       "    <tr>\n",
       "      <th>22469</th>\n",
       "      <td>trade</td>\n",
       "      <td>0.010053</td>\n",
       "    </tr>\n",
       "  </tbody>\n",
       "</table>\n",
       "</div>"
      ],
      "text/plain": [
       "      feature_names  feature_importances\n",
       "4125        company             0.008326\n",
       "4556        corrupt             0.021335\n",
       "7099      encourage             0.010576\n",
       "7242     enterprise             0.008831\n",
       "7799         family             0.011411\n",
       "8631        freedom             0.015943\n",
       "10763       illegal             0.009562\n",
       "10869       include             0.009609\n",
       "11858          just             0.014429\n",
       "22469         trade             0.010053"
      ]
     },
     "execution_count": 176,
     "metadata": {},
     "output_type": "execute_result"
    }
   ],
   "source": [
    "results = results[results['feature_importances'] > .008]\n",
    "li = ['company', 'corrupt', 'encourage','enterprise', 'family', 'freedom', 'illegal', 'include', 'just', 'trade']\n",
    "results.feature_names = li\n",
    "results"
   ]
  },
  {
   "cell_type": "markdown",
   "metadata": {},
   "source": [
    "# Most Frequent Words in Speeches by Party"
   ]
  },
  {
   "cell_type": "code",
   "execution_count": 68,
   "metadata": {
    "scrolled": false
   },
   "outputs": [
    {
     "name": "stdout",
     "output_type": "stream",
     "text": [
      "Democratic Average Subjectivity 0.45925823877744293\n",
      "Democratic Average Polarity 0.14525166347281138\n"
     ]
    },
    {
     "data": {
      "text/plain": [
       "<matplotlib.text.Text at 0x120baacc0>"
      ]
     },
     "execution_count": 68,
     "metadata": {},
     "output_type": "execute_result"
    },
    {
     "data": {
      "image/png": "[encoded data removed]",
      "text/plain": [
       "<matplotlib.figure.Figure at 0x113322a20>"
      ]
     },
     "metadata": {},
     "output_type": "display_data"
    }
   ],
   "source": [
    "X = df[df.party == 1]\n",
    "print('Democratic Average Subjectivity', X.subjectivity.mean())\n",
    "print('Democratic Average Polarity', X.polarity.mean())\n",
    "X = X.speech\n",
    "\n",
    "tfidf = TfidfVectorizer(stop_words='english')\n",
    "tfidf.fit(X)\n",
    "\n",
    "count = pd.DataFrame(tfidf.transform(X).todense(),columns=tfidf.get_feature_names())\n",
    "count = count/100\n",
    "\n",
    "fig, ax = plt.subplots()\n",
    "fig.set_size_inches(15, 15)\n",
    "plt.tick_params(axis='x', which='both', bottom='off', labelbottom='off')\n",
    "\n",
    "count.sum().sort_values(ascending=True)[-50:].plot(kind='barh', color='cornflowerblue')\n",
    "plt.title('Word Frequency Democrats')"
   ]
  },
  {
   "cell_type": "code",
   "execution_count": 27,
   "metadata": {},
   "outputs": [
    {
     "name": "stdout",
     "output_type": "stream",
     "text": [
      "Republican Average Subjectivity 0.4741487695249041\n",
      "Republican Average Polarity 0.14523736341270982\n"
     ]
    },
    {
     "data": {
      "text/plain": [
       "<matplotlib.text.Text at 0x12128a630>"
      ]
     },
     "execution_count": 27,
     "metadata": {},
     "output_type": "execute_result"
    },
    {
     "data": {
      "image/png": "[encoded data removed]",
      "text/plain": [
       "<matplotlib.figure.Figure at 0x1215dd5c0>"
      ]
     },
     "metadata": {},
     "output_type": "display_data"
    }
   ],
   "source": [
    "X = df[df.party == 0]\n",
    "print('Republican Average Subjectivity', X.subjectivity.mean())\n",
    "print('Republican Average Polarity', X.polarity.mean())\n",
    "X = X.speech\n",
    "\n",
    "tfidf = TfidfVectorizer(stop_words='english')\n",
    "tfidf.fit(X)\n",
    "\n",
    "count = pd.DataFrame(tfidf.transform(X).todense(),columns=tfidf.get_feature_names())\n",
    "count = count/100\n",
    "  \n",
    "fig, ax = plt.subplots()\n",
    "fig.set_size_inches(15, 15)\n",
    "plt.tick_params(axis='x', which='both', bottom='off', labelbottom='off')    \n",
    "    \n",
    "count.sum().sort_values(ascending=True)[-50:].plot(kind='barh', color='firebrick')\n",
    "plt.title('Word Frequency Republicans')"
   ]
  },
  {
   "cell_type": "markdown",
   "metadata": {},
   "source": [
    "# Most Frequent Words by Election"
   ]
  },
  {
   "cell_type": "code",
   "execution_count": 28,
   "metadata": {},
   "outputs": [
    {
     "name": "stdout",
     "output_type": "stream",
     "text": [
      "2004 Average Democratic Subjectivity 0.45590413214517506\n",
      "2004 Average Republican Subjectivity 0.5015931332483947\n",
      "2004 Average Democratic Polarity 0.15616224649705546\n",
      "2004 Average Republican Polarity 0.20508981804691073\n"
     ]
    },
    {
     "data": {
      "text/plain": [
       "<matplotlib.text.Text at 0x11333e518>"
      ]
     },
     "execution_count": 28,
     "metadata": {},
     "output_type": "execute_result"
    },
    {
     "data": {
      "image/png": "[encoded data removed]",
      "text/plain": [
       "<matplotlib.figure.Figure at 0x11276eeb8>"
      ]
     },
     "metadata": {},
     "output_type": "display_data"
    }
   ],
   "source": [
    "X = df[df.year == 2004]\n",
    "print('2004 Average Democratic Subjectivity', X[X.party == 1].subjectivity.mean())\n",
    "print('2004 Average Republican Subjectivity', X[X.party == 0].subjectivity.mean())\n",
    "print('2004 Average Democratic Polarity', X[X.party == 1].polarity.mean())\n",
    "print('2004 Average Republican Polarity', X[X.party == 0].polarity.mean())\n",
    "X = X.speech\n",
    "\n",
    "tfidf = TfidfVectorizer(stop_words='english')\n",
    "tfidf.fit(X)\n",
    "\n",
    "count = pd.DataFrame(tfidf.transform(X).todense(),columns=tfidf.get_feature_names())\n",
    "count = count/100\n",
    "\n",
    "fig, ax = plt.subplots()\n",
    "fig.set_size_inches(15, 15)\n",
    "plt.tick_params(axis='x', which='both', bottom='off', labelbottom='off')\n",
    "\n",
    "count.sum().sort_values(ascending=True)[-50:].plot(kind='barh', color='#238b45')\n",
    "plt.title('Word Frequency 2004 Election')"
   ]
  },
  {
   "cell_type": "code",
   "execution_count": 29,
   "metadata": {},
   "outputs": [
    {
     "name": "stdout",
     "output_type": "stream",
     "text": [
      "2008 Average Democratic Subjectivity 0.45602822679127697\n",
      "2008 Average Republican Subjectivity 0.47061148424482796\n",
      "2008 Average Democratic Polarity 0.11377703975052747\n",
      "2008 Average Republican Polarity 0.1412944846290035\n"
     ]
    },
    {
     "data": {
      "text/plain": [
       "<matplotlib.text.Text at 0x112b799e8>"
      ]
     },
     "execution_count": 29,
     "metadata": {},
     "output_type": "execute_result"
    },
    {
     "data": {
      "image/png": "[encoded data removed]",
      "text/plain": [
       "<matplotlib.figure.Figure at 0x10cb5cf98>"
      ]
     },
     "metadata": {},
     "output_type": "display_data"
    }
   ],
   "source": [
    "X = df[df.year == 2008]\n",
    "print('2008 Average Democratic Subjectivity', X[X.party == 1].subjectivity.mean())\n",
    "print('2008 Average Republican Subjectivity', X[X.party == 0].subjectivity.mean())\n",
    "print('2008 Average Democratic Polarity', X[X.party == 1].polarity.mean())\n",
    "print('2008 Average Republican Polarity', X[X.party == 0].polarity.mean())\n",
    "X = X.speech\n",
    "\n",
    "tfidf = TfidfVectorizer(stop_words='english')\n",
    "tfidf.fit(X)\n",
    "\n",
    "count = pd.DataFrame(tfidf.transform(X).todense(),columns=tfidf.get_feature_names())\n",
    "count = count/100\n",
    "\n",
    "fig, ax = plt.subplots()\n",
    "fig.set_size_inches(15, 15)\n",
    "plt.tick_params(axis='x', which='both', bottom='off', labelbottom='off')\n",
    "\n",
    "count.sum().sort_values(ascending=True)[-50:].plot(kind='barh', color='#238b45')\n",
    "plt.title('Word Frequency 2008 Election')"
   ]
  },
  {
   "cell_type": "code",
   "execution_count": 32,
   "metadata": {},
   "outputs": [
    {
     "name": "stdout",
     "output_type": "stream",
     "text": [
      "2012 Average Democratic Subjectivity 0.47129221846597785\n",
      "2012 Average Republican Subjectivity 0.47084199113993147\n",
      "2012 Average Democratic Polarity 0.19003659998706335\n",
      "2012 Average Republican Polarity 0.1568166288582347\n"
     ]
    },
    {
     "data": {
      "text/plain": [
       "<matplotlib.text.Text at 0x1133db898>"
      ]
     },
     "execution_count": 32,
     "metadata": {},
     "output_type": "execute_result"
    },
    {
     "data": {
      "image/png": "[encoded data removed]",
      "text/plain": [
       "<matplotlib.figure.Figure at 0x1127c0a58>"
      ]
     },
     "metadata": {},
     "output_type": "display_data"
    }
   ],
   "source": [
    "X = df[df.year == 2012]\n",
    "print('2012 Average Democratic Subjectivity', X[X.party == 1].subjectivity.mean())\n",
    "print('2012 Average Republican Subjectivity', X[X.party == 0].subjectivity.mean())\n",
    "print('2012 Average Democratic Polarity', X[X.party == 1].polarity.mean())\n",
    "print('2012 Average Republican Polarity', X[X.party == 0].polarity.mean())\n",
    "X = X.speech\n",
    "\n",
    "tfidf = TfidfVectorizer(stop_words='english')\n",
    "tfidf.fit(X)\n",
    "\n",
    "count = pd.DataFrame(tfidf.transform(X).todense(),columns=tfidf.get_feature_names())\n",
    "count = count/100\n",
    "\n",
    "fig, ax = plt.subplots()\n",
    "fig.set_size_inches(15, 15)\n",
    "plt.tick_params(axis='x', which='both', bottom='off', labelbottom='off') \n",
    "\n",
    "count.sum().sort_values(ascending=True)[-50:].plot(kind='barh', color='#238b45')\n",
    "plt.title('Word Frequency 2012 Election')"
   ]
  },
  {
   "cell_type": "code",
   "execution_count": 33,
   "metadata": {},
   "outputs": [
    {
     "name": "stdout",
     "output_type": "stream",
     "text": [
      "2016 Average Democratic Subjectivity 0.45813678124440044\n",
      "2016 Average Republican Subjectivity 0.4729342251925104\n",
      "2016 Average Democratic Polarity 0.15298668540300842\n",
      "2016 Average Republican Polarity 0.10802256207556064\n"
     ]
    },
    {
     "data": {
      "text/plain": [
       "<matplotlib.text.Text at 0x11f36ac50>"
      ]
     },
     "execution_count": 33,
     "metadata": {},
     "output_type": "execute_result"
    },
    {
     "data": {
      "image/png": "[encoded data removed]",
      "text/plain": [
       "<matplotlib.figure.Figure at 0x1123169e8>"
      ]
     },
     "metadata": {},
     "output_type": "display_data"
    }
   ],
   "source": [
    "X = df[df.year == 2016]\n",
    "print('2016 Average Democratic Subjectivity', X[X.party == 1].subjectivity.mean())\n",
    "print('2016 Average Republican Subjectivity', X[X.party == 0].subjectivity.mean())\n",
    "print('2016 Average Democratic Polarity', X[X.party == 1].polarity.mean())\n",
    "print('2016 Average Republican Polarity', X[X.party == 0].polarity.mean())\n",
    "X = X.speech\n",
    "\n",
    "tfidf = TfidfVectorizer(stop_words='english')\n",
    "tfidf.fit(X)\n",
    "\n",
    "count = pd.DataFrame(tfidf.transform(X).todense(), columns=tfidf.get_feature_names())\n",
    "count = count/100\n",
    "\n",
    "fig, ax = plt.subplots()\n",
    "fig.set_size_inches(15, 15)\n",
    "plt.tick_params(axis='x', which='both', bottom='off', labelbottom='off') \n",
    "\n",
    "count.sum().sort_values(ascending=True)[-50:].plot(kind='barh', color='#238b45')\n",
    "plt.title('Word Frequency 2016 Election')"
   ]
  },
  {
   "cell_type": "code",
   "execution_count": null,
   "metadata": {
    "collapsed": true
   },
   "outputs": [],
   "source": []
  },
  {
   "cell_type": "code",
   "execution_count": null,
   "metadata": {
    "collapsed": true
   },
   "outputs": [],
   "source": []
  },
  {
   "cell_type": "code",
   "execution_count": null,
   "metadata": {
    "collapsed": true
   },
   "outputs": [],
   "source": []
  },
  {
   "cell_type": "code",
   "execution_count": null,
   "metadata": {
    "collapsed": true
   },
   "outputs": [],
   "source": []
  },
  {
   "cell_type": "code",
   "execution_count": null,
   "metadata": {
    "collapsed": true
   },
   "outputs": [],
   "source": []
  },
  {
   "cell_type": "code",
   "execution_count": null,
   "metadata": {
    "collapsed": true
   },
   "outputs": [],
   "source": []
  },
  {
   "cell_type": "code",
   "execution_count": 24,
   "metadata": {},
   "outputs": [
    {
     "data": {
      "text/html": [
       "<div>\n",
       "<style>\n",
       "    .dataframe thead tr:only-child th {\n",
       "        text-align: right;\n",
       "    }\n",
       "\n",
       "    .dataframe thead th {\n",
       "        text-align: left;\n",
       "    }\n",
       "\n",
       "    .dataframe tbody tr th {\n",
       "        vertical-align: top;\n",
       "    }\n",
       "</style>\n",
       "<table border=\"1\" class=\"dataframe\">\n",
       "  <thead>\n",
       "    <tr style=\"text-align: right;\">\n",
       "      <th></th>\n",
       "      <th>feature_names</th>\n",
       "      <th>feature_importances</th>\n",
       "    </tr>\n",
       "  </thead>\n",
       "  <tbody>\n",
       "    <tr>\n",
       "      <th>1296</th>\n",
       "      <td>assur</td>\n",
       "      <td>0.007942</td>\n",
       "    </tr>\n",
       "    <tr>\n",
       "      <th>1573</th>\n",
       "      <td>bad</td>\n",
       "      <td>0.009048</td>\n",
       "    </tr>\n",
       "    <tr>\n",
       "      <th>1812</th>\n",
       "      <td>becau</td>\n",
       "      <td>0.009961</td>\n",
       "    </tr>\n",
       "    <tr>\n",
       "      <th>2695</th>\n",
       "      <td>budget</td>\n",
       "      <td>0.006551</td>\n",
       "    </tr>\n",
       "    <tr>\n",
       "      <th>3287</th>\n",
       "      <td>centuri</td>\n",
       "      <td>0.012521</td>\n",
       "    </tr>\n",
       "    <tr>\n",
       "      <th>3483</th>\n",
       "      <td>cheer</td>\n",
       "      <td>0.006400</td>\n",
       "    </tr>\n",
       "    <tr>\n",
       "      <th>3954</th>\n",
       "      <td>colleg</td>\n",
       "      <td>0.016024</td>\n",
       "    </tr>\n",
       "    <tr>\n",
       "      <th>4027</th>\n",
       "      <td>come</td>\n",
       "      <td>0.008537</td>\n",
       "    </tr>\n",
       "    <tr>\n",
       "      <th>4574</th>\n",
       "      <td>corrupt</td>\n",
       "      <td>0.006723</td>\n",
       "    </tr>\n",
       "    <tr>\n",
       "      <th>6583</th>\n",
       "      <td>duti</td>\n",
       "      <td>0.005037</td>\n",
       "    </tr>\n",
       "    <tr>\n",
       "      <th>7107</th>\n",
       "      <td>encourag</td>\n",
       "      <td>0.009247</td>\n",
       "    </tr>\n",
       "    <tr>\n",
       "      <th>8634</th>\n",
       "      <td>free</td>\n",
       "      <td>0.008491</td>\n",
       "    </tr>\n",
       "    <tr>\n",
       "      <th>9238</th>\n",
       "      <td>got</td>\n",
       "      <td>0.005959</td>\n",
       "    </tr>\n",
       "    <tr>\n",
       "      <th>9250</th>\n",
       "      <td>govern</td>\n",
       "      <td>0.014473</td>\n",
       "    </tr>\n",
       "    <tr>\n",
       "      <th>9967</th>\n",
       "      <td>health</td>\n",
       "      <td>0.014260</td>\n",
       "    </tr>\n",
       "    <tr>\n",
       "      <th>11359</th>\n",
       "      <td>invest</td>\n",
       "      <td>0.005841</td>\n",
       "    </tr>\n",
       "    <tr>\n",
       "      <th>11497</th>\n",
       "      <td>isnt</td>\n",
       "      <td>0.006611</td>\n",
       "    </tr>\n",
       "    <tr>\n",
       "      <th>12548</th>\n",
       "      <td>libya</td>\n",
       "      <td>0.007100</td>\n",
       "    </tr>\n",
       "    <tr>\n",
       "      <th>13313</th>\n",
       "      <td>massiv</td>\n",
       "      <td>0.013754</td>\n",
       "    </tr>\n",
       "    <tr>\n",
       "      <th>13473</th>\n",
       "      <td>media</td>\n",
       "      <td>0.008794</td>\n",
       "    </tr>\n",
       "    <tr>\n",
       "      <th>14420</th>\n",
       "      <td>natur</td>\n",
       "      <td>0.005729</td>\n",
       "    </tr>\n",
       "    <tr>\n",
       "      <th>14999</th>\n",
       "      <td>nuclear</td>\n",
       "      <td>0.007630</td>\n",
       "    </tr>\n",
       "    <tr>\n",
       "      <th>15356</th>\n",
       "      <td>opinion</td>\n",
       "      <td>0.005553</td>\n",
       "    </tr>\n",
       "    <tr>\n",
       "      <th>18906</th>\n",
       "      <td>saddam</td>\n",
       "      <td>0.005471</td>\n",
       "    </tr>\n",
       "    <tr>\n",
       "      <th>19511</th>\n",
       "      <td>set</td>\n",
       "      <td>0.005751</td>\n",
       "    </tr>\n",
       "    <tr>\n",
       "      <th>20981</th>\n",
       "      <td>stupid</td>\n",
       "      <td>0.005920</td>\n",
       "    </tr>\n",
       "    <tr>\n",
       "      <th>21063</th>\n",
       "      <td>success</td>\n",
       "      <td>0.006411</td>\n",
       "    </tr>\n",
       "    <tr>\n",
       "      <th>22262</th>\n",
       "      <td>togeth</td>\n",
       "      <td>0.009680</td>\n",
       "    </tr>\n",
       "    <tr>\n",
       "      <th>23228</th>\n",
       "      <td>univ</td>\n",
       "      <td>0.014483</td>\n",
       "    </tr>\n",
       "    <tr>\n",
       "      <th>24394</th>\n",
       "      <td>whi</td>\n",
       "      <td>0.007093</td>\n",
       "    </tr>\n",
       "  </tbody>\n",
       "</table>\n",
       "</div>"
      ],
      "text/plain": [
       "      feature_names  feature_importances\n",
       "1296          assur             0.007942\n",
       "1573            bad             0.009048\n",
       "1812          becau             0.009961\n",
       "2695         budget             0.006551\n",
       "3287        centuri             0.012521\n",
       "3483          cheer             0.006400\n",
       "3954         colleg             0.016024\n",
       "4027           come             0.008537\n",
       "4574        corrupt             0.006723\n",
       "6583           duti             0.005037\n",
       "7107       encourag             0.009247\n",
       "8634           free             0.008491\n",
       "9238            got             0.005959\n",
       "9250         govern             0.014473\n",
       "9967         health             0.014260\n",
       "11359        invest             0.005841\n",
       "11497          isnt             0.006611\n",
       "12548         libya             0.007100\n",
       "13313        massiv             0.013754\n",
       "13473         media             0.008794\n",
       "14420         natur             0.005729\n",
       "14999       nuclear             0.007630\n",
       "15356       opinion             0.005553\n",
       "18906        saddam             0.005471\n",
       "19511           set             0.005751\n",
       "20981        stupid             0.005920\n",
       "21063       success             0.006411\n",
       "22262        togeth             0.009680\n",
       "23228          univ             0.014483\n",
       "24394           whi             0.007093"
      ]
     },
     "execution_count": 24,
     "metadata": {},
     "output_type": "execute_result"
    }
   ],
   "source": [
    "results[results['feature_importances'] > .005]"
   ]
  },
  {
   "cell_type": "markdown",
   "metadata": {},
   "source": [
    "## Support Vector Machine"
   ]
  },
  {
   "cell_type": "code",
   "execution_count": 38,
   "metadata": {},
   "outputs": [
    {
     "name": "stdout",
     "output_type": "stream",
     "text": [
      "0.606837606838\n",
      "[[  0 276]\n",
      " [  0 426]]\n",
      "             precision    recall  f1-score   support\n",
      "\n",
      "          0       0.00      0.00      0.00       276\n",
      "          1       0.61      1.00      0.76       426\n",
      "\n",
      "avg / total       0.37      0.61      0.46       702\n",
      "\n"
     ]
    },
    {
     "name": "stderr",
     "output_type": "stream",
     "text": [
      "/Users/Penelope/anaconda3/lib/python3.6/site-packages/sklearn/metrics/classification.py:1135: UndefinedMetricWarning: Precision and F-score are ill-defined and being set to 0.0 in labels with no predicted samples.\n",
      "  'precision', 'predicted', average, warn_for)\n"
     ]
    },
    {
     "name": "stdout",
     "output_type": "stream",
     "text": [
      "0.629139072848\n",
      "[[  0 112]\n",
      " [  0 190]]\n",
      "             precision    recall  f1-score   support\n",
      "\n",
      "          0       0.00      0.00      0.00       112\n",
      "          1       0.63      1.00      0.77       190\n",
      "\n",
      "avg / total       0.40      0.63      0.49       302\n",
      "\n"
     ]
    }
   ],
   "source": [
    "tfidf = TfidfVectorizer(stop_words='english')\n",
    "tfidf.fit(X_train.speech)\n",
    "X_train_tf = tfidf.transform(X_train.speech)\n",
    "\n",
    "\n",
    "X_train_tf = pd.DataFrame(X_train_tf.todense())\n",
    "\n",
    "\n",
    "train_sub_pol = X_train[['subjectivity', 'polarity']].reset_index().drop(['index'], axis=1)\n",
    "X_train_tf = pd.concat([X_train_tf, train_sub_pol], axis=1)\n",
    "\n",
    "\n",
    "\n",
    "svm = SVC()\n",
    "svm.fit(X_train_tf, y_train)\n",
    "train_predictions = svm.predict(X_train_tf)\n",
    "\n",
    "print(svm.score(X_train_tf, y_train))\n",
    "print(confusion_matrix(y_train, train_predictions))\n",
    "print(classification_report(y_train, train_predictions))\n",
    "\n",
    "\n",
    "X_test_tf = tfidf.transform(X_test.speech)\n",
    "X_test_tf = pd.DataFrame(X_test_tf.todense())\n",
    "\n",
    "test_sub_pol = X_test[['subjectivity', 'polarity']].reset_index().drop(['index'], axis=1)\n",
    "X_test_tf = pd.concat([X_test_tf, test_sub_pol], axis=1)\n",
    "\n",
    "test_predictions = svm.predict(X_test_tf)\n",
    "print(svm.score(X_test_tf, y_test))\n",
    "print(confusion_matrix(y_test, test_predictions))\n",
    "print(classification_report(y_test, test_predictions))"
   ]
  },
  {
   "cell_type": "code",
   "execution_count": null,
   "metadata": {
    "collapsed": true
   },
   "outputs": [],
   "source": []
  },
  {
   "cell_type": "code",
   "execution_count": null,
   "metadata": {
    "collapsed": true
   },
   "outputs": [],
   "source": []
  },
  {
   "cell_type": "code",
   "execution_count": null,
   "metadata": {
    "collapsed": true
   },
   "outputs": [],
   "source": []
  },
  {
   "cell_type": "code",
   "execution_count": null,
   "metadata": {
    "collapsed": true
   },
   "outputs": [],
   "source": []
  },
  {
   "cell_type": "code",
   "execution_count": null,
   "metadata": {
    "collapsed": true
   },
   "outputs": [],
   "source": []
  },
  {
   "cell_type": "code",
   "execution_count": null,
   "metadata": {
    "collapsed": true
   },
   "outputs": [],
   "source": []
  },
  {
   "cell_type": "code",
   "execution_count": null,
   "metadata": {
    "collapsed": true
   },
   "outputs": [],
   "source": []
  },
  {
   "cell_type": "code",
   "execution_count": null,
   "metadata": {
    "collapsed": true
   },
   "outputs": [],
   "source": [
    "nlp = spacy.load('en_core_web_sm')"
   ]
  },
  {
   "cell_type": "code",
   "execution_count": null,
   "metadata": {
    "collapsed": true
   },
   "outputs": [],
   "source": [
    "doc = nlp(documents)\n",
    "print(doc)\n",
    "for token in doc:\n",
    "    print(token.text, token.pos_)"
   ]
  },
  {
   "cell_type": "code",
   "execution_count": null,
   "metadata": {
    "collapsed": true
   },
   "outputs": [],
   "source": [
    "documents"
   ]
  },
  {
   "cell_type": "code",
   "execution_count": null,
   "metadata": {
    "collapsed": true
   },
   "outputs": [],
   "source": []
  },
  {
   "cell_type": "code",
   "execution_count": null,
   "metadata": {
    "collapsed": true
   },
   "outputs": [],
   "source": []
  },
  {
   "cell_type": "code",
   "execution_count": null,
   "metadata": {
    "collapsed": true,
    "scrolled": true
   },
   "outputs": [],
   "source": [
    "cv = CountVectorizer(stop_words='english')\n",
    "cv.fit(X_train.speech)\n",
    "X_train_v = cv.transform(X_train.speech)\n",
    "\n",
    "feature_names = cv.get_feature_names()\n",
    "\n",
    "lda = LatentDirichletAllocation(n_components=10)\n",
    "lda.fit(X_train_v)"
   ]
  },
  {
   "cell_type": "code",
   "execution_count": null,
   "metadata": {
    "collapsed": true,
    "scrolled": false
   },
   "outputs": [],
   "source": [
    "results = pd.DataFrame(lda.components_, columns=feature_names)\n",
    "\n",
    "results"
   ]
  },
  {
   "cell_type": "code",
   "execution_count": null,
   "metadata": {
    "collapsed": true
   },
   "outputs": [],
   "source": []
  },
  {
   "cell_type": "code",
   "execution_count": null,
   "metadata": {
    "collapsed": true
   },
   "outputs": [],
   "source": []
  },
  {
   "cell_type": "code",
   "execution_count": null,
   "metadata": {
    "collapsed": true
   },
   "outputs": [],
   "source": []
  },
  {
   "cell_type": "code",
   "execution_count": null,
   "metadata": {
    "collapsed": true
   },
   "outputs": [],
   "source": []
  },
  {
   "cell_type": "code",
   "execution_count": null,
   "metadata": {
    "collapsed": true
   },
   "outputs": [],
   "source": []
  }
 ],
 "metadata": {
  "kernelspec": {
   "display_name": "Python 3",
   "language": "python",
   "name": "python3"
  },
  "language_info": {
   "codemirror_mode": {
    "name": "ipython",
    "version": 3
   },
   "file_extension": ".py",
   "mimetype": "text/x-python",
   "name": "python",
   "nbconvert_exporter": "python",
   "pygments_lexer": "ipython3",
   "version": "3.6.1"
  }
 },
 "nbformat": 4,
 "nbformat_minor": 2
}
